{
 "cells": [
  {
   "cell_type": "code",
   "execution_count": 6,
   "metadata": {},
   "outputs": [],
   "source": [
    "import ray \n",
    "import os\n",
    "\n",
    "def stop_clark_cluster():\n",
    "    ray.shutdown()\n",
    "    os.system('ssh ellen /home/john/venv/bin/ray stop')\n",
    "    os.system('ssh audrey /home/john/venv/bin/ray stop')\n",
    "    os.system('ssh edna /home/john/venv/bin/ray stop')\n",
    "    \n",
    "def start_clark_cluster(clark_cpus = 4, ellen_cpus = 32, audrey_cpus = 32, edna_cpus = 32, \n",
    "                        clark_gpus = 0, ellen_gpus = 2, audrey_gpus = 1, edna_gpus = 1):\n",
    "    stop_clark_cluster()\n",
    "    config = ray.init(redis_port=6379, redis_password=\"gn8GWVrMJ3cSX4\", num_cpus = clark_cpus, num_gpus = clark_gpus)\n",
    "    os.system(\"ssh ellen ray start --address={} --redis-password='gn8GWVrMJ3cSX4' --num-gpus={} --num-cpus={}\".format(config['redis_address'], ellen_gpus, ellen_cpus))\n",
    "    os.system(\"ssh edna ray start --address={} --redis-password='gn8GWVrMJ3cSX4' --num-gpus={} --num-cpus={}\".format(config['redis_address'], edna_gpus, edna_cpus))\n",
    "    os.system(\"ssh audrey ray start --address={} --redis-password='gn8GWVrMJ3cSX4' --num-gpus={} --num-cpus={}\".format(config['redis_address'], audrey_gpus, audrey_cpus))\n",
    "    return config"
   ]
  },
  {
   "cell_type": "markdown",
   "metadata": {},
   "source": [
    "# distributed_computing module example"
   ]
  },
  {
   "cell_type": "code",
   "execution_count": 1,
   "metadata": {},
   "outputs": [
    {
     "name": "stderr",
     "output_type": "stream",
     "text": [
      "2020-12-07 08:51:57,517\tINFO services.py:1092 -- View the Ray dashboard at \u001b[1m\u001b[32mhttp://127.0.0.1:8265\u001b[39m\u001b[22m\n"
     ]
    }
   ],
   "source": [
    "import pipecaster as pc\n",
    "cluster = pc.HeadNode(n_cpus=4, n_gpus=0, object_store_memory='auto')\n",
    "cluster.connect_remote_node('ellen', ray_dir='/home/john/venv/bin/',\n",
    "                       n_cpus = 32, n_gpus = 2, object_store_memory='auto')\n",
    "cluster.connect_remote_node('audrey', ray_dir='/home/john/venv/bin/',\n",
    "                       n_cpus = 32, n_gpus = 1, object_store_memory='auto')\n",
    "cluster.connect_remote_node('edna', ray_dir='/home/john/venv/bin/',\n",
    "                       n_cpus = 32, n_gpus = 1, object_store_memory='auto')"
   ]
  },
  {
   "cell_type": "code",
   "execution_count": 2,
   "metadata": {},
   "outputs": [
    {
     "name": "stdout",
     "output_type": "stream",
     "text": [
      "resources: 100.0 CPUs and 4.0 GPUS\n"
     ]
    }
   ],
   "source": [
    "# wait ~1 second for resources to be update, then you can call\n",
    "print('resources: {} CPUs and {} GPUS'.format(cluster.count_cpus(), cluster.count_gpus()))"
   ]
  },
  {
   "cell_type": "code",
   "execution_count": 3,
   "metadata": {},
   "outputs": [
    {
     "name": "stderr",
     "output_type": "stream",
     "text": [
      "2020-12-07 08:52:11,617\tINFO services.py:1092 -- View the Ray dashboard at \u001b[1m\u001b[32mhttp://127.0.0.1:8265\u001b[39m\u001b[22m\n"
     ]
    }
   ],
   "source": [
    "cluster.restart()"
   ]
  },
  {
   "cell_type": "code",
   "execution_count": 5,
   "metadata": {},
   "outputs": [
    {
     "name": "stdout",
     "output_type": "stream",
     "text": [
      "resources: 100.0 CPUs and 4.0 GPUS\n"
     ]
    }
   ],
   "source": [
    "# wait ~1 second for resources to be update, then you can call\n",
    "print('resources: {} CPUs and {} GPUS'.format(cluster.count_cpus(), cluster.count_gpus()))"
   ]
  },
  {
   "cell_type": "code",
   "execution_count": 1,
   "metadata": {},
   "outputs": [
    {
     "name": "stderr",
     "output_type": "stream",
     "text": [
      "2021-01-15 08:41:32,699\tINFO services.py:1092 -- View the Ray dashboard at \u001b[1m\u001b[32mhttp://127.0.0.1:8265\u001b[39m\u001b[22m\n"
     ]
    }
   ],
   "source": [
    "import pipecaster as pc\n",
    "import pipecaster.ray_backend as rb\n",
    "\n",
    "distributor = rb.RayDistributor()\n",
    "distributor.connect_remote_computer(computer_id='ellen',\n",
    "                           app_path='/usr/venv/bin/',\n",
    "                           n_cpus='all', n_gpus=0,\n",
    "                           object_store_memory='auto')\n",
    "pc.set_distributor(distributor)"
   ]
  },
  {
   "cell_type": "code",
   "execution_count": 2,
   "metadata": {},
   "outputs": [
    {
     "data": {
      "text/plain": [
       "4"
      ]
     },
     "execution_count": 2,
     "metadata": {},
     "output_type": "execute_result"
    }
   ],
   "source": [
    "distributor.count_cpus()"
   ]
  },
  {
   "cell_type": "code",
   "execution_count": 3,
   "metadata": {},
   "outputs": [
    {
     "data": {
      "text/plain": [
       "[{'NodeID': '6ac6e7edda67acb882efaa36f4159ea0ade85b43',\n",
       "  'Alive': True,\n",
       "  'NodeManagerAddress': '192.168.1.251',\n",
       "  'NodeManagerHostname': 'mski1413',\n",
       "  'NodeManagerPort': 54994,\n",
       "  'ObjectManagerPort': 51692,\n",
       "  'ObjectStoreSocketName': '/tmp/ray/session_2021-01-15_08-41-32_121132_4105/sockets/plasma_store',\n",
       "  'RayletSocketName': '/tmp/ray/session_2021-01-15_08-41-32_121132_4105/sockets/raylet',\n",
       "  'MetricsExportPort': 63806,\n",
       "  'alive': True,\n",
       "  'Resources': {'object_store_memory': 32.0,\n",
       "   'node:192.168.1.251': 1.0,\n",
       "   'CPU': 4.0,\n",
       "   'memory': 93.0}}]"
      ]
     },
     "execution_count": 3,
     "metadata": {},
     "output_type": "execute_result"
    }
   ],
   "source": [
    "import ray\n",
    "ray.nodes()"
   ]
  },
  {
   "cell_type": "markdown",
   "metadata": {},
   "source": [
    "# from scratch"
   ]
  },
  {
   "cell_type": "code",
   "execution_count": 7,
   "metadata": {},
   "outputs": [
    {
     "name": "stderr",
     "output_type": "stream",
     "text": [
      "2020-12-12 09:02:07,252\tINFO services.py:1092 -- View the Ray dashboard at \u001b[1m\u001b[32mhttp://127.0.0.1:8265\u001b[39m\u001b[22m\n"
     ]
    }
   ],
   "source": [
    "import ray\n",
    "import os\n",
    "\n",
    "config = ray.init()"
   ]
  },
  {
   "cell_type": "code",
   "execution_count": 8,
   "metadata": {},
   "outputs": [
    {
     "data": {
      "text/plain": [
       "0"
      ]
     },
     "execution_count": 8,
     "metadata": {},
     "output_type": "execute_result"
    }
   ],
   "source": [
    "os.system(\"ssh ellen /home/john/venv/bin/ray start --address={} --num-gpus={} --num-cpus={}\".format(config['redis_address'], 2, 32))"
   ]
  },
  {
   "cell_type": "code",
   "execution_count": 9,
   "metadata": {},
   "outputs": [
    {
     "data": {
      "text/plain": [
       "0"
      ]
     },
     "execution_count": 9,
     "metadata": {},
     "output_type": "execute_result"
    }
   ],
   "source": [
    "os.system(\"ssh audrey /home/john/venv/bin/ray start --address={} --num-gpus={} --num-cpus={}\".format(config['redis_address'], 1, 32))"
   ]
  },
  {
   "cell_type": "code",
   "execution_count": 10,
   "metadata": {},
   "outputs": [
    {
     "data": {
      "text/plain": [
       "0"
      ]
     },
     "execution_count": 10,
     "metadata": {},
     "output_type": "execute_result"
    }
   ],
   "source": [
    "os.system(\"ssh edna /home/john/venv/bin/ray start --address={} --num-gpus={} --num-cpus={}\".format(config['redis_address'], 1, 32))"
   ]
  },
  {
   "cell_type": "markdown",
   "metadata": {},
   "source": [
    "# shutdown cluster"
   ]
  },
  {
   "cell_type": "code",
   "execution_count": 4,
   "metadata": {
    "scrolled": true
   },
   "outputs": [
    {
     "data": {
      "text/plain": [
       "256"
      ]
     },
     "execution_count": 4,
     "metadata": {},
     "output_type": "execute_result"
    }
   ],
   "source": [
    "import ray\n",
    "import os\n",
    "ray.shutdown()\n",
    "os.system(\"ssh edna /home/john/venv/bin/ray stop\")\n",
    "os.system(\"ssh ellen /home/john/venv/bin/ray stop\")\n",
    "os.system(\"ssh audrey /home/john/venv/bin/ray stop\")"
   ]
  },
  {
   "cell_type": "code",
   "execution_count": 1,
   "metadata": {},
   "outputs": [
    {
     "data": {
      "text/html": [
       "<style  type=\"text/css\" >\n",
       "    #T_cf28ad5c_52be_11eb_87b1_a8206653ba57 th {\n",
       "          text-align: center;\n",
       "    }    #T_cf28ad5c_52be_11eb_87b1_a8206653ba57row0_col0 {\n",
       "            text-align:  center;\n",
       "        }    #T_cf28ad5c_52be_11eb_87b1_a8206653ba57row0_col1 {\n",
       "            text-align:  center;\n",
       "        }    #T_cf28ad5c_52be_11eb_87b1_a8206653ba57row0_col2 {\n",
       "            text-align:  center;\n",
       "        }    #T_cf28ad5c_52be_11eb_87b1_a8206653ba57row0_col3 {\n",
       "            text-align:  center;\n",
       "        }    #T_cf28ad5c_52be_11eb_87b1_a8206653ba57row0_col4 {\n",
       "            text-align:  center;\n",
       "        }    #T_cf28ad5c_52be_11eb_87b1_a8206653ba57row0_col5 {\n",
       "            text-align:  center;\n",
       "        }    #T_cf28ad5c_52be_11eb_87b1_a8206653ba57row0_col6 {\n",
       "            text-align:  center;\n",
       "        }    #T_cf28ad5c_52be_11eb_87b1_a8206653ba57row0_col7 {\n",
       "            text-align:  center;\n",
       "        }    #T_cf28ad5c_52be_11eb_87b1_a8206653ba57row0_col8 {\n",
       "            text-align:  center;\n",
       "        }    #T_cf28ad5c_52be_11eb_87b1_a8206653ba57row0_col9 {\n",
       "            text-align:  center;\n",
       "        }    #T_cf28ad5c_52be_11eb_87b1_a8206653ba57row0_col10 {\n",
       "            text-align:  center;\n",
       "        }    #T_cf28ad5c_52be_11eb_87b1_a8206653ba57row0_col11 {\n",
       "            text-align:  center;\n",
       "        }    #T_cf28ad5c_52be_11eb_87b1_a8206653ba57row1_col0 {\n",
       "            text-align:  center;\n",
       "        }    #T_cf28ad5c_52be_11eb_87b1_a8206653ba57row1_col1 {\n",
       "            text-align:  center;\n",
       "        }    #T_cf28ad5c_52be_11eb_87b1_a8206653ba57row1_col2 {\n",
       "            text-align:  center;\n",
       "        }    #T_cf28ad5c_52be_11eb_87b1_a8206653ba57row1_col3 {\n",
       "            text-align:  center;\n",
       "        }    #T_cf28ad5c_52be_11eb_87b1_a8206653ba57row1_col4 {\n",
       "            text-align:  center;\n",
       "        }    #T_cf28ad5c_52be_11eb_87b1_a8206653ba57row1_col5 {\n",
       "            text-align:  center;\n",
       "        }    #T_cf28ad5c_52be_11eb_87b1_a8206653ba57row1_col6 {\n",
       "            text-align:  center;\n",
       "        }    #T_cf28ad5c_52be_11eb_87b1_a8206653ba57row1_col7 {\n",
       "            text-align:  center;\n",
       "        }    #T_cf28ad5c_52be_11eb_87b1_a8206653ba57row1_col8 {\n",
       "            text-align:  center;\n",
       "        }    #T_cf28ad5c_52be_11eb_87b1_a8206653ba57row1_col9 {\n",
       "            text-align:  center;\n",
       "        }    #T_cf28ad5c_52be_11eb_87b1_a8206653ba57row1_col10 {\n",
       "            text-align:  center;\n",
       "        }    #T_cf28ad5c_52be_11eb_87b1_a8206653ba57row1_col11 {\n",
       "            text-align:  center;\n",
       "        }    #T_cf28ad5c_52be_11eb_87b1_a8206653ba57row2_col0 {\n",
       "            text-align:  center;\n",
       "        }    #T_cf28ad5c_52be_11eb_87b1_a8206653ba57row2_col1 {\n",
       "            text-align:  center;\n",
       "        }    #T_cf28ad5c_52be_11eb_87b1_a8206653ba57row2_col2 {\n",
       "            text-align:  center;\n",
       "        }    #T_cf28ad5c_52be_11eb_87b1_a8206653ba57row2_col3 {\n",
       "            text-align:  center;\n",
       "        }    #T_cf28ad5c_52be_11eb_87b1_a8206653ba57row2_col4 {\n",
       "            text-align:  center;\n",
       "        }    #T_cf28ad5c_52be_11eb_87b1_a8206653ba57row2_col5 {\n",
       "            text-align:  center;\n",
       "        }    #T_cf28ad5c_52be_11eb_87b1_a8206653ba57row2_col6 {\n",
       "            text-align:  center;\n",
       "        }    #T_cf28ad5c_52be_11eb_87b1_a8206653ba57row2_col7 {\n",
       "            text-align:  center;\n",
       "        }    #T_cf28ad5c_52be_11eb_87b1_a8206653ba57row2_col8 {\n",
       "            text-align:  center;\n",
       "        }    #T_cf28ad5c_52be_11eb_87b1_a8206653ba57row2_col9 {\n",
       "            text-align:  center;\n",
       "        }    #T_cf28ad5c_52be_11eb_87b1_a8206653ba57row2_col10 {\n",
       "            text-align:  center;\n",
       "        }    #T_cf28ad5c_52be_11eb_87b1_a8206653ba57row2_col11 {\n",
       "            text-align:  center;\n",
       "        }    #T_cf28ad5c_52be_11eb_87b1_a8206653ba57row3_col0 {\n",
       "            text-align:  center;\n",
       "        }    #T_cf28ad5c_52be_11eb_87b1_a8206653ba57row3_col1 {\n",
       "            text-align:  center;\n",
       "        }    #T_cf28ad5c_52be_11eb_87b1_a8206653ba57row3_col2 {\n",
       "            text-align:  center;\n",
       "        }    #T_cf28ad5c_52be_11eb_87b1_a8206653ba57row3_col3 {\n",
       "            text-align:  center;\n",
       "        }    #T_cf28ad5c_52be_11eb_87b1_a8206653ba57row3_col4 {\n",
       "            text-align:  center;\n",
       "        }    #T_cf28ad5c_52be_11eb_87b1_a8206653ba57row3_col5 {\n",
       "            text-align:  center;\n",
       "        }    #T_cf28ad5c_52be_11eb_87b1_a8206653ba57row3_col6 {\n",
       "            text-align:  center;\n",
       "        }    #T_cf28ad5c_52be_11eb_87b1_a8206653ba57row3_col7 {\n",
       "            text-align:  center;\n",
       "        }    #T_cf28ad5c_52be_11eb_87b1_a8206653ba57row3_col8 {\n",
       "            text-align:  center;\n",
       "        }    #T_cf28ad5c_52be_11eb_87b1_a8206653ba57row3_col9 {\n",
       "            text-align:  center;\n",
       "        }    #T_cf28ad5c_52be_11eb_87b1_a8206653ba57row3_col10 {\n",
       "            text-align:  center;\n",
       "        }    #T_cf28ad5c_52be_11eb_87b1_a8206653ba57row3_col11 {\n",
       "            text-align:  center;\n",
       "        }    #T_cf28ad5c_52be_11eb_87b1_a8206653ba57row4_col0 {\n",
       "            text-align:  center;\n",
       "        }    #T_cf28ad5c_52be_11eb_87b1_a8206653ba57row4_col1 {\n",
       "            text-align:  center;\n",
       "        }    #T_cf28ad5c_52be_11eb_87b1_a8206653ba57row4_col2 {\n",
       "            text-align:  center;\n",
       "        }    #T_cf28ad5c_52be_11eb_87b1_a8206653ba57row4_col3 {\n",
       "            text-align:  center;\n",
       "        }    #T_cf28ad5c_52be_11eb_87b1_a8206653ba57row4_col4 {\n",
       "            text-align:  center;\n",
       "        }    #T_cf28ad5c_52be_11eb_87b1_a8206653ba57row4_col5 {\n",
       "            text-align:  center;\n",
       "        }    #T_cf28ad5c_52be_11eb_87b1_a8206653ba57row4_col6 {\n",
       "            text-align:  center;\n",
       "        }    #T_cf28ad5c_52be_11eb_87b1_a8206653ba57row4_col7 {\n",
       "            text-align:  center;\n",
       "        }    #T_cf28ad5c_52be_11eb_87b1_a8206653ba57row4_col8 {\n",
       "            text-align:  center;\n",
       "        }    #T_cf28ad5c_52be_11eb_87b1_a8206653ba57row4_col9 {\n",
       "            text-align:  center;\n",
       "        }    #T_cf28ad5c_52be_11eb_87b1_a8206653ba57row4_col10 {\n",
       "            text-align:  center;\n",
       "        }    #T_cf28ad5c_52be_11eb_87b1_a8206653ba57row4_col11 {\n",
       "            text-align:  center;\n",
       "        }    #T_cf28ad5c_52be_11eb_87b1_a8206653ba57row5_col0 {\n",
       "            text-align:  center;\n",
       "        }    #T_cf28ad5c_52be_11eb_87b1_a8206653ba57row5_col1 {\n",
       "            text-align:  center;\n",
       "        }    #T_cf28ad5c_52be_11eb_87b1_a8206653ba57row5_col2 {\n",
       "            text-align:  center;\n",
       "        }    #T_cf28ad5c_52be_11eb_87b1_a8206653ba57row5_col3 {\n",
       "            text-align:  center;\n",
       "        }    #T_cf28ad5c_52be_11eb_87b1_a8206653ba57row5_col4 {\n",
       "            text-align:  center;\n",
       "        }    #T_cf28ad5c_52be_11eb_87b1_a8206653ba57row5_col5 {\n",
       "            text-align:  center;\n",
       "        }    #T_cf28ad5c_52be_11eb_87b1_a8206653ba57row5_col6 {\n",
       "            text-align:  center;\n",
       "        }    #T_cf28ad5c_52be_11eb_87b1_a8206653ba57row5_col7 {\n",
       "            text-align:  center;\n",
       "        }    #T_cf28ad5c_52be_11eb_87b1_a8206653ba57row5_col8 {\n",
       "            text-align:  center;\n",
       "        }    #T_cf28ad5c_52be_11eb_87b1_a8206653ba57row5_col9 {\n",
       "            text-align:  center;\n",
       "        }    #T_cf28ad5c_52be_11eb_87b1_a8206653ba57row5_col10 {\n",
       "            text-align:  center;\n",
       "        }    #T_cf28ad5c_52be_11eb_87b1_a8206653ba57row5_col11 {\n",
       "            text-align:  center;\n",
       "        }</style><table id=\"T_cf28ad5c_52be_11eb_87b1_a8206653ba57\" ><thead>    <tr>        <th class=\"blank level0\" ></th>        <th class=\"col_heading level0 col0\" >layer_0</th>        <th class=\"col_heading level0 col1\" >out_0</th>        <th class=\"col_heading level0 col2\" >layer_1</th>        <th class=\"col_heading level0 col3\" >out_1</th>        <th class=\"col_heading level0 col4\" >layer_2</th>        <th class=\"col_heading level0 col5\" >out_2</th>        <th class=\"col_heading level0 col6\" >layer_3</th>        <th class=\"col_heading level0 col7\" >out_3</th>        <th class=\"col_heading level0 col8\" >layer_4</th>        <th class=\"col_heading level0 col9\" >out_4</th>        <th class=\"col_heading level0 col10\" >layer_5</th>        <th class=\"col_heading level0 col11\" >out_5</th>    </tr>    <tr>        <th class=\"index_name level0\" >channel</th>        <th class=\"blank\" ></th>        <th class=\"blank\" ></th>        <th class=\"blank\" ></th>        <th class=\"blank\" ></th>        <th class=\"blank\" ></th>        <th class=\"blank\" ></th>        <th class=\"blank\" ></th>        <th class=\"blank\" ></th>        <th class=\"blank\" ></th>        <th class=\"blank\" ></th>        <th class=\"blank\" ></th>        <th class=\"blank\" ></th>    </tr></thead><tbody>\n",
       "                <tr>\n",
       "                        <th id=\"T_cf28ad5c_52be_11eb_87b1_a8206653ba57level0_row0\" class=\"row_heading level0 row0\" >0</th>\n",
       "                        <td id=\"T_cf28ad5c_52be_11eb_87b1_a8206653ba57row0_col0\" class=\"data row0 col0\" >SimpleImputer()</td>\n",
       "                        <td id=\"T_cf28ad5c_52be_11eb_87b1_a8206653ba57row0_col1\" class=\"data row0 col1\" >→</td>\n",
       "                        <td id=\"T_cf28ad5c_52be_11eb_87b1_a8206653ba57row0_col2\" class=\"data row0 col2\" >StandardScaler()</td>\n",
       "                        <td id=\"T_cf28ad5c_52be_11eb_87b1_a8206653ba57row0_col3\" class=\"data row0 col3\" >→</td>\n",
       "                        <td id=\"T_cf28ad5c_52be_11eb_87b1_a8206653ba57row0_col4\" class=\"data row0 col4\" >SelectPercentile()</td>\n",
       "                        <td id=\"T_cf28ad5c_52be_11eb_87b1_a8206653ba57row0_col5\" class=\"data row0 col5\" >→</td>\n",
       "                        <td id=\"T_cf28ad5c_52be_11eb_87b1_a8206653ba57row0_col6\" class=\"data row0 col6\" >SelectKBestScores()</td>\n",
       "                        <td id=\"T_cf28ad5c_52be_11eb_87b1_a8206653ba57row0_col7\" class=\"data row0 col7\" >→</td>\n",
       "                        <td id=\"T_cf28ad5c_52be_11eb_87b1_a8206653ba57row0_col8\" class=\"data row0 col8\" >SelectKBestModels()</td>\n",
       "                        <td id=\"T_cf28ad5c_52be_11eb_87b1_a8206653ba57row0_col9\" class=\"data row0 col9\" >→</td>\n",
       "                        <td id=\"T_cf28ad5c_52be_11eb_87b1_a8206653ba57row0_col10\" class=\"data row0 col10\" >MultichannelPredictor()</td>\n",
       "                        <td id=\"T_cf28ad5c_52be_11eb_87b1_a8206653ba57row0_col11\" class=\"data row0 col11\" >→</td>\n",
       "            </tr>\n",
       "            <tr>\n",
       "                        <th id=\"T_cf28ad5c_52be_11eb_87b1_a8206653ba57level0_row1\" class=\"row_heading level0 row1\" >1</th>\n",
       "                        <td id=\"T_cf28ad5c_52be_11eb_87b1_a8206653ba57row1_col0\" class=\"data row1 col0\" >SimpleImputer()</td>\n",
       "                        <td id=\"T_cf28ad5c_52be_11eb_87b1_a8206653ba57row1_col1\" class=\"data row1 col1\" >→</td>\n",
       "                        <td id=\"T_cf28ad5c_52be_11eb_87b1_a8206653ba57row1_col2\" class=\"data row1 col2\" >StandardScaler()</td>\n",
       "                        <td id=\"T_cf28ad5c_52be_11eb_87b1_a8206653ba57row1_col3\" class=\"data row1 col3\" >→</td>\n",
       "                        <td id=\"T_cf28ad5c_52be_11eb_87b1_a8206653ba57row1_col4\" class=\"data row1 col4\" >SelectPercentile()</td>\n",
       "                        <td id=\"T_cf28ad5c_52be_11eb_87b1_a8206653ba57row1_col5\" class=\"data row1 col5\" >→</td>\n",
       "                        <td id=\"T_cf28ad5c_52be_11eb_87b1_a8206653ba57row1_col6\" class=\"data row1 col6\" >↓</td>\n",
       "                        <td id=\"T_cf28ad5c_52be_11eb_87b1_a8206653ba57row1_col7\" class=\"data row1 col7\" >→</td>\n",
       "                        <td id=\"T_cf28ad5c_52be_11eb_87b1_a8206653ba57row1_col8\" class=\"data row1 col8\" >↓</td>\n",
       "                        <td id=\"T_cf28ad5c_52be_11eb_87b1_a8206653ba57row1_col9\" class=\"data row1 col9\" >→</td>\n",
       "                        <td id=\"T_cf28ad5c_52be_11eb_87b1_a8206653ba57row1_col10\" class=\"data row1 col10\" >↓</td>\n",
       "                        <td id=\"T_cf28ad5c_52be_11eb_87b1_a8206653ba57row1_col11\" class=\"data row1 col11\" >→</td>\n",
       "            </tr>\n",
       "            <tr>\n",
       "                        <th id=\"T_cf28ad5c_52be_11eb_87b1_a8206653ba57level0_row2\" class=\"row_heading level0 row2\" >2</th>\n",
       "                        <td id=\"T_cf28ad5c_52be_11eb_87b1_a8206653ba57row2_col0\" class=\"data row2 col0\" >SimpleImputer()</td>\n",
       "                        <td id=\"T_cf28ad5c_52be_11eb_87b1_a8206653ba57row2_col1\" class=\"data row2 col1\" >→</td>\n",
       "                        <td id=\"T_cf28ad5c_52be_11eb_87b1_a8206653ba57row2_col2\" class=\"data row2 col2\" >StandardScaler()</td>\n",
       "                        <td id=\"T_cf28ad5c_52be_11eb_87b1_a8206653ba57row2_col3\" class=\"data row2 col3\" >→</td>\n",
       "                        <td id=\"T_cf28ad5c_52be_11eb_87b1_a8206653ba57row2_col4\" class=\"data row2 col4\" >SelectPercentile()</td>\n",
       "                        <td id=\"T_cf28ad5c_52be_11eb_87b1_a8206653ba57row2_col5\" class=\"data row2 col5\" >→</td>\n",
       "                        <td id=\"T_cf28ad5c_52be_11eb_87b1_a8206653ba57row2_col6\" class=\"data row2 col6\" >↓</td>\n",
       "                        <td id=\"T_cf28ad5c_52be_11eb_87b1_a8206653ba57row2_col7\" class=\"data row2 col7\" >→</td>\n",
       "                        <td id=\"T_cf28ad5c_52be_11eb_87b1_a8206653ba57row2_col8\" class=\"data row2 col8\" >↓</td>\n",
       "                        <td id=\"T_cf28ad5c_52be_11eb_87b1_a8206653ba57row2_col9\" class=\"data row2 col9\" >→</td>\n",
       "                        <td id=\"T_cf28ad5c_52be_11eb_87b1_a8206653ba57row2_col10\" class=\"data row2 col10\" >↓</td>\n",
       "                        <td id=\"T_cf28ad5c_52be_11eb_87b1_a8206653ba57row2_col11\" class=\"data row2 col11\" >→</td>\n",
       "            </tr>\n",
       "            <tr>\n",
       "                        <th id=\"T_cf28ad5c_52be_11eb_87b1_a8206653ba57level0_row3\" class=\"row_heading level0 row3\" >3</th>\n",
       "                        <td id=\"T_cf28ad5c_52be_11eb_87b1_a8206653ba57row3_col0\" class=\"data row3 col0\" >SimpleImputer()</td>\n",
       "                        <td id=\"T_cf28ad5c_52be_11eb_87b1_a8206653ba57row3_col1\" class=\"data row3 col1\" >→</td>\n",
       "                        <td id=\"T_cf28ad5c_52be_11eb_87b1_a8206653ba57row3_col2\" class=\"data row3 col2\" >StandardScaler()</td>\n",
       "                        <td id=\"T_cf28ad5c_52be_11eb_87b1_a8206653ba57row3_col3\" class=\"data row3 col3\" >→</td>\n",
       "                        <td id=\"T_cf28ad5c_52be_11eb_87b1_a8206653ba57row3_col4\" class=\"data row3 col4\" >SelectPercentile()</td>\n",
       "                        <td id=\"T_cf28ad5c_52be_11eb_87b1_a8206653ba57row3_col5\" class=\"data row3 col5\" >→</td>\n",
       "                        <td id=\"T_cf28ad5c_52be_11eb_87b1_a8206653ba57row3_col6\" class=\"data row3 col6\" >↓</td>\n",
       "                        <td id=\"T_cf28ad5c_52be_11eb_87b1_a8206653ba57row3_col7\" class=\"data row3 col7\" >→</td>\n",
       "                        <td id=\"T_cf28ad5c_52be_11eb_87b1_a8206653ba57row3_col8\" class=\"data row3 col8\" >↓</td>\n",
       "                        <td id=\"T_cf28ad5c_52be_11eb_87b1_a8206653ba57row3_col9\" class=\"data row3 col9\" >→</td>\n",
       "                        <td id=\"T_cf28ad5c_52be_11eb_87b1_a8206653ba57row3_col10\" class=\"data row3 col10\" >↓</td>\n",
       "                        <td id=\"T_cf28ad5c_52be_11eb_87b1_a8206653ba57row3_col11\" class=\"data row3 col11\" >→</td>\n",
       "            </tr>\n",
       "            <tr>\n",
       "                        <th id=\"T_cf28ad5c_52be_11eb_87b1_a8206653ba57level0_row4\" class=\"row_heading level0 row4\" >4</th>\n",
       "                        <td id=\"T_cf28ad5c_52be_11eb_87b1_a8206653ba57row4_col0\" class=\"data row4 col0\" >SimpleImputer()</td>\n",
       "                        <td id=\"T_cf28ad5c_52be_11eb_87b1_a8206653ba57row4_col1\" class=\"data row4 col1\" >→</td>\n",
       "                        <td id=\"T_cf28ad5c_52be_11eb_87b1_a8206653ba57row4_col2\" class=\"data row4 col2\" >StandardScaler()</td>\n",
       "                        <td id=\"T_cf28ad5c_52be_11eb_87b1_a8206653ba57row4_col3\" class=\"data row4 col3\" >→</td>\n",
       "                        <td id=\"T_cf28ad5c_52be_11eb_87b1_a8206653ba57row4_col4\" class=\"data row4 col4\" >SelectPercentile()</td>\n",
       "                        <td id=\"T_cf28ad5c_52be_11eb_87b1_a8206653ba57row4_col5\" class=\"data row4 col5\" >→</td>\n",
       "                        <td id=\"T_cf28ad5c_52be_11eb_87b1_a8206653ba57row4_col6\" class=\"data row4 col6\" >↓</td>\n",
       "                        <td id=\"T_cf28ad5c_52be_11eb_87b1_a8206653ba57row4_col7\" class=\"data row4 col7\" >→</td>\n",
       "                        <td id=\"T_cf28ad5c_52be_11eb_87b1_a8206653ba57row4_col8\" class=\"data row4 col8\" >↓</td>\n",
       "                        <td id=\"T_cf28ad5c_52be_11eb_87b1_a8206653ba57row4_col9\" class=\"data row4 col9\" >→</td>\n",
       "                        <td id=\"T_cf28ad5c_52be_11eb_87b1_a8206653ba57row4_col10\" class=\"data row4 col10\" >↓</td>\n",
       "                        <td id=\"T_cf28ad5c_52be_11eb_87b1_a8206653ba57row4_col11\" class=\"data row4 col11\" >→</td>\n",
       "            </tr>\n",
       "            <tr>\n",
       "                        <th id=\"T_cf28ad5c_52be_11eb_87b1_a8206653ba57level0_row5\" class=\"row_heading level0 row5\" >5</th>\n",
       "                        <td id=\"T_cf28ad5c_52be_11eb_87b1_a8206653ba57row5_col0\" class=\"data row5 col0\" >SimpleImputer()</td>\n",
       "                        <td id=\"T_cf28ad5c_52be_11eb_87b1_a8206653ba57row5_col1\" class=\"data row5 col1\" >→</td>\n",
       "                        <td id=\"T_cf28ad5c_52be_11eb_87b1_a8206653ba57row5_col2\" class=\"data row5 col2\" >StandardScaler()</td>\n",
       "                        <td id=\"T_cf28ad5c_52be_11eb_87b1_a8206653ba57row5_col3\" class=\"data row5 col3\" >→</td>\n",
       "                        <td id=\"T_cf28ad5c_52be_11eb_87b1_a8206653ba57row5_col4\" class=\"data row5 col4\" >SelectPercentile()</td>\n",
       "                        <td id=\"T_cf28ad5c_52be_11eb_87b1_a8206653ba57row5_col5\" class=\"data row5 col5\" >→</td>\n",
       "                        <td id=\"T_cf28ad5c_52be_11eb_87b1_a8206653ba57row5_col6\" class=\"data row5 col6\" >→</td>\n",
       "                        <td id=\"T_cf28ad5c_52be_11eb_87b1_a8206653ba57row5_col7\" class=\"data row5 col7\" >→</td>\n",
       "                        <td id=\"T_cf28ad5c_52be_11eb_87b1_a8206653ba57row5_col8\" class=\"data row5 col8\" >LogisticRegression()</td>\n",
       "                        <td id=\"T_cf28ad5c_52be_11eb_87b1_a8206653ba57row5_col9\" class=\"data row5 col9\" >→</td>\n",
       "                        <td id=\"T_cf28ad5c_52be_11eb_87b1_a8206653ba57row5_col10\" class=\"data row5 col10\" >↓</td>\n",
       "                        <td id=\"T_cf28ad5c_52be_11eb_87b1_a8206653ba57row5_col11\" class=\"data row5 col11\" >→</td>\n",
       "            </tr>\n",
       "    </tbody></table>"
      ],
      "text/plain": [
       "MultichannelPipeline(internal_cv=5, n_channels=6, transform_method_name=None, cv_processes=1)"
      ]
     },
     "execution_count": 1,
     "metadata": {},
     "output_type": "execute_result"
    }
   ],
   "source": [
    "import numpy as np\n",
    "\n",
    "from sklearn.impute import SimpleImputer\n",
    "from sklearn.preprocessing import StandardScaler\n",
    "from sklearn.feature_selection import SelectPercentile\n",
    "from sklearn.feature_selection import f_classif\n",
    "from sklearn.neighbors import KNeighborsClassifier\n",
    "from sklearn.linear_model import LogisticRegression\n",
    "from sklearn.svm import SVC\n",
    "from sklearn.datasets import make_classification\n",
    "\n",
    "import pipecaster as pc\n",
    "\n",
    "X_rand = np.random.rand(500, 30)\n",
    "X_inf, y = make_classification(n_samples=500, n_features=30, \n",
    "                               n_informative=15, class_sep=3, random_state=None)\n",
    "\n",
    "Xs = [X_rand, X_rand, X_inf, X_rand, X_inf, X_inf]\n",
    "\n",
    "clf = pc.MultichannelPipeline(n_channels=6)\n",
    "\n",
    "clf.add_layer(SimpleImputer())\n",
    "clf.add_layer(StandardScaler())\n",
    "clf.add_layer(SelectPercentile(percentile=25))\n",
    "clf.add_layer(5, pc.SelectKBestScores(feature_scorer=f_classif, aggregator=np.mean, k=2)) \n",
    "clf.add_layer(5, pc.SelectKBestModels(predictors=KNeighborsClassifier(), k=1), \n",
    "              1, LogisticRegression()) \n",
    "clf.add_layer(pc.MultichannelPredictor(SVC()))\n",
    "clf"
   ]
  },
  {
   "cell_type": "code",
   "execution_count": null,
   "metadata": {},
   "outputs": [],
   "source": []
  },
  {
   "cell_type": "code",
   "execution_count": 30,
   "metadata": {},
   "outputs": [],
   "source": []
  },
  {
   "cell_type": "code",
   "execution_count": null,
   "metadata": {},
   "outputs": [],
   "source": [
    "\n",
    "\n",
    "    transform_method_name: str or None, default=None\n",
    "        Set the name of the prediction method used when transform or\n",
    "        fit_transform are called. If None, the method will be selected\n",
    "        automatically by the precedence defined in the transform_wrapper\n",
    "        module.\n",
    "        \n",
    "    internal_cv: None, int, or callable, default=5\n",
    "        Set the internal cv training method for predictors.\n",
    "        If 1: Internal cv training is inactivated.\n",
    "        If int > 1: StratifiedKFold(n_splits=internal_cv) for classifiers and\n",
    "            KFold(n_splits=internal_cv) for regressors.\n",
    "        If None: The default value of 5 is used.\n",
    "        If callable: Assumes scikit-learn interface like KFold.\n",
    "                \n",
    "    n_processes: int or 'max', default=1\n",
    "        If 1: Run all split computations in a single process.\n",
    "        If 'max': Run each split in a different process, using all available\n",
    "            CPUs\n",
    "        If int > 1: Run each split in a different process, using up to\n",
    "            n_processes number of CPUs\n",
    "            \n",
    "        \"\"\"\n",
    "        Parameters\n",
    "        ----------\n",
    "        Xs: list of [ndarray.shape(n_samples, n_features) or None]\n",
    "            List of feature matrix inputs.\n",
    "        y: list/array of length n_samples, default=None\n",
    "            Targets for supervised ML.\n",
    "        fit_params: dict, defualt=None\n",
    "            Auxiliary parameters to pass to the fit method of the predictor.\n",
    "        \"\"\"\n",
    "    \n",
    "    \n",
    "    "
   ]
  },
  {
   "cell_type": "markdown",
   "metadata": {},
   "source": [
    "notes:\n",
    "ray 1.0.1.post1 failed to establish cluster\n",
    "so I upgraded to 1.1\n"
   ]
  },
  {
   "cell_type": "code",
   "execution_count": null,
   "metadata": {},
   "outputs": [],
   "source": []
  },
  {
   "cell_type": "code",
   "execution_count": 3,
   "metadata": {},
   "outputs": [],
   "source": [
    "import ray \n",
    "import os\n",
    "\n",
    "def stop_clark_cluster():\n",
    "    ray.shutdown()\n",
    "    os.system('ssh ellen /home/john/venv/bin/ray stop')\n",
    "    os.system('ssh audrey /home/john/venv/bin/ray stop')\n",
    "    os.system('ssh edna /home/john/venv/bin/ray stop')\n",
    "    \n",
    "def start_clark_cluster(clark_cpus = 4, ellen_cpus = 32, audrey_cpus = 32, edna_cpus = 32, \n",
    "                        clark_gpus = 0, ellen_gpus = 2, audrey_gpus = 1, edna_gpus = 1):\n",
    "    stop_clark_cluster()\n",
    "    config = ray.init(_redis_password=\"gn8GWVrMJ3cSX4\", num_cpus = clark_cpus, num_gpus = clark_gpus)\n",
    "    os.system(\"ssh ellen ray start --address={} --redis-password='gn8GWVrMJ3cSX4' --num-gpus={} --num-cpus={}\".format(config['redis_address'], ellen_gpus, ellen_cpus))\n",
    "    os.system(\"ssh edna ray start --address={} --redis-password='gn8GWVrMJ3cSX4' --num-gpus={} --num-cpus={}\".format(config['redis_address'], edna_gpus, edna_cpus))\n",
    "    os.system(\"ssh audrey ray start --address={} --redis-password='gn8GWVrMJ3cSX4' --num-gpus={} --num-cpus={}\".format(config['redis_address'], audrey_gpus, audrey_cpus))\n",
    "    return config"
   ]
  },
  {
   "cell_type": "code",
   "execution_count": 4,
   "metadata": {},
   "outputs": [
    {
     "name": "stderr",
     "output_type": "stream",
     "text": [
      "File descriptor limit 256 is too low for production servers and may result in connection errors. At least 8192 is recommended. --- Fix with 'ulimit -n 8192'\n",
      "2021-01-15 09:23:32,794\tINFO services.py:1173 -- View the Ray dashboard at \u001b[1m\u001b[32mhttp://127.0.0.1:8265\u001b[39m\u001b[22m\n"
     ]
    },
    {
     "data": {
      "text/plain": [
       "{'node_ip_address': '192.168.1.251',\n",
       " 'raylet_ip_address': '192.168.1.251',\n",
       " 'redis_address': '192.168.1.251:6379',\n",
       " 'object_store_address': '/tmp/ray/session_2021-01-15_09-23-32_081742_1075/sockets/plasma_store',\n",
       " 'raylet_socket_name': '/tmp/ray/session_2021-01-15_09-23-32_081742_1075/sockets/raylet',\n",
       " 'webui_url': '127.0.0.1:8265',\n",
       " 'session_dir': '/tmp/ray/session_2021-01-15_09-23-32_081742_1075',\n",
       " 'metrics_export_port': 57469,\n",
       " 'node_id': '16fca5251895b123e4a0fed8c0b49c3c70ce7eb6'}"
      ]
     },
     "execution_count": 4,
     "metadata": {},
     "output_type": "execute_result"
    }
   ],
   "source": [
    "# stop_clark_cluster()\n",
    "start_clark_cluster()"
   ]
  },
  {
   "cell_type": "code",
   "execution_count": 5,
   "metadata": {},
   "outputs": [
    {
     "data": {
      "text/plain": [
       "[{'NodeID': '16fca5251895b123e4a0fed8c0b49c3c70ce7eb6',\n",
       "  'Alive': True,\n",
       "  'NodeManagerAddress': '192.168.1.251',\n",
       "  'NodeManagerHostname': 'mski1413',\n",
       "  'NodeManagerPort': 53090,\n",
       "  'ObjectManagerPort': 50667,\n",
       "  'ObjectStoreSocketName': '/tmp/ray/session_2021-01-15_09-23-32_081742_1075/sockets/plasma_store',\n",
       "  'RayletSocketName': '/tmp/ray/session_2021-01-15_09-23-32_081742_1075/sockets/raylet',\n",
       "  'MetricsExportPort': 57469,\n",
       "  'alive': True,\n",
       "  'Resources': {'object_store_memory': 43.0,\n",
       "   'CPU': 4.0,\n",
       "   'memory': 127.0,\n",
       "   'node:192.168.1.251': 1.0}}]"
      ]
     },
     "execution_count": 5,
     "metadata": {},
     "output_type": "execute_result"
    }
   ],
   "source": [
    "import ray\n",
    "ray.nodes()"
   ]
  },
  {
   "cell_type": "code",
   "execution_count": 7,
   "metadata": {},
   "outputs": [
    {
     "data": {
      "text/plain": [
       "'1.1.0'"
      ]
     },
     "execution_count": 7,
     "metadata": {},
     "output_type": "execute_result"
    }
   ],
   "source": [
    "ray.__version__"
   ]
  },
  {
   "cell_type": "code",
   "execution_count": 1,
   "metadata": {},
   "outputs": [],
   "source": [
    "import pipecaster as pc\n",
    "import pipecaster.ray_backend as rb\n",
    "\n",
    "distributor = rb.RayDistributor()\n"
   ]
  },
  {
   "cell_type": "code",
   "execution_count": 2,
   "metadata": {},
   "outputs": [
    {
     "name": "stderr",
     "output_type": "stream",
     "text": [
      "File descriptor limit 256 is too low for production servers and may result in connection errors. At least 8192 is recommended. --- Fix with 'ulimit -n 8192'\n",
      "2021-01-15 15:46:46,403\tINFO services.py:1173 -- View the Ray dashboard at \u001b[1m\u001b[32mhttp://127.0.0.1:8265\u001b[39m\u001b[22m\n"
     ]
    }
   ],
   "source": [
    "distributor.connect_remote_computer(computer_id='ellen',\n",
    "                           app_path='/home/john/venv/bin/',\n",
    "                           n_cpus='all', n_gpus=2,\n",
    "                           object_store_memory='auto')\n",
    "pc.set_distributor(distributor)"
   ]
  },
  {
   "cell_type": "code",
   "execution_count": 3,
   "metadata": {},
   "outputs": [],
   "source": [
    "distributor.connect_remote_computer(computer_id='audrey',\n",
    "                           app_path='/home/john/venv/bin/',\n",
    "                           n_cpus='all', n_gpus=1,\n",
    "                           object_store_memory='auto')"
   ]
  },
  {
   "cell_type": "code",
   "execution_count": 4,
   "metadata": {},
   "outputs": [],
   "source": [
    "distributor.connect_remote_computer(computer_id='edna',\n",
    "                           app_path='/home/john/venv/bin/',\n",
    "                           n_cpus='all', n_gpus=1,\n",
    "                           object_store_memory='auto')"
   ]
  },
  {
   "cell_type": "code",
   "execution_count": 6,
   "metadata": {},
   "outputs": [],
   "source": [
    "distributor.shutdown()"
   ]
  },
  {
   "cell_type": "code",
   "execution_count": 7,
   "metadata": {},
   "outputs": [
    {
     "ename": "RaySystemError",
     "evalue": "System error: Ray has not been started yet. You can start Ray with 'ray.init()'.",
     "output_type": "error",
     "traceback": [
      "\u001b[0;31m---------------------------------------------------------------------------\u001b[0m",
      "\u001b[0;31mRaySystemError\u001b[0m                            Traceback (most recent call last)",
      "\u001b[0;32m<ipython-input-7-6bc359966d47>\u001b[0m in \u001b[0;36m<module>\u001b[0;34m()\u001b[0m\n\u001b[1;32m      1\u001b[0m \u001b[0;32mimport\u001b[0m \u001b[0mray\u001b[0m\u001b[0;34m\u001b[0m\u001b[0;34m\u001b[0m\u001b[0m\n\u001b[0;32m----> 2\u001b[0;31m \u001b[0mray\u001b[0m\u001b[0;34m.\u001b[0m\u001b[0mnodes\u001b[0m\u001b[0;34m(\u001b[0m\u001b[0;34m)\u001b[0m\u001b[0;34m\u001b[0m\u001b[0;34m\u001b[0m\u001b[0m\n\u001b[0m",
      "\u001b[0;32m~/trading/src/venv/lib/python3.7/site-packages/ray/state.py\u001b[0m in \u001b[0;36mnodes\u001b[0;34m()\u001b[0m\n\u001b[1;32m    858\u001b[0m         \u001b[0mInformation\u001b[0m \u001b[0mabout\u001b[0m \u001b[0mthe\u001b[0m \u001b[0mRay\u001b[0m \u001b[0mclients\u001b[0m \u001b[0;32min\u001b[0m \u001b[0mthe\u001b[0m \u001b[0mcluster\u001b[0m\u001b[0;34m.\u001b[0m\u001b[0;34m\u001b[0m\u001b[0;34m\u001b[0m\u001b[0m\n\u001b[1;32m    859\u001b[0m     \"\"\"\n\u001b[0;32m--> 860\u001b[0;31m     \u001b[0;32mreturn\u001b[0m \u001b[0mstate\u001b[0m\u001b[0;34m.\u001b[0m\u001b[0mnode_table\u001b[0m\u001b[0;34m(\u001b[0m\u001b[0;34m)\u001b[0m\u001b[0;34m\u001b[0m\u001b[0;34m\u001b[0m\u001b[0m\n\u001b[0m\u001b[1;32m    861\u001b[0m \u001b[0;34m\u001b[0m\u001b[0m\n\u001b[1;32m    862\u001b[0m \u001b[0;34m\u001b[0m\u001b[0m\n",
      "\u001b[0;32m~/trading/src/venv/lib/python3.7/site-packages/ray/state.py\u001b[0m in \u001b[0;36mnode_table\u001b[0;34m(self)\u001b[0m\n\u001b[1;32m    301\u001b[0m             \u001b[0mInformation\u001b[0m \u001b[0mabout\u001b[0m \u001b[0mthe\u001b[0m \u001b[0mnode\u001b[0m \u001b[0;32min\u001b[0m \u001b[0mthe\u001b[0m \u001b[0mcluster\u001b[0m\u001b[0;34m.\u001b[0m\u001b[0;34m\u001b[0m\u001b[0;34m\u001b[0m\u001b[0m\n\u001b[1;32m    302\u001b[0m         \"\"\"\n\u001b[0;32m--> 303\u001b[0;31m         \u001b[0mself\u001b[0m\u001b[0;34m.\u001b[0m\u001b[0m_check_connected\u001b[0m\u001b[0;34m(\u001b[0m\u001b[0;34m)\u001b[0m\u001b[0;34m\u001b[0m\u001b[0;34m\u001b[0m\u001b[0m\n\u001b[0m\u001b[1;32m    304\u001b[0m \u001b[0;34m\u001b[0m\u001b[0m\n\u001b[1;32m    305\u001b[0m         \u001b[0mnode_table\u001b[0m \u001b[0;34m=\u001b[0m \u001b[0mself\u001b[0m\u001b[0;34m.\u001b[0m\u001b[0mglobal_state_accessor\u001b[0m\u001b[0;34m.\u001b[0m\u001b[0mget_node_table\u001b[0m\u001b[0;34m(\u001b[0m\u001b[0;34m)\u001b[0m\u001b[0;34m\u001b[0m\u001b[0;34m\u001b[0m\u001b[0m\n",
      "\u001b[0;32m~/trading/src/venv/lib/python3.7/site-packages/ray/state.py\u001b[0m in \u001b[0;36m_check_connected\u001b[0;34m(self)\u001b[0m\n\u001b[1;32m     57\u001b[0m                 or self.global_state_accessor is None):\n\u001b[1;32m     58\u001b[0m             raise ray.exceptions.RaySystemError(\n\u001b[0;32m---> 59\u001b[0;31m                 \u001b[0;34m\"Ray has not been started yet. You can start Ray with \"\u001b[0m\u001b[0;34m\u001b[0m\u001b[0;34m\u001b[0m\u001b[0m\n\u001b[0m\u001b[1;32m     60\u001b[0m                 \"'ray.init()'.\")\n\u001b[1;32m     61\u001b[0m \u001b[0;34m\u001b[0m\u001b[0m\n",
      "\u001b[0;31mRaySystemError\u001b[0m: System error: Ray has not been started yet. You can start Ray with 'ray.init()'."
     ]
    }
   ],
   "source": [
    "import ray\n",
    "ray.nodes()"
   ]
  },
  {
   "cell_type": "code",
   "execution_count": 25,
   "metadata": {},
   "outputs": [
    {
     "data": {
      "text/plain": [
       "0"
      ]
     },
     "execution_count": 25,
     "metadata": {},
     "output_type": "execute_result"
    }
   ],
   "source": [
    "import ray\n",
    "import os\n",
    "ray.shutdown()\n",
    "os.system(\"ssh edna /home/john/venv/bin/ray stop\")\n",
    "os.system(\"ssh ellen /home/john/venv/bin/ray stop\")\n",
    "os.system(\"ssh audrey /home/john/venv/bin/ray stop\")"
   ]
  },
  {
   "cell_type": "code",
   "execution_count": 2,
   "metadata": {},
   "outputs": [
    {
     "name": "stderr",
     "output_type": "stream",
     "text": [
      "File descriptor limit 256 is too low for production servers and may result in connection errors. At least 8192 is recommended. --- Fix with 'ulimit -n 8192'\n",
      "2021-01-15 14:21:52,437\tINFO services.py:1173 -- View the Ray dashboard at \u001b[1m\u001b[32mhttp://127.0.0.1:8265\u001b[39m\u001b[22m\n"
     ]
    },
    {
     "data": {
      "text/plain": [
       "[{'NodeID': 'a1cd2a0c02cbabef9841e293a97b743495178279',\n",
       "  'Alive': True,\n",
       "  'NodeManagerAddress': '192.168.1.251',\n",
       "  'NodeManagerHostname': 'mski1413',\n",
       "  'NodeManagerPort': 54925,\n",
       "  'ObjectManagerPort': 53715,\n",
       "  'ObjectStoreSocketName': '/tmp/ray/session_2021-01-15_14-21-51_754117_1871/sockets/plasma_store',\n",
       "  'RayletSocketName': '/tmp/ray/session_2021-01-15_14-21-51_754117_1871/sockets/raylet',\n",
       "  'MetricsExportPort': 60254,\n",
       "  'alive': True,\n",
       "  'Resources': {'object_store_memory': 35.0,\n",
       "   'CPU': 4.0,\n",
       "   'node:192.168.1.251': 1.0,\n",
       "   'memory': 103.0}}]"
      ]
     },
     "execution_count": 2,
     "metadata": {},
     "output_type": "execute_result"
    }
   ],
   "source": [
    "import ray\n",
    "config = ray.init(_redis_password=\"gn8GWVrMJ3cSX4\", num_cpus = 4, num_gpus = 0)\n",
    "ray.nodes()"
   ]
  },
  {
   "cell_type": "code",
   "execution_count": 4,
   "metadata": {},
   "outputs": [
    {
     "data": {
      "text/plain": [
       "{'node_ip_address': '192.168.1.251',\n",
       " 'raylet_ip_address': '192.168.1.251',\n",
       " 'redis_address': '192.168.1.251:6379',\n",
       " 'object_store_address': '/tmp/ray/session_2021-01-15_14-21-51_754117_1871/sockets/plasma_store',\n",
       " 'raylet_socket_name': '/tmp/ray/session_2021-01-15_14-21-51_754117_1871/sockets/raylet',\n",
       " 'webui_url': '127.0.0.1:8265',\n",
       " 'session_dir': '/tmp/ray/session_2021-01-15_14-21-51_754117_1871',\n",
       " 'metrics_export_port': 60254,\n",
       " 'node_id': 'a1cd2a0c02cbabef9841e293a97b743495178279'}"
      ]
     },
     "execution_count": 4,
     "metadata": {},
     "output_type": "execute_result"
    }
   ],
   "source": [
    "config\n",
    "# modprobe: FATAL: Module nvidia not found in directory /lib/modules/5.3.0-46-generic"
   ]
  },
  {
   "cell_type": "code",
   "execution_count": 11,
   "metadata": {},
   "outputs": [
    {
     "data": {
      "text/plain": [
       "32256"
      ]
     },
     "execution_count": 11,
     "metadata": {},
     "output_type": "execute_result"
    }
   ],
   "source": [
    "os.system(\"ssh ellen /home/john/venv/bin/ray start --address=192.168.1.251:6379 --redis-password='gn8GWVrMJ3cSX4' --num-gpus=2 --num-cpus=32\")"
   ]
  },
  {
   "cell_type": "code",
   "execution_count": null,
   "metadata": {},
   "outputs": [],
   "source": [
    "\"ssh audrey /home/john/venv/bin/ray start --address=192.168.1.251:6379 --redis-password='gn8GWVrMJ3cSX4' --num-cpus=32 --num-gpus=1\""
   ]
  },
  {
   "cell_type": "code",
   "execution_count": null,
   "metadata": {},
   "outputs": [],
   "source": [
    "\"ssh edna /home/john/venv/bin/ray start --address=192.168.1.251:6379 --redis-password='gn8GWVrMJ3cSX4' --num-cpus=32 --num-gpus=1\""
   ]
  },
  {
   "cell_type": "code",
   "execution_count": 7,
   "metadata": {},
   "outputs": [
    {
     "data": {
      "text/plain": [
       "[{'NodeID': '04cc5a2809b35106a9eb0de79586ff85fe3e3ed8',\n",
       "  'Alive': True,\n",
       "  'NodeManagerAddress': '192.168.1.2',\n",
       "  'NodeManagerHostname': 'audrey',\n",
       "  'NodeManagerPort': 59190,\n",
       "  'ObjectManagerPort': 38021,\n",
       "  'ObjectStoreSocketName': '/tmp/ray/session_2021-01-15_14-21-51_754117_1871/sockets/plasma_store',\n",
       "  'RayletSocketName': '/tmp/ray/session_2021-01-15_14-21-51_754117_1871/sockets/raylet',\n",
       "  'MetricsExportPort': 62166,\n",
       "  'alive': True,\n",
       "  'Resources': {'object_store_memory': 197.0,\n",
       "   'GPU': 1.0,\n",
       "   'CPU': 32.0,\n",
       "   'node:192.168.1.2': 1.0,\n",
       "   'memory': 669.0}},\n",
       " {'NodeID': 'd3110562e2dc8cf803b6d433a735b3444a4ef70b',\n",
       "  'Alive': True,\n",
       "  'NodeManagerAddress': '192.168.1.3',\n",
       "  'NodeManagerHostname': 'Ellen',\n",
       "  'NodeManagerPort': 58293,\n",
       "  'ObjectManagerPort': 37343,\n",
       "  'ObjectStoreSocketName': '/tmp/ray/session_2021-01-15_14-21-51_754117_1871/sockets/plasma_store',\n",
       "  'RayletSocketName': '/tmp/ray/session_2021-01-15_14-21-51_754117_1871/sockets/raylet',\n",
       "  'MetricsExportPort': 58391,\n",
       "  'alive': True,\n",
       "  'Resources': {'GPU': 2.0,\n",
       "   'node:192.168.1.3': 1.0,\n",
       "   'object_store_memory': 530.0,\n",
       "   'CPU': 32.0,\n",
       "   'memory': 1795.0,\n",
       "   'accelerator_type:GTX': 1.0}},\n",
       " {'NodeID': 'a1cd2a0c02cbabef9841e293a97b743495178279',\n",
       "  'Alive': True,\n",
       "  'NodeManagerAddress': '192.168.1.251',\n",
       "  'NodeManagerHostname': 'mski1413',\n",
       "  'NodeManagerPort': 54925,\n",
       "  'ObjectManagerPort': 53715,\n",
       "  'ObjectStoreSocketName': '/tmp/ray/session_2021-01-15_14-21-51_754117_1871/sockets/plasma_store',\n",
       "  'RayletSocketName': '/tmp/ray/session_2021-01-15_14-21-51_754117_1871/sockets/raylet',\n",
       "  'MetricsExportPort': 60254,\n",
       "  'alive': True,\n",
       "  'Resources': {'CPU': 4.0,\n",
       "   'node:192.168.1.251': 1.0,\n",
       "   'memory': 103.0,\n",
       "   'object_store_memory': 35.0}},\n",
       " {'NodeID': '33d7dfea91dc0f60ec9c7c48fd59e4cdbfeb3708',\n",
       "  'Alive': True,\n",
       "  'NodeManagerAddress': '192.168.1.4',\n",
       "  'NodeManagerHostname': 'edna',\n",
       "  'NodeManagerPort': 59427,\n",
       "  'ObjectManagerPort': 38103,\n",
       "  'ObjectStoreSocketName': '/tmp/ray/session_2021-01-15_14-21-51_754117_1871/sockets/plasma_store',\n",
       "  'RayletSocketName': '/tmp/ray/session_2021-01-15_14-21-51_754117_1871/sockets/raylet',\n",
       "  'MetricsExportPort': 64344,\n",
       "  'alive': True,\n",
       "  'Resources': {'GPU': 1.0,\n",
       "   'node:192.168.1.4': 1.0,\n",
       "   'CPU': 32.0,\n",
       "   'object_store_memory': 197.0,\n",
       "   'memory': 669.0}}]"
      ]
     },
     "execution_count": 7,
     "metadata": {},
     "output_type": "execute_result"
    }
   ],
   "source": [
    "ray.nodes()"
   ]
  },
  {
   "cell_type": "code",
   "execution_count": null,
   "metadata": {},
   "outputs": [],
   "source": []
  }
 ],
 "metadata": {
  "kernelspec": {
   "display_name": "trading_venv_clark",
   "language": "python",
   "name": "trading_venv_clark"
  },
  "language_info": {
   "codemirror_mode": {
    "name": "ipython",
    "version": 3
   },
   "file_extension": ".py",
   "mimetype": "text/x-python",
   "name": "python",
   "nbconvert_exporter": "python",
   "pygments_lexer": "ipython3",
   "version": "3.7.5"
  },
  "toc": {
   "base_numbering": 1,
   "nav_menu": {},
   "number_sections": true,
   "sideBar": true,
   "skip_h1_title": false,
   "title_cell": "Table of Contents",
   "title_sidebar": "Contents",
   "toc_cell": false,
   "toc_position": {
    "height": "calc(100% - 180px)",
    "left": "10px",
    "top": "150px",
    "width": "186px"
   },
   "toc_section_display": true,
   "toc_window_display": true
  }
 },
 "nbformat": 4,
 "nbformat_minor": 2
}
