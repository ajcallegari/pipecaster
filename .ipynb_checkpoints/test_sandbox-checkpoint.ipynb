{
 "cells": [
  {
   "cell_type": "code",
   "execution_count": 1,
   "metadata": {},
   "outputs": [],
   "source": [
    "import timeit\n",
    "import multiprocessing\n",
    "import ray\n",
    "import numpy as np\n",
    "import unittest\n",
    "import warnings \n",
    "\n",
    "from scipy.stats import pearsonr\n",
    "\n",
    "from sklearn.datasets import make_classification, make_regression\n",
    "from sklearn.preprocessing import StandardScaler\n",
    "from sklearn.neighbors import KNeighborsClassifier, KNeighborsRegressor\n",
    "from sklearn.ensemble import RandomForestClassifier\n",
    "from sklearn.svm import SVC\n",
    "from sklearn.metrics import roc_auc_score, accuracy_score, explained_variance_score\n",
    "\n",
    "import sklearn.model_selection\n",
    "import pipecaster.metaprediction\n",
    "from pipecaster import synthetic_data\n",
    "from pipecaster.pipeline import Pipeline\n",
    "from pipecaster.metaprediction import MetaClassifier, MetaRegressor\n",
    "from pipecaster.model_selection import cross_val_score"
   ]
  },
  {
   "cell_type": "code",
   "execution_count": 37,
   "metadata": {},
   "outputs": [
    {
     "data": {
      "text/plain": [
       "array([-0.04430255, -0.16294141, -0.03633957])"
      ]
     },
     "execution_count": 37,
     "metadata": {},
     "output_type": "execute_result"
    }
   ],
   "source": [
    "import sklearn.model_selection \n",
    "\n",
    "seed = None\n",
    "\n",
    "X, y = make_regression(n_samples=500, n_features=1000, n_informative=500, random_state=seed)\n",
    "        \n",
    "rgr = KNeighborsRegressor(n_neighbors=5, weights='uniform')\n",
    "rgr.fit(X, y)\n",
    "rgr_predictions = rgr.predict(X)\n",
    "\n",
    "sklearn.model_selection.cross_val_score(rgr, X, y, cv=3, scoring='explained_variance')"
   ]
  },
  {
   "cell_type": "code",
   "execution_count": 13,
   "metadata": {},
   "outputs": [
    {
     "data": {
      "text/plain": [
       "[0.3343266057838239, 0.3112338234966967, 0.3576686030218642]"
      ]
     },
     "execution_count": 13,
     "metadata": {},
     "output_type": "execute_result"
    }
   ],
   "source": [
    "mrgr = Pipeline(n_inputs)\n",
    "layer0 = mrgr.get_next_layer()\n",
    "layer0[:] = StandardScaler()\n",
    "layer1 = mrgr.get_next_layer()\n",
    "layer1[:] = KNeighborsRegressor(n_neighbors=5, weights='uniform')\n",
    "layer2 = mrgr.get_next_layer()\n",
    "layer2[:] = MetaRegressor('mean voting')\n",
    "\n",
    "cross_val_score(mrgr, [X], y, prediction_method='predict', \n",
    "                 scoring_metric=explained_variance_score, cv=3, n_jobs=1, verbose=0, \n",
    "                 fit_params=None, error_score=np.nan)"
   ]
  },
  {
   "cell_type": "code",
   "execution_count": 39,
   "metadata": {},
   "outputs": [
    {
     "data": {
      "text/plain": [
       "[0.16146119895625055, 0.15251922589133493, 0.18415469885178082]"
      ]
     },
     "execution_count": 39,
     "metadata": {},
     "output_type": "execute_result"
    }
   ],
   "source": [
    "\n",
    "seed=None\n",
    "\n",
    "n_inputs = 6\n",
    "mean_accuracies, median_accuracies = [], []\n",
    "\n",
    "sklearn_params = {'n_targets':1, \n",
    "          'n_samples':500, \n",
    "          'n_features':10, \n",
    "          'n_informative':5}\n",
    "\n",
    "i = 6\n",
    "\n",
    "Xs, y, _ = synthetic_data.make_multi_input_regression(n_informative_Xs=i, \n",
    "                        n_weak_Xs=0,\n",
    "                        n_random_Xs=n_inputs - i,\n",
    "                        weak_noise_sd=None,\n",
    "                        seed = seed,\n",
    "                        **sklearn_params                                   \n",
    "                        )\n",
    "\n",
    "mrgr = Pipeline(n_inputs)\n",
    "layer0 = mrgr.get_next_layer()\n",
    "layer0[:] = StandardScaler()\n",
    "layer1 = mrgr.get_next_layer()\n",
    "layer1[:] = KNeighborsRegressor(n_neighbors=5, weights='uniform')\n",
    "layer2 = mrgr.get_next_layer()\n",
    "layer2[:] = MetaRegressor('mean voting')\n",
    "\n",
    "cross_val_score(mrgr, Xs, y, prediction_method='predict', \n",
    "                         scoring_metric=explained_variance_score, cv=3, n_jobs=1, verbose=0, \n",
    "                         fit_params=None, error_score=np.nan)"
   ]
  },
  {
   "cell_type": "code",
   "execution_count": null,
   "metadata": {},
   "outputs": [],
   "source": []
  },
  {
   "cell_type": "code",
   "execution_count": null,
   "metadata": {},
   "outputs": [],
   "source": []
  },
  {
   "cell_type": "code",
   "execution_count": 54,
   "metadata": {},
   "outputs": [
    {
     "data": {
      "text/plain": [
       "0.33997925248192495"
      ]
     },
     "execution_count": 54,
     "metadata": {},
     "output_type": "execute_result"
    }
   ],
   "source": [
    "from sklearn.linear_model import LinearRegression\n",
    "from pipecaster.model_selection import split_Xs\n",
    "from sklearn.metrics import explained_variance_score\n",
    "\n",
    "seed=None\n",
    "\n",
    "n_inputs = 6\n",
    "\n",
    "sklearn_params = {'n_targets':1, \n",
    "          'n_samples':500, \n",
    "          'n_features':10, \n",
    "          'n_informative':5}\n",
    "\n",
    "i = 6\n",
    "\n",
    "Xs, y, _ = synthetic_data.make_multi_input_regression(n_informative_Xs=i, \n",
    "                        n_weak_Xs=0,\n",
    "                        n_random_Xs=n_inputs - i,\n",
    "                        weak_noise_sd=None,\n",
    "                        seed = seed,\n",
    "                        **sklearn_params                                   \n",
    "                        )\n",
    "\n",
    "mrgr = Pipeline(n_inputs)\n",
    "layer0 = mrgr.get_next_layer()\n",
    "layer0[:] = StandardScaler()\n",
    "layer1 = mrgr.get_next_layer()\n",
    "layer1[:] = LinearRegression()\n",
    "layer2 = mrgr.get_next_layer()\n",
    "layer2[:] = MetaRegressor('mean voting')\n",
    "\n",
    "train_indices, test_indices = range(400), range(400,500)\n",
    "Xs_train, Xs_test = split_Xs(Xs, train_indices, test_indices)\n",
    "y_train, y_test = y[train_indices], y[test_indices]\n",
    "\n",
    "mrgr.fit(Xs_train, y_train)\n",
    "explained_variance_score(y_test, mrgr.predict(Xs_test))"
   ]
  },
  {
   "cell_type": "code",
   "execution_count": 55,
   "metadata": {},
   "outputs": [
    {
     "data": {
      "text/plain": [
       "['save_test.joblib']"
      ]
     },
     "execution_count": 55,
     "metadata": {},
     "output_type": "execute_result"
    }
   ],
   "source": [
    "from joblib import dump, load\n",
    "dump(mrgr, 'save_test.joblib') "
   ]
  },
  {
   "cell_type": "code",
   "execution_count": 56,
   "metadata": {},
   "outputs": [],
   "source": [
    "loaded_mrgr = load('save_test.joblib') "
   ]
  },
  {
   "cell_type": "code",
   "execution_count": 57,
   "metadata": {},
   "outputs": [
    {
     "data": {
      "text/plain": [
       "0.33997925248192495"
      ]
     },
     "execution_count": 57,
     "metadata": {},
     "output_type": "execute_result"
    }
   ],
   "source": [
    "explained_variance_score(y_test, loaded_mrgr.predict(Xs_test))"
   ]
  },
  {
   "cell_type": "code",
   "execution_count": 58,
   "metadata": {},
   "outputs": [
    {
     "data": {
      "text/plain": [
       "array([0, 1, 2, 3, 4, 5, 6, 7, 8])"
      ]
     },
     "execution_count": 58,
     "metadata": {},
     "output_type": "execute_result"
    }
   ],
   "source": [
    "x=np.arange(9)\n",
    "x"
   ]
  },
  {
   "cell_type": "code",
   "execution_count": 60,
   "metadata": {},
   "outputs": [],
   "source": [
    "i = set([4,6])"
   ]
  },
  {
   "cell_type": "code",
   "execution_count": 62,
   "metadata": {},
   "outputs": [
    {
     "data": {
      "text/plain": [
       "array([4, 6])"
      ]
     },
     "execution_count": 62,
     "metadata": {},
     "output_type": "execute_result"
    }
   ],
   "source": [
    "x[list(i)]"
   ]
  },
  {
   "cell_type": "code",
   "execution_count": 63,
   "metadata": {},
   "outputs": [
    {
     "name": "stderr",
     "output_type": "stream",
     "text": [
      "2020-11-25 22:12:36,684\tINFO resource_spec.py:212 -- Starting Ray with 4.44 GiB memory available for workers and up to 2.24 GiB for objects. You can adjust these settings with ray.init(memory=<bytes>, object_store_memory=<bytes>).\n",
      "2020-11-25 22:12:37,826\tINFO services.py:551 -- Failed to connect to the redis server, retrying.\n",
      "2020-11-25 22:12:39,005\tINFO services.py:1148 -- View the Ray dashboard at \u001b[1m\u001b[32mlocalhost:8265\u001b[39m\u001b[22m\n"
     ]
    },
    {
     "data": {
      "text/plain": [
       "{'node_ip_address': '192.168.1.251',\n",
       " 'redis_address': '192.168.1.251:32541',\n",
       " 'object_store_address': '/tmp/ray/session_2020-11-25_22-12-36_431580_6738/sockets/plasma_store',\n",
       " 'raylet_socket_name': '/tmp/ray/session_2020-11-25_22-12-36_431580_6738/sockets/raylet',\n",
       " 'webui_url': 'localhost:8265',\n",
       " 'session_dir': '/tmp/ray/session_2020-11-25_22-12-36_431580_6738'}"
      ]
     },
     "execution_count": 63,
     "metadata": {},
     "output_type": "execute_result"
    }
   ],
   "source": [
    "import ray\n",
    "ray.init()"
   ]
  },
  {
   "cell_type": "code",
   "execution_count": 73,
   "metadata": {},
   "outputs": [],
   "source": [
    "class Foobar:\n",
    "    \n",
    "    @ray.remote\n",
    "    def run(x):\n",
    "        return 2*x"
   ]
  },
  {
   "cell_type": "code",
   "execution_count": 74,
   "metadata": {},
   "outputs": [],
   "source": [
    "jobs = [Foobar.run.remote(i) for i in range(10)]"
   ]
  },
  {
   "cell_type": "markdown",
   "metadata": {},
   "source": [
    "##### 25*60\n"
   ]
  },
  {
   "cell_type": "code",
   "execution_count": 79,
   "metadata": {},
   "outputs": [
    {
     "data": {
      "text/plain": [
       "166.66666666666666"
      ]
     },
     "execution_count": 79,
     "metadata": {},
     "output_type": "execute_result"
    }
   ],
   "source": [
    "250000/1500\n"
   ]
  },
  {
   "cell_type": "code",
   "execution_count": 75,
   "metadata": {},
   "outputs": [
    {
     "data": {
      "text/plain": [
       "[0, 2, 4, 6, 8, 10, 12, 14, 16, 18]"
      ]
     },
     "execution_count": 75,
     "metadata": {},
     "output_type": "execute_result"
    }
   ],
   "source": [
    "ray.get(jobs)"
   ]
  },
  {
   "cell_type": "code",
   "execution_count": 53,
   "metadata": {},
   "outputs": [],
   "source": [
    "from inspect import signature, getfullargspec\n",
    "\n",
    "class Foobar:\n",
    "    \n",
    "    def __init__(self, a, b, c):\n",
    "        self.param_names = set(getfullargspec(Foobar.__init__)[0])\n",
    "        self.param_names.remove('self')"
   ]
  },
  {
   "cell_type": "code",
   "execution_count": 54,
   "metadata": {},
   "outputs": [],
   "source": [
    "fb = Foobar(1,2,3)"
   ]
  },
  {
   "cell_type": "code",
   "execution_count": 55,
   "metadata": {},
   "outputs": [
    {
     "data": {
      "text/plain": [
       "{'a', 'b', 'c'}"
      ]
     },
     "execution_count": 55,
     "metadata": {},
     "output_type": "execute_result"
    }
   ],
   "source": [
    "fb.param_names"
   ]
  },
  {
   "cell_type": "code",
   "execution_count": 43,
   "metadata": {},
   "outputs": [],
   "source": [
    "param_names = set(fb.args[0])\n",
    "param_names.remove('self')"
   ]
  },
  {
   "cell_type": "code",
   "execution_count": 44,
   "metadata": {},
   "outputs": [
    {
     "data": {
      "text/plain": [
       "{'a', 'b', 'c'}"
      ]
     },
     "execution_count": 44,
     "metadata": {},
     "output_type": "execute_result"
    }
   ],
   "source": [
    "param_names"
   ]
  },
  {
   "cell_type": "code",
   "execution_count": null,
   "metadata": {},
   "outputs": [],
   "source": []
  }
 ],
 "metadata": {
  "kernelspec": {
   "display_name": "trading_venv_clark",
   "language": "python",
   "name": "trading_venv_clark"
  },
  "language_info": {
   "codemirror_mode": {
    "name": "ipython",
    "version": 3
   },
   "file_extension": ".py",
   "mimetype": "text/x-python",
   "name": "python",
   "nbconvert_exporter": "python",
   "pygments_lexer": "ipython3",
   "version": "3.7.5"
  },
  "toc": {
   "base_numbering": 1,
   "nav_menu": {},
   "number_sections": true,
   "sideBar": true,
   "skip_h1_title": false,
   "title_cell": "Table of Contents",
   "title_sidebar": "Contents",
   "toc_cell": false,
   "toc_position": {},
   "toc_section_display": true,
   "toc_window_display": true
  }
 },
 "nbformat": 4,
 "nbformat_minor": 2
}
