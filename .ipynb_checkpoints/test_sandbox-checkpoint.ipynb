{
 "cells": [
  {
   "cell_type": "code",
   "execution_count": 6,
   "metadata": {},
   "outputs": [],
   "source": [
    "import ray \n",
    "import os\n",
    "\n",
    "def stop_clark_cluster():\n",
    "    ray.shutdown()\n",
    "    os.system('ssh ellen /home/john/venv/bin/ray stop')\n",
    "    os.system('ssh audrey /home/john/venv/bin/ray stop')\n",
    "    os.system('ssh edna /home/john/venv/bin/ray stop')\n",
    "    \n",
    "def start_clark_cluster(clark_cpus = 4, ellen_cpus = 32, audrey_cpus = 32, edna_cpus = 32, \n",
    "                        clark_gpus = 0, ellen_gpus = 2, audrey_gpus = 1, edna_gpus = 1):\n",
    "    stop_clark_cluster()\n",
    "    config = ray.init(redis_port=6379, redis_password=\"gn8GWVrMJ3cSX4\", num_cpus = clark_cpus, num_gpus = clark_gpus)\n",
    "    os.system(\"ssh ellen ray start --address={} --redis-password='gn8GWVrMJ3cSX4' --num-gpus={} --num-cpus={}\".format(config['redis_address'], ellen_gpus, ellen_cpus))\n",
    "    os.system(\"ssh edna ray start --address={} --redis-password='gn8GWVrMJ3cSX4' --num-gpus={} --num-cpus={}\".format(config['redis_address'], edna_gpus, edna_cpus))\n",
    "    os.system(\"ssh audrey ray start --address={} --redis-password='gn8GWVrMJ3cSX4' --num-gpus={} --num-cpus={}\".format(config['redis_address'], audrey_gpus, audrey_cpus))\n",
    "    return config"
   ]
  },
  {
   "cell_type": "markdown",
   "metadata": {},
   "source": [
    "# distributed_computing module example"
   ]
  },
  {
   "cell_type": "code",
   "execution_count": 1,
   "metadata": {},
   "outputs": [
    {
     "name": "stderr",
     "output_type": "stream",
     "text": [
      "2020-12-07 08:51:57,517\tINFO services.py:1092 -- View the Ray dashboard at \u001b[1m\u001b[32mhttp://127.0.0.1:8265\u001b[39m\u001b[22m\n"
     ]
    }
   ],
   "source": [
    "import pipecaster as pc\n",
    "cluster = pc.HeadNode(n_cpus=4, n_gpus=0, object_store_memory='auto')\n",
    "cluster.connect_remote_node('ellen', ray_dir='/home/john/venv/bin/',\n",
    "                       n_cpus = 32, n_gpus = 2, object_store_memory='auto')\n",
    "cluster.connect_remote_node('audrey', ray_dir='/home/john/venv/bin/',\n",
    "                       n_cpus = 32, n_gpus = 1, object_store_memory='auto')\n",
    "cluster.connect_remote_node('edna', ray_dir='/home/john/venv/bin/',\n",
    "                       n_cpus = 32, n_gpus = 1, object_store_memory='auto')"
   ]
  },
  {
   "cell_type": "code",
   "execution_count": 2,
   "metadata": {},
   "outputs": [
    {
     "name": "stdout",
     "output_type": "stream",
     "text": [
      "resources: 100.0 CPUs and 4.0 GPUS\n"
     ]
    }
   ],
   "source": [
    "# wait ~1 second for resources to be update, then you can call\n",
    "print('resources: {} CPUs and {} GPUS'.format(cluster.count_cpus(), cluster.count_gpus()))"
   ]
  },
  {
   "cell_type": "code",
   "execution_count": 3,
   "metadata": {},
   "outputs": [
    {
     "name": "stderr",
     "output_type": "stream",
     "text": [
      "2020-12-07 08:52:11,617\tINFO services.py:1092 -- View the Ray dashboard at \u001b[1m\u001b[32mhttp://127.0.0.1:8265\u001b[39m\u001b[22m\n"
     ]
    }
   ],
   "source": [
    "cluster.restart()"
   ]
  },
  {
   "cell_type": "code",
   "execution_count": 5,
   "metadata": {},
   "outputs": [
    {
     "name": "stdout",
     "output_type": "stream",
     "text": [
      "resources: 100.0 CPUs and 4.0 GPUS\n"
     ]
    }
   ],
   "source": [
    "# wait ~1 second for resources to be update, then you can call\n",
    "print('resources: {} CPUs and {} GPUS'.format(cluster.count_cpus(), cluster.count_gpus()))"
   ]
  },
  {
   "cell_type": "code",
   "execution_count": 1,
   "metadata": {},
   "outputs": [
    {
     "name": "stderr",
     "output_type": "stream",
     "text": [
      "2021-01-15 08:41:32,699\tINFO services.py:1092 -- View the Ray dashboard at \u001b[1m\u001b[32mhttp://127.0.0.1:8265\u001b[39m\u001b[22m\n"
     ]
    }
   ],
   "source": [
    "import pipecaster as pc\n",
    "import pipecaster.ray_backend as rb\n",
    "\n",
    "distributor = rb.RayDistributor()\n",
    "distributor.connect_remote_computer(computer_id='ellen',\n",
    "                           app_path='/usr/venv/bin/',\n",
    "                           n_cpus='all', n_gpus=0,\n",
    "                           object_store_memory='auto')\n",
    "pc.set_distributor(distributor)"
   ]
  },
  {
   "cell_type": "code",
   "execution_count": 2,
   "metadata": {},
   "outputs": [
    {
     "data": {
      "text/plain": [
       "4"
      ]
     },
     "execution_count": 2,
     "metadata": {},
     "output_type": "execute_result"
    }
   ],
   "source": [
    "distributor.count_cpus()"
   ]
  },
  {
   "cell_type": "code",
   "execution_count": 3,
   "metadata": {},
   "outputs": [
    {
     "data": {
      "text/plain": [
       "[{'NodeID': '6ac6e7edda67acb882efaa36f4159ea0ade85b43',\n",
       "  'Alive': True,\n",
       "  'NodeManagerAddress': '192.168.1.251',\n",
       "  'NodeManagerHostname': 'mski1413',\n",
       "  'NodeManagerPort': 54994,\n",
       "  'ObjectManagerPort': 51692,\n",
       "  'ObjectStoreSocketName': '/tmp/ray/session_2021-01-15_08-41-32_121132_4105/sockets/plasma_store',\n",
       "  'RayletSocketName': '/tmp/ray/session_2021-01-15_08-41-32_121132_4105/sockets/raylet',\n",
       "  'MetricsExportPort': 63806,\n",
       "  'alive': True,\n",
       "  'Resources': {'object_store_memory': 32.0,\n",
       "   'node:192.168.1.251': 1.0,\n",
       "   'CPU': 4.0,\n",
       "   'memory': 93.0}}]"
      ]
     },
     "execution_count": 3,
     "metadata": {},
     "output_type": "execute_result"
    }
   ],
   "source": [
    "import ray\n",
    "ray.nodes()"
   ]
  },
  {
   "cell_type": "markdown",
   "metadata": {},
   "source": [
    "# from scratch"
   ]
  },
  {
   "cell_type": "code",
   "execution_count": 7,
   "metadata": {},
   "outputs": [
    {
     "name": "stderr",
     "output_type": "stream",
     "text": [
      "2020-12-12 09:02:07,252\tINFO services.py:1092 -- View the Ray dashboard at \u001b[1m\u001b[32mhttp://127.0.0.1:8265\u001b[39m\u001b[22m\n"
     ]
    }
   ],
   "source": [
    "import ray\n",
    "import os\n",
    "\n",
    "config = ray.init()"
   ]
  },
  {
   "cell_type": "code",
   "execution_count": 8,
   "metadata": {},
   "outputs": [
    {
     "data": {
      "text/plain": [
       "0"
      ]
     },
     "execution_count": 8,
     "metadata": {},
     "output_type": "execute_result"
    }
   ],
   "source": [
    "os.system(\"ssh ellen /home/john/venv/bin/ray start --address={} --num-gpus={} --num-cpus={}\".format(config['redis_address'], 2, 32))"
   ]
  },
  {
   "cell_type": "code",
   "execution_count": 9,
   "metadata": {},
   "outputs": [
    {
     "data": {
      "text/plain": [
       "0"
      ]
     },
     "execution_count": 9,
     "metadata": {},
     "output_type": "execute_result"
    }
   ],
   "source": [
    "os.system(\"ssh audrey /home/john/venv/bin/ray start --address={} --num-gpus={} --num-cpus={}\".format(config['redis_address'], 1, 32))"
   ]
  },
  {
   "cell_type": "code",
   "execution_count": 10,
   "metadata": {},
   "outputs": [
    {
     "data": {
      "text/plain": [
       "0"
      ]
     },
     "execution_count": 10,
     "metadata": {},
     "output_type": "execute_result"
    }
   ],
   "source": [
    "os.system(\"ssh edna /home/john/venv/bin/ray start --address={} --num-gpus={} --num-cpus={}\".format(config['redis_address'], 1, 32))"
   ]
  },
  {
   "cell_type": "markdown",
   "metadata": {},
   "source": [
    "# shutdown cluster"
   ]
  },
  {
   "cell_type": "code",
   "execution_count": 4,
   "metadata": {
    "scrolled": true
   },
   "outputs": [
    {
     "data": {
      "text/plain": [
       "256"
      ]
     },
     "execution_count": 4,
     "metadata": {},
     "output_type": "execute_result"
    }
   ],
   "source": [
    "import ray\n",
    "import os\n",
    "ray.shutdown()\n",
    "os.system(\"ssh edna /home/john/venv/bin/ray stop\")\n",
    "os.system(\"ssh ellen /home/john/venv/bin/ray stop\")\n",
    "os.system(\"ssh audrey /home/john/venv/bin/ray stop\")"
   ]
  },
  {
   "cell_type": "code",
   "execution_count": 1,
   "metadata": {
    "scrolled": true
   },
   "outputs": [
    {
     "data": {
      "text/html": [
       "<style  type=\"text/css\" >\n",
       "    #T_e90375ea_5930_11eb_9779_a8206653ba57 th {\n",
       "          text-align: center;\n",
       "    }    #T_e90375ea_5930_11eb_9779_a8206653ba57row0_col0 {\n",
       "            text-align:  center;\n",
       "        }    #T_e90375ea_5930_11eb_9779_a8206653ba57row0_col1 {\n",
       "            text-align:  center;\n",
       "        }    #T_e90375ea_5930_11eb_9779_a8206653ba57row0_col2 {\n",
       "            text-align:  center;\n",
       "        }    #T_e90375ea_5930_11eb_9779_a8206653ba57row0_col3 {\n",
       "            text-align:  center;\n",
       "        }    #T_e90375ea_5930_11eb_9779_a8206653ba57row0_col4 {\n",
       "            text-align:  center;\n",
       "        }    #T_e90375ea_5930_11eb_9779_a8206653ba57row0_col5 {\n",
       "            text-align:  center;\n",
       "        }    #T_e90375ea_5930_11eb_9779_a8206653ba57row0_col6 {\n",
       "            text-align:  center;\n",
       "        }    #T_e90375ea_5930_11eb_9779_a8206653ba57row0_col7 {\n",
       "            text-align:  center;\n",
       "        }    #T_e90375ea_5930_11eb_9779_a8206653ba57row0_col8 {\n",
       "            text-align:  center;\n",
       "        }    #T_e90375ea_5930_11eb_9779_a8206653ba57row0_col9 {\n",
       "            text-align:  center;\n",
       "        }    #T_e90375ea_5930_11eb_9779_a8206653ba57row0_col10 {\n",
       "            text-align:  center;\n",
       "        }    #T_e90375ea_5930_11eb_9779_a8206653ba57row0_col11 {\n",
       "            text-align:  center;\n",
       "        }    #T_e90375ea_5930_11eb_9779_a8206653ba57row1_col0 {\n",
       "            text-align:  center;\n",
       "        }    #T_e90375ea_5930_11eb_9779_a8206653ba57row1_col1 {\n",
       "            text-align:  center;\n",
       "        }    #T_e90375ea_5930_11eb_9779_a8206653ba57row1_col2 {\n",
       "            text-align:  center;\n",
       "        }    #T_e90375ea_5930_11eb_9779_a8206653ba57row1_col3 {\n",
       "            text-align:  center;\n",
       "        }    #T_e90375ea_5930_11eb_9779_a8206653ba57row1_col4 {\n",
       "            text-align:  center;\n",
       "        }    #T_e90375ea_5930_11eb_9779_a8206653ba57row1_col5 {\n",
       "            text-align:  center;\n",
       "        }    #T_e90375ea_5930_11eb_9779_a8206653ba57row1_col6 {\n",
       "            text-align:  center;\n",
       "        }    #T_e90375ea_5930_11eb_9779_a8206653ba57row1_col7 {\n",
       "            text-align:  center;\n",
       "        }    #T_e90375ea_5930_11eb_9779_a8206653ba57row1_col8 {\n",
       "            text-align:  center;\n",
       "        }    #T_e90375ea_5930_11eb_9779_a8206653ba57row1_col9 {\n",
       "            text-align:  center;\n",
       "        }    #T_e90375ea_5930_11eb_9779_a8206653ba57row1_col10 {\n",
       "            text-align:  center;\n",
       "        }    #T_e90375ea_5930_11eb_9779_a8206653ba57row1_col11 {\n",
       "            text-align:  center;\n",
       "        }    #T_e90375ea_5930_11eb_9779_a8206653ba57row2_col0 {\n",
       "            text-align:  center;\n",
       "        }    #T_e90375ea_5930_11eb_9779_a8206653ba57row2_col1 {\n",
       "            text-align:  center;\n",
       "        }    #T_e90375ea_5930_11eb_9779_a8206653ba57row2_col2 {\n",
       "            text-align:  center;\n",
       "        }    #T_e90375ea_5930_11eb_9779_a8206653ba57row2_col3 {\n",
       "            text-align:  center;\n",
       "        }    #T_e90375ea_5930_11eb_9779_a8206653ba57row2_col4 {\n",
       "            text-align:  center;\n",
       "        }    #T_e90375ea_5930_11eb_9779_a8206653ba57row2_col5 {\n",
       "            text-align:  center;\n",
       "        }    #T_e90375ea_5930_11eb_9779_a8206653ba57row2_col6 {\n",
       "            text-align:  center;\n",
       "        }    #T_e90375ea_5930_11eb_9779_a8206653ba57row2_col7 {\n",
       "            text-align:  center;\n",
       "        }    #T_e90375ea_5930_11eb_9779_a8206653ba57row2_col8 {\n",
       "            text-align:  center;\n",
       "        }    #T_e90375ea_5930_11eb_9779_a8206653ba57row2_col9 {\n",
       "            text-align:  center;\n",
       "        }    #T_e90375ea_5930_11eb_9779_a8206653ba57row2_col10 {\n",
       "            text-align:  center;\n",
       "        }    #T_e90375ea_5930_11eb_9779_a8206653ba57row2_col11 {\n",
       "            text-align:  center;\n",
       "        }    #T_e90375ea_5930_11eb_9779_a8206653ba57row3_col0 {\n",
       "            text-align:  center;\n",
       "        }    #T_e90375ea_5930_11eb_9779_a8206653ba57row3_col1 {\n",
       "            text-align:  center;\n",
       "        }    #T_e90375ea_5930_11eb_9779_a8206653ba57row3_col2 {\n",
       "            text-align:  center;\n",
       "        }    #T_e90375ea_5930_11eb_9779_a8206653ba57row3_col3 {\n",
       "            text-align:  center;\n",
       "        }    #T_e90375ea_5930_11eb_9779_a8206653ba57row3_col4 {\n",
       "            text-align:  center;\n",
       "        }    #T_e90375ea_5930_11eb_9779_a8206653ba57row3_col5 {\n",
       "            text-align:  center;\n",
       "        }    #T_e90375ea_5930_11eb_9779_a8206653ba57row3_col6 {\n",
       "            text-align:  center;\n",
       "        }    #T_e90375ea_5930_11eb_9779_a8206653ba57row3_col7 {\n",
       "            text-align:  center;\n",
       "        }    #T_e90375ea_5930_11eb_9779_a8206653ba57row3_col8 {\n",
       "            text-align:  center;\n",
       "        }    #T_e90375ea_5930_11eb_9779_a8206653ba57row3_col9 {\n",
       "            text-align:  center;\n",
       "        }    #T_e90375ea_5930_11eb_9779_a8206653ba57row3_col10 {\n",
       "            text-align:  center;\n",
       "        }    #T_e90375ea_5930_11eb_9779_a8206653ba57row3_col11 {\n",
       "            text-align:  center;\n",
       "        }    #T_e90375ea_5930_11eb_9779_a8206653ba57row4_col0 {\n",
       "            text-align:  center;\n",
       "        }    #T_e90375ea_5930_11eb_9779_a8206653ba57row4_col1 {\n",
       "            text-align:  center;\n",
       "        }    #T_e90375ea_5930_11eb_9779_a8206653ba57row4_col2 {\n",
       "            text-align:  center;\n",
       "        }    #T_e90375ea_5930_11eb_9779_a8206653ba57row4_col3 {\n",
       "            text-align:  center;\n",
       "        }    #T_e90375ea_5930_11eb_9779_a8206653ba57row4_col4 {\n",
       "            text-align:  center;\n",
       "        }    #T_e90375ea_5930_11eb_9779_a8206653ba57row4_col5 {\n",
       "            text-align:  center;\n",
       "        }    #T_e90375ea_5930_11eb_9779_a8206653ba57row4_col6 {\n",
       "            text-align:  center;\n",
       "        }    #T_e90375ea_5930_11eb_9779_a8206653ba57row4_col7 {\n",
       "            text-align:  center;\n",
       "        }    #T_e90375ea_5930_11eb_9779_a8206653ba57row4_col8 {\n",
       "            text-align:  center;\n",
       "        }    #T_e90375ea_5930_11eb_9779_a8206653ba57row4_col9 {\n",
       "            text-align:  center;\n",
       "        }    #T_e90375ea_5930_11eb_9779_a8206653ba57row4_col10 {\n",
       "            text-align:  center;\n",
       "        }    #T_e90375ea_5930_11eb_9779_a8206653ba57row4_col11 {\n",
       "            text-align:  center;\n",
       "        }    #T_e90375ea_5930_11eb_9779_a8206653ba57row5_col0 {\n",
       "            text-align:  center;\n",
       "        }    #T_e90375ea_5930_11eb_9779_a8206653ba57row5_col1 {\n",
       "            text-align:  center;\n",
       "        }    #T_e90375ea_5930_11eb_9779_a8206653ba57row5_col2 {\n",
       "            text-align:  center;\n",
       "        }    #T_e90375ea_5930_11eb_9779_a8206653ba57row5_col3 {\n",
       "            text-align:  center;\n",
       "        }    #T_e90375ea_5930_11eb_9779_a8206653ba57row5_col4 {\n",
       "            text-align:  center;\n",
       "        }    #T_e90375ea_5930_11eb_9779_a8206653ba57row5_col5 {\n",
       "            text-align:  center;\n",
       "        }    #T_e90375ea_5930_11eb_9779_a8206653ba57row5_col6 {\n",
       "            text-align:  center;\n",
       "        }    #T_e90375ea_5930_11eb_9779_a8206653ba57row5_col7 {\n",
       "            text-align:  center;\n",
       "        }    #T_e90375ea_5930_11eb_9779_a8206653ba57row5_col8 {\n",
       "            text-align:  center;\n",
       "        }    #T_e90375ea_5930_11eb_9779_a8206653ba57row5_col9 {\n",
       "            text-align:  center;\n",
       "        }    #T_e90375ea_5930_11eb_9779_a8206653ba57row5_col10 {\n",
       "            text-align:  center;\n",
       "        }    #T_e90375ea_5930_11eb_9779_a8206653ba57row5_col11 {\n",
       "            text-align:  center;\n",
       "        }</style><table id=\"T_e90375ea_5930_11eb_9779_a8206653ba57\" ><thead>    <tr>        <th class=\"blank level0\" ></th>        <th class=\"col_heading level0 col0\" >layer_0</th>        <th class=\"col_heading level0 col1\" >out_0</th>        <th class=\"col_heading level0 col2\" >layer_1</th>        <th class=\"col_heading level0 col3\" >out_1</th>        <th class=\"col_heading level0 col4\" >layer_2</th>        <th class=\"col_heading level0 col5\" >out_2</th>        <th class=\"col_heading level0 col6\" >layer_3</th>        <th class=\"col_heading level0 col7\" >out_3</th>        <th class=\"col_heading level0 col8\" >layer_4</th>        <th class=\"col_heading level0 col9\" >out_4</th>        <th class=\"col_heading level0 col10\" >layer_5</th>        <th class=\"col_heading level0 col11\" >out_5</th>    </tr>    <tr>        <th class=\"index_name level0\" >channel</th>        <th class=\"blank\" ></th>        <th class=\"blank\" ></th>        <th class=\"blank\" ></th>        <th class=\"blank\" ></th>        <th class=\"blank\" ></th>        <th class=\"blank\" ></th>        <th class=\"blank\" ></th>        <th class=\"blank\" ></th>        <th class=\"blank\" ></th>        <th class=\"blank\" ></th>        <th class=\"blank\" ></th>        <th class=\"blank\" ></th>    </tr></thead><tbody>\n",
       "                <tr>\n",
       "                        <th id=\"T_e90375ea_5930_11eb_9779_a8206653ba57level0_row0\" class=\"row_heading level0 row0\" >0</th>\n",
       "                        <td id=\"T_e90375ea_5930_11eb_9779_a8206653ba57row0_col0\" class=\"data row0 col0\" >SimpleImputer</td>\n",
       "                        <td id=\"T_e90375ea_5930_11eb_9779_a8206653ba57row0_col1\" class=\"data row0 col1\" >→</td>\n",
       "                        <td id=\"T_e90375ea_5930_11eb_9779_a8206653ba57row0_col2\" class=\"data row0 col2\" >StandardScaler</td>\n",
       "                        <td id=\"T_e90375ea_5930_11eb_9779_a8206653ba57row0_col3\" class=\"data row0 col3\" >→</td>\n",
       "                        <td id=\"T_e90375ea_5930_11eb_9779_a8206653ba57row0_col4\" class=\"data row0 col4\" >SelectPercentile</td>\n",
       "                        <td id=\"T_e90375ea_5930_11eb_9779_a8206653ba57row0_col5\" class=\"data row0 col5\" >→</td>\n",
       "                        <td id=\"T_e90375ea_5930_11eb_9779_a8206653ba57row0_col6\" class=\"data row0 col6\" >SelectKBestScores</td>\n",
       "                        <td id=\"T_e90375ea_5930_11eb_9779_a8206653ba57row0_col7\" class=\"data row0 col7\" >→</td>\n",
       "                        <td id=\"T_e90375ea_5930_11eb_9779_a8206653ba57row0_col8\" class=\"data row0 col8\" >SelectKBestModels</td>\n",
       "                        <td id=\"T_e90375ea_5930_11eb_9779_a8206653ba57row0_col9\" class=\"data row0 col9\" >→</td>\n",
       "                        <td id=\"T_e90375ea_5930_11eb_9779_a8206653ba57row0_col10\" class=\"data row0 col10\" >MultichannelPredictor</td>\n",
       "                        <td id=\"T_e90375ea_5930_11eb_9779_a8206653ba57row0_col11\" class=\"data row0 col11\" >→</td>\n",
       "            </tr>\n",
       "            <tr>\n",
       "                        <th id=\"T_e90375ea_5930_11eb_9779_a8206653ba57level0_row1\" class=\"row_heading level0 row1\" >1</th>\n",
       "                        <td id=\"T_e90375ea_5930_11eb_9779_a8206653ba57row1_col0\" class=\"data row1 col0\" >SimpleImputer</td>\n",
       "                        <td id=\"T_e90375ea_5930_11eb_9779_a8206653ba57row1_col1\" class=\"data row1 col1\" >→</td>\n",
       "                        <td id=\"T_e90375ea_5930_11eb_9779_a8206653ba57row1_col2\" class=\"data row1 col2\" >StandardScaler</td>\n",
       "                        <td id=\"T_e90375ea_5930_11eb_9779_a8206653ba57row1_col3\" class=\"data row1 col3\" >→</td>\n",
       "                        <td id=\"T_e90375ea_5930_11eb_9779_a8206653ba57row1_col4\" class=\"data row1 col4\" >SelectPercentile</td>\n",
       "                        <td id=\"T_e90375ea_5930_11eb_9779_a8206653ba57row1_col5\" class=\"data row1 col5\" >→</td>\n",
       "                        <td id=\"T_e90375ea_5930_11eb_9779_a8206653ba57row1_col6\" class=\"data row1 col6\" >▽</td>\n",
       "                        <td id=\"T_e90375ea_5930_11eb_9779_a8206653ba57row1_col7\" class=\"data row1 col7\" >→</td>\n",
       "                        <td id=\"T_e90375ea_5930_11eb_9779_a8206653ba57row1_col8\" class=\"data row1 col8\" >▽</td>\n",
       "                        <td id=\"T_e90375ea_5930_11eb_9779_a8206653ba57row1_col9\" class=\"data row1 col9\" >→</td>\n",
       "                        <td id=\"T_e90375ea_5930_11eb_9779_a8206653ba57row1_col10\" class=\"data row1 col10\" >▽</td>\n",
       "                        <td id=\"T_e90375ea_5930_11eb_9779_a8206653ba57row1_col11\" class=\"data row1 col11\" >→</td>\n",
       "            </tr>\n",
       "            <tr>\n",
       "                        <th id=\"T_e90375ea_5930_11eb_9779_a8206653ba57level0_row2\" class=\"row_heading level0 row2\" >2</th>\n",
       "                        <td id=\"T_e90375ea_5930_11eb_9779_a8206653ba57row2_col0\" class=\"data row2 col0\" >SimpleImputer</td>\n",
       "                        <td id=\"T_e90375ea_5930_11eb_9779_a8206653ba57row2_col1\" class=\"data row2 col1\" >→</td>\n",
       "                        <td id=\"T_e90375ea_5930_11eb_9779_a8206653ba57row2_col2\" class=\"data row2 col2\" >StandardScaler</td>\n",
       "                        <td id=\"T_e90375ea_5930_11eb_9779_a8206653ba57row2_col3\" class=\"data row2 col3\" >→</td>\n",
       "                        <td id=\"T_e90375ea_5930_11eb_9779_a8206653ba57row2_col4\" class=\"data row2 col4\" >SelectPercentile</td>\n",
       "                        <td id=\"T_e90375ea_5930_11eb_9779_a8206653ba57row2_col5\" class=\"data row2 col5\" >→</td>\n",
       "                        <td id=\"T_e90375ea_5930_11eb_9779_a8206653ba57row2_col6\" class=\"data row2 col6\" >▽</td>\n",
       "                        <td id=\"T_e90375ea_5930_11eb_9779_a8206653ba57row2_col7\" class=\"data row2 col7\" >→</td>\n",
       "                        <td id=\"T_e90375ea_5930_11eb_9779_a8206653ba57row2_col8\" class=\"data row2 col8\" >▽</td>\n",
       "                        <td id=\"T_e90375ea_5930_11eb_9779_a8206653ba57row2_col9\" class=\"data row2 col9\" >→</td>\n",
       "                        <td id=\"T_e90375ea_5930_11eb_9779_a8206653ba57row2_col10\" class=\"data row2 col10\" >▽</td>\n",
       "                        <td id=\"T_e90375ea_5930_11eb_9779_a8206653ba57row2_col11\" class=\"data row2 col11\" >→</td>\n",
       "            </tr>\n",
       "            <tr>\n",
       "                        <th id=\"T_e90375ea_5930_11eb_9779_a8206653ba57level0_row3\" class=\"row_heading level0 row3\" >3</th>\n",
       "                        <td id=\"T_e90375ea_5930_11eb_9779_a8206653ba57row3_col0\" class=\"data row3 col0\" >SimpleImputer</td>\n",
       "                        <td id=\"T_e90375ea_5930_11eb_9779_a8206653ba57row3_col1\" class=\"data row3 col1\" >→</td>\n",
       "                        <td id=\"T_e90375ea_5930_11eb_9779_a8206653ba57row3_col2\" class=\"data row3 col2\" >StandardScaler</td>\n",
       "                        <td id=\"T_e90375ea_5930_11eb_9779_a8206653ba57row3_col3\" class=\"data row3 col3\" >→</td>\n",
       "                        <td id=\"T_e90375ea_5930_11eb_9779_a8206653ba57row3_col4\" class=\"data row3 col4\" >SelectPercentile</td>\n",
       "                        <td id=\"T_e90375ea_5930_11eb_9779_a8206653ba57row3_col5\" class=\"data row3 col5\" >→</td>\n",
       "                        <td id=\"T_e90375ea_5930_11eb_9779_a8206653ba57row3_col6\" class=\"data row3 col6\" >▽</td>\n",
       "                        <td id=\"T_e90375ea_5930_11eb_9779_a8206653ba57row3_col7\" class=\"data row3 col7\" >→</td>\n",
       "                        <td id=\"T_e90375ea_5930_11eb_9779_a8206653ba57row3_col8\" class=\"data row3 col8\" >▽</td>\n",
       "                        <td id=\"T_e90375ea_5930_11eb_9779_a8206653ba57row3_col9\" class=\"data row3 col9\" >→</td>\n",
       "                        <td id=\"T_e90375ea_5930_11eb_9779_a8206653ba57row3_col10\" class=\"data row3 col10\" >▽</td>\n",
       "                        <td id=\"T_e90375ea_5930_11eb_9779_a8206653ba57row3_col11\" class=\"data row3 col11\" >→</td>\n",
       "            </tr>\n",
       "            <tr>\n",
       "                        <th id=\"T_e90375ea_5930_11eb_9779_a8206653ba57level0_row4\" class=\"row_heading level0 row4\" >4</th>\n",
       "                        <td id=\"T_e90375ea_5930_11eb_9779_a8206653ba57row4_col0\" class=\"data row4 col0\" >SimpleImputer</td>\n",
       "                        <td id=\"T_e90375ea_5930_11eb_9779_a8206653ba57row4_col1\" class=\"data row4 col1\" >→</td>\n",
       "                        <td id=\"T_e90375ea_5930_11eb_9779_a8206653ba57row4_col2\" class=\"data row4 col2\" >StandardScaler</td>\n",
       "                        <td id=\"T_e90375ea_5930_11eb_9779_a8206653ba57row4_col3\" class=\"data row4 col3\" >→</td>\n",
       "                        <td id=\"T_e90375ea_5930_11eb_9779_a8206653ba57row4_col4\" class=\"data row4 col4\" >SelectPercentile</td>\n",
       "                        <td id=\"T_e90375ea_5930_11eb_9779_a8206653ba57row4_col5\" class=\"data row4 col5\" >→</td>\n",
       "                        <td id=\"T_e90375ea_5930_11eb_9779_a8206653ba57row4_col6\" class=\"data row4 col6\" >▽</td>\n",
       "                        <td id=\"T_e90375ea_5930_11eb_9779_a8206653ba57row4_col7\" class=\"data row4 col7\" >→</td>\n",
       "                        <td id=\"T_e90375ea_5930_11eb_9779_a8206653ba57row4_col8\" class=\"data row4 col8\" >▽</td>\n",
       "                        <td id=\"T_e90375ea_5930_11eb_9779_a8206653ba57row4_col9\" class=\"data row4 col9\" >→</td>\n",
       "                        <td id=\"T_e90375ea_5930_11eb_9779_a8206653ba57row4_col10\" class=\"data row4 col10\" >▽</td>\n",
       "                        <td id=\"T_e90375ea_5930_11eb_9779_a8206653ba57row4_col11\" class=\"data row4 col11\" >→</td>\n",
       "            </tr>\n",
       "            <tr>\n",
       "                        <th id=\"T_e90375ea_5930_11eb_9779_a8206653ba57level0_row5\" class=\"row_heading level0 row5\" >5</th>\n",
       "                        <td id=\"T_e90375ea_5930_11eb_9779_a8206653ba57row5_col0\" class=\"data row5 col0\" >SimpleImputer</td>\n",
       "                        <td id=\"T_e90375ea_5930_11eb_9779_a8206653ba57row5_col1\" class=\"data row5 col1\" >→</td>\n",
       "                        <td id=\"T_e90375ea_5930_11eb_9779_a8206653ba57row5_col2\" class=\"data row5 col2\" >StandardScaler</td>\n",
       "                        <td id=\"T_e90375ea_5930_11eb_9779_a8206653ba57row5_col3\" class=\"data row5 col3\" >→</td>\n",
       "                        <td id=\"T_e90375ea_5930_11eb_9779_a8206653ba57row5_col4\" class=\"data row5 col4\" >SelectPercentile</td>\n",
       "                        <td id=\"T_e90375ea_5930_11eb_9779_a8206653ba57row5_col5\" class=\"data row5 col5\" >→</td>\n",
       "                        <td id=\"T_e90375ea_5930_11eb_9779_a8206653ba57row5_col6\" class=\"data row5 col6\" >→</td>\n",
       "                        <td id=\"T_e90375ea_5930_11eb_9779_a8206653ba57row5_col7\" class=\"data row5 col7\" >→</td>\n",
       "                        <td id=\"T_e90375ea_5930_11eb_9779_a8206653ba57row5_col8\" class=\"data row5 col8\" >LogisticRegression</td>\n",
       "                        <td id=\"T_e90375ea_5930_11eb_9779_a8206653ba57row5_col9\" class=\"data row5 col9\" >→</td>\n",
       "                        <td id=\"T_e90375ea_5930_11eb_9779_a8206653ba57row5_col10\" class=\"data row5 col10\" >▽</td>\n",
       "                        <td id=\"T_e90375ea_5930_11eb_9779_a8206653ba57row5_col11\" class=\"data row5 col11\" >→</td>\n",
       "            </tr>\n",
       "    </tbody></table>"
      ],
      "text/plain": [
       "MultichannelPipeline(transform_method_name=None, n_channels=6, cv_processes=1, internal_cv=5)"
      ]
     },
     "execution_count": 1,
     "metadata": {},
     "output_type": "execute_result"
    }
   ],
   "source": [
    "import numpy as np\n",
    "\n",
    "from sklearn.impute import SimpleImputer\n",
    "from sklearn.preprocessing import StandardScaler\n",
    "from sklearn.feature_selection import SelectPercentile\n",
    "from sklearn.feature_selection import f_classif\n",
    "from sklearn.neighbors import KNeighborsClassifier\n",
    "from sklearn.linear_model import LogisticRegression\n",
    "from sklearn.svm import SVC\n",
    "from sklearn.datasets import make_classification\n",
    "\n",
    "import pipecaster as pc\n",
    "\n",
    "X_rand = np.random.rand(500, 30)\n",
    "X_inf, y = make_classification(n_samples=500, n_features=30, \n",
    "                               n_informative=15, class_sep=3, random_state=None)\n",
    "\n",
    "Xs = [X_rand, X_rand, X_inf, X_rand, X_inf, X_inf]\n",
    "\n",
    "clf = pc.MultichannelPipeline(n_channels=6)\n",
    "\n",
    "clf.add_layer(SimpleImputer())\n",
    "clf.add_layer(StandardScaler())\n",
    "clf.add_layer(SelectPercentile(percentile=25))\n",
    "clf.add_layer(5, pc.SelectKBestScores(feature_scorer=f_classif, aggregator=np.mean, k=2)) \n",
    "clf.add_layer(5, pc.SelectKBestModels(predictors=KNeighborsClassifier(), k=1), \n",
    "              1, LogisticRegression()) \n",
    "clf.add_layer(pc.MultichannelPredictor(SVC()))\n",
    "clf"
   ]
  },
  {
   "cell_type": "code",
   "execution_count": 2,
   "metadata": {},
   "outputs": [
    {
     "data": {
      "text/html": [
       "<style  type=\"text/css\" >\n",
       "    #T_ec055ec0_5930_11eb_9779_a8206653ba57 th {\n",
       "          text-align: center;\n",
       "    }    #T_ec055ec0_5930_11eb_9779_a8206653ba57row0_col0 {\n",
       "            text-align:  center;\n",
       "        }    #T_ec055ec0_5930_11eb_9779_a8206653ba57row0_col1 {\n",
       "            text-align:  center;\n",
       "        }    #T_ec055ec0_5930_11eb_9779_a8206653ba57row0_col2 {\n",
       "            text-align:  center;\n",
       "        }    #T_ec055ec0_5930_11eb_9779_a8206653ba57row0_col3 {\n",
       "            text-align:  center;\n",
       "        }    #T_ec055ec0_5930_11eb_9779_a8206653ba57row0_col4 {\n",
       "            text-align:  center;\n",
       "        }    #T_ec055ec0_5930_11eb_9779_a8206653ba57row0_col5 {\n",
       "            text-align:  center;\n",
       "        }    #T_ec055ec0_5930_11eb_9779_a8206653ba57row0_col6 {\n",
       "            text-align:  center;\n",
       "        }    #T_ec055ec0_5930_11eb_9779_a8206653ba57row0_col7 {\n",
       "            text-align:  center;\n",
       "        }    #T_ec055ec0_5930_11eb_9779_a8206653ba57row0_col8 {\n",
       "            text-align:  center;\n",
       "        }    #T_ec055ec0_5930_11eb_9779_a8206653ba57row0_col9 {\n",
       "            text-align:  center;\n",
       "        }    #T_ec055ec0_5930_11eb_9779_a8206653ba57row0_col10 {\n",
       "            text-align:  center;\n",
       "        }    #T_ec055ec0_5930_11eb_9779_a8206653ba57row0_col11 {\n",
       "            text-align:  center;\n",
       "        }    #T_ec055ec0_5930_11eb_9779_a8206653ba57row1_col0 {\n",
       "            text-align:  center;\n",
       "        }    #T_ec055ec0_5930_11eb_9779_a8206653ba57row1_col1 {\n",
       "            text-align:  center;\n",
       "        }    #T_ec055ec0_5930_11eb_9779_a8206653ba57row1_col2 {\n",
       "            text-align:  center;\n",
       "        }    #T_ec055ec0_5930_11eb_9779_a8206653ba57row1_col3 {\n",
       "            text-align:  center;\n",
       "        }    #T_ec055ec0_5930_11eb_9779_a8206653ba57row1_col4 {\n",
       "            text-align:  center;\n",
       "        }    #T_ec055ec0_5930_11eb_9779_a8206653ba57row1_col5 {\n",
       "            text-align:  center;\n",
       "        }    #T_ec055ec0_5930_11eb_9779_a8206653ba57row1_col6 {\n",
       "            text-align:  center;\n",
       "        }    #T_ec055ec0_5930_11eb_9779_a8206653ba57row1_col7 {\n",
       "            text-align:  center;\n",
       "        }    #T_ec055ec0_5930_11eb_9779_a8206653ba57row1_col8 {\n",
       "            text-align:  center;\n",
       "        }    #T_ec055ec0_5930_11eb_9779_a8206653ba57row1_col9 {\n",
       "            text-align:  center;\n",
       "        }    #T_ec055ec0_5930_11eb_9779_a8206653ba57row1_col10 {\n",
       "            text-align:  center;\n",
       "        }    #T_ec055ec0_5930_11eb_9779_a8206653ba57row1_col11 {\n",
       "            text-align:  center;\n",
       "        }    #T_ec055ec0_5930_11eb_9779_a8206653ba57row2_col0 {\n",
       "            text-align:  center;\n",
       "        }    #T_ec055ec0_5930_11eb_9779_a8206653ba57row2_col1 {\n",
       "            text-align:  center;\n",
       "        }    #T_ec055ec0_5930_11eb_9779_a8206653ba57row2_col2 {\n",
       "            text-align:  center;\n",
       "        }    #T_ec055ec0_5930_11eb_9779_a8206653ba57row2_col3 {\n",
       "            text-align:  center;\n",
       "        }    #T_ec055ec0_5930_11eb_9779_a8206653ba57row2_col4 {\n",
       "            text-align:  center;\n",
       "        }    #T_ec055ec0_5930_11eb_9779_a8206653ba57row2_col5 {\n",
       "            text-align:  center;\n",
       "        }    #T_ec055ec0_5930_11eb_9779_a8206653ba57row2_col6 {\n",
       "            text-align:  center;\n",
       "        }    #T_ec055ec0_5930_11eb_9779_a8206653ba57row2_col7 {\n",
       "            text-align:  center;\n",
       "        }    #T_ec055ec0_5930_11eb_9779_a8206653ba57row2_col8 {\n",
       "            text-align:  center;\n",
       "        }    #T_ec055ec0_5930_11eb_9779_a8206653ba57row2_col9 {\n",
       "            text-align:  center;\n",
       "        }    #T_ec055ec0_5930_11eb_9779_a8206653ba57row2_col10 {\n",
       "            text-align:  center;\n",
       "        }    #T_ec055ec0_5930_11eb_9779_a8206653ba57row2_col11 {\n",
       "            text-align:  center;\n",
       "        }    #T_ec055ec0_5930_11eb_9779_a8206653ba57row3_col0 {\n",
       "            text-align:  center;\n",
       "        }    #T_ec055ec0_5930_11eb_9779_a8206653ba57row3_col1 {\n",
       "            text-align:  center;\n",
       "        }    #T_ec055ec0_5930_11eb_9779_a8206653ba57row3_col2 {\n",
       "            text-align:  center;\n",
       "        }    #T_ec055ec0_5930_11eb_9779_a8206653ba57row3_col3 {\n",
       "            text-align:  center;\n",
       "        }    #T_ec055ec0_5930_11eb_9779_a8206653ba57row3_col4 {\n",
       "            text-align:  center;\n",
       "        }    #T_ec055ec0_5930_11eb_9779_a8206653ba57row3_col5 {\n",
       "            text-align:  center;\n",
       "        }    #T_ec055ec0_5930_11eb_9779_a8206653ba57row3_col6 {\n",
       "            text-align:  center;\n",
       "        }    #T_ec055ec0_5930_11eb_9779_a8206653ba57row3_col7 {\n",
       "            text-align:  center;\n",
       "        }    #T_ec055ec0_5930_11eb_9779_a8206653ba57row3_col8 {\n",
       "            text-align:  center;\n",
       "        }    #T_ec055ec0_5930_11eb_9779_a8206653ba57row3_col9 {\n",
       "            text-align:  center;\n",
       "        }    #T_ec055ec0_5930_11eb_9779_a8206653ba57row3_col10 {\n",
       "            text-align:  center;\n",
       "        }    #T_ec055ec0_5930_11eb_9779_a8206653ba57row3_col11 {\n",
       "            text-align:  center;\n",
       "        }    #T_ec055ec0_5930_11eb_9779_a8206653ba57row4_col0 {\n",
       "            text-align:  center;\n",
       "        }    #T_ec055ec0_5930_11eb_9779_a8206653ba57row4_col1 {\n",
       "            text-align:  center;\n",
       "        }    #T_ec055ec0_5930_11eb_9779_a8206653ba57row4_col2 {\n",
       "            text-align:  center;\n",
       "        }    #T_ec055ec0_5930_11eb_9779_a8206653ba57row4_col3 {\n",
       "            text-align:  center;\n",
       "        }    #T_ec055ec0_5930_11eb_9779_a8206653ba57row4_col4 {\n",
       "            text-align:  center;\n",
       "        }    #T_ec055ec0_5930_11eb_9779_a8206653ba57row4_col5 {\n",
       "            text-align:  center;\n",
       "        }    #T_ec055ec0_5930_11eb_9779_a8206653ba57row4_col6 {\n",
       "            text-align:  center;\n",
       "        }    #T_ec055ec0_5930_11eb_9779_a8206653ba57row4_col7 {\n",
       "            text-align:  center;\n",
       "        }    #T_ec055ec0_5930_11eb_9779_a8206653ba57row4_col8 {\n",
       "            text-align:  center;\n",
       "        }    #T_ec055ec0_5930_11eb_9779_a8206653ba57row4_col9 {\n",
       "            text-align:  center;\n",
       "        }    #T_ec055ec0_5930_11eb_9779_a8206653ba57row4_col10 {\n",
       "            text-align:  center;\n",
       "        }    #T_ec055ec0_5930_11eb_9779_a8206653ba57row4_col11 {\n",
       "            text-align:  center;\n",
       "        }    #T_ec055ec0_5930_11eb_9779_a8206653ba57row5_col0 {\n",
       "            text-align:  center;\n",
       "        }    #T_ec055ec0_5930_11eb_9779_a8206653ba57row5_col1 {\n",
       "            text-align:  center;\n",
       "        }    #T_ec055ec0_5930_11eb_9779_a8206653ba57row5_col2 {\n",
       "            text-align:  center;\n",
       "        }    #T_ec055ec0_5930_11eb_9779_a8206653ba57row5_col3 {\n",
       "            text-align:  center;\n",
       "        }    #T_ec055ec0_5930_11eb_9779_a8206653ba57row5_col4 {\n",
       "            text-align:  center;\n",
       "        }    #T_ec055ec0_5930_11eb_9779_a8206653ba57row5_col5 {\n",
       "            text-align:  center;\n",
       "        }    #T_ec055ec0_5930_11eb_9779_a8206653ba57row5_col6 {\n",
       "            text-align:  center;\n",
       "        }    #T_ec055ec0_5930_11eb_9779_a8206653ba57row5_col7 {\n",
       "            text-align:  center;\n",
       "        }    #T_ec055ec0_5930_11eb_9779_a8206653ba57row5_col8 {\n",
       "            text-align:  center;\n",
       "        }    #T_ec055ec0_5930_11eb_9779_a8206653ba57row5_col9 {\n",
       "            text-align:  center;\n",
       "        }    #T_ec055ec0_5930_11eb_9779_a8206653ba57row5_col10 {\n",
       "            text-align:  center;\n",
       "        }    #T_ec055ec0_5930_11eb_9779_a8206653ba57row5_col11 {\n",
       "            text-align:  center;\n",
       "        }</style><table id=\"T_ec055ec0_5930_11eb_9779_a8206653ba57\" ><thead>    <tr>        <th class=\"blank level0\" ></th>        <th class=\"col_heading level0 col0\" >layer_0</th>        <th class=\"col_heading level0 col1\" >out_0</th>        <th class=\"col_heading level0 col2\" >layer_1</th>        <th class=\"col_heading level0 col3\" >out_1</th>        <th class=\"col_heading level0 col4\" >layer_2</th>        <th class=\"col_heading level0 col5\" >out_2</th>        <th class=\"col_heading level0 col6\" >layer_3</th>        <th class=\"col_heading level0 col7\" >out_3</th>        <th class=\"col_heading level0 col8\" >layer_4</th>        <th class=\"col_heading level0 col9\" >out_4</th>        <th class=\"col_heading level0 col10\" >layer_5</th>        <th class=\"col_heading level0 col11\" >out_5</th>    </tr>    <tr>        <th class=\"index_name level0\" >channel</th>        <th class=\"blank\" ></th>        <th class=\"blank\" ></th>        <th class=\"blank\" ></th>        <th class=\"blank\" ></th>        <th class=\"blank\" ></th>        <th class=\"blank\" ></th>        <th class=\"blank\" ></th>        <th class=\"blank\" ></th>        <th class=\"blank\" ></th>        <th class=\"blank\" ></th>        <th class=\"blank\" ></th>        <th class=\"blank\" ></th>    </tr></thead><tbody>\n",
       "                <tr>\n",
       "                        <th id=\"T_ec055ec0_5930_11eb_9779_a8206653ba57level0_row0\" class=\"row_heading level0 row0\" >0</th>\n",
       "                        <td id=\"T_ec055ec0_5930_11eb_9779_a8206653ba57row0_col0\" class=\"data row0 col0\" >SimpleImputer</td>\n",
       "                        <td id=\"T_ec055ec0_5930_11eb_9779_a8206653ba57row0_col1\" class=\"data row0 col1\" >→</td>\n",
       "                        <td id=\"T_ec055ec0_5930_11eb_9779_a8206653ba57row0_col2\" class=\"data row0 col2\" >StandardScaler</td>\n",
       "                        <td id=\"T_ec055ec0_5930_11eb_9779_a8206653ba57row0_col3\" class=\"data row0 col3\" >→</td>\n",
       "                        <td id=\"T_ec055ec0_5930_11eb_9779_a8206653ba57row0_col4\" class=\"data row0 col4\" >SelectPercentile</td>\n",
       "                        <td id=\"T_ec055ec0_5930_11eb_9779_a8206653ba57row0_col5\" class=\"data row0 col5\" >→</td>\n",
       "                        <td id=\"T_ec055ec0_5930_11eb_9779_a8206653ba57row0_col6\" class=\"data row0 col6\" >SelectKBestScores</td>\n",
       "                        <td id=\"T_ec055ec0_5930_11eb_9779_a8206653ba57row0_col7\" class=\"data row0 col7\" > </td>\n",
       "                        <td id=\"T_ec055ec0_5930_11eb_9779_a8206653ba57row0_col8\" class=\"data row0 col8\" >SelectKBestModels</td>\n",
       "                        <td id=\"T_ec055ec0_5930_11eb_9779_a8206653ba57row0_col9\" class=\"data row0 col9\" > </td>\n",
       "                        <td id=\"T_ec055ec0_5930_11eb_9779_a8206653ba57row0_col10\" class=\"data row0 col10\" >{MultichannelPredictor}tr</td>\n",
       "                        <td id=\"T_ec055ec0_5930_11eb_9779_a8206653ba57row0_col11\" class=\"data row0 col11\" >→</td>\n",
       "            </tr>\n",
       "            <tr>\n",
       "                        <th id=\"T_ec055ec0_5930_11eb_9779_a8206653ba57level0_row1\" class=\"row_heading level0 row1\" >1</th>\n",
       "                        <td id=\"T_ec055ec0_5930_11eb_9779_a8206653ba57row1_col0\" class=\"data row1 col0\" >SimpleImputer</td>\n",
       "                        <td id=\"T_ec055ec0_5930_11eb_9779_a8206653ba57row1_col1\" class=\"data row1 col1\" >→</td>\n",
       "                        <td id=\"T_ec055ec0_5930_11eb_9779_a8206653ba57row1_col2\" class=\"data row1 col2\" >StandardScaler</td>\n",
       "                        <td id=\"T_ec055ec0_5930_11eb_9779_a8206653ba57row1_col3\" class=\"data row1 col3\" >→</td>\n",
       "                        <td id=\"T_ec055ec0_5930_11eb_9779_a8206653ba57row1_col4\" class=\"data row1 col4\" >SelectPercentile</td>\n",
       "                        <td id=\"T_ec055ec0_5930_11eb_9779_a8206653ba57row1_col5\" class=\"data row1 col5\" >→</td>\n",
       "                        <td id=\"T_ec055ec0_5930_11eb_9779_a8206653ba57row1_col6\" class=\"data row1 col6\" >▽</td>\n",
       "                        <td id=\"T_ec055ec0_5930_11eb_9779_a8206653ba57row1_col7\" class=\"data row1 col7\" > </td>\n",
       "                        <td id=\"T_ec055ec0_5930_11eb_9779_a8206653ba57row1_col8\" class=\"data row1 col8\" >▽</td>\n",
       "                        <td id=\"T_ec055ec0_5930_11eb_9779_a8206653ba57row1_col9\" class=\"data row1 col9\" > </td>\n",
       "                        <td id=\"T_ec055ec0_5930_11eb_9779_a8206653ba57row1_col10\" class=\"data row1 col10\" >▽</td>\n",
       "                        <td id=\"T_ec055ec0_5930_11eb_9779_a8206653ba57row1_col11\" class=\"data row1 col11\" > </td>\n",
       "            </tr>\n",
       "            <tr>\n",
       "                        <th id=\"T_ec055ec0_5930_11eb_9779_a8206653ba57level0_row2\" class=\"row_heading level0 row2\" >2</th>\n",
       "                        <td id=\"T_ec055ec0_5930_11eb_9779_a8206653ba57row2_col0\" class=\"data row2 col0\" >SimpleImputer</td>\n",
       "                        <td id=\"T_ec055ec0_5930_11eb_9779_a8206653ba57row2_col1\" class=\"data row2 col1\" >→</td>\n",
       "                        <td id=\"T_ec055ec0_5930_11eb_9779_a8206653ba57row2_col2\" class=\"data row2 col2\" >StandardScaler</td>\n",
       "                        <td id=\"T_ec055ec0_5930_11eb_9779_a8206653ba57row2_col3\" class=\"data row2 col3\" >→</td>\n",
       "                        <td id=\"T_ec055ec0_5930_11eb_9779_a8206653ba57row2_col4\" class=\"data row2 col4\" >SelectPercentile</td>\n",
       "                        <td id=\"T_ec055ec0_5930_11eb_9779_a8206653ba57row2_col5\" class=\"data row2 col5\" >→</td>\n",
       "                        <td id=\"T_ec055ec0_5930_11eb_9779_a8206653ba57row2_col6\" class=\"data row2 col6\" >▽</td>\n",
       "                        <td id=\"T_ec055ec0_5930_11eb_9779_a8206653ba57row2_col7\" class=\"data row2 col7\" >→</td>\n",
       "                        <td id=\"T_ec055ec0_5930_11eb_9779_a8206653ba57row2_col8\" class=\"data row2 col8\" >▽</td>\n",
       "                        <td id=\"T_ec055ec0_5930_11eb_9779_a8206653ba57row2_col9\" class=\"data row2 col9\" > </td>\n",
       "                        <td id=\"T_ec055ec0_5930_11eb_9779_a8206653ba57row2_col10\" class=\"data row2 col10\" >▽</td>\n",
       "                        <td id=\"T_ec055ec0_5930_11eb_9779_a8206653ba57row2_col11\" class=\"data row2 col11\" > </td>\n",
       "            </tr>\n",
       "            <tr>\n",
       "                        <th id=\"T_ec055ec0_5930_11eb_9779_a8206653ba57level0_row3\" class=\"row_heading level0 row3\" >3</th>\n",
       "                        <td id=\"T_ec055ec0_5930_11eb_9779_a8206653ba57row3_col0\" class=\"data row3 col0\" >SimpleImputer</td>\n",
       "                        <td id=\"T_ec055ec0_5930_11eb_9779_a8206653ba57row3_col1\" class=\"data row3 col1\" >→</td>\n",
       "                        <td id=\"T_ec055ec0_5930_11eb_9779_a8206653ba57row3_col2\" class=\"data row3 col2\" >StandardScaler</td>\n",
       "                        <td id=\"T_ec055ec0_5930_11eb_9779_a8206653ba57row3_col3\" class=\"data row3 col3\" >→</td>\n",
       "                        <td id=\"T_ec055ec0_5930_11eb_9779_a8206653ba57row3_col4\" class=\"data row3 col4\" >SelectPercentile</td>\n",
       "                        <td id=\"T_ec055ec0_5930_11eb_9779_a8206653ba57row3_col5\" class=\"data row3 col5\" >→</td>\n",
       "                        <td id=\"T_ec055ec0_5930_11eb_9779_a8206653ba57row3_col6\" class=\"data row3 col6\" >▽</td>\n",
       "                        <td id=\"T_ec055ec0_5930_11eb_9779_a8206653ba57row3_col7\" class=\"data row3 col7\" > </td>\n",
       "                        <td id=\"T_ec055ec0_5930_11eb_9779_a8206653ba57row3_col8\" class=\"data row3 col8\" >▽</td>\n",
       "                        <td id=\"T_ec055ec0_5930_11eb_9779_a8206653ba57row3_col9\" class=\"data row3 col9\" > </td>\n",
       "                        <td id=\"T_ec055ec0_5930_11eb_9779_a8206653ba57row3_col10\" class=\"data row3 col10\" >▽</td>\n",
       "                        <td id=\"T_ec055ec0_5930_11eb_9779_a8206653ba57row3_col11\" class=\"data row3 col11\" > </td>\n",
       "            </tr>\n",
       "            <tr>\n",
       "                        <th id=\"T_ec055ec0_5930_11eb_9779_a8206653ba57level0_row4\" class=\"row_heading level0 row4\" >4</th>\n",
       "                        <td id=\"T_ec055ec0_5930_11eb_9779_a8206653ba57row4_col0\" class=\"data row4 col0\" >SimpleImputer</td>\n",
       "                        <td id=\"T_ec055ec0_5930_11eb_9779_a8206653ba57row4_col1\" class=\"data row4 col1\" >→</td>\n",
       "                        <td id=\"T_ec055ec0_5930_11eb_9779_a8206653ba57row4_col2\" class=\"data row4 col2\" >StandardScaler</td>\n",
       "                        <td id=\"T_ec055ec0_5930_11eb_9779_a8206653ba57row4_col3\" class=\"data row4 col3\" >→</td>\n",
       "                        <td id=\"T_ec055ec0_5930_11eb_9779_a8206653ba57row4_col4\" class=\"data row4 col4\" >SelectPercentile</td>\n",
       "                        <td id=\"T_ec055ec0_5930_11eb_9779_a8206653ba57row4_col5\" class=\"data row4 col5\" >→</td>\n",
       "                        <td id=\"T_ec055ec0_5930_11eb_9779_a8206653ba57row4_col6\" class=\"data row4 col6\" >▽</td>\n",
       "                        <td id=\"T_ec055ec0_5930_11eb_9779_a8206653ba57row4_col7\" class=\"data row4 col7\" >→</td>\n",
       "                        <td id=\"T_ec055ec0_5930_11eb_9779_a8206653ba57row4_col8\" class=\"data row4 col8\" >▽</td>\n",
       "                        <td id=\"T_ec055ec0_5930_11eb_9779_a8206653ba57row4_col9\" class=\"data row4 col9\" >→</td>\n",
       "                        <td id=\"T_ec055ec0_5930_11eb_9779_a8206653ba57row4_col10\" class=\"data row4 col10\" >▽</td>\n",
       "                        <td id=\"T_ec055ec0_5930_11eb_9779_a8206653ba57row4_col11\" class=\"data row4 col11\" > </td>\n",
       "            </tr>\n",
       "            <tr>\n",
       "                        <th id=\"T_ec055ec0_5930_11eb_9779_a8206653ba57level0_row5\" class=\"row_heading level0 row5\" >5</th>\n",
       "                        <td id=\"T_ec055ec0_5930_11eb_9779_a8206653ba57row5_col0\" class=\"data row5 col0\" >SimpleImputer</td>\n",
       "                        <td id=\"T_ec055ec0_5930_11eb_9779_a8206653ba57row5_col1\" class=\"data row5 col1\" >→</td>\n",
       "                        <td id=\"T_ec055ec0_5930_11eb_9779_a8206653ba57row5_col2\" class=\"data row5 col2\" >StandardScaler</td>\n",
       "                        <td id=\"T_ec055ec0_5930_11eb_9779_a8206653ba57row5_col3\" class=\"data row5 col3\" >→</td>\n",
       "                        <td id=\"T_ec055ec0_5930_11eb_9779_a8206653ba57row5_col4\" class=\"data row5 col4\" >SelectPercentile</td>\n",
       "                        <td id=\"T_ec055ec0_5930_11eb_9779_a8206653ba57row5_col5\" class=\"data row5 col5\" >→</td>\n",
       "                        <td id=\"T_ec055ec0_5930_11eb_9779_a8206653ba57row5_col6\" class=\"data row5 col6\" >→</td>\n",
       "                        <td id=\"T_ec055ec0_5930_11eb_9779_a8206653ba57row5_col7\" class=\"data row5 col7\" >→</td>\n",
       "                        <td id=\"T_ec055ec0_5930_11eb_9779_a8206653ba57row5_col8\" class=\"data row5 col8\" >{LogisticRegression}cvtr</td>\n",
       "                        <td id=\"T_ec055ec0_5930_11eb_9779_a8206653ba57row5_col9\" class=\"data row5 col9\" >→</td>\n",
       "                        <td id=\"T_ec055ec0_5930_11eb_9779_a8206653ba57row5_col10\" class=\"data row5 col10\" >▽</td>\n",
       "                        <td id=\"T_ec055ec0_5930_11eb_9779_a8206653ba57row5_col11\" class=\"data row5 col11\" > </td>\n",
       "            </tr>\n",
       "    </tbody></table>"
      ],
      "text/plain": [
       "MultichannelPipeline(transform_method_name=None, n_channels=6, cv_processes=1, internal_cv=5)"
      ]
     },
     "execution_count": 2,
     "metadata": {},
     "output_type": "execute_result"
    }
   ],
   "source": [
    "clf.fit(Xs, y)\n",
    "clf"
   ]
  },
  {
   "cell_type": "code",
   "execution_count": null,
   "metadata": {},
   "outputs": [],
   "source": []
  },
  {
   "cell_type": "code",
   "execution_count": null,
   "metadata": {},
   "outputs": [],
   "source": []
  },
  {
   "cell_type": "code",
   "execution_count": null,
   "metadata": {},
   "outputs": [],
   "source": [
    "\n",
    "\n",
    "    transform_method_name: str or None, default=None\n",
    "        Set the name of the prediction method used when transform or\n",
    "        fit_transform are called. If None, the method will be selected\n",
    "        automatically by the precedence defined in the transform_wrapper\n",
    "        module.\n",
    "        \n",
    "    internal_cv: None, int, or callable, default=5\n",
    "        Set the internal cv training method for predictors.\n",
    "        If 1: Internal cv training is inactivated.\n",
    "        If int > 1: StratifiedKFold(n_splits=internal_cv) for classifiers and\n",
    "            KFold(n_splits=internal_cv) for regressors.\n",
    "        If None: The default value of 5 is used.\n",
    "        If callable: Assumes scikit-learn interface like KFold.\n",
    "                \n",
    "    n_processes: int or 'max', default=1\n",
    "        If 1: Run all split computations in a single process.\n",
    "        If 'max': Run each split in a different process, using all available\n",
    "            CPUs\n",
    "        If int > 1: Run each split in a different process, using up to\n",
    "            n_processes number of CPUs\n",
    "            \n",
    "        \"\"\"\n",
    "        Parameters\n",
    "        ----------\n",
    "        Xs: list of [ndarray.shape(n_samples, n_features) or None]\n",
    "            List of feature matrix inputs.\n",
    "        y: list/array of length n_samples, default=None\n",
    "            Targets for supervised ML.\n",
    "        fit_params: dict, defualt=None\n",
    "            Auxiliary parameters to pass to the fit method of the predictor.\n",
    "        \"\"\""
   ]
  },
  {
   "cell_type": "markdown",
   "metadata": {},
   "source": [
    "notes:\n",
    "ray 1.0.1.post1 failed to establish cluster\n",
    "so I upgraded to 1.1\n"
   ]
  },
  {
   "cell_type": "code",
   "execution_count": null,
   "metadata": {},
   "outputs": [],
   "source": []
  },
  {
   "cell_type": "code",
   "execution_count": 3,
   "metadata": {},
   "outputs": [],
   "source": [
    "import ray \n",
    "import os\n",
    "\n",
    "def stop_clark_cluster():\n",
    "    ray.shutdown()\n",
    "    os.system('ssh ellen /home/john/venv/bin/ray stop')\n",
    "    os.system('ssh audrey /home/john/venv/bin/ray stop')\n",
    "    os.system('ssh edna /home/john/venv/bin/ray stop')\n",
    "    \n",
    "def start_clark_cluster(clark_cpus = 4, ellen_cpus = 32, audrey_cpus = 32, edna_cpus = 32, \n",
    "                        clark_gpus = 0, ellen_gpus = 2, audrey_gpus = 1, edna_gpus = 1):\n",
    "    stop_clark_cluster()\n",
    "    config = ray.init(_redis_password=\"gn8GWVrMJ3cSX4\", num_cpus = clark_cpus, num_gpus = clark_gpus)\n",
    "    os.system(\"ssh ellen ray start --address={} --redis-password='gn8GWVrMJ3cSX4' --num-gpus={} --num-cpus={}\".format(config['redis_address'], ellen_gpus, ellen_cpus))\n",
    "    os.system(\"ssh edna ray start --address={} --redis-password='gn8GWVrMJ3cSX4' --num-gpus={} --num-cpus={}\".format(config['redis_address'], edna_gpus, edna_cpus))\n",
    "    os.system(\"ssh audrey ray start --address={} --redis-password='gn8GWVrMJ3cSX4' --num-gpus={} --num-cpus={}\".format(config['redis_address'], audrey_gpus, audrey_cpus))\n",
    "    return config"
   ]
  },
  {
   "cell_type": "code",
   "execution_count": 25,
   "metadata": {},
   "outputs": [
    {
     "data": {
      "text/plain": [
       "0"
      ]
     },
     "execution_count": 25,
     "metadata": {},
     "output_type": "execute_result"
    }
   ],
   "source": [
    "import ray\n",
    "import os\n",
    "ray.shutdown()\n",
    "os.system(\"ssh edna /home/john/venv/bin/ray stop\")\n",
    "os.system(\"ssh ellen /home/john/venv/bin/ray stop\")\n",
    "os.system(\"ssh audrey /home/john/venv/bin/ray stop\")"
   ]
  },
  {
   "cell_type": "code",
   "execution_count": 15,
   "metadata": {},
   "outputs": [
    {
     "data": {
      "text/plain": [
       "array([1, 2, 222], dtype=object)"
      ]
     },
     "execution_count": 15,
     "metadata": {},
     "output_type": "execute_result"
    }
   ],
   "source": [
    "import numpy as np\n",
    "x = np.array([1, 2, None])\n",
    "x[x == None] = 222\n",
    "x"
   ]
  },
  {
   "cell_type": "code",
   "execution_count": 16,
   "metadata": {},
   "outputs": [
    {
     "ename": "TypeError",
     "evalue": "ufunc 'isfinite' not supported for the input types, and the inputs could not be safely coerced to any supported types according to the casting rule ''safe''",
     "output_type": "error",
     "traceback": [
      "\u001b[0;31m---------------------------------------------------------------------------\u001b[0m",
      "\u001b[0;31mTypeError\u001b[0m                                 Traceback (most recent call last)",
      "\u001b[0;32m<ipython-input-16-3e776e318270>\u001b[0m in \u001b[0;36m<module>\u001b[0;34m()\u001b[0m\n\u001b[0;32m----> 1\u001b[0;31m \u001b[0mnp\u001b[0m\u001b[0;34m.\u001b[0m\u001b[0misfinite\u001b[0m\u001b[0;34m(\u001b[0m\u001b[0;32mNone\u001b[0m\u001b[0;34m)\u001b[0m\u001b[0;34m\u001b[0m\u001b[0;34m\u001b[0m\u001b[0m\n\u001b[0m",
      "\u001b[0;31mTypeError\u001b[0m: ufunc 'isfinite' not supported for the input types, and the inputs could not be safely coerced to any supported types according to the casting rule ''safe''"
     ]
    }
   ],
   "source": [
    "np.isfinite(None)"
   ]
  },
  {
   "cell_type": "code",
   "execution_count": 1,
   "metadata": {},
   "outputs": [
    {
     "data": {
      "text/html": [
       "<style  type=\"text/css\" >\n",
       "    #T_6e658836_5c1f_11eb_bda9_a8206653ba57 th {\n",
       "          text-align: center;\n",
       "    }    #T_6e658836_5c1f_11eb_bda9_a8206653ba57row0_col0 {\n",
       "            text-align:  center;\n",
       "        }    #T_6e658836_5c1f_11eb_bda9_a8206653ba57row0_col1 {\n",
       "            text-align:  center;\n",
       "        }    #T_6e658836_5c1f_11eb_bda9_a8206653ba57row0_col2 {\n",
       "            text-align:  center;\n",
       "        }    #T_6e658836_5c1f_11eb_bda9_a8206653ba57row0_col3 {\n",
       "            text-align:  center;\n",
       "        }    #T_6e658836_5c1f_11eb_bda9_a8206653ba57row0_col4 {\n",
       "            text-align:  center;\n",
       "        }    #T_6e658836_5c1f_11eb_bda9_a8206653ba57row0_col5 {\n",
       "            text-align:  center;\n",
       "        }    #T_6e658836_5c1f_11eb_bda9_a8206653ba57row0_col6 {\n",
       "            text-align:  center;\n",
       "        }    #T_6e658836_5c1f_11eb_bda9_a8206653ba57row0_col7 {\n",
       "            text-align:  center;\n",
       "        }    #T_6e658836_5c1f_11eb_bda9_a8206653ba57row0_col8 {\n",
       "            text-align:  center;\n",
       "        }    #T_6e658836_5c1f_11eb_bda9_a8206653ba57row0_col9 {\n",
       "            text-align:  center;\n",
       "        }    #T_6e658836_5c1f_11eb_bda9_a8206653ba57row0_col10 {\n",
       "            text-align:  center;\n",
       "        }    #T_6e658836_5c1f_11eb_bda9_a8206653ba57row0_col11 {\n",
       "            text-align:  center;\n",
       "        }    #T_6e658836_5c1f_11eb_bda9_a8206653ba57row1_col0 {\n",
       "            text-align:  center;\n",
       "        }    #T_6e658836_5c1f_11eb_bda9_a8206653ba57row1_col1 {\n",
       "            text-align:  center;\n",
       "        }    #T_6e658836_5c1f_11eb_bda9_a8206653ba57row1_col2 {\n",
       "            text-align:  center;\n",
       "        }    #T_6e658836_5c1f_11eb_bda9_a8206653ba57row1_col3 {\n",
       "            text-align:  center;\n",
       "        }    #T_6e658836_5c1f_11eb_bda9_a8206653ba57row1_col4 {\n",
       "            text-align:  center;\n",
       "        }    #T_6e658836_5c1f_11eb_bda9_a8206653ba57row1_col5 {\n",
       "            text-align:  center;\n",
       "        }    #T_6e658836_5c1f_11eb_bda9_a8206653ba57row1_col6 {\n",
       "            text-align:  center;\n",
       "        }    #T_6e658836_5c1f_11eb_bda9_a8206653ba57row1_col7 {\n",
       "            text-align:  center;\n",
       "        }    #T_6e658836_5c1f_11eb_bda9_a8206653ba57row1_col8 {\n",
       "            text-align:  center;\n",
       "        }    #T_6e658836_5c1f_11eb_bda9_a8206653ba57row1_col9 {\n",
       "            text-align:  center;\n",
       "        }    #T_6e658836_5c1f_11eb_bda9_a8206653ba57row1_col10 {\n",
       "            text-align:  center;\n",
       "        }    #T_6e658836_5c1f_11eb_bda9_a8206653ba57row1_col11 {\n",
       "            text-align:  center;\n",
       "        }    #T_6e658836_5c1f_11eb_bda9_a8206653ba57row2_col0 {\n",
       "            text-align:  center;\n",
       "        }    #T_6e658836_5c1f_11eb_bda9_a8206653ba57row2_col1 {\n",
       "            text-align:  center;\n",
       "        }    #T_6e658836_5c1f_11eb_bda9_a8206653ba57row2_col2 {\n",
       "            text-align:  center;\n",
       "        }    #T_6e658836_5c1f_11eb_bda9_a8206653ba57row2_col3 {\n",
       "            text-align:  center;\n",
       "        }    #T_6e658836_5c1f_11eb_bda9_a8206653ba57row2_col4 {\n",
       "            text-align:  center;\n",
       "        }    #T_6e658836_5c1f_11eb_bda9_a8206653ba57row2_col5 {\n",
       "            text-align:  center;\n",
       "        }    #T_6e658836_5c1f_11eb_bda9_a8206653ba57row2_col6 {\n",
       "            text-align:  center;\n",
       "        }    #T_6e658836_5c1f_11eb_bda9_a8206653ba57row2_col7 {\n",
       "            text-align:  center;\n",
       "        }    #T_6e658836_5c1f_11eb_bda9_a8206653ba57row2_col8 {\n",
       "            text-align:  center;\n",
       "        }    #T_6e658836_5c1f_11eb_bda9_a8206653ba57row2_col9 {\n",
       "            text-align:  center;\n",
       "        }    #T_6e658836_5c1f_11eb_bda9_a8206653ba57row2_col10 {\n",
       "            text-align:  center;\n",
       "        }    #T_6e658836_5c1f_11eb_bda9_a8206653ba57row2_col11 {\n",
       "            text-align:  center;\n",
       "        }    #T_6e658836_5c1f_11eb_bda9_a8206653ba57row3_col0 {\n",
       "            text-align:  center;\n",
       "        }    #T_6e658836_5c1f_11eb_bda9_a8206653ba57row3_col1 {\n",
       "            text-align:  center;\n",
       "        }    #T_6e658836_5c1f_11eb_bda9_a8206653ba57row3_col2 {\n",
       "            text-align:  center;\n",
       "        }    #T_6e658836_5c1f_11eb_bda9_a8206653ba57row3_col3 {\n",
       "            text-align:  center;\n",
       "        }    #T_6e658836_5c1f_11eb_bda9_a8206653ba57row3_col4 {\n",
       "            text-align:  center;\n",
       "        }    #T_6e658836_5c1f_11eb_bda9_a8206653ba57row3_col5 {\n",
       "            text-align:  center;\n",
       "        }    #T_6e658836_5c1f_11eb_bda9_a8206653ba57row3_col6 {\n",
       "            text-align:  center;\n",
       "        }    #T_6e658836_5c1f_11eb_bda9_a8206653ba57row3_col7 {\n",
       "            text-align:  center;\n",
       "        }    #T_6e658836_5c1f_11eb_bda9_a8206653ba57row3_col8 {\n",
       "            text-align:  center;\n",
       "        }    #T_6e658836_5c1f_11eb_bda9_a8206653ba57row3_col9 {\n",
       "            text-align:  center;\n",
       "        }    #T_6e658836_5c1f_11eb_bda9_a8206653ba57row3_col10 {\n",
       "            text-align:  center;\n",
       "        }    #T_6e658836_5c1f_11eb_bda9_a8206653ba57row3_col11 {\n",
       "            text-align:  center;\n",
       "        }    #T_6e658836_5c1f_11eb_bda9_a8206653ba57row4_col0 {\n",
       "            text-align:  center;\n",
       "        }    #T_6e658836_5c1f_11eb_bda9_a8206653ba57row4_col1 {\n",
       "            text-align:  center;\n",
       "        }    #T_6e658836_5c1f_11eb_bda9_a8206653ba57row4_col2 {\n",
       "            text-align:  center;\n",
       "        }    #T_6e658836_5c1f_11eb_bda9_a8206653ba57row4_col3 {\n",
       "            text-align:  center;\n",
       "        }    #T_6e658836_5c1f_11eb_bda9_a8206653ba57row4_col4 {\n",
       "            text-align:  center;\n",
       "        }    #T_6e658836_5c1f_11eb_bda9_a8206653ba57row4_col5 {\n",
       "            text-align:  center;\n",
       "        }    #T_6e658836_5c1f_11eb_bda9_a8206653ba57row4_col6 {\n",
       "            text-align:  center;\n",
       "        }    #T_6e658836_5c1f_11eb_bda9_a8206653ba57row4_col7 {\n",
       "            text-align:  center;\n",
       "        }    #T_6e658836_5c1f_11eb_bda9_a8206653ba57row4_col8 {\n",
       "            text-align:  center;\n",
       "        }    #T_6e658836_5c1f_11eb_bda9_a8206653ba57row4_col9 {\n",
       "            text-align:  center;\n",
       "        }    #T_6e658836_5c1f_11eb_bda9_a8206653ba57row4_col10 {\n",
       "            text-align:  center;\n",
       "        }    #T_6e658836_5c1f_11eb_bda9_a8206653ba57row4_col11 {\n",
       "            text-align:  center;\n",
       "        }    #T_6e658836_5c1f_11eb_bda9_a8206653ba57row5_col0 {\n",
       "            text-align:  center;\n",
       "        }    #T_6e658836_5c1f_11eb_bda9_a8206653ba57row5_col1 {\n",
       "            text-align:  center;\n",
       "        }    #T_6e658836_5c1f_11eb_bda9_a8206653ba57row5_col2 {\n",
       "            text-align:  center;\n",
       "        }    #T_6e658836_5c1f_11eb_bda9_a8206653ba57row5_col3 {\n",
       "            text-align:  center;\n",
       "        }    #T_6e658836_5c1f_11eb_bda9_a8206653ba57row5_col4 {\n",
       "            text-align:  center;\n",
       "        }    #T_6e658836_5c1f_11eb_bda9_a8206653ba57row5_col5 {\n",
       "            text-align:  center;\n",
       "        }    #T_6e658836_5c1f_11eb_bda9_a8206653ba57row5_col6 {\n",
       "            text-align:  center;\n",
       "        }    #T_6e658836_5c1f_11eb_bda9_a8206653ba57row5_col7 {\n",
       "            text-align:  center;\n",
       "        }    #T_6e658836_5c1f_11eb_bda9_a8206653ba57row5_col8 {\n",
       "            text-align:  center;\n",
       "        }    #T_6e658836_5c1f_11eb_bda9_a8206653ba57row5_col9 {\n",
       "            text-align:  center;\n",
       "        }    #T_6e658836_5c1f_11eb_bda9_a8206653ba57row5_col10 {\n",
       "            text-align:  center;\n",
       "        }    #T_6e658836_5c1f_11eb_bda9_a8206653ba57row5_col11 {\n",
       "            text-align:  center;\n",
       "        }</style><table id=\"T_6e658836_5c1f_11eb_bda9_a8206653ba57\" ><thead>    <tr>        <th class=\"blank level0\" ></th>        <th class=\"col_heading level0 col0\" >layer_0</th>        <th class=\"col_heading level0 col1\" >out_0</th>        <th class=\"col_heading level0 col2\" >layer_1</th>        <th class=\"col_heading level0 col3\" >out_1</th>        <th class=\"col_heading level0 col4\" >layer_2</th>        <th class=\"col_heading level0 col5\" >out_2</th>        <th class=\"col_heading level0 col6\" >layer_3</th>        <th class=\"col_heading level0 col7\" >out_3</th>        <th class=\"col_heading level0 col8\" >layer_4</th>        <th class=\"col_heading level0 col9\" >out_4</th>        <th class=\"col_heading level0 col10\" >layer_5</th>        <th class=\"col_heading level0 col11\" >out_5</th>    </tr>    <tr>        <th class=\"index_name level0\" >channel</th>        <th class=\"blank\" ></th>        <th class=\"blank\" ></th>        <th class=\"blank\" ></th>        <th class=\"blank\" ></th>        <th class=\"blank\" ></th>        <th class=\"blank\" ></th>        <th class=\"blank\" ></th>        <th class=\"blank\" ></th>        <th class=\"blank\" ></th>        <th class=\"blank\" ></th>        <th class=\"blank\" ></th>        <th class=\"blank\" ></th>    </tr></thead><tbody>\n",
       "                <tr>\n",
       "                        <th id=\"T_6e658836_5c1f_11eb_bda9_a8206653ba57level0_row0\" class=\"row_heading level0 row0\" >0</th>\n",
       "                        <td id=\"T_6e658836_5c1f_11eb_bda9_a8206653ba57row0_col0\" class=\"data row0 col0\" >SimpleImputer</td>\n",
       "                        <td id=\"T_6e658836_5c1f_11eb_bda9_a8206653ba57row0_col1\" class=\"data row0 col1\" >→</td>\n",
       "                        <td id=\"T_6e658836_5c1f_11eb_bda9_a8206653ba57row0_col2\" class=\"data row0 col2\" >StandardScaler</td>\n",
       "                        <td id=\"T_6e658836_5c1f_11eb_bda9_a8206653ba57row0_col3\" class=\"data row0 col3\" >→</td>\n",
       "                        <td id=\"T_6e658836_5c1f_11eb_bda9_a8206653ba57row0_col4\" class=\"data row0 col4\" >SelectPercentile</td>\n",
       "                        <td id=\"T_6e658836_5c1f_11eb_bda9_a8206653ba57row0_col5\" class=\"data row0 col5\" >→</td>\n",
       "                        <td id=\"T_6e658836_5c1f_11eb_bda9_a8206653ba57row0_col6\" class=\"data row0 col6\" >SelectKBestScores</td>\n",
       "                        <td id=\"T_6e658836_5c1f_11eb_bda9_a8206653ba57row0_col7\" class=\"data row0 col7\" >→</td>\n",
       "                        <td id=\"T_6e658836_5c1f_11eb_bda9_a8206653ba57row0_col8\" class=\"data row0 col8\" >SelectKBestModels</td>\n",
       "                        <td id=\"T_6e658836_5c1f_11eb_bda9_a8206653ba57row0_col9\" class=\"data row0 col9\" >→</td>\n",
       "                        <td id=\"T_6e658836_5c1f_11eb_bda9_a8206653ba57row0_col10\" class=\"data row0 col10\" >MultichannelPredictor</td>\n",
       "                        <td id=\"T_6e658836_5c1f_11eb_bda9_a8206653ba57row0_col11\" class=\"data row0 col11\" >→</td>\n",
       "            </tr>\n",
       "            <tr>\n",
       "                        <th id=\"T_6e658836_5c1f_11eb_bda9_a8206653ba57level0_row1\" class=\"row_heading level0 row1\" >1</th>\n",
       "                        <td id=\"T_6e658836_5c1f_11eb_bda9_a8206653ba57row1_col0\" class=\"data row1 col0\" >SimpleImputer</td>\n",
       "                        <td id=\"T_6e658836_5c1f_11eb_bda9_a8206653ba57row1_col1\" class=\"data row1 col1\" >→</td>\n",
       "                        <td id=\"T_6e658836_5c1f_11eb_bda9_a8206653ba57row1_col2\" class=\"data row1 col2\" >StandardScaler</td>\n",
       "                        <td id=\"T_6e658836_5c1f_11eb_bda9_a8206653ba57row1_col3\" class=\"data row1 col3\" >→</td>\n",
       "                        <td id=\"T_6e658836_5c1f_11eb_bda9_a8206653ba57row1_col4\" class=\"data row1 col4\" >SelectPercentile</td>\n",
       "                        <td id=\"T_6e658836_5c1f_11eb_bda9_a8206653ba57row1_col5\" class=\"data row1 col5\" >→</td>\n",
       "                        <td id=\"T_6e658836_5c1f_11eb_bda9_a8206653ba57row1_col6\" class=\"data row1 col6\" >▽</td>\n",
       "                        <td id=\"T_6e658836_5c1f_11eb_bda9_a8206653ba57row1_col7\" class=\"data row1 col7\" >→</td>\n",
       "                        <td id=\"T_6e658836_5c1f_11eb_bda9_a8206653ba57row1_col8\" class=\"data row1 col8\" >▽</td>\n",
       "                        <td id=\"T_6e658836_5c1f_11eb_bda9_a8206653ba57row1_col9\" class=\"data row1 col9\" >→</td>\n",
       "                        <td id=\"T_6e658836_5c1f_11eb_bda9_a8206653ba57row1_col10\" class=\"data row1 col10\" >▽</td>\n",
       "                        <td id=\"T_6e658836_5c1f_11eb_bda9_a8206653ba57row1_col11\" class=\"data row1 col11\" >→</td>\n",
       "            </tr>\n",
       "            <tr>\n",
       "                        <th id=\"T_6e658836_5c1f_11eb_bda9_a8206653ba57level0_row2\" class=\"row_heading level0 row2\" >2</th>\n",
       "                        <td id=\"T_6e658836_5c1f_11eb_bda9_a8206653ba57row2_col0\" class=\"data row2 col0\" >SimpleImputer</td>\n",
       "                        <td id=\"T_6e658836_5c1f_11eb_bda9_a8206653ba57row2_col1\" class=\"data row2 col1\" >→</td>\n",
       "                        <td id=\"T_6e658836_5c1f_11eb_bda9_a8206653ba57row2_col2\" class=\"data row2 col2\" >StandardScaler</td>\n",
       "                        <td id=\"T_6e658836_5c1f_11eb_bda9_a8206653ba57row2_col3\" class=\"data row2 col3\" >→</td>\n",
       "                        <td id=\"T_6e658836_5c1f_11eb_bda9_a8206653ba57row2_col4\" class=\"data row2 col4\" >SelectPercentile</td>\n",
       "                        <td id=\"T_6e658836_5c1f_11eb_bda9_a8206653ba57row2_col5\" class=\"data row2 col5\" >→</td>\n",
       "                        <td id=\"T_6e658836_5c1f_11eb_bda9_a8206653ba57row2_col6\" class=\"data row2 col6\" >▽</td>\n",
       "                        <td id=\"T_6e658836_5c1f_11eb_bda9_a8206653ba57row2_col7\" class=\"data row2 col7\" >→</td>\n",
       "                        <td id=\"T_6e658836_5c1f_11eb_bda9_a8206653ba57row2_col8\" class=\"data row2 col8\" >▽</td>\n",
       "                        <td id=\"T_6e658836_5c1f_11eb_bda9_a8206653ba57row2_col9\" class=\"data row2 col9\" >→</td>\n",
       "                        <td id=\"T_6e658836_5c1f_11eb_bda9_a8206653ba57row2_col10\" class=\"data row2 col10\" >▽</td>\n",
       "                        <td id=\"T_6e658836_5c1f_11eb_bda9_a8206653ba57row2_col11\" class=\"data row2 col11\" >→</td>\n",
       "            </tr>\n",
       "            <tr>\n",
       "                        <th id=\"T_6e658836_5c1f_11eb_bda9_a8206653ba57level0_row3\" class=\"row_heading level0 row3\" >3</th>\n",
       "                        <td id=\"T_6e658836_5c1f_11eb_bda9_a8206653ba57row3_col0\" class=\"data row3 col0\" >SimpleImputer</td>\n",
       "                        <td id=\"T_6e658836_5c1f_11eb_bda9_a8206653ba57row3_col1\" class=\"data row3 col1\" >→</td>\n",
       "                        <td id=\"T_6e658836_5c1f_11eb_bda9_a8206653ba57row3_col2\" class=\"data row3 col2\" >StandardScaler</td>\n",
       "                        <td id=\"T_6e658836_5c1f_11eb_bda9_a8206653ba57row3_col3\" class=\"data row3 col3\" >→</td>\n",
       "                        <td id=\"T_6e658836_5c1f_11eb_bda9_a8206653ba57row3_col4\" class=\"data row3 col4\" >SelectPercentile</td>\n",
       "                        <td id=\"T_6e658836_5c1f_11eb_bda9_a8206653ba57row3_col5\" class=\"data row3 col5\" >→</td>\n",
       "                        <td id=\"T_6e658836_5c1f_11eb_bda9_a8206653ba57row3_col6\" class=\"data row3 col6\" >▽</td>\n",
       "                        <td id=\"T_6e658836_5c1f_11eb_bda9_a8206653ba57row3_col7\" class=\"data row3 col7\" >→</td>\n",
       "                        <td id=\"T_6e658836_5c1f_11eb_bda9_a8206653ba57row3_col8\" class=\"data row3 col8\" >▽</td>\n",
       "                        <td id=\"T_6e658836_5c1f_11eb_bda9_a8206653ba57row3_col9\" class=\"data row3 col9\" >→</td>\n",
       "                        <td id=\"T_6e658836_5c1f_11eb_bda9_a8206653ba57row3_col10\" class=\"data row3 col10\" >▽</td>\n",
       "                        <td id=\"T_6e658836_5c1f_11eb_bda9_a8206653ba57row3_col11\" class=\"data row3 col11\" >→</td>\n",
       "            </tr>\n",
       "            <tr>\n",
       "                        <th id=\"T_6e658836_5c1f_11eb_bda9_a8206653ba57level0_row4\" class=\"row_heading level0 row4\" >4</th>\n",
       "                        <td id=\"T_6e658836_5c1f_11eb_bda9_a8206653ba57row4_col0\" class=\"data row4 col0\" >SimpleImputer</td>\n",
       "                        <td id=\"T_6e658836_5c1f_11eb_bda9_a8206653ba57row4_col1\" class=\"data row4 col1\" >→</td>\n",
       "                        <td id=\"T_6e658836_5c1f_11eb_bda9_a8206653ba57row4_col2\" class=\"data row4 col2\" >StandardScaler</td>\n",
       "                        <td id=\"T_6e658836_5c1f_11eb_bda9_a8206653ba57row4_col3\" class=\"data row4 col3\" >→</td>\n",
       "                        <td id=\"T_6e658836_5c1f_11eb_bda9_a8206653ba57row4_col4\" class=\"data row4 col4\" >SelectPercentile</td>\n",
       "                        <td id=\"T_6e658836_5c1f_11eb_bda9_a8206653ba57row4_col5\" class=\"data row4 col5\" >→</td>\n",
       "                        <td id=\"T_6e658836_5c1f_11eb_bda9_a8206653ba57row4_col6\" class=\"data row4 col6\" >▽</td>\n",
       "                        <td id=\"T_6e658836_5c1f_11eb_bda9_a8206653ba57row4_col7\" class=\"data row4 col7\" >→</td>\n",
       "                        <td id=\"T_6e658836_5c1f_11eb_bda9_a8206653ba57row4_col8\" class=\"data row4 col8\" >▽</td>\n",
       "                        <td id=\"T_6e658836_5c1f_11eb_bda9_a8206653ba57row4_col9\" class=\"data row4 col9\" >→</td>\n",
       "                        <td id=\"T_6e658836_5c1f_11eb_bda9_a8206653ba57row4_col10\" class=\"data row4 col10\" >▽</td>\n",
       "                        <td id=\"T_6e658836_5c1f_11eb_bda9_a8206653ba57row4_col11\" class=\"data row4 col11\" >→</td>\n",
       "            </tr>\n",
       "            <tr>\n",
       "                        <th id=\"T_6e658836_5c1f_11eb_bda9_a8206653ba57level0_row5\" class=\"row_heading level0 row5\" >5</th>\n",
       "                        <td id=\"T_6e658836_5c1f_11eb_bda9_a8206653ba57row5_col0\" class=\"data row5 col0\" >SimpleImputer</td>\n",
       "                        <td id=\"T_6e658836_5c1f_11eb_bda9_a8206653ba57row5_col1\" class=\"data row5 col1\" >→</td>\n",
       "                        <td id=\"T_6e658836_5c1f_11eb_bda9_a8206653ba57row5_col2\" class=\"data row5 col2\" >StandardScaler</td>\n",
       "                        <td id=\"T_6e658836_5c1f_11eb_bda9_a8206653ba57row5_col3\" class=\"data row5 col3\" >→</td>\n",
       "                        <td id=\"T_6e658836_5c1f_11eb_bda9_a8206653ba57row5_col4\" class=\"data row5 col4\" >SelectPercentile</td>\n",
       "                        <td id=\"T_6e658836_5c1f_11eb_bda9_a8206653ba57row5_col5\" class=\"data row5 col5\" >→</td>\n",
       "                        <td id=\"T_6e658836_5c1f_11eb_bda9_a8206653ba57row5_col6\" class=\"data row5 col6\" >▽</td>\n",
       "                        <td id=\"T_6e658836_5c1f_11eb_bda9_a8206653ba57row5_col7\" class=\"data row5 col7\" >→</td>\n",
       "                        <td id=\"T_6e658836_5c1f_11eb_bda9_a8206653ba57row5_col8\" class=\"data row5 col8\" >▽</td>\n",
       "                        <td id=\"T_6e658836_5c1f_11eb_bda9_a8206653ba57row5_col9\" class=\"data row5 col9\" >→</td>\n",
       "                        <td id=\"T_6e658836_5c1f_11eb_bda9_a8206653ba57row5_col10\" class=\"data row5 col10\" >▽</td>\n",
       "                        <td id=\"T_6e658836_5c1f_11eb_bda9_a8206653ba57row5_col11\" class=\"data row5 col11\" >→</td>\n",
       "            </tr>\n",
       "    </tbody></table>"
      ],
      "text/plain": [
       "MultichannelPipeline(n_channels=6, internal_cv=5, transform_method_name=None, cv_processes=1)"
      ]
     },
     "execution_count": 1,
     "metadata": {},
     "output_type": "execute_result"
    }
   ],
   "source": [
    "import numpy as np\n",
    "from sklearn.impute import SimpleImputer\n",
    "from sklearn.preprocessing import StandardScaler\n",
    "from sklearn.feature_selection import SelectPercentile\n",
    "from sklearn.feature_selection import f_classif\n",
    "from sklearn.neighbors import KNeighborsClassifier\n",
    "from sklearn.linear_model import LogisticRegression\n",
    "from sklearn.svm import SVC\n",
    "from sklearn.datasets import make_classification\n",
    "\n",
    "import pipecaster as pc\n",
    "\n",
    "X_rand = np.random.rand(500, 30)\n",
    "X_inf, y = make_classification(n_samples=500, n_features=30, \n",
    "                               n_informative=15, class_sep=3, random_state=None)\n",
    "Xs = [X_rand, X_rand, X_inf, X_rand, X_inf, X_inf]\n",
    "\n",
    "clf = pc.MultichannelPipeline(n_channels=6)\n",
    "clf.add_layer(SimpleImputer())\n",
    "clf.add_layer(StandardScaler())\n",
    "clf.add_layer(SelectPercentile(percentile=25))\n",
    "clf.add_layer(pc.SelectKBestScores(feature_scorer=f_classif, aggregator=np.mean, k=3))\n",
    "clf.add_layer(pc.SelectKBestModels(predictors=KNeighborsClassifier(), k=2)) \n",
    "clf.add_layer(pc.MultichannelPredictor(SVC()))"
   ]
  },
  {
   "cell_type": "code",
   "execution_count": 2,
   "metadata": {
    "scrolled": true
   },
   "outputs": [
    {
     "data": {
      "text/html": [
       "<style  type=\"text/css\" >\n",
       "    #T_6e8a563e_5c1f_11eb_bda9_a8206653ba57 th {\n",
       "          text-align: center;\n",
       "    }    #T_6e8a563e_5c1f_11eb_bda9_a8206653ba57row0_col0 {\n",
       "            text-align:  center;\n",
       "        }    #T_6e8a563e_5c1f_11eb_bda9_a8206653ba57row0_col1 {\n",
       "            text-align:  center;\n",
       "        }    #T_6e8a563e_5c1f_11eb_bda9_a8206653ba57row0_col2 {\n",
       "            text-align:  center;\n",
       "        }    #T_6e8a563e_5c1f_11eb_bda9_a8206653ba57row0_col3 {\n",
       "            text-align:  center;\n",
       "        }    #T_6e8a563e_5c1f_11eb_bda9_a8206653ba57row0_col4 {\n",
       "            text-align:  center;\n",
       "        }    #T_6e8a563e_5c1f_11eb_bda9_a8206653ba57row0_col5 {\n",
       "            text-align:  center;\n",
       "        }    #T_6e8a563e_5c1f_11eb_bda9_a8206653ba57row0_col6 {\n",
       "            text-align:  center;\n",
       "        }    #T_6e8a563e_5c1f_11eb_bda9_a8206653ba57row0_col7 {\n",
       "            text-align:  center;\n",
       "        }    #T_6e8a563e_5c1f_11eb_bda9_a8206653ba57row0_col8 {\n",
       "            text-align:  center;\n",
       "        }    #T_6e8a563e_5c1f_11eb_bda9_a8206653ba57row0_col9 {\n",
       "            text-align:  center;\n",
       "        }    #T_6e8a563e_5c1f_11eb_bda9_a8206653ba57row0_col10 {\n",
       "            text-align:  center;\n",
       "        }    #T_6e8a563e_5c1f_11eb_bda9_a8206653ba57row0_col11 {\n",
       "            text-align:  center;\n",
       "        }    #T_6e8a563e_5c1f_11eb_bda9_a8206653ba57row1_col0 {\n",
       "            text-align:  center;\n",
       "        }    #T_6e8a563e_5c1f_11eb_bda9_a8206653ba57row1_col1 {\n",
       "            text-align:  center;\n",
       "        }    #T_6e8a563e_5c1f_11eb_bda9_a8206653ba57row1_col2 {\n",
       "            text-align:  center;\n",
       "        }    #T_6e8a563e_5c1f_11eb_bda9_a8206653ba57row1_col3 {\n",
       "            text-align:  center;\n",
       "        }    #T_6e8a563e_5c1f_11eb_bda9_a8206653ba57row1_col4 {\n",
       "            text-align:  center;\n",
       "        }    #T_6e8a563e_5c1f_11eb_bda9_a8206653ba57row1_col5 {\n",
       "            text-align:  center;\n",
       "        }    #T_6e8a563e_5c1f_11eb_bda9_a8206653ba57row1_col6 {\n",
       "            text-align:  center;\n",
       "        }    #T_6e8a563e_5c1f_11eb_bda9_a8206653ba57row1_col7 {\n",
       "            text-align:  center;\n",
       "        }    #T_6e8a563e_5c1f_11eb_bda9_a8206653ba57row1_col8 {\n",
       "            text-align:  center;\n",
       "        }    #T_6e8a563e_5c1f_11eb_bda9_a8206653ba57row1_col9 {\n",
       "            text-align:  center;\n",
       "        }    #T_6e8a563e_5c1f_11eb_bda9_a8206653ba57row1_col10 {\n",
       "            text-align:  center;\n",
       "        }    #T_6e8a563e_5c1f_11eb_bda9_a8206653ba57row1_col11 {\n",
       "            text-align:  center;\n",
       "        }    #T_6e8a563e_5c1f_11eb_bda9_a8206653ba57row2_col0 {\n",
       "            text-align:  center;\n",
       "        }    #T_6e8a563e_5c1f_11eb_bda9_a8206653ba57row2_col1 {\n",
       "            text-align:  center;\n",
       "        }    #T_6e8a563e_5c1f_11eb_bda9_a8206653ba57row2_col2 {\n",
       "            text-align:  center;\n",
       "        }    #T_6e8a563e_5c1f_11eb_bda9_a8206653ba57row2_col3 {\n",
       "            text-align:  center;\n",
       "        }    #T_6e8a563e_5c1f_11eb_bda9_a8206653ba57row2_col4 {\n",
       "            text-align:  center;\n",
       "        }    #T_6e8a563e_5c1f_11eb_bda9_a8206653ba57row2_col5 {\n",
       "            text-align:  center;\n",
       "        }    #T_6e8a563e_5c1f_11eb_bda9_a8206653ba57row2_col6 {\n",
       "            text-align:  center;\n",
       "        }    #T_6e8a563e_5c1f_11eb_bda9_a8206653ba57row2_col7 {\n",
       "            text-align:  center;\n",
       "        }    #T_6e8a563e_5c1f_11eb_bda9_a8206653ba57row2_col8 {\n",
       "            text-align:  center;\n",
       "        }    #T_6e8a563e_5c1f_11eb_bda9_a8206653ba57row2_col9 {\n",
       "            text-align:  center;\n",
       "        }    #T_6e8a563e_5c1f_11eb_bda9_a8206653ba57row2_col10 {\n",
       "            text-align:  center;\n",
       "        }    #T_6e8a563e_5c1f_11eb_bda9_a8206653ba57row2_col11 {\n",
       "            text-align:  center;\n",
       "        }    #T_6e8a563e_5c1f_11eb_bda9_a8206653ba57row3_col0 {\n",
       "            text-align:  center;\n",
       "        }    #T_6e8a563e_5c1f_11eb_bda9_a8206653ba57row3_col1 {\n",
       "            text-align:  center;\n",
       "        }    #T_6e8a563e_5c1f_11eb_bda9_a8206653ba57row3_col2 {\n",
       "            text-align:  center;\n",
       "        }    #T_6e8a563e_5c1f_11eb_bda9_a8206653ba57row3_col3 {\n",
       "            text-align:  center;\n",
       "        }    #T_6e8a563e_5c1f_11eb_bda9_a8206653ba57row3_col4 {\n",
       "            text-align:  center;\n",
       "        }    #T_6e8a563e_5c1f_11eb_bda9_a8206653ba57row3_col5 {\n",
       "            text-align:  center;\n",
       "        }    #T_6e8a563e_5c1f_11eb_bda9_a8206653ba57row3_col6 {\n",
       "            text-align:  center;\n",
       "        }    #T_6e8a563e_5c1f_11eb_bda9_a8206653ba57row3_col7 {\n",
       "            text-align:  center;\n",
       "        }    #T_6e8a563e_5c1f_11eb_bda9_a8206653ba57row3_col8 {\n",
       "            text-align:  center;\n",
       "        }    #T_6e8a563e_5c1f_11eb_bda9_a8206653ba57row3_col9 {\n",
       "            text-align:  center;\n",
       "        }    #T_6e8a563e_5c1f_11eb_bda9_a8206653ba57row3_col10 {\n",
       "            text-align:  center;\n",
       "        }    #T_6e8a563e_5c1f_11eb_bda9_a8206653ba57row3_col11 {\n",
       "            text-align:  center;\n",
       "        }    #T_6e8a563e_5c1f_11eb_bda9_a8206653ba57row4_col0 {\n",
       "            text-align:  center;\n",
       "        }    #T_6e8a563e_5c1f_11eb_bda9_a8206653ba57row4_col1 {\n",
       "            text-align:  center;\n",
       "        }    #T_6e8a563e_5c1f_11eb_bda9_a8206653ba57row4_col2 {\n",
       "            text-align:  center;\n",
       "        }    #T_6e8a563e_5c1f_11eb_bda9_a8206653ba57row4_col3 {\n",
       "            text-align:  center;\n",
       "        }    #T_6e8a563e_5c1f_11eb_bda9_a8206653ba57row4_col4 {\n",
       "            text-align:  center;\n",
       "        }    #T_6e8a563e_5c1f_11eb_bda9_a8206653ba57row4_col5 {\n",
       "            text-align:  center;\n",
       "        }    #T_6e8a563e_5c1f_11eb_bda9_a8206653ba57row4_col6 {\n",
       "            text-align:  center;\n",
       "        }    #T_6e8a563e_5c1f_11eb_bda9_a8206653ba57row4_col7 {\n",
       "            text-align:  center;\n",
       "        }    #T_6e8a563e_5c1f_11eb_bda9_a8206653ba57row4_col8 {\n",
       "            text-align:  center;\n",
       "        }    #T_6e8a563e_5c1f_11eb_bda9_a8206653ba57row4_col9 {\n",
       "            text-align:  center;\n",
       "        }    #T_6e8a563e_5c1f_11eb_bda9_a8206653ba57row4_col10 {\n",
       "            text-align:  center;\n",
       "        }    #T_6e8a563e_5c1f_11eb_bda9_a8206653ba57row4_col11 {\n",
       "            text-align:  center;\n",
       "        }    #T_6e8a563e_5c1f_11eb_bda9_a8206653ba57row5_col0 {\n",
       "            text-align:  center;\n",
       "        }    #T_6e8a563e_5c1f_11eb_bda9_a8206653ba57row5_col1 {\n",
       "            text-align:  center;\n",
       "        }    #T_6e8a563e_5c1f_11eb_bda9_a8206653ba57row5_col2 {\n",
       "            text-align:  center;\n",
       "        }    #T_6e8a563e_5c1f_11eb_bda9_a8206653ba57row5_col3 {\n",
       "            text-align:  center;\n",
       "        }    #T_6e8a563e_5c1f_11eb_bda9_a8206653ba57row5_col4 {\n",
       "            text-align:  center;\n",
       "        }    #T_6e8a563e_5c1f_11eb_bda9_a8206653ba57row5_col5 {\n",
       "            text-align:  center;\n",
       "        }    #T_6e8a563e_5c1f_11eb_bda9_a8206653ba57row5_col6 {\n",
       "            text-align:  center;\n",
       "        }    #T_6e8a563e_5c1f_11eb_bda9_a8206653ba57row5_col7 {\n",
       "            text-align:  center;\n",
       "        }    #T_6e8a563e_5c1f_11eb_bda9_a8206653ba57row5_col8 {\n",
       "            text-align:  center;\n",
       "        }    #T_6e8a563e_5c1f_11eb_bda9_a8206653ba57row5_col9 {\n",
       "            text-align:  center;\n",
       "        }    #T_6e8a563e_5c1f_11eb_bda9_a8206653ba57row5_col10 {\n",
       "            text-align:  center;\n",
       "        }    #T_6e8a563e_5c1f_11eb_bda9_a8206653ba57row5_col11 {\n",
       "            text-align:  center;\n",
       "        }</style><table id=\"T_6e8a563e_5c1f_11eb_bda9_a8206653ba57\" ><thead>    <tr>        <th class=\"blank level0\" ></th>        <th class=\"col_heading level0 col0\" >layer_0</th>        <th class=\"col_heading level0 col1\" >out_0</th>        <th class=\"col_heading level0 col2\" >layer_1</th>        <th class=\"col_heading level0 col3\" >out_1</th>        <th class=\"col_heading level0 col4\" >layer_2</th>        <th class=\"col_heading level0 col5\" >out_2</th>        <th class=\"col_heading level0 col6\" >layer_3</th>        <th class=\"col_heading level0 col7\" >out_3</th>        <th class=\"col_heading level0 col8\" >layer_4</th>        <th class=\"col_heading level0 col9\" >out_4</th>        <th class=\"col_heading level0 col10\" >layer_5</th>        <th class=\"col_heading level0 col11\" >out_5</th>    </tr>    <tr>        <th class=\"index_name level0\" >channel</th>        <th class=\"blank\" ></th>        <th class=\"blank\" ></th>        <th class=\"blank\" ></th>        <th class=\"blank\" ></th>        <th class=\"blank\" ></th>        <th class=\"blank\" ></th>        <th class=\"blank\" ></th>        <th class=\"blank\" ></th>        <th class=\"blank\" ></th>        <th class=\"blank\" ></th>        <th class=\"blank\" ></th>        <th class=\"blank\" ></th>    </tr></thead><tbody>\n",
       "                <tr>\n",
       "                        <th id=\"T_6e8a563e_5c1f_11eb_bda9_a8206653ba57level0_row0\" class=\"row_heading level0 row0\" >0</th>\n",
       "                        <td id=\"T_6e8a563e_5c1f_11eb_bda9_a8206653ba57row0_col0\" class=\"data row0 col0\" >SimpleImputer</td>\n",
       "                        <td id=\"T_6e8a563e_5c1f_11eb_bda9_a8206653ba57row0_col1\" class=\"data row0 col1\" >→</td>\n",
       "                        <td id=\"T_6e8a563e_5c1f_11eb_bda9_a8206653ba57row0_col2\" class=\"data row0 col2\" >StandardScaler</td>\n",
       "                        <td id=\"T_6e8a563e_5c1f_11eb_bda9_a8206653ba57row0_col3\" class=\"data row0 col3\" >→</td>\n",
       "                        <td id=\"T_6e8a563e_5c1f_11eb_bda9_a8206653ba57row0_col4\" class=\"data row0 col4\" >SelectPercentile</td>\n",
       "                        <td id=\"T_6e8a563e_5c1f_11eb_bda9_a8206653ba57row0_col5\" class=\"data row0 col5\" >→</td>\n",
       "                        <td id=\"T_6e8a563e_5c1f_11eb_bda9_a8206653ba57row0_col6\" class=\"data row0 col6\" >SelectKBestScores</td>\n",
       "                        <td id=\"T_6e8a563e_5c1f_11eb_bda9_a8206653ba57row0_col7\" class=\"data row0 col7\" > </td>\n",
       "                        <td id=\"T_6e8a563e_5c1f_11eb_bda9_a8206653ba57row0_col8\" class=\"data row0 col8\" >SelectKBestModels</td>\n",
       "                        <td id=\"T_6e8a563e_5c1f_11eb_bda9_a8206653ba57row0_col9\" class=\"data row0 col9\" > </td>\n",
       "                        <td id=\"T_6e8a563e_5c1f_11eb_bda9_a8206653ba57row0_col10\" class=\"data row0 col10\" >{MultichannelPredictor}tr</td>\n",
       "                        <td id=\"T_6e8a563e_5c1f_11eb_bda9_a8206653ba57row0_col11\" class=\"data row0 col11\" >→</td>\n",
       "            </tr>\n",
       "            <tr>\n",
       "                        <th id=\"T_6e8a563e_5c1f_11eb_bda9_a8206653ba57level0_row1\" class=\"row_heading level0 row1\" >1</th>\n",
       "                        <td id=\"T_6e8a563e_5c1f_11eb_bda9_a8206653ba57row1_col0\" class=\"data row1 col0\" >SimpleImputer</td>\n",
       "                        <td id=\"T_6e8a563e_5c1f_11eb_bda9_a8206653ba57row1_col1\" class=\"data row1 col1\" >→</td>\n",
       "                        <td id=\"T_6e8a563e_5c1f_11eb_bda9_a8206653ba57row1_col2\" class=\"data row1 col2\" >StandardScaler</td>\n",
       "                        <td id=\"T_6e8a563e_5c1f_11eb_bda9_a8206653ba57row1_col3\" class=\"data row1 col3\" >→</td>\n",
       "                        <td id=\"T_6e8a563e_5c1f_11eb_bda9_a8206653ba57row1_col4\" class=\"data row1 col4\" >SelectPercentile</td>\n",
       "                        <td id=\"T_6e8a563e_5c1f_11eb_bda9_a8206653ba57row1_col5\" class=\"data row1 col5\" >→</td>\n",
       "                        <td id=\"T_6e8a563e_5c1f_11eb_bda9_a8206653ba57row1_col6\" class=\"data row1 col6\" >▽</td>\n",
       "                        <td id=\"T_6e8a563e_5c1f_11eb_bda9_a8206653ba57row1_col7\" class=\"data row1 col7\" > </td>\n",
       "                        <td id=\"T_6e8a563e_5c1f_11eb_bda9_a8206653ba57row1_col8\" class=\"data row1 col8\" >▽</td>\n",
       "                        <td id=\"T_6e8a563e_5c1f_11eb_bda9_a8206653ba57row1_col9\" class=\"data row1 col9\" > </td>\n",
       "                        <td id=\"T_6e8a563e_5c1f_11eb_bda9_a8206653ba57row1_col10\" class=\"data row1 col10\" >▽</td>\n",
       "                        <td id=\"T_6e8a563e_5c1f_11eb_bda9_a8206653ba57row1_col11\" class=\"data row1 col11\" > </td>\n",
       "            </tr>\n",
       "            <tr>\n",
       "                        <th id=\"T_6e8a563e_5c1f_11eb_bda9_a8206653ba57level0_row2\" class=\"row_heading level0 row2\" >2</th>\n",
       "                        <td id=\"T_6e8a563e_5c1f_11eb_bda9_a8206653ba57row2_col0\" class=\"data row2 col0\" >SimpleImputer</td>\n",
       "                        <td id=\"T_6e8a563e_5c1f_11eb_bda9_a8206653ba57row2_col1\" class=\"data row2 col1\" >→</td>\n",
       "                        <td id=\"T_6e8a563e_5c1f_11eb_bda9_a8206653ba57row2_col2\" class=\"data row2 col2\" >StandardScaler</td>\n",
       "                        <td id=\"T_6e8a563e_5c1f_11eb_bda9_a8206653ba57row2_col3\" class=\"data row2 col3\" >→</td>\n",
       "                        <td id=\"T_6e8a563e_5c1f_11eb_bda9_a8206653ba57row2_col4\" class=\"data row2 col4\" >SelectPercentile</td>\n",
       "                        <td id=\"T_6e8a563e_5c1f_11eb_bda9_a8206653ba57row2_col5\" class=\"data row2 col5\" >→</td>\n",
       "                        <td id=\"T_6e8a563e_5c1f_11eb_bda9_a8206653ba57row2_col6\" class=\"data row2 col6\" >▽</td>\n",
       "                        <td id=\"T_6e8a563e_5c1f_11eb_bda9_a8206653ba57row2_col7\" class=\"data row2 col7\" >→</td>\n",
       "                        <td id=\"T_6e8a563e_5c1f_11eb_bda9_a8206653ba57row2_col8\" class=\"data row2 col8\" >▽</td>\n",
       "                        <td id=\"T_6e8a563e_5c1f_11eb_bda9_a8206653ba57row2_col9\" class=\"data row2 col9\" > </td>\n",
       "                        <td id=\"T_6e8a563e_5c1f_11eb_bda9_a8206653ba57row2_col10\" class=\"data row2 col10\" >▽</td>\n",
       "                        <td id=\"T_6e8a563e_5c1f_11eb_bda9_a8206653ba57row2_col11\" class=\"data row2 col11\" > </td>\n",
       "            </tr>\n",
       "            <tr>\n",
       "                        <th id=\"T_6e8a563e_5c1f_11eb_bda9_a8206653ba57level0_row3\" class=\"row_heading level0 row3\" >3</th>\n",
       "                        <td id=\"T_6e8a563e_5c1f_11eb_bda9_a8206653ba57row3_col0\" class=\"data row3 col0\" >SimpleImputer</td>\n",
       "                        <td id=\"T_6e8a563e_5c1f_11eb_bda9_a8206653ba57row3_col1\" class=\"data row3 col1\" >→</td>\n",
       "                        <td id=\"T_6e8a563e_5c1f_11eb_bda9_a8206653ba57row3_col2\" class=\"data row3 col2\" >StandardScaler</td>\n",
       "                        <td id=\"T_6e8a563e_5c1f_11eb_bda9_a8206653ba57row3_col3\" class=\"data row3 col3\" >→</td>\n",
       "                        <td id=\"T_6e8a563e_5c1f_11eb_bda9_a8206653ba57row3_col4\" class=\"data row3 col4\" >SelectPercentile</td>\n",
       "                        <td id=\"T_6e8a563e_5c1f_11eb_bda9_a8206653ba57row3_col5\" class=\"data row3 col5\" >→</td>\n",
       "                        <td id=\"T_6e8a563e_5c1f_11eb_bda9_a8206653ba57row3_col6\" class=\"data row3 col6\" >▽</td>\n",
       "                        <td id=\"T_6e8a563e_5c1f_11eb_bda9_a8206653ba57row3_col7\" class=\"data row3 col7\" > </td>\n",
       "                        <td id=\"T_6e8a563e_5c1f_11eb_bda9_a8206653ba57row3_col8\" class=\"data row3 col8\" >▽</td>\n",
       "                        <td id=\"T_6e8a563e_5c1f_11eb_bda9_a8206653ba57row3_col9\" class=\"data row3 col9\" > </td>\n",
       "                        <td id=\"T_6e8a563e_5c1f_11eb_bda9_a8206653ba57row3_col10\" class=\"data row3 col10\" >▽</td>\n",
       "                        <td id=\"T_6e8a563e_5c1f_11eb_bda9_a8206653ba57row3_col11\" class=\"data row3 col11\" > </td>\n",
       "            </tr>\n",
       "            <tr>\n",
       "                        <th id=\"T_6e8a563e_5c1f_11eb_bda9_a8206653ba57level0_row4\" class=\"row_heading level0 row4\" >4</th>\n",
       "                        <td id=\"T_6e8a563e_5c1f_11eb_bda9_a8206653ba57row4_col0\" class=\"data row4 col0\" >SimpleImputer</td>\n",
       "                        <td id=\"T_6e8a563e_5c1f_11eb_bda9_a8206653ba57row4_col1\" class=\"data row4 col1\" >→</td>\n",
       "                        <td id=\"T_6e8a563e_5c1f_11eb_bda9_a8206653ba57row4_col2\" class=\"data row4 col2\" >StandardScaler</td>\n",
       "                        <td id=\"T_6e8a563e_5c1f_11eb_bda9_a8206653ba57row4_col3\" class=\"data row4 col3\" >→</td>\n",
       "                        <td id=\"T_6e8a563e_5c1f_11eb_bda9_a8206653ba57row4_col4\" class=\"data row4 col4\" >SelectPercentile</td>\n",
       "                        <td id=\"T_6e8a563e_5c1f_11eb_bda9_a8206653ba57row4_col5\" class=\"data row4 col5\" >→</td>\n",
       "                        <td id=\"T_6e8a563e_5c1f_11eb_bda9_a8206653ba57row4_col6\" class=\"data row4 col6\" >▽</td>\n",
       "                        <td id=\"T_6e8a563e_5c1f_11eb_bda9_a8206653ba57row4_col7\" class=\"data row4 col7\" >→</td>\n",
       "                        <td id=\"T_6e8a563e_5c1f_11eb_bda9_a8206653ba57row4_col8\" class=\"data row4 col8\" >▽</td>\n",
       "                        <td id=\"T_6e8a563e_5c1f_11eb_bda9_a8206653ba57row4_col9\" class=\"data row4 col9\" >→</td>\n",
       "                        <td id=\"T_6e8a563e_5c1f_11eb_bda9_a8206653ba57row4_col10\" class=\"data row4 col10\" >▽</td>\n",
       "                        <td id=\"T_6e8a563e_5c1f_11eb_bda9_a8206653ba57row4_col11\" class=\"data row4 col11\" > </td>\n",
       "            </tr>\n",
       "            <tr>\n",
       "                        <th id=\"T_6e8a563e_5c1f_11eb_bda9_a8206653ba57level0_row5\" class=\"row_heading level0 row5\" >5</th>\n",
       "                        <td id=\"T_6e8a563e_5c1f_11eb_bda9_a8206653ba57row5_col0\" class=\"data row5 col0\" >SimpleImputer</td>\n",
       "                        <td id=\"T_6e8a563e_5c1f_11eb_bda9_a8206653ba57row5_col1\" class=\"data row5 col1\" >→</td>\n",
       "                        <td id=\"T_6e8a563e_5c1f_11eb_bda9_a8206653ba57row5_col2\" class=\"data row5 col2\" >StandardScaler</td>\n",
       "                        <td id=\"T_6e8a563e_5c1f_11eb_bda9_a8206653ba57row5_col3\" class=\"data row5 col3\" >→</td>\n",
       "                        <td id=\"T_6e8a563e_5c1f_11eb_bda9_a8206653ba57row5_col4\" class=\"data row5 col4\" >SelectPercentile</td>\n",
       "                        <td id=\"T_6e8a563e_5c1f_11eb_bda9_a8206653ba57row5_col5\" class=\"data row5 col5\" >→</td>\n",
       "                        <td id=\"T_6e8a563e_5c1f_11eb_bda9_a8206653ba57row5_col6\" class=\"data row5 col6\" >▽</td>\n",
       "                        <td id=\"T_6e8a563e_5c1f_11eb_bda9_a8206653ba57row5_col7\" class=\"data row5 col7\" >→</td>\n",
       "                        <td id=\"T_6e8a563e_5c1f_11eb_bda9_a8206653ba57row5_col8\" class=\"data row5 col8\" >▽</td>\n",
       "                        <td id=\"T_6e8a563e_5c1f_11eb_bda9_a8206653ba57row5_col9\" class=\"data row5 col9\" >→</td>\n",
       "                        <td id=\"T_6e8a563e_5c1f_11eb_bda9_a8206653ba57row5_col10\" class=\"data row5 col10\" >▽</td>\n",
       "                        <td id=\"T_6e8a563e_5c1f_11eb_bda9_a8206653ba57row5_col11\" class=\"data row5 col11\" > </td>\n",
       "            </tr>\n",
       "    </tbody></table>"
      ],
      "text/plain": [
       "MultichannelPipeline(n_channels=6, internal_cv=5, transform_method_name=None, cv_processes=1)"
      ]
     },
     "execution_count": 2,
     "metadata": {},
     "output_type": "execute_result"
    }
   ],
   "source": [
    "clf.fit(Xs, y)"
   ]
  },
  {
   "cell_type": "markdown",
   "metadata": {},
   "source": [
    "### Performance analysis"
   ]
  },
  {
   "cell_type": "code",
   "execution_count": 2,
   "metadata": {},
   "outputs": [],
   "source": [
    "# created for this example\n",
    "\n",
    "import pipecaster as pc\n",
    "\n",
    "random_inputs = 7\n",
    "weak_inputs = 0\n",
    "strong_inputs = 3\n",
    "n_input_matrices = random_inputs + weak_inputs + strong_inputs\n",
    "\n",
    "Xs, y, X_types = pc.make_multi_input_classification(\n",
    "                        n_informative_Xs=strong_inputs,\n",
    "                        n_weak_Xs=weak_inputs,\n",
    "                        n_random_Xs=random_inputs,\n",
    "                        weak_noise_sd=None,\n",
    "                        seed=None,\n",
    "                        n_classes=2, \n",
    "                        n_samples=1000, \n",
    "                        n_features=100, \n",
    "                        n_informative=5, \n",
    "                        n_redundant=40, \n",
    "                        n_repeated=0, \n",
    "                        class_sep=0.70) "
   ]
  },
  {
   "cell_type": "code",
   "execution_count": 9,
   "metadata": {},
   "outputs": [],
   "source": [
    "# tutorial example \n",
    "\n",
    "import pipecaster as pc\n",
    "\n",
    "# generate synthetic data\n",
    "\n",
    "n_inputs = 10\n",
    "random_inputs = 7\n",
    "\n",
    "Xs, y, X_types = pc.make_multi_input_classification(\n",
    "                        n_informative_Xs=n_inputs-random_inputs, \n",
    "                        n_weak_Xs=0,\n",
    "                        n_random_Xs=random_inputs,\n",
    "                        weak_noise_sd=None,\n",
    "                        seed=None,\n",
    "                        n_classes=2, \n",
    "                        n_samples=500, \n",
    "                        n_features=100, \n",
    "                        n_informative=20, \n",
    "                        n_redundant=0, \n",
    "                        n_repeated=0, \n",
    "                        class_sep=0.8)"
   ]
  },
  {
   "cell_type": "code",
   "execution_count": 10,
   "metadata": {},
   "outputs": [
    {
     "data": {
      "text/html": [
       "<style  type=\"text/css\" >\n",
       "    #T_e7ea44b4_5f2e_11eb_b3d6_a8206653ba57 th {\n",
       "          text-align: center;\n",
       "    }    #T_e7ea44b4_5f2e_11eb_b3d6_a8206653ba57row0_col0 {\n",
       "            text-align:  center;\n",
       "        }    #T_e7ea44b4_5f2e_11eb_b3d6_a8206653ba57row0_col1 {\n",
       "            text-align:  center;\n",
       "        }    #T_e7ea44b4_5f2e_11eb_b3d6_a8206653ba57row0_col2 {\n",
       "            text-align:  center;\n",
       "        }    #T_e7ea44b4_5f2e_11eb_b3d6_a8206653ba57row0_col3 {\n",
       "            text-align:  center;\n",
       "        }    #T_e7ea44b4_5f2e_11eb_b3d6_a8206653ba57row1_col0 {\n",
       "            text-align:  center;\n",
       "        }    #T_e7ea44b4_5f2e_11eb_b3d6_a8206653ba57row1_col1 {\n",
       "            text-align:  center;\n",
       "        }    #T_e7ea44b4_5f2e_11eb_b3d6_a8206653ba57row1_col2 {\n",
       "            text-align:  center;\n",
       "        }    #T_e7ea44b4_5f2e_11eb_b3d6_a8206653ba57row1_col3 {\n",
       "            text-align:  center;\n",
       "        }    #T_e7ea44b4_5f2e_11eb_b3d6_a8206653ba57row2_col0 {\n",
       "            text-align:  center;\n",
       "        }    #T_e7ea44b4_5f2e_11eb_b3d6_a8206653ba57row2_col1 {\n",
       "            text-align:  center;\n",
       "        }    #T_e7ea44b4_5f2e_11eb_b3d6_a8206653ba57row2_col2 {\n",
       "            text-align:  center;\n",
       "        }    #T_e7ea44b4_5f2e_11eb_b3d6_a8206653ba57row2_col3 {\n",
       "            text-align:  center;\n",
       "        }    #T_e7ea44b4_5f2e_11eb_b3d6_a8206653ba57row3_col0 {\n",
       "            text-align:  center;\n",
       "        }    #T_e7ea44b4_5f2e_11eb_b3d6_a8206653ba57row3_col1 {\n",
       "            text-align:  center;\n",
       "        }    #T_e7ea44b4_5f2e_11eb_b3d6_a8206653ba57row3_col2 {\n",
       "            text-align:  center;\n",
       "        }    #T_e7ea44b4_5f2e_11eb_b3d6_a8206653ba57row3_col3 {\n",
       "            text-align:  center;\n",
       "        }    #T_e7ea44b4_5f2e_11eb_b3d6_a8206653ba57row4_col0 {\n",
       "            text-align:  center;\n",
       "        }    #T_e7ea44b4_5f2e_11eb_b3d6_a8206653ba57row4_col1 {\n",
       "            text-align:  center;\n",
       "        }    #T_e7ea44b4_5f2e_11eb_b3d6_a8206653ba57row4_col2 {\n",
       "            text-align:  center;\n",
       "        }    #T_e7ea44b4_5f2e_11eb_b3d6_a8206653ba57row4_col3 {\n",
       "            text-align:  center;\n",
       "        }    #T_e7ea44b4_5f2e_11eb_b3d6_a8206653ba57row5_col0 {\n",
       "            text-align:  center;\n",
       "        }    #T_e7ea44b4_5f2e_11eb_b3d6_a8206653ba57row5_col1 {\n",
       "            text-align:  center;\n",
       "        }    #T_e7ea44b4_5f2e_11eb_b3d6_a8206653ba57row5_col2 {\n",
       "            text-align:  center;\n",
       "        }    #T_e7ea44b4_5f2e_11eb_b3d6_a8206653ba57row5_col3 {\n",
       "            text-align:  center;\n",
       "        }    #T_e7ea44b4_5f2e_11eb_b3d6_a8206653ba57row6_col0 {\n",
       "            text-align:  center;\n",
       "        }    #T_e7ea44b4_5f2e_11eb_b3d6_a8206653ba57row6_col1 {\n",
       "            text-align:  center;\n",
       "        }    #T_e7ea44b4_5f2e_11eb_b3d6_a8206653ba57row6_col2 {\n",
       "            text-align:  center;\n",
       "        }    #T_e7ea44b4_5f2e_11eb_b3d6_a8206653ba57row6_col3 {\n",
       "            text-align:  center;\n",
       "        }    #T_e7ea44b4_5f2e_11eb_b3d6_a8206653ba57row7_col0 {\n",
       "            text-align:  center;\n",
       "        }    #T_e7ea44b4_5f2e_11eb_b3d6_a8206653ba57row7_col1 {\n",
       "            text-align:  center;\n",
       "        }    #T_e7ea44b4_5f2e_11eb_b3d6_a8206653ba57row7_col2 {\n",
       "            text-align:  center;\n",
       "        }    #T_e7ea44b4_5f2e_11eb_b3d6_a8206653ba57row7_col3 {\n",
       "            text-align:  center;\n",
       "        }    #T_e7ea44b4_5f2e_11eb_b3d6_a8206653ba57row8_col0 {\n",
       "            text-align:  center;\n",
       "        }    #T_e7ea44b4_5f2e_11eb_b3d6_a8206653ba57row8_col1 {\n",
       "            text-align:  center;\n",
       "        }    #T_e7ea44b4_5f2e_11eb_b3d6_a8206653ba57row8_col2 {\n",
       "            text-align:  center;\n",
       "        }    #T_e7ea44b4_5f2e_11eb_b3d6_a8206653ba57row8_col3 {\n",
       "            text-align:  center;\n",
       "        }    #T_e7ea44b4_5f2e_11eb_b3d6_a8206653ba57row9_col0 {\n",
       "            text-align:  center;\n",
       "        }    #T_e7ea44b4_5f2e_11eb_b3d6_a8206653ba57row9_col1 {\n",
       "            text-align:  center;\n",
       "        }    #T_e7ea44b4_5f2e_11eb_b3d6_a8206653ba57row9_col2 {\n",
       "            text-align:  center;\n",
       "        }    #T_e7ea44b4_5f2e_11eb_b3d6_a8206653ba57row9_col3 {\n",
       "            text-align:  center;\n",
       "        }</style><table id=\"T_e7ea44b4_5f2e_11eb_b3d6_a8206653ba57\" ><thead>    <tr>        <th class=\"blank level0\" ></th>        <th class=\"col_heading level0 col0\" >layer_0</th>        <th class=\"col_heading level0 col1\" >out_0</th>        <th class=\"col_heading level0 col2\" >layer_1</th>        <th class=\"col_heading level0 col3\" >out_1</th>    </tr>    <tr>        <th class=\"index_name level0\" >channel</th>        <th class=\"blank\" ></th>        <th class=\"blank\" ></th>        <th class=\"blank\" ></th>        <th class=\"blank\" ></th>    </tr></thead><tbody>\n",
       "                <tr>\n",
       "                        <th id=\"T_e7ea44b4_5f2e_11eb_b3d6_a8206653ba57level0_row0\" class=\"row_heading level0 row0\" >0</th>\n",
       "                        <td id=\"T_e7ea44b4_5f2e_11eb_b3d6_a8206653ba57row0_col0\" class=\"data row0 col0\" >GradientBoostingClassifier</td>\n",
       "                        <td id=\"T_e7ea44b4_5f2e_11eb_b3d6_a8206653ba57row0_col1\" class=\"data row0 col1\" >→</td>\n",
       "                        <td id=\"T_e7ea44b4_5f2e_11eb_b3d6_a8206653ba57row0_col2\" class=\"data row0 col2\" >MultichannelPredictor</td>\n",
       "                        <td id=\"T_e7ea44b4_5f2e_11eb_b3d6_a8206653ba57row0_col3\" class=\"data row0 col3\" >→</td>\n",
       "            </tr>\n",
       "            <tr>\n",
       "                        <th id=\"T_e7ea44b4_5f2e_11eb_b3d6_a8206653ba57level0_row1\" class=\"row_heading level0 row1\" >1</th>\n",
       "                        <td id=\"T_e7ea44b4_5f2e_11eb_b3d6_a8206653ba57row1_col0\" class=\"data row1 col0\" >GradientBoostingClassifier</td>\n",
       "                        <td id=\"T_e7ea44b4_5f2e_11eb_b3d6_a8206653ba57row1_col1\" class=\"data row1 col1\" >→</td>\n",
       "                        <td id=\"T_e7ea44b4_5f2e_11eb_b3d6_a8206653ba57row1_col2\" class=\"data row1 col2\" >▽</td>\n",
       "                        <td id=\"T_e7ea44b4_5f2e_11eb_b3d6_a8206653ba57row1_col3\" class=\"data row1 col3\" >→</td>\n",
       "            </tr>\n",
       "            <tr>\n",
       "                        <th id=\"T_e7ea44b4_5f2e_11eb_b3d6_a8206653ba57level0_row2\" class=\"row_heading level0 row2\" >2</th>\n",
       "                        <td id=\"T_e7ea44b4_5f2e_11eb_b3d6_a8206653ba57row2_col0\" class=\"data row2 col0\" >GradientBoostingClassifier</td>\n",
       "                        <td id=\"T_e7ea44b4_5f2e_11eb_b3d6_a8206653ba57row2_col1\" class=\"data row2 col1\" >→</td>\n",
       "                        <td id=\"T_e7ea44b4_5f2e_11eb_b3d6_a8206653ba57row2_col2\" class=\"data row2 col2\" >▽</td>\n",
       "                        <td id=\"T_e7ea44b4_5f2e_11eb_b3d6_a8206653ba57row2_col3\" class=\"data row2 col3\" >→</td>\n",
       "            </tr>\n",
       "            <tr>\n",
       "                        <th id=\"T_e7ea44b4_5f2e_11eb_b3d6_a8206653ba57level0_row3\" class=\"row_heading level0 row3\" >3</th>\n",
       "                        <td id=\"T_e7ea44b4_5f2e_11eb_b3d6_a8206653ba57row3_col0\" class=\"data row3 col0\" >GradientBoostingClassifier</td>\n",
       "                        <td id=\"T_e7ea44b4_5f2e_11eb_b3d6_a8206653ba57row3_col1\" class=\"data row3 col1\" >→</td>\n",
       "                        <td id=\"T_e7ea44b4_5f2e_11eb_b3d6_a8206653ba57row3_col2\" class=\"data row3 col2\" >▽</td>\n",
       "                        <td id=\"T_e7ea44b4_5f2e_11eb_b3d6_a8206653ba57row3_col3\" class=\"data row3 col3\" >→</td>\n",
       "            </tr>\n",
       "            <tr>\n",
       "                        <th id=\"T_e7ea44b4_5f2e_11eb_b3d6_a8206653ba57level0_row4\" class=\"row_heading level0 row4\" >4</th>\n",
       "                        <td id=\"T_e7ea44b4_5f2e_11eb_b3d6_a8206653ba57row4_col0\" class=\"data row4 col0\" >GradientBoostingClassifier</td>\n",
       "                        <td id=\"T_e7ea44b4_5f2e_11eb_b3d6_a8206653ba57row4_col1\" class=\"data row4 col1\" >→</td>\n",
       "                        <td id=\"T_e7ea44b4_5f2e_11eb_b3d6_a8206653ba57row4_col2\" class=\"data row4 col2\" >▽</td>\n",
       "                        <td id=\"T_e7ea44b4_5f2e_11eb_b3d6_a8206653ba57row4_col3\" class=\"data row4 col3\" >→</td>\n",
       "            </tr>\n",
       "            <tr>\n",
       "                        <th id=\"T_e7ea44b4_5f2e_11eb_b3d6_a8206653ba57level0_row5\" class=\"row_heading level0 row5\" >5</th>\n",
       "                        <td id=\"T_e7ea44b4_5f2e_11eb_b3d6_a8206653ba57row5_col0\" class=\"data row5 col0\" >GradientBoostingClassifier</td>\n",
       "                        <td id=\"T_e7ea44b4_5f2e_11eb_b3d6_a8206653ba57row5_col1\" class=\"data row5 col1\" >→</td>\n",
       "                        <td id=\"T_e7ea44b4_5f2e_11eb_b3d6_a8206653ba57row5_col2\" class=\"data row5 col2\" >▽</td>\n",
       "                        <td id=\"T_e7ea44b4_5f2e_11eb_b3d6_a8206653ba57row5_col3\" class=\"data row5 col3\" >→</td>\n",
       "            </tr>\n",
       "            <tr>\n",
       "                        <th id=\"T_e7ea44b4_5f2e_11eb_b3d6_a8206653ba57level0_row6\" class=\"row_heading level0 row6\" >6</th>\n",
       "                        <td id=\"T_e7ea44b4_5f2e_11eb_b3d6_a8206653ba57row6_col0\" class=\"data row6 col0\" >GradientBoostingClassifier</td>\n",
       "                        <td id=\"T_e7ea44b4_5f2e_11eb_b3d6_a8206653ba57row6_col1\" class=\"data row6 col1\" >→</td>\n",
       "                        <td id=\"T_e7ea44b4_5f2e_11eb_b3d6_a8206653ba57row6_col2\" class=\"data row6 col2\" >▽</td>\n",
       "                        <td id=\"T_e7ea44b4_5f2e_11eb_b3d6_a8206653ba57row6_col3\" class=\"data row6 col3\" >→</td>\n",
       "            </tr>\n",
       "            <tr>\n",
       "                        <th id=\"T_e7ea44b4_5f2e_11eb_b3d6_a8206653ba57level0_row7\" class=\"row_heading level0 row7\" >7</th>\n",
       "                        <td id=\"T_e7ea44b4_5f2e_11eb_b3d6_a8206653ba57row7_col0\" class=\"data row7 col0\" >GradientBoostingClassifier</td>\n",
       "                        <td id=\"T_e7ea44b4_5f2e_11eb_b3d6_a8206653ba57row7_col1\" class=\"data row7 col1\" >→</td>\n",
       "                        <td id=\"T_e7ea44b4_5f2e_11eb_b3d6_a8206653ba57row7_col2\" class=\"data row7 col2\" >▽</td>\n",
       "                        <td id=\"T_e7ea44b4_5f2e_11eb_b3d6_a8206653ba57row7_col3\" class=\"data row7 col3\" >→</td>\n",
       "            </tr>\n",
       "            <tr>\n",
       "                        <th id=\"T_e7ea44b4_5f2e_11eb_b3d6_a8206653ba57level0_row8\" class=\"row_heading level0 row8\" >8</th>\n",
       "                        <td id=\"T_e7ea44b4_5f2e_11eb_b3d6_a8206653ba57row8_col0\" class=\"data row8 col0\" >GradientBoostingClassifier</td>\n",
       "                        <td id=\"T_e7ea44b4_5f2e_11eb_b3d6_a8206653ba57row8_col1\" class=\"data row8 col1\" >→</td>\n",
       "                        <td id=\"T_e7ea44b4_5f2e_11eb_b3d6_a8206653ba57row8_col2\" class=\"data row8 col2\" >▽</td>\n",
       "                        <td id=\"T_e7ea44b4_5f2e_11eb_b3d6_a8206653ba57row8_col3\" class=\"data row8 col3\" >→</td>\n",
       "            </tr>\n",
       "            <tr>\n",
       "                        <th id=\"T_e7ea44b4_5f2e_11eb_b3d6_a8206653ba57level0_row9\" class=\"row_heading level0 row9\" >9</th>\n",
       "                        <td id=\"T_e7ea44b4_5f2e_11eb_b3d6_a8206653ba57row9_col0\" class=\"data row9 col0\" >GradientBoostingClassifier</td>\n",
       "                        <td id=\"T_e7ea44b4_5f2e_11eb_b3d6_a8206653ba57row9_col1\" class=\"data row9 col1\" >→</td>\n",
       "                        <td id=\"T_e7ea44b4_5f2e_11eb_b3d6_a8206653ba57row9_col2\" class=\"data row9 col2\" >▽</td>\n",
       "                        <td id=\"T_e7ea44b4_5f2e_11eb_b3d6_a8206653ba57row9_col3\" class=\"data row9 col3\" >→</td>\n",
       "            </tr>\n",
       "    </tbody></table>"
      ],
      "text/plain": [
       "MultichannelPipeline(transform_method_name=None, cv_processes=1, internal_cv=5, n_channels=10)"
      ]
     },
     "execution_count": 10,
     "metadata": {},
     "output_type": "execute_result"
    }
   ],
   "source": [
    "import numpy as np\n",
    "from sklearn.preprocessing import StandardScaler\n",
    "from sklearn.feature_selection import SelectPercentile, f_classif\n",
    "from sklearn.ensemble import GradientBoostingClassifier\n",
    "from sklearn.svm import SVC \n",
    "\n",
    "early_stopping_GBC = GradientBoostingClassifier(n_estimators=1000, \n",
    "                                     validation_fraction=0.1, \n",
    "                                     n_iter_no_change=3)\n",
    "mclf1 = pc.MultichannelPipeline(n_channels=n_input_matrices)\n",
    "mclf1.add_layer(early_stopping_GBC)\n",
    "mclf1.add_layer(pc.MultichannelPredictor(SVC()))\n",
    "mclf1"
   ]
  },
  {
   "cell_type": "code",
   "execution_count": 11,
   "metadata": {},
   "outputs": [
    {
     "data": {
      "image/png": "[encoded data removed]",
      "text/plain": [
       "<Figure size 432x288 with 2 Axes>"
      ]
     },
     "metadata": {},
     "output_type": "display_data"
    }
   ],
   "source": [
    "%matplotlib inline\n",
    "import time\n",
    "from sklearn.metrics import balanced_accuracy_score\n",
    "from sklearn.model_selection import cross_val_score\n",
    "from sklearn.feature_selection import SelectPercentile\n",
    "from sklearn.pipeline import Pipeline\n",
    "\n",
    "import matplotlib.pyplot as plt\n",
    "from scipy.stats import sem\n",
    "\n",
    "n_cpus = pc.count_cpus()\n",
    "\n",
    "t = time.time()\n",
    "pc_accuracies = pc.cross_val_score(mclf1, Xs, y, scorer=balanced_accuracy_score, cv=8, n_processes=n_cpus)\n",
    "pc_time = time.time() - t\n",
    "\n",
    "X = np.concatenate(Xs, axis=1)\n",
    "clf = Pipeline([('GradientBoostingClassifier', early_stopping_GBC)])\n",
    "t = time.time()\n",
    "sk_accuracies = cross_val_score(clf, X, y, scoring='balanced_accuracy', cv=8, n_jobs=n_cpus)\n",
    "sk_time = time.time() - t\n",
    "\n",
    "fig, axes = plt.subplots(1, 2)\n",
    "xlabels = ['concatenated', 'multichannel']\n",
    "axes[0].bar(xlabels, [ np.mean(sk_accuracies), np.mean(pc_accuracies)], \n",
    "        yerr=[sem(sk_accuracies), sem(pc_accuracies)], capsize=10)\n",
    "axes[0].set_ylim(.60)\n",
    "axes[0].set_ylabel('balanced accuracy', fontsize=12)\n",
    "axes[0].set_xticklabels(xlabels, rotation=45, ha='right', fontsize=12)\n",
    "axes[1].bar(xlabels, [np.mean(sk_time), np.mean(pc_time)])\n",
    "axes[1].set_ylabel('execution time [s]', fontsize=12)\n",
    "axes[1].set_xticklabels(xlabels, rotation=45, ha='right', fontsize=12)\n",
    "plt.tight_layout()\n",
    "# plt.savefig('performance_comparison.svg')"
   ]
  },
  {
   "cell_type": "code",
   "execution_count": 12,
   "metadata": {},
   "outputs": [],
   "source": [
    "class Foobar:\n",
    "    def __init__(self):\n",
    "        self.x = 222\n",
    "        \n",
    "    def set_x(self, x):\n",
    "        self.x = x\n",
    "        return self"
   ]
  },
  {
   "cell_type": "code",
   "execution_count": 26,
   "metadata": {},
   "outputs": [],
   "source": [
    "fb = Foobar().set_x(123)"
   ]
  },
  {
   "cell_type": "code",
   "execution_count": 27,
   "metadata": {},
   "outputs": [
    {
     "data": {
      "text/plain": [
       "123"
      ]
     },
     "execution_count": 27,
     "metadata": {},
     "output_type": "execute_result"
    }
   ],
   "source": [
    "fb.x"
   ]
  },
  {
   "cell_type": "code",
   "execution_count": 1,
   "metadata": {},
   "outputs": [
    {
     "data": {
      "text/plain": [
       "[0.9705882352941176, 0.9393382352941176, 0.9705882352941176]"
      ]
     },
     "execution_count": 1,
     "metadata": {},
     "output_type": "execute_result"
    }
   ],
   "source": [
    "import numpy as np\n",
    "import pipecaster as pc\n",
    "from sklearn.ensemble import GradientBoostingClassifier\n",
    "from sklearn.feature_selection import f_classif\n",
    "\n",
    "Xs, y, _ = pc.make_multi_input_classification(n_informative_Xs=10)\n",
    "clf = pc.MultichannelPipeline(n_channels=10)\n",
    "clf.add_layer(pc.ChannelSelector(\n",
    "                channel_scorer=pc.AggregateFeatureScorer(f_classif, np.mean),\n",
    "                score_selector=pc.RankScoreSelector(3)))\n",
    "clf.add_layer(pc.MultichannelPredictor(GradientBoostingClassifier()))\n",
    "pc.cross_val_score(clf, Xs, y)"
   ]
  },
  {
   "cell_type": "code",
   "execution_count": 5,
   "metadata": {},
   "outputs": [
    {
     "data": {
      "text/plain": [
       "(0.049236333417216366,\n",
       " 33.40822334354884,\n",
       " array([53.67230491,  0.        , 79.94672945,  0.        ,  0.        ,\n",
       "        89.35725223]))"
      ]
     },
     "execution_count": 5,
     "metadata": {},
     "output_type": "execute_result"
    }
   ],
   "source": [
    "from sklearn.datasets import make_regression\n",
    "\n",
    "X, y, coeff = make_regression(coef=True, n_samples=10, n_features=6, n_informative=3, n_targets=1, effective_rank=1)\n",
    "X[0][0], y[0], coeff"
   ]
  },
  {
   "cell_type": "code",
   "execution_count": 12,
   "metadata": {},
   "outputs": [
    {
     "data": {
      "text/plain": [
       "(1.0450464386353981, 1)"
      ]
     },
     "execution_count": 12,
     "metadata": {},
     "output_type": "execute_result"
    }
   ],
   "source": [
    "X, y = make_classification(random_state=None)\n",
    "X[0][0], y[0]"
   ]
  },
  {
   "cell_type": "code",
   "execution_count": 13,
   "metadata": {},
   "outputs": [
    {
     "data": {
      "text/plain": [
       "(-0.005947589496002048, 0)"
      ]
     },
     "execution_count": 13,
     "metadata": {},
     "output_type": "execute_result"
    }
   ],
   "source": [
    "X, y = make_classification(random_state=None)\n",
    "X[0][0], y[0]"
   ]
  },
  {
   "cell_type": "code",
   "execution_count": 56,
   "metadata": {},
   "outputs": [],
   "source": [
    "import random\n",
    "\n",
    "n_informative_Xs = 5\n",
    "n_weak_Xs = 5\n",
    "n_random_Xs = 5\n",
    "weak_noise_sd = 1\n",
    "\n",
    "sk_params = {'n_features':100, 'n_samples':500, 'n_informative':10}\n",
    "\n",
    "X_types = ['informative' for i in range(n_informative_Xs)]\n",
    "X_types += ['weak' for i in range(n_weak_Xs)]\n",
    "X_types += ['informative' for i in range(n_random_Xs)]\n",
    "\n",
    "n_Xs = n_informative_Xs + n_weak_Xs + n_random_Xs\n",
    "\n",
    "n_inf = sk_params['n_informative']\n",
    "n_rand = sk_params['n_features'] - sk_params['n_informative']\n",
    "\n",
    "sk_params['n_features'] *= n_Xs\n",
    "sk_params['n_informative'] *= n_Xs\n",
    "sk_params['coef'] = True\n",
    "\n",
    "if 'effective_rank' in sk_params:\n",
    "    if sk_params['effective_rank'] is not None:\n",
    "        print('Warning: When effective rank is set, information not guaranteed to be equally distributed between feature matrices')\n",
    "\n",
    "X_pool, y, coef = make_regression(**sk_params)\n",
    "informative_mask = coef != 0\n",
    "X_pool_inf = X_pool[:, informative_mask]\n",
    "X_pool_rand = X_pool[:, ~informative_mask]\n",
    "\n",
    "Xs = []\n",
    "\n",
    "for i, X_type in enumerate(X_types):\n",
    "    X_inf = X_pool_inf[:, i*n_inf:(i+1)*n_inf]\n",
    "    X_rand = X_pool_rand[:, i*n_rand:(i+1)*n_rand]\n",
    "    X = np.concatenate([X_inf, X_rand], axis=1)\n",
    "    X = X[:, np.random.permutation(X.shape[1])]\n",
    "    if X_type == 'weak':\n",
    "        X += np.random.normal(loc=0, scale=weak_noise_sd, size=X.shape)\n",
    "    elif X_type == 'random':\n",
    "        np.random.shuffle(X)\n",
    "    Xs.append(X)\n",
    "\n",
    "tuples = list(zip(Xs, X_types))\n",
    "random.shuffle(tuples)\n",
    "Xs, X_types = zip(*tuples)\n",
    "\n",
    "#return list(Xs), y, list(X_types)"
   ]
  },
  {
   "cell_type": "code",
   "execution_count": null,
   "metadata": {},
   "outputs": [],
   "source": []
  },
  {
   "cell_type": "code",
   "execution_count": 39,
   "metadata": {},
   "outputs": [
    {
     "data": {
      "text/plain": [
       "array([3, 5])"
      ]
     },
     "execution_count": 39,
     "metadata": {},
     "output_type": "execute_result"
    }
   ],
   "source": []
  },
  {
   "cell_type": "code",
   "execution_count": 25,
   "metadata": {},
   "outputs": [
    {
     "data": {
      "text/plain": [
       "array([[0, 1, 2],\n",
       "       [3, 4, 5],\n",
       "       [6, 7, 8]])"
      ]
     },
     "execution_count": 25,
     "metadata": {},
     "output_type": "execute_result"
    }
   ],
   "source": [
    "import numpy as np\n",
    "a = np.arange(9).reshape(3,3)\n",
    "a"
   ]
  },
  {
   "cell_type": "code",
   "execution_count": 29,
   "metadata": {},
   "outputs": [
    {
     "data": {
      "text/plain": [
       "array([[1, 2, 0],\n",
       "       [4, 5, 3],\n",
       "       [7, 8, 6]])"
      ]
     },
     "execution_count": 29,
     "metadata": {},
     "output_type": "execute_result"
    }
   ],
   "source": [
    "a.T.T"
   ]
  },
  {
   "cell_type": "code",
   "execution_count": 27,
   "metadata": {},
   "outputs": [],
   "source": [
    "np.transpose(a)\n",
    "np.random.shuffle()"
   ]
  },
  {
   "cell_type": "code",
   "execution_count": 19,
   "metadata": {},
   "outputs": [
    {
     "data": {
      "text/plain": [
       "(500, 150)"
      ]
     },
     "execution_count": 19,
     "metadata": {},
     "output_type": "execute_result"
    }
   ],
   "source": [
    "X_pool_inf.shape"
   ]
  },
  {
   "cell_type": "code",
   "execution_count": 20,
   "metadata": {},
   "outputs": [
    {
     "data": {
      "text/plain": [
       "(500, 1500)"
      ]
     },
     "execution_count": 20,
     "metadata": {},
     "output_type": "execute_result"
    }
   ],
   "source": [
    "X_pool.shape"
   ]
  },
  {
   "cell_type": "code",
   "execution_count": 21,
   "metadata": {},
   "outputs": [
    {
     "data": {
      "text/plain": [
       "(500, 1350)"
      ]
     },
     "execution_count": 21,
     "metadata": {},
     "output_type": "execute_result"
    }
   ],
   "source": [
    "X_pool_rand.shape"
   ]
  },
  {
   "cell_type": "code",
   "execution_count": 12,
   "metadata": {},
   "outputs": [
    {
     "data": {
      "text/plain": [
       "['informative', 'informative', 'informative']"
      ]
     },
     "execution_count": 12,
     "metadata": {},
     "output_type": "execute_result"
    }
   ],
   "source": [
    "import numpy as np\n",
    "import pipecaster as pc\n",
    "from sklearn.preprocessing import StandardScaler\n",
    "from sklearn.ensemble import GradientBoostingClassifier\n",
    "from sklearn.svm import SVC\n",
    "\n",
    "Xs, y, X_types = pc.make_multi_input_classification(n_informative_Xs=3,\n",
    "                                                    n_random_Xs=7)\n",
    "clf = pc.MultichannelPipeline(n_channels=10)\n",
    "clf.add_layer(pc.SelectVarianceHighPassModels(predictors=GradientBoostingClassifier(),\n",
    "                                   cv=5, scorer='auto', variance_cutoff=1.0, \n",
    "                                   get_variance=np.nanstd, get_baseline=np.nanmean,  \n",
    "                                   n_min=1))\n",
    "clf.add_layer(pc.MultichannelPredictor(SVC()))\n",
    "clf.fit(Xs, y)\n",
    "selections = clf.get_model(0, 0).get_support()\n",
    "# show selected input types (random or informative)\n",
    "[t for i, t in enumerate(X_types) if i in selections]"
   ]
  },
  {
   "cell_type": "code",
   "execution_count": 13,
   "metadata": {},
   "outputs": [
    {
     "data": {
      "text/plain": [
       "[0.9117647058823529, 0.8823529411764706, 0.96875]"
      ]
     },
     "execution_count": 13,
     "metadata": {},
     "output_type": "execute_result"
    }
   ],
   "source": [
    "pc.cross_val_score(clf, Xs, y)"
   ]
  },
  {
   "cell_type": "code",
   "execution_count": 5,
   "metadata": {},
   "outputs": [
    {
     "data": {
      "text/plain": [
       "[-0.2640080940663909, -0.12993376367782905, 0.16264536124037166]"
      ]
     },
     "execution_count": 5,
     "metadata": {},
     "output_type": "execute_result"
    }
   ],
   "source": [
    "import numpy as np\n",
    "from sklearn.datasets import make_classification\n",
    "from sklearn.ensemble import GradientBoostingRegressor \n",
    "from sklearn.linear_model import LinearRegression\n",
    "from sklearn.preprocessing import StandardScaler\n",
    "\n",
    "import pipecaster as pc\n",
    "\n",
    "Xs, y, _ = pc.make_multi_input_regression(n_informative_Xs=10,\n",
    "                                              n_random_Xs=0)\n",
    "clf = pc.MultichannelPipeline(n_channels=10)\n",
    "clf.add_layer(StandardScaler())\n",
    "clf.add_layer(LinearRegression())\n",
    "clf.add_layer(pc.ChannelConcatenator())\n",
    "clf.add_layer(pc.AggregatingRegressor(np.mean))\n",
    "pc.cross_val_score(clf, Xs, y, cv=3)"
   ]
  },
  {
   "cell_type": "code",
   "execution_count": 18,
   "metadata": {},
   "outputs": [
    {
     "data": {
      "text/plain": [
       "array([-0.05196378, -0.19676833, -0.30738971, -0.19234914,  0.07125537])"
      ]
     },
     "execution_count": 18,
     "metadata": {},
     "output_type": "execute_result"
    }
   ],
   "source": [
    "from sklearn.model_selection import cross_val_score\n",
    "\n",
    "cross_val_score(GradientBoostingRegressor(), Xs[0], y, scoring='explained_variance')"
   ]
  },
  {
   "cell_type": "code",
   "execution_count": 43,
   "metadata": {},
   "outputs": [
    {
     "data": {
      "text/plain": [
       "0.334179859992671"
      ]
     },
     "execution_count": 43,
     "metadata": {},
     "output_type": "execute_result"
    }
   ],
   "source": [
    "from sklearn.linear_model import LinearRegression\n",
    "from sklearn.datasets import make_regression\n",
    "from sklearn.model_selection import cross_val_score\n",
    "from sklearn.ensemble import GradientBoostingRegressor \n",
    "import numpy as np\n",
    "\n",
    "\n",
    "import pipecaster as pc\n",
    "\n",
    "X, y = make_regression(n_samples=500, n_features=100, n_informative=100)\n",
    "np.mean(cross_val_score(GradientBoostingRegressor(), X, y, cv=3, scoring='explained_variance'))"
   ]
  },
  {
   "cell_type": "code",
   "execution_count": 38,
   "metadata": {},
   "outputs": [
    {
     "data": {
      "text/plain": [
       "7.642065842473631"
      ]
     },
     "execution_count": 38,
     "metadata": {},
     "output_type": "execute_result"
    }
   ],
   "source": [
    "from sklearn.feature_selection import f_regression\n",
    "pc.AggregateFeatureScorer(feature_scorer=f_regression, aggregator=np.mean)(X,y)"
   ]
  },
  {
   "cell_type": "code",
   "execution_count": 36,
   "metadata": {},
   "outputs": [
    {
     "data": {
      "text/plain": [
       "[0.04246912040095041, 0.026298418928216234, 0.15726989124807467]"
      ]
     },
     "execution_count": 36,
     "metadata": {},
     "output_type": "execute_result"
    }
   ],
   "source": [
    "Xs, y, X_types, X_pool, X_pool_inf, X_pool_rand = pc.make_multi_input_regression(n_informative_Xs=3,\n",
    "                                              n_random_Xs=0, n_samples=500, n_features=100, n_informative=10)\n",
    "[np.mean(cross_val_score(LinearRegression(), X, y, cv=3, scoring='explained_variance')) for X in Xs]"
   ]
  },
  {
   "cell_type": "code",
   "execution_count": 30,
   "metadata": {},
   "outputs": [
    {
     "data": {
      "text/plain": [
       "[3.1124255739900195, 3.1896453841135632, 2.1500679529936706]"
      ]
     },
     "execution_count": 30,
     "metadata": {},
     "output_type": "execute_result"
    }
   ],
   "source": [
    "[pc.AggregateFeatureScorer(feature_scorer=f_regression, aggregator=np.mean)(X,y) for X in Xs]"
   ]
  },
  {
   "cell_type": "code",
   "execution_count": 28,
   "metadata": {},
   "outputs": [
    {
     "data": {
      "text/plain": [
       "2.593588413869164"
      ]
     },
     "execution_count": 28,
     "metadata": {},
     "output_type": "execute_result"
    }
   ],
   "source": [
    "pc.AggregateFeatureScorer(feature_scorer=f_regression, aggregator=np.mean)(X_pool,y)"
   ]
  },
  {
   "cell_type": "code",
   "execution_count": 20,
   "metadata": {},
   "outputs": [
    {
     "data": {
      "text/plain": [
       "17.867574381145268"
      ]
     },
     "execution_count": 20,
     "metadata": {},
     "output_type": "execute_result"
    }
   ],
   "source": [
    "pc.AggregateFeatureScorer(feature_scorer=f_regression, aggregator=np.mean)(X_pool_inf,y)"
   ]
  },
  {
   "cell_type": "code",
   "execution_count": 21,
   "metadata": {},
   "outputs": [
    {
     "data": {
      "text/plain": [
       "1.0139319417310249"
      ]
     },
     "execution_count": 21,
     "metadata": {},
     "output_type": "execute_result"
    }
   ],
   "source": [
    "pc.AggregateFeatureScorer(feature_scorer=f_regression, aggregator=np.mean)(X_pool_rand,y)"
   ]
  },
  {
   "cell_type": "code",
   "execution_count": null,
   "metadata": {},
   "outputs": [],
   "source": []
  },
  {
   "cell_type": "code",
   "execution_count": 46,
   "metadata": {},
   "outputs": [],
   "source": [
    "import numpy as np\n",
    "\n",
    "n_samples = 20\n",
    "n_features = 10\n",
    "n_informative = 5\n",
    "offset = 0\n",
    "return_slopes = False\n",
    "\n",
    "n_random = n_features - n_informative\n",
    "\n",
    "slopes = np.array([2 * np.random.rand() - 1 for i in range(n_informative)])\n",
    "X_inf = np.stack([slopes * np.random.rand(n_informative) for i in range(n_samples)])\n",
    "y = np.sum(slopes * X_inf, axis=0) + offset\n",
    "X_rand = np.stack([np.random.rand(n_random) for i in range(n_samples)])\n",
    "X = np.concatenate([X_inf, X_rand], axis=1)\n",
    "slopes = np.concatenate([slopes, np.zeros(n_random)])\n",
    "permutation_idx = np.random.permutation(n_features)\n",
    "X = X[: , permutation_idx].copy()\n",
    "slopes = slopes[permutation_idx].copy()\n",
    "\n",
    "# return (X, y, slopes) if return_slopes else (X, y)"
   ]
  },
  {
   "cell_type": "code",
   "execution_count": 47,
   "metadata": {},
   "outputs": [
    {
     "data": {
      "text/plain": [
       "(20, 10)"
      ]
     },
     "execution_count": 47,
     "metadata": {},
     "output_type": "execute_result"
    }
   ],
   "source": [
    "X.shape"
   ]
  },
  {
   "cell_type": "code",
   "execution_count": 48,
   "metadata": {},
   "outputs": [
    {
     "data": {
      "text/plain": [
       "(5,)"
      ]
     },
     "execution_count": 48,
     "metadata": {},
     "output_type": "execute_result"
    }
   ],
   "source": [
    "y.shape"
   ]
  },
  {
   "cell_type": "code",
   "execution_count": 49,
   "metadata": {},
   "outputs": [
    {
     "data": {
      "text/plain": [
       "array([ 0.        ,  0.89066953, -0.43540575,  0.        ,  0.62222123,\n",
       "        0.22050516,  0.        ,  0.43460762,  0.        ,  0.        ])"
      ]
     },
     "execution_count": 49,
     "metadata": {},
     "output_type": "execute_result"
    }
   ],
   "source": [
    "slopes"
   ]
  },
  {
   "cell_type": "code",
   "execution_count": null,
   "metadata": {},
   "outputs": [],
   "source": []
  }
 ],
 "metadata": {
  "kernelspec": {
   "display_name": "trading_venv_clark",
   "language": "python",
   "name": "trading_venv_clark"
  },
  "toc": {
   "base_numbering": 1,
   "nav_menu": {},
   "number_sections": true,
   "sideBar": true,
   "skip_h1_title": false,
   "title_cell": "Table of Contents",
   "title_sidebar": "Contents",
   "toc_cell": false,
   "toc_position": {
    "height": "calc(100% - 180px)",
    "left": "10px",
    "top": "150px",
    "width": "186px"
   },
   "toc_section_display": true,
   "toc_window_display": true
  }
 },
 "nbformat": 4,
 "nbformat_minor": 2
}
