{
 "cells": [
  {
   "cell_type": "code",
   "execution_count": 18,
   "metadata": {},
   "outputs": [
    {
     "data": {
      "text/plain": [
       "False"
      ]
     },
     "execution_count": 18,
     "metadata": {},
     "output_type": "execute_result"
    }
   ],
   "source": [
    "import ray\n",
    "ray.is_initialized()"
   ]
  },
  {
   "cell_type": "code",
   "execution_count": null,
   "metadata": {},
   "outputs": [],
   "source": []
  },
  {
   "cell_type": "code",
   "execution_count": 6,
   "metadata": {},
   "outputs": [
    {
     "name": "stderr",
     "output_type": "stream",
     "text": [
      "2020-12-05 08:23:47,793\tINFO resource_spec.py:212 -- Starting Ray with 4.54 GiB memory available for workers and up to 2.28 GiB for objects. You can adjust these settings with ray.init(memory=<bytes>, object_store_memory=<bytes>).\n",
      "2020-12-05 08:23:48,911\tINFO services.py:551 -- Failed to connect to the redis server, retrying.\n",
      "2020-12-05 08:23:49,929\tINFO services.py:1148 -- View the Ray dashboard at \u001b[1m\u001b[32mlocalhost:8265\u001b[39m\u001b[22m\n"
     ]
    }
   ],
   "source": [
    "import ray\n",
    "\n",
    "c = ray.init()"
   ]
  },
  {
   "cell_type": "code",
   "execution_count": 10,
   "metadata": {},
   "outputs": [],
   "source": [
    "x = ray.nodes()"
   ]
  },
  {
   "cell_type": "code",
   "execution_count": 11,
   "metadata": {},
   "outputs": [
    {
     "data": {
      "text/plain": [
       "[{'NodeID': '1ceb0e8b2469e9b893ff5c23481fd428d4f5190b',\n",
       "  'Alive': True,\n",
       "  'NodeManagerAddress': '192.168.1.251',\n",
       "  'NodeManagerHostname': 'mski1413',\n",
       "  'NodeManagerPort': 60804,\n",
       "  'ObjectManagerPort': 60836,\n",
       "  'ObjectStoreSocketName': '/tmp/ray/session_2020-12-05_08-23-47_631132_19933/sockets/plasma_store',\n",
       "  'RayletSocketName': '/tmp/ray/session_2020-12-05_08-23-47_631132_19933/sockets/raylet',\n",
       "  'Resources': {'node:192.168.1.251': 1.0,\n",
       "   'object_store_memory': 32.0,\n",
       "   'CPU': 4.0,\n",
       "   'memory': 93.0},\n",
       "  'alive': True}]"
      ]
     },
     "execution_count": 11,
     "metadata": {},
     "output_type": "execute_result"
    }
   ],
   "source": [
    "x"
   ]
  },
  {
   "cell_type": "code",
   "execution_count": 17,
   "metadata": {},
   "outputs": [],
   "source": [
    "ray.shutdown()"
   ]
  },
  {
   "cell_type": "code",
   "execution_count": 35,
   "metadata": {},
   "outputs": [
    {
     "name": "stderr",
     "output_type": "stream",
     "text": [
      "2020-12-03 16:18:03,099\tWARNING worker.py:792 -- When connecting to an existing cluster, _internal_config must match the cluster's _internal_config.\n",
      "2020-12-03 16:18:03,153\tWARNING worker.py:792 -- When connecting to an existing cluster, _internal_config must match the cluster's _internal_config.\n",
      "2020-12-03 16:18:03,209\tWARNING worker.py:792 -- When connecting to an existing cluster, _internal_config must match the cluster's _internal_config.\n",
      "2020-12-03 16:18:03,261\tWARNING worker.py:792 -- When connecting to an existing cluster, _internal_config must match the cluster's _internal_config.\n",
      "2020-12-03 16:18:03,321\tWARNING worker.py:792 -- When connecting to an existing cluster, _internal_config must match the cluster's _internal_config.\n",
      "2020-12-03 16:18:03,376\tWARNING worker.py:792 -- When connecting to an existing cluster, _internal_config must match the cluster's _internal_config.\n",
      "2020-12-03 16:18:03,435\tWARNING worker.py:792 -- When connecting to an existing cluster, _internal_config must match the cluster's _internal_config.\n",
      "2020-12-03 16:18:03,485\tWARNING worker.py:792 -- When connecting to an existing cluster, _internal_config must match the cluster's _internal_config.\n",
      "2020-12-03 16:18:03,543\tWARNING worker.py:792 -- When connecting to an existing cluster, _internal_config must match the cluster's _internal_config.\n",
      "2020-12-03 16:18:03,595\tWARNING worker.py:792 -- When connecting to an existing cluster, _internal_config must match the cluster's _internal_config.\n",
      "2020-12-03 16:18:03,650\tWARNING worker.py:792 -- When connecting to an existing cluster, _internal_config must match the cluster's _internal_config.\n",
      "2020-12-03 16:18:03,703\tWARNING worker.py:792 -- When connecting to an existing cluster, _internal_config must match the cluster's _internal_config.\n",
      "2020-12-03 16:18:03,756\tWARNING worker.py:792 -- When connecting to an existing cluster, _internal_config must match the cluster's _internal_config.\n",
      "2020-12-03 16:18:03,820\tWARNING worker.py:792 -- When connecting to an existing cluster, _internal_config must match the cluster's _internal_config.\n",
      "2020-12-03 16:18:03,872\tWARNING worker.py:792 -- When connecting to an existing cluster, _internal_config must match the cluster's _internal_config.\n",
      "2020-12-03 16:18:03,933\tWARNING worker.py:792 -- When connecting to an existing cluster, _internal_config must match the cluster's _internal_config.\n",
      "2020-12-03 16:18:03,985\tWARNING worker.py:792 -- When connecting to an existing cluster, _internal_config must match the cluster's _internal_config.\n",
      "2020-12-03 16:18:04,041\tWARNING worker.py:792 -- When connecting to an existing cluster, _internal_config must match the cluster's _internal_config.\n",
      "2020-12-03 16:18:04,093\tWARNING worker.py:792 -- When connecting to an existing cluster, _internal_config must match the cluster's _internal_config.\n",
      "2020-12-03 16:18:04,150\tWARNING worker.py:792 -- When connecting to an existing cluster, _internal_config must match the cluster's _internal_config.\n",
      "2020-12-03 16:18:04,207\tWARNING worker.py:792 -- When connecting to an existing cluster, _internal_config must match the cluster's _internal_config.\n",
      "2020-12-03 16:18:04,268\tWARNING worker.py:792 -- When connecting to an existing cluster, _internal_config must match the cluster's _internal_config.\n",
      "2020-12-03 16:18:04,318\tWARNING worker.py:792 -- When connecting to an existing cluster, _internal_config must match the cluster's _internal_config.\n",
      "2020-12-03 16:18:04,374\tWARNING worker.py:792 -- When connecting to an existing cluster, _internal_config must match the cluster's _internal_config.\n",
      "2020-12-03 16:18:04,434\tWARNING worker.py:792 -- When connecting to an existing cluster, _internal_config must match the cluster's _internal_config.\n",
      "2020-12-03 16:18:04,485\tWARNING worker.py:792 -- When connecting to an existing cluster, _internal_config must match the cluster's _internal_config.\n",
      "2020-12-03 16:18:04,542\tWARNING worker.py:792 -- When connecting to an existing cluster, _internal_config must match the cluster's _internal_config.\n",
      "2020-12-03 16:18:04,594\tWARNING worker.py:792 -- When connecting to an existing cluster, _internal_config must match the cluster's _internal_config.\n",
      "2020-12-03 16:18:04,650\tWARNING worker.py:792 -- When connecting to an existing cluster, _internal_config must match the cluster's _internal_config.\n",
      "2020-12-03 16:18:04,703\tWARNING worker.py:792 -- When connecting to an existing cluster, _internal_config must match the cluster's _internal_config.\n",
      "2020-12-03 16:18:04,758\tWARNING worker.py:792 -- When connecting to an existing cluster, _internal_config must match the cluster's _internal_config.\n",
      "2020-12-03 16:18:04,810\tWARNING worker.py:792 -- When connecting to an existing cluster, _internal_config must match the cluster's _internal_config.\n",
      "2020-12-03 16:18:04,860\tWARNING worker.py:792 -- When connecting to an existing cluster, _internal_config must match the cluster's _internal_config.\n",
      "2020-12-03 16:18:04,915\tWARNING worker.py:792 -- When connecting to an existing cluster, _internal_config must match the cluster's _internal_config.\n",
      "2020-12-03 16:18:04,964\tWARNING worker.py:792 -- When connecting to an existing cluster, _internal_config must match the cluster's _internal_config.\n",
      "2020-12-03 16:18:05,015\tWARNING worker.py:792 -- When connecting to an existing cluster, _internal_config must match the cluster's _internal_config.\n",
      "2020-12-03 16:18:05,065\tWARNING worker.py:792 -- When connecting to an existing cluster, _internal_config must match the cluster's _internal_config.\n",
      "2020-12-03 16:18:05,118\tWARNING worker.py:792 -- When connecting to an existing cluster, _internal_config must match the cluster's _internal_config.\n",
      "2020-12-03 16:18:05,172\tWARNING worker.py:792 -- When connecting to an existing cluster, _internal_config must match the cluster's _internal_config.\n",
      "2020-12-03 16:18:05,226\tWARNING worker.py:792 -- When connecting to an existing cluster, _internal_config must match the cluster's _internal_config.\n",
      "2020-12-03 16:18:05,283\tWARNING worker.py:792 -- When connecting to an existing cluster, _internal_config must match the cluster's _internal_config.\n",
      "2020-12-03 16:18:05,333\tWARNING worker.py:792 -- When connecting to an existing cluster, _internal_config must match the cluster's _internal_config.\n",
      "2020-12-03 16:18:05,387\tWARNING worker.py:792 -- When connecting to an existing cluster, _internal_config must match the cluster's _internal_config.\n",
      "2020-12-03 16:18:05,471\tWARNING worker.py:792 -- When connecting to an existing cluster, _internal_config must match the cluster's _internal_config.\n",
      "2020-12-03 16:18:05,522\tWARNING worker.py:792 -- When connecting to an existing cluster, _internal_config must match the cluster's _internal_config.\n",
      "2020-12-03 16:18:05,575\tWARNING worker.py:792 -- When connecting to an existing cluster, _internal_config must match the cluster's _internal_config.\n",
      "2020-12-03 16:18:05,631\tWARNING worker.py:792 -- When connecting to an existing cluster, _internal_config must match the cluster's _internal_config.\n",
      "2020-12-03 16:18:05,694\tWARNING worker.py:792 -- When connecting to an existing cluster, _internal_config must match the cluster's _internal_config.\n",
      "2020-12-03 16:18:05,753\tWARNING worker.py:792 -- When connecting to an existing cluster, _internal_config must match the cluster's _internal_config.\n",
      "2020-12-03 16:18:05,810\tWARNING worker.py:792 -- When connecting to an existing cluster, _internal_config must match the cluster's _internal_config.\n",
      "2020-12-03 16:18:05,870\tWARNING worker.py:792 -- When connecting to an existing cluster, _internal_config must match the cluster's _internal_config.\n",
      "2020-12-03 16:18:05,929\tWARNING worker.py:792 -- When connecting to an existing cluster, _internal_config must match the cluster's _internal_config.\n",
      "2020-12-03 16:18:05,986\tWARNING worker.py:792 -- When connecting to an existing cluster, _internal_config must match the cluster's _internal_config.\n",
      "2020-12-03 16:18:06,051\tWARNING worker.py:792 -- When connecting to an existing cluster, _internal_config must match the cluster's _internal_config.\n",
      "2020-12-03 16:18:06,104\tWARNING worker.py:792 -- When connecting to an existing cluster, _internal_config must match the cluster's _internal_config.\n"
     ]
    },
    {
     "name": "stderr",
     "output_type": "stream",
     "text": [
      "2020-12-03 16:18:06,162\tWARNING worker.py:792 -- When connecting to an existing cluster, _internal_config must match the cluster's _internal_config.\n",
      "2020-12-03 16:18:06,221\tWARNING worker.py:792 -- When connecting to an existing cluster, _internal_config must match the cluster's _internal_config.\n",
      "2020-12-03 16:18:06,278\tWARNING worker.py:792 -- When connecting to an existing cluster, _internal_config must match the cluster's _internal_config.\n",
      "2020-12-03 16:18:06,339\tWARNING worker.py:792 -- When connecting to an existing cluster, _internal_config must match the cluster's _internal_config.\n",
      "2020-12-03 16:18:06,403\tWARNING worker.py:792 -- When connecting to an existing cluster, _internal_config must match the cluster's _internal_config.\n",
      "2020-12-03 16:18:06,464\tWARNING worker.py:792 -- When connecting to an existing cluster, _internal_config must match the cluster's _internal_config.\n",
      "2020-12-03 16:18:06,528\tWARNING worker.py:792 -- When connecting to an existing cluster, _internal_config must match the cluster's _internal_config.\n",
      "2020-12-03 16:18:06,588\tWARNING worker.py:792 -- When connecting to an existing cluster, _internal_config must match the cluster's _internal_config.\n",
      "2020-12-03 16:18:06,649\tWARNING worker.py:792 -- When connecting to an existing cluster, _internal_config must match the cluster's _internal_config.\n",
      "2020-12-03 16:18:06,707\tWARNING worker.py:792 -- When connecting to an existing cluster, _internal_config must match the cluster's _internal_config.\n",
      "2020-12-03 16:18:06,762\tWARNING worker.py:792 -- When connecting to an existing cluster, _internal_config must match the cluster's _internal_config.\n",
      "2020-12-03 16:18:06,814\tWARNING worker.py:792 -- When connecting to an existing cluster, _internal_config must match the cluster's _internal_config.\n",
      "2020-12-03 16:18:06,866\tWARNING worker.py:792 -- When connecting to an existing cluster, _internal_config must match the cluster's _internal_config.\n",
      "2020-12-03 16:18:06,921\tWARNING worker.py:792 -- When connecting to an existing cluster, _internal_config must match the cluster's _internal_config.\n",
      "2020-12-03 16:18:06,971\tWARNING worker.py:792 -- When connecting to an existing cluster, _internal_config must match the cluster's _internal_config.\n",
      "2020-12-03 16:18:07,023\tWARNING worker.py:792 -- When connecting to an existing cluster, _internal_config must match the cluster's _internal_config.\n",
      "2020-12-03 16:18:07,073\tWARNING worker.py:792 -- When connecting to an existing cluster, _internal_config must match the cluster's _internal_config.\n",
      "2020-12-03 16:18:07,122\tWARNING worker.py:792 -- When connecting to an existing cluster, _internal_config must match the cluster's _internal_config.\n",
      "2020-12-03 16:18:07,175\tWARNING worker.py:792 -- When connecting to an existing cluster, _internal_config must match the cluster's _internal_config.\n",
      "2020-12-03 16:18:07,224\tWARNING worker.py:792 -- When connecting to an existing cluster, _internal_config must match the cluster's _internal_config.\n",
      "2020-12-03 16:18:07,275\tWARNING worker.py:792 -- When connecting to an existing cluster, _internal_config must match the cluster's _internal_config.\n",
      "2020-12-03 16:18:07,325\tWARNING worker.py:792 -- When connecting to an existing cluster, _internal_config must match the cluster's _internal_config.\n",
      "2020-12-03 16:18:07,378\tWARNING worker.py:792 -- When connecting to an existing cluster, _internal_config must match the cluster's _internal_config.\n",
      "2020-12-03 16:18:07,437\tWARNING worker.py:792 -- When connecting to an existing cluster, _internal_config must match the cluster's _internal_config.\n",
      "2020-12-03 16:18:07,495\tWARNING worker.py:792 -- When connecting to an existing cluster, _internal_config must match the cluster's _internal_config.\n",
      "2020-12-03 16:18:07,559\tWARNING worker.py:792 -- When connecting to an existing cluster, _internal_config must match the cluster's _internal_config.\n"
     ]
    },
    {
     "name": "stdout",
     "output_type": "stream",
     "text": [
      "55.8 ms ± 2.5 ms per loop (mean ± std. dev. of 7 runs, 10 loops each)\n"
     ]
    }
   ],
   "source": [
    "%%timeit\n",
    "ray.shutdown()\n",
    "ray.init(address='auto', redis_password=\"gn8GWVrMJ3cSX4\")"
   ]
  },
  {
   "cell_type": "code",
   "execution_count": 36,
   "metadata": {},
   "outputs": [
    {
     "name": "stderr",
     "output_type": "stream",
     "text": [
      "2020-12-03 16:18:15,875\tINFO resource_spec.py:212 -- Starting Ray with 4.05 GiB memory available for workers and up to 2.03 GiB for objects. You can adjust these settings with ray.init(memory=<bytes>, object_store_memory=<bytes>).\n",
      "2020-12-03 16:18:16,153\tINFO services.py:1148 -- View the Ray dashboard at \u001b[1m\u001b[32mlocalhost:8266\u001b[39m\u001b[22m\n",
      "2020-12-03 16:18:16,628\tINFO resource_spec.py:212 -- Starting Ray with 4.05 GiB memory available for workers and up to 2.03 GiB for objects. You can adjust these settings with ray.init(memory=<bytes>, object_store_memory=<bytes>).\n",
      "2020-12-03 16:18:16,896\tINFO services.py:1148 -- View the Ray dashboard at \u001b[1m\u001b[32mlocalhost:8266\u001b[39m\u001b[22m\n",
      "2020-12-03 16:18:17,729\tINFO resource_spec.py:212 -- Starting Ray with 4.05 GiB memory available for workers and up to 2.03 GiB for objects. You can adjust these settings with ray.init(memory=<bytes>, object_store_memory=<bytes>).\n",
      "2020-12-03 16:18:18,016\tINFO services.py:1148 -- View the Ray dashboard at \u001b[1m\u001b[32mlocalhost:8266\u001b[39m\u001b[22m\n",
      "2020-12-03 16:18:18,344\tINFO resource_spec.py:212 -- Starting Ray with 4.05 GiB memory available for workers and up to 2.03 GiB for objects. You can adjust these settings with ray.init(memory=<bytes>, object_store_memory=<bytes>).\n",
      "2020-12-03 16:18:18,625\tINFO services.py:1148 -- View the Ray dashboard at \u001b[1m\u001b[32mlocalhost:8266\u001b[39m\u001b[22m\n",
      "2020-12-03 16:18:19,594\tINFO resource_spec.py:212 -- Starting Ray with 4.05 GiB memory available for workers and up to 2.03 GiB for objects. You can adjust these settings with ray.init(memory=<bytes>, object_store_memory=<bytes>).\n",
      "2020-12-03 16:18:19,865\tINFO services.py:1148 -- View the Ray dashboard at \u001b[1m\u001b[32mlocalhost:8266\u001b[39m\u001b[22m\n",
      "2020-12-03 16:18:20,736\tINFO resource_spec.py:212 -- Starting Ray with 4.05 GiB memory available for workers and up to 2.03 GiB for objects. You can adjust these settings with ray.init(memory=<bytes>, object_store_memory=<bytes>).\n",
      "2020-12-03 16:18:21,007\tINFO services.py:1148 -- View the Ray dashboard at \u001b[1m\u001b[32mlocalhost:8266\u001b[39m\u001b[22m\n",
      "2020-12-03 16:18:22,025\tINFO resource_spec.py:212 -- Starting Ray with 4.05 GiB memory available for workers and up to 2.03 GiB for objects. You can adjust these settings with ray.init(memory=<bytes>, object_store_memory=<bytes>).\n",
      "2020-12-03 16:18:22,305\tINFO services.py:1148 -- View the Ray dashboard at \u001b[1m\u001b[32mlocalhost:8266\u001b[39m\u001b[22m\n",
      "2020-12-03 16:18:22,637\tINFO resource_spec.py:212 -- Starting Ray with 4.05 GiB memory available for workers and up to 2.03 GiB for objects. You can adjust these settings with ray.init(memory=<bytes>, object_store_memory=<bytes>).\n",
      "2020-12-03 16:18:22,933\tINFO services.py:1148 -- View the Ray dashboard at \u001b[1m\u001b[32mlocalhost:8266\u001b[39m\u001b[22m\n"
     ]
    },
    {
     "name": "stdout",
     "output_type": "stream",
     "text": [
      "961 ms ± 206 ms per loop (mean ± std. dev. of 7 runs, 1 loop each)\n"
     ]
    }
   ],
   "source": [
    "%%timeit\n",
    "ray.shutdown()\n",
    "ray.init()"
   ]
  },
  {
   "cell_type": "code",
   "execution_count": 5,
   "metadata": {},
   "outputs": [
    {
     "ename": "NameError",
     "evalue": "name 'ray' is not defined",
     "output_type": "error",
     "traceback": [
      "\u001b[0;31m---------------------------------------------------------------------------\u001b[0m",
      "\u001b[0;31mNameError\u001b[0m                                 Traceback (most recent call last)",
      "\u001b[0;32m<ipython-input-5-625bbe42cd63>\u001b[0m in \u001b[0;36m<module>\u001b[0;34m()\u001b[0m\n\u001b[0;32m----> 1\u001b[0;31m \u001b[0mray\u001b[0m\u001b[0;34m.\u001b[0m\u001b[0mnodes\u001b[0m\u001b[0;34m(\u001b[0m\u001b[0;34m)\u001b[0m\u001b[0;34m\u001b[0m\u001b[0;34m\u001b[0m\u001b[0m\n\u001b[0m",
      "\u001b[0;31mNameError\u001b[0m: name 'ray' is not defined"
     ]
    }
   ],
   "source": [
    "ray.nodes()"
   ]
  },
  {
   "cell_type": "code",
   "execution_count": 32,
   "metadata": {},
   "outputs": [],
   "source": [
    "info = ray.nodes()\n",
    "\n",
    "GPUs = [d['Resources']['GPU'] for d in info if 'GPU' in d['Resources']]"
   ]
  },
  {
   "cell_type": "code",
   "execution_count": 33,
   "metadata": {},
   "outputs": [
    {
     "data": {
      "text/plain": [
       "[2.0, 1.0, 1.0]"
      ]
     },
     "execution_count": 33,
     "metadata": {},
     "output_type": "execute_result"
    }
   ],
   "source": [
    "GPUs"
   ]
  },
  {
   "cell_type": "code",
   "execution_count": 3,
   "metadata": {},
   "outputs": [],
   "source": [
    "import pipecaster.pool as pool"
   ]
  },
  {
   "cell_type": "code",
   "execution_count": 4,
   "metadata": {},
   "outputs": [],
   "source": [
    "pool.max_cpus"
   ]
  },
  {
   "cell_type": "code",
   "execution_count": null,
   "metadata": {},
   "outputs": [],
   "source": [
    "import ray."
   ]
  },
  {
   "cell_type": "code",
   "execution_count": 8,
   "metadata": {},
   "outputs": [
    {
     "ename": "KeyError",
     "evalue": "'CUDA_VISIBLE_DEVICES'",
     "output_type": "error",
     "traceback": [
      "\u001b[0;31m---------------------------------------------------------------------------\u001b[0m",
      "\u001b[0;31mKeyError\u001b[0m                                  Traceback (most recent call last)",
      "\u001b[0;32m<ipython-input-8-2637a9c2e7b0>\u001b[0m in \u001b[0;36m<module>\u001b[0;34m()\u001b[0m\n\u001b[1;32m      1\u001b[0m \u001b[0;32mimport\u001b[0m \u001b[0mos\u001b[0m\u001b[0;34m\u001b[0m\u001b[0;34m\u001b[0m\u001b[0m\n\u001b[0;32m----> 2\u001b[0;31m \u001b[0mos\u001b[0m\u001b[0;34m.\u001b[0m\u001b[0menviron\u001b[0m\u001b[0;34m[\u001b[0m\u001b[0;34m\"CUDA_VISIBLE_DEVICES\"\u001b[0m\u001b[0;34m]\u001b[0m\u001b[0;34m\u001b[0m\u001b[0;34m\u001b[0m\u001b[0m\n\u001b[0m",
      "\u001b[0;32m/Library/Frameworks/Python.framework/Versions/3.7/lib/python3.7/os.py\u001b[0m in \u001b[0;36m__getitem__\u001b[0;34m(self, key)\u001b[0m\n\u001b[1;32m    677\u001b[0m         \u001b[0;32mexcept\u001b[0m \u001b[0mKeyError\u001b[0m\u001b[0;34m:\u001b[0m\u001b[0;34m\u001b[0m\u001b[0;34m\u001b[0m\u001b[0m\n\u001b[1;32m    678\u001b[0m             \u001b[0;31m# raise KeyError with the original key value\u001b[0m\u001b[0;34m\u001b[0m\u001b[0;34m\u001b[0m\u001b[0;34m\u001b[0m\u001b[0m\n\u001b[0;32m--> 679\u001b[0;31m             \u001b[0;32mraise\u001b[0m \u001b[0mKeyError\u001b[0m\u001b[0;34m(\u001b[0m\u001b[0mkey\u001b[0m\u001b[0;34m)\u001b[0m \u001b[0;32mfrom\u001b[0m \u001b[0;32mNone\u001b[0m\u001b[0;34m\u001b[0m\u001b[0;34m\u001b[0m\u001b[0m\n\u001b[0m\u001b[1;32m    680\u001b[0m         \u001b[0;32mreturn\u001b[0m \u001b[0mself\u001b[0m\u001b[0;34m.\u001b[0m\u001b[0mdecodevalue\u001b[0m\u001b[0;34m(\u001b[0m\u001b[0mvalue\u001b[0m\u001b[0;34m)\u001b[0m\u001b[0;34m\u001b[0m\u001b[0;34m\u001b[0m\u001b[0m\n\u001b[1;32m    681\u001b[0m \u001b[0;34m\u001b[0m\u001b[0m\n",
      "\u001b[0;31mKeyError\u001b[0m: 'CUDA_VISIBLE_DEVICES'"
     ]
    }
   ],
   "source": [
    "import os\n",
    "os.environ[\"CUDA_VISIBLE_DEVICES\"]"
   ]
  },
  {
   "cell_type": "code",
   "execution_count": null,
   "metadata": {},
   "outputs": [],
   "source": []
  }
 ],
 "metadata": {
  "kernelspec": {
   "display_name": "trading_venv_clark",
   "language": "python",
   "name": "trading_venv_clark"
  },
  "language_info": {
   "codemirror_mode": {
    "name": "ipython",
    "version": 3
   },
   "file_extension": ".py",
   "mimetype": "text/x-python",
   "name": "python",
   "nbconvert_exporter": "python",
   "pygments_lexer": "ipython3",
   "version": "3.7.5"
  },
  "toc": {
   "base_numbering": 1,
   "nav_menu": {},
   "number_sections": true,
   "sideBar": true,
   "skip_h1_title": false,
   "title_cell": "Table of Contents",
   "title_sidebar": "Contents",
   "toc_cell": false,
   "toc_position": {},
   "toc_section_display": true,
   "toc_window_display": true
  }
 },
 "nbformat": 4,
 "nbformat_minor": 2
}
