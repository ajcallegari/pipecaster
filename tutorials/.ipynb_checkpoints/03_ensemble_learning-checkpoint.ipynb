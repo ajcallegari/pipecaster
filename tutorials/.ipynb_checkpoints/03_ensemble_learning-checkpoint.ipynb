{
 "cells": [
  {
   "cell_type": "markdown",
   "metadata": {},
   "source": [
    "# tutorial 3: ensemble learning\n",
    "\n",
    "This tutorial show you how to use classes from the **ensemble_learning** module to:\n",
    "* make predictions from an ensemble of different algorithms trained on the same input channel using the **Ensemble** class\n",
    "* make predictions from an ensemble of models trained on different input channels using the **ChanneEnsemble** class\n",
    "\n",
    "ML models that win competitions often use ensemble learning approaches that combine the inferences of an ensemble of different ML algorithms to make a final prediction.  Predictor voting and stacked generalization are powerful methods for combining inferences that can create accurate predictions from inaccurate models. Both methods require prediction error in the ensemble to be uncorrelated.\n",
    "\n",
    "Pipecaster makes conventional single channel voting and stacked genearlization approaches easy with a single class: **Ensemble**.  In addition, the **ChannelEnsemble** class provides similar functionality for models trained on different input channels.\n",
    "\n",
    "Both **Ensemble** and **ChannelEnsemble** classes also allow screening of base predictors using internal cross validation.  Screening can sometimes improve performance by dropping inaccurate models."
   ]
  },
  {
   "cell_type": "markdown",
   "metadata": {},
   "source": [
    "## Single channel ensembles"
   ]
  },
  {
   "cell_type": "markdown",
   "metadata": {},
   "source": [
    "### Voting\n",
    "\n",
    "This example illustrates the use of pipecaster's **Ensemble** class to make a voting ensemble classifier.  The ensemble in this examplse has six different ML classifier algorithms.  The predicted class probabilites from these classifiers are averaged using pipecaster's **SoftVotingClassifer** and the highest average class probability used to make an ensemble prediction.  Pipecaster also provides a **HardVotingClassifier** class that predicts with the most frequent base prediction, and the **AggregatingRegressor** class to combine the predictions of regressors.\n",
    "\n",
    "*Note*: since this ensemble predictor takes only 1 input, feature scaling is added using scikit-learn's Pipeline class rather than MultichannelPipeline. "
   ]
  },
  {
   "cell_type": "code",
   "execution_count": 10,
   "metadata": {},
   "outputs": [
    {
     "data": {
      "text/plain": [
       "[0.8324010327022375, 0.8146156052782558, 0.8313253012048193]"
      ]
     },
     "execution_count": 10,
     "metadata": {},
     "output_type": "execute_result"
    }
   ],
   "source": [
    "from sklearn.datasets import make_classification\n",
    "from sklearn.preprocessing import StandardScaler\n",
    "from sklearn.neural_network import MLPClassifier\n",
    "from sklearn.linear_model import LogisticRegression\n",
    "from sklearn.neighbors import KNeighborsClassifier\n",
    "from sklearn.ensemble import GradientBoostingClassifier\n",
    "from sklearn.ensemble import RandomForestClassifier\n",
    "from sklearn.naive_bayes import GaussianNB\n",
    "from sklearn.pipeline import Pipeline\n",
    "import pipecaster as pc\n",
    "\n",
    "X, y = make_classification(n_classes=2, n_samples=500, n_features=100,\n",
    "                           n_informative=5, class_sep=0.6)\n",
    "\n",
    "predictors = [MLPClassifier(), LogisticRegression(),\n",
    "              KNeighborsClassifier(),  GradientBoostingClassifier(),\n",
    "              RandomForestClassifier(), GaussianNB()]\n",
    "\n",
    "ensemble_clf = pc.Ensemble(\n",
    "                 base_predictors=predictors,\n",
    "                 meta_predictor=pc.SoftVotingClassifier(),\n",
    "                 base_processes='max')\n",
    "\n",
    "clf = Pipeline([('scaler', StandardScaler()), ('ensemble_clf', ensemble_clf)])\n",
    "\n",
    "pc.cross_val_score(clf, X, y)"
   ]
  },
  {
   "cell_type": "markdown",
   "metadata": {},
   "source": [
    "### Stacked generalization\n",
    "\n",
    "This example illustrates the use of pipecaster's **Ensemble** class to stack ML models for ensemble learning.  The ensemble in this example has six different ML classifier algorithms.  A support vector machine (SVC) is stacked on top of these base classifiers, using their predictions as features for meta-prediction.\n",
    "\n",
    "**Internal Cross Validation (CV) Training**\n",
    "When training a meta-predictor (SVC in this example), it is standard practice to use internal\n",
    "CV training of the base classifiers to prevent them from making inferences on training samples (1).  With internal CV training, training sample prediction is avoided by training training each base predictor multiple times on subsets of the data and using the models to make predicitions about held-out samples.  Line 23 in the code below activates internal CV and line 24 specifies that the CV prediction will be used to train the meta-predictor (the default option when CV is activated, shown here to be explicit).\n",
    "\n",
    "(1) Wolpert, David H. \"Stacked generalization.\"\n",
    "Neural networks 5.2 (1992): 241-259."
   ]
  },
  {
   "cell_type": "code",
   "execution_count": 18,
   "metadata": {},
   "outputs": [
    {
     "name": "stderr",
     "output_type": "stream",
     "text": [
      "\u001b[2m\u001b[36m(pid=37423)\u001b[0m /Users/john/trading/src/venv/lib/python3.7/site-packages/sklearn/neural_network/_multilayer_perceptron.py:585: ConvergenceWarning: Stochastic Optimizer: Maximum iterations (200) reached and the optimization hasn't converged yet.\n",
      "\u001b[2m\u001b[36m(pid=37423)\u001b[0m   % self.max_iter, ConvergenceWarning)\n",
      "\u001b[2m\u001b[36m(pid=37423)\u001b[0m /Users/john/trading/src/venv/lib/python3.7/site-packages/sklearn/neural_network/_multilayer_perceptron.py:585: ConvergenceWarning: Stochastic Optimizer: Maximum iterations (200) reached and the optimization hasn't converged yet.\n",
      "\u001b[2m\u001b[36m(pid=37423)\u001b[0m   % self.max_iter, ConvergenceWarning)\n",
      "\u001b[2m\u001b[36m(pid=37425)\u001b[0m /Users/john/trading/src/venv/lib/python3.7/site-packages/sklearn/neural_network/_multilayer_perceptron.py:585: ConvergenceWarning: Stochastic Optimizer: Maximum iterations (200) reached and the optimization hasn't converged yet.\n",
      "\u001b[2m\u001b[36m(pid=37425)\u001b[0m   % self.max_iter, ConvergenceWarning)\n",
      "\u001b[2m\u001b[36m(pid=37424)\u001b[0m /Users/john/trading/src/venv/lib/python3.7/site-packages/sklearn/neural_network/_multilayer_perceptron.py:585: ConvergenceWarning: Stochastic Optimizer: Maximum iterations (200) reached and the optimization hasn't converged yet.\n",
      "\u001b[2m\u001b[36m(pid=37424)\u001b[0m   % self.max_iter, ConvergenceWarning)\n"
     ]
    },
    {
     "data": {
      "text/plain": [
       "[0.7541594951233506, 0.7360154905335627, 0.7289156626506024]"
      ]
     },
     "execution_count": 18,
     "metadata": {},
     "output_type": "execute_result"
    }
   ],
   "source": [
    "from sklearn.datasets import make_classification\n",
    "from sklearn.preprocessing import StandardScaler\n",
    "from sklearn.neural_network import MLPClassifier\n",
    "from sklearn.linear_model import LogisticRegression\n",
    "from sklearn.neighbors import KNeighborsClassifier\n",
    "from sklearn.ensemble import GradientBoostingClassifier\n",
    "from sklearn.ensemble import RandomForestClassifier\n",
    "from sklearn.naive_bayes import GaussianNB\n",
    "from sklearn.svm import SVC\n",
    "from sklearn.pipeline import Pipeline\n",
    "import pipecaster as pc\n",
    "\n",
    "X, y = make_classification(n_classes=2, n_samples=500, n_features=100,\n",
    "                           n_informative=5, class_sep=0.6)\n",
    "\n",
    "predictors = [MLPClassifier(), LogisticRegression(),\n",
    "              KNeighborsClassifier(),  GradientBoostingClassifier(),\n",
    "              RandomForestClassifier(), GaussianNB()]\n",
    "\n",
    "ensemble_clf = pc.Ensemble(\n",
    "                 base_predictors=predictors,\n",
    "                 meta_predictor=SVC(),\n",
    "                 internal_cv=5,\n",
    "                 disable_cv_train=False, \n",
    "                 base_processes='max')\n",
    "\n",
    "clf = Pipeline([('scaler', StandardScaler()),\n",
    "                ('ensemble_clf', ensemble_clf)])\n",
    "\n",
    "pc.cross_val_score(clf, X, y)"
   ]
  },
  {
   "cell_type": "markdown",
   "metadata": {},
   "source": [
    "### Stacked generalization with model selection\n",
    "\n",
    "Internal cross validation was introduced in the previous example as a method for reducing overfitting during stacked generalization.  It can also be used for in-pipeline model selection.  When there are inaccurate models in the ensemble with error that is correlated with higher accuracy models, inferences from these inaccurate models can reduce predictive accuracy.  \n",
    "\n",
    "Lines 24 and 25 in this example are the only lines that differ from the previous example.  These lines are added to provide methods for scoring and selecting models.  Line 24 designates the default scoring method, which in this place will be set to balanced_accuracy_score when Ensemble detects that its predictors are classifiers (or explained_variance_score if it they were regressors).  Line 25 instructs Ensemble to select the 2 models with the highest balanced_accuracy scores.  For more information see the the API documentation for **Ensemble** and for pipecaster's **score_selection** module.   "
   ]
  },
  {
   "cell_type": "code",
   "execution_count": 19,
   "metadata": {},
   "outputs": [
    {
     "name": "stderr",
     "output_type": "stream",
     "text": [
      "\u001b[2m\u001b[36m(pid=37423)\u001b[0m /Users/john/trading/src/venv/lib/python3.7/site-packages/sklearn/neural_network/_multilayer_perceptron.py:585: ConvergenceWarning: Stochastic Optimizer: Maximum iterations (200) reached and the optimization hasn't converged yet.\n",
      "\u001b[2m\u001b[36m(pid=37423)\u001b[0m   % self.max_iter, ConvergenceWarning)\n",
      "\u001b[2m\u001b[36m(pid=37423)\u001b[0m /Users/john/trading/src/venv/lib/python3.7/site-packages/sklearn/neural_network/_multilayer_perceptron.py:585: ConvergenceWarning: Stochastic Optimizer: Maximum iterations (200) reached and the optimization hasn't converged yet.\n",
      "\u001b[2m\u001b[36m(pid=37423)\u001b[0m   % self.max_iter, ConvergenceWarning)\n",
      "\u001b[2m\u001b[36m(pid=37425)\u001b[0m /Users/john/trading/src/venv/lib/python3.7/site-packages/sklearn/neural_network/_multilayer_perceptron.py:585: ConvergenceWarning: Stochastic Optimizer: Maximum iterations (200) reached and the optimization hasn't converged yet.\n",
      "\u001b[2m\u001b[36m(pid=37425)\u001b[0m   % self.max_iter, ConvergenceWarning)\n",
      "\u001b[2m\u001b[36m(pid=37425)\u001b[0m /Users/john/trading/src/venv/lib/python3.7/site-packages/sklearn/neural_network/_multilayer_perceptron.py:585: ConvergenceWarning: Stochastic Optimizer: Maximum iterations (200) reached and the optimization hasn't converged yet.\n",
      "\u001b[2m\u001b[36m(pid=37425)\u001b[0m   % self.max_iter, ConvergenceWarning)\n"
     ]
    },
    {
     "data": {
      "text/plain": [
       "[0.7304216867469879, 0.7780407343660356, 0.8012048192771084]"
      ]
     },
     "execution_count": 19,
     "metadata": {},
     "output_type": "execute_result"
    }
   ],
   "source": [
    "from sklearn.datasets import make_classification\n",
    "from sklearn.preprocessing import StandardScaler\n",
    "from sklearn.neural_network import MLPClassifier\n",
    "from sklearn.linear_model import LogisticRegression\n",
    "from sklearn.neighbors import KNeighborsClassifier\n",
    "from sklearn.ensemble import GradientBoostingClassifier\n",
    "from sklearn.ensemble import RandomForestClassifier\n",
    "from sklearn.naive_bayes import GaussianNB\n",
    "from sklearn.svm import SVC\n",
    "from sklearn.pipeline import Pipeline\n",
    "import pipecaster as pc\n",
    "\n",
    "X, y = make_classification(n_classes=2, n_samples=500, n_features=100,\n",
    "                           n_informative=5, class_sep=0.6)\n",
    "\n",
    "predictors = [MLPClassifier(), LogisticRegression(),\n",
    "              KNeighborsClassifier(),  GradientBoostingClassifier(),\n",
    "              RandomForestClassifier(), GaussianNB()]\n",
    "\n",
    "ensemble_clf = pc.Ensemble(\n",
    "                 base_predictors=predictors,\n",
    "                 meta_predictor=SVC(),\n",
    "                 internal_cv=5, \n",
    "                 scorer='auto',\n",
    "                 score_selector=pc.RankScoreSelector(k=2),\n",
    "                 disable_cv_train=False, \n",
    "                 base_processes='max')\n",
    "\n",
    "clf = Pipeline([('scaler', StandardScaler()),\n",
    "                ('ensemble_clf', ensemble_clf)])\n",
    "\n",
    "pc.cross_val_score(clf, X, y)"
   ]
  },
  {
   "cell_type": "code",
   "execution_count": 20,
   "metadata": {},
   "outputs": [
    {
     "name": "stderr",
     "output_type": "stream",
     "text": [
      "\u001b[2m\u001b[36m(pid=37423)\u001b[0m /Users/john/trading/src/venv/lib/python3.7/site-packages/sklearn/neural_network/_multilayer_perceptron.py:585: ConvergenceWarning: Stochastic Optimizer: Maximum iterations (200) reached and the optimization hasn't converged yet.\n",
      "\u001b[2m\u001b[36m(pid=37423)\u001b[0m   % self.max_iter, ConvergenceWarning)\n",
      "\u001b[2m\u001b[36m(pid=37423)\u001b[0m /Users/john/trading/src/venv/lib/python3.7/site-packages/sklearn/neural_network/_multilayer_perceptron.py:585: ConvergenceWarning: Stochastic Optimizer: Maximum iterations (200) reached and the optimization hasn't converged yet.\n",
      "\u001b[2m\u001b[36m(pid=37423)\u001b[0m   % self.max_iter, ConvergenceWarning)\n"
     ]
    },
    {
     "data": {
      "text/plain": [
       "[GradientBoostingClassifier(), RandomForestClassifier()]"
      ]
     },
     "execution_count": 20,
     "metadata": {},
     "output_type": "execute_result"
    }
   ],
   "source": [
    "# inspect models selected by Ensemble\n",
    "clf.fit(X, y)\n",
    "ensemble_clf = clf.named_steps['ensemble_clf']\n",
    "selected_models = [p for i, p in enumerate(predictors) if i in ensemble_clf.get_support()]\n",
    "selected_models"
   ]
  },
  {
   "cell_type": "markdown",
   "metadata": {},
   "source": [
    "### Model selection \n",
    "\n",
    "The **Ensemble** class can also be used without a meta_predictor for model model selection.  When the meta_predictor parameter is left at the default value of None during Ensemble initialization, Ensemble will use internal cv and scoring to select the best predictor in the ensemble durin fitting.  Only the most accurate predictor in the ensemble predictor will be stored and used for inference."
   ]
  },
  {
   "cell_type": "code",
   "execution_count": 1,
   "metadata": {},
   "outputs": [
    {
     "name": "stderr",
     "output_type": "stream",
     "text": [
      "File descriptor limit 256 is too low for production servers and may result in connection errors. At least 8192 is recommended. --- Fix with 'ulimit -n 8192'\n",
      "2021-03-01 11:34:27,123\tINFO services.py:1173 -- View the Ray dashboard at \u001b[1m\u001b[32mhttp://127.0.0.1:8265\u001b[39m\u001b[22m\n",
      "\u001b[2m\u001b[36m(pid=38635)\u001b[0m /Users/john/trading/src/venv/lib/python3.7/site-packages/sklearn/neural_network/_multilayer_perceptron.py:585: ConvergenceWarning: Stochastic Optimizer: Maximum iterations (200) reached and the optimization hasn't converged yet.\n",
      "\u001b[2m\u001b[36m(pid=38635)\u001b[0m   % self.max_iter, ConvergenceWarning)\n",
      "\u001b[2m\u001b[36m(pid=38635)\u001b[0m /Users/john/trading/src/venv/lib/python3.7/site-packages/sklearn/neural_network/_multilayer_perceptron.py:585: ConvergenceWarning: Stochastic Optimizer: Maximum iterations (200) reached and the optimization hasn't converged yet.\n",
      "\u001b[2m\u001b[36m(pid=38635)\u001b[0m   % self.max_iter, ConvergenceWarning)\n",
      "\u001b[2m\u001b[36m(pid=38633)\u001b[0m /Users/john/trading/src/venv/lib/python3.7/site-packages/sklearn/neural_network/_multilayer_perceptron.py:585: ConvergenceWarning: Stochastic Optimizer: Maximum iterations (200) reached and the optimization hasn't converged yet.\n",
      "\u001b[2m\u001b[36m(pid=38633)\u001b[0m   % self.max_iter, ConvergenceWarning)\n",
      "\u001b[2m\u001b[36m(pid=38636)\u001b[0m /Users/john/trading/src/venv/lib/python3.7/site-packages/sklearn/neural_network/_multilayer_perceptron.py:585: ConvergenceWarning: Stochastic Optimizer: Maximum iterations (200) reached and the optimization hasn't converged yet.\n",
      "\u001b[2m\u001b[36m(pid=38636)\u001b[0m   % self.max_iter, ConvergenceWarning)\n"
     ]
    },
    {
     "data": {
      "text/plain": [
       "[0.8443775100401607, 0.7972022955523672, 0.8617886178861789]"
      ]
     },
     "execution_count": 1,
     "metadata": {},
     "output_type": "execute_result"
    }
   ],
   "source": [
    "from sklearn.datasets import make_classification\n",
    "from sklearn.preprocessing import StandardScaler\n",
    "from sklearn.neural_network import MLPClassifier\n",
    "from sklearn.linear_model import LogisticRegression\n",
    "from sklearn.neighbors import KNeighborsClassifier\n",
    "from sklearn.ensemble import GradientBoostingClassifier\n",
    "from sklearn.ensemble import RandomForestClassifier\n",
    "from sklearn.naive_bayes import GaussianNB\n",
    "from sklearn.pipeline import Pipeline\n",
    "import pipecaster as pc\n",
    "\n",
    "X, y = make_classification(n_classes=2, n_samples=500, n_features=100,\n",
    "                           n_informative=5, class_sep=0.6)\n",
    "\n",
    "predictors = [MLPClassifier(), LogisticRegression(),\n",
    "              KNeighborsClassifier(),  GradientBoostingClassifier(),\n",
    "              RandomForestClassifier(), GaussianNB()]\n",
    "\n",
    "ensemble_clf = pc.Ensemble(\n",
    "                 base_predictors=predictors,\n",
    "                 meta_predictor=None,\n",
    "                 internal_cv=5, \n",
    "                 scorer='auto',\n",
    "                 base_processes='max')\n",
    "\n",
    "clf = Pipeline([('scaler', StandardScaler()),\n",
    "                ('ensemble_clf', ensemble_clf)])\n",
    "\n",
    "pc.cross_val_score(clf, X, y)"
   ]
  },
  {
   "cell_type": "code",
   "execution_count": 2,
   "metadata": {},
   "outputs": [
    {
     "name": "stderr",
     "output_type": "stream",
     "text": [
      "\u001b[2m\u001b[36m(pid=38635)\u001b[0m /Users/john/trading/src/venv/lib/python3.7/site-packages/sklearn/neural_network/_multilayer_perceptron.py:585: ConvergenceWarning: Stochastic Optimizer: Maximum iterations (200) reached and the optimization hasn't converged yet.\n",
      "\u001b[2m\u001b[36m(pid=38635)\u001b[0m   % self.max_iter, ConvergenceWarning)\n"
     ]
    },
    {
     "data": {
      "text/plain": [
       "[GradientBoostingClassifier()]"
      ]
     },
     "execution_count": 2,
     "metadata": {},
     "output_type": "execute_result"
    }
   ],
   "source": [
    "# inspect models selected by Ensemble\n",
    "clf.fit(X, y)\n",
    "ensemble_clf = clf.named_steps['ensemble_clf']\n",
    "selected_models = [p for i, p in enumerate(predictors) if i in ensemble_clf.get_support()]\n",
    "selected_models"
   ]
  },
  {
   "cell_type": "code",
   "execution_count": null,
   "metadata": {},
   "outputs": [],
   "source": []
  },
  {
   "cell_type": "markdown",
   "metadata": {},
   "source": [
    "## Multichannel ensembles"
   ]
  },
  {
   "cell_type": "code",
   "execution_count": null,
   "metadata": {},
   "outputs": [],
   "source": [
    "### "
   ]
  },
  {
   "cell_type": "code",
   "execution_count": 4,
   "metadata": {},
   "outputs": [
    {
     "data": {
      "text/html": [
       "<style  type=\"text/css\" >\n",
       "    #T_424f65ae_7ab1_11eb_89ff_a8206653ba57 th {\n",
       "          text-align: center;\n",
       "    }    #T_424f65ae_7ab1_11eb_89ff_a8206653ba57row0_col0 {\n",
       "            text-align:  center;\n",
       "        }    #T_424f65ae_7ab1_11eb_89ff_a8206653ba57row0_col1 {\n",
       "            text-align:  center;\n",
       "        }    #T_424f65ae_7ab1_11eb_89ff_a8206653ba57row1_col0 {\n",
       "            text-align:  center;\n",
       "        }    #T_424f65ae_7ab1_11eb_89ff_a8206653ba57row1_col1 {\n",
       "            text-align:  center;\n",
       "        }    #T_424f65ae_7ab1_11eb_89ff_a8206653ba57row2_col0 {\n",
       "            text-align:  center;\n",
       "        }    #T_424f65ae_7ab1_11eb_89ff_a8206653ba57row2_col1 {\n",
       "            text-align:  center;\n",
       "        }    #T_424f65ae_7ab1_11eb_89ff_a8206653ba57row3_col0 {\n",
       "            text-align:  center;\n",
       "        }    #T_424f65ae_7ab1_11eb_89ff_a8206653ba57row3_col1 {\n",
       "            text-align:  center;\n",
       "        }    #T_424f65ae_7ab1_11eb_89ff_a8206653ba57row4_col0 {\n",
       "            text-align:  center;\n",
       "        }    #T_424f65ae_7ab1_11eb_89ff_a8206653ba57row4_col1 {\n",
       "            text-align:  center;\n",
       "        }    #T_424f65ae_7ab1_11eb_89ff_a8206653ba57row5_col0 {\n",
       "            text-align:  center;\n",
       "        }    #T_424f65ae_7ab1_11eb_89ff_a8206653ba57row5_col1 {\n",
       "            text-align:  center;\n",
       "        }    #T_424f65ae_7ab1_11eb_89ff_a8206653ba57row6_col0 {\n",
       "            text-align:  center;\n",
       "        }    #T_424f65ae_7ab1_11eb_89ff_a8206653ba57row6_col1 {\n",
       "            text-align:  center;\n",
       "        }    #T_424f65ae_7ab1_11eb_89ff_a8206653ba57row7_col0 {\n",
       "            text-align:  center;\n",
       "        }    #T_424f65ae_7ab1_11eb_89ff_a8206653ba57row7_col1 {\n",
       "            text-align:  center;\n",
       "        }    #T_424f65ae_7ab1_11eb_89ff_a8206653ba57row8_col0 {\n",
       "            text-align:  center;\n",
       "        }    #T_424f65ae_7ab1_11eb_89ff_a8206653ba57row8_col1 {\n",
       "            text-align:  center;\n",
       "        }    #T_424f65ae_7ab1_11eb_89ff_a8206653ba57row9_col0 {\n",
       "            text-align:  center;\n",
       "        }    #T_424f65ae_7ab1_11eb_89ff_a8206653ba57row9_col1 {\n",
       "            text-align:  center;\n",
       "        }</style><table id=\"T_424f65ae_7ab1_11eb_89ff_a8206653ba57\" ><thead>    <tr>        <th class=\"blank level0\" ></th>        <th class=\"col_heading level0 col0\" >layer_0</th>        <th class=\"col_heading level0 col1\" >layer_1</th>    </tr>    <tr>        <th class=\"index_name level0\" >channel</th>        <th class=\"blank\" ></th>        <th class=\"blank\" ></th>    </tr></thead><tbody>\n",
       "                <tr>\n",
       "                        <th id=\"T_424f65ae_7ab1_11eb_89ff_a8206653ba57level0_row0\" class=\"row_heading level0 row0\" >0</th>\n",
       "                        <td id=\"T_424f65ae_7ab1_11eb_89ff_a8206653ba57row0_col0\" class=\"data row0 col0\" >GradientBoostingClassifier</td>\n",
       "                        <td id=\"T_424f65ae_7ab1_11eb_89ff_a8206653ba57row0_col1\" class=\"data row0 col1\" >SVC_MC</td>\n",
       "            </tr>\n",
       "            <tr>\n",
       "                        <th id=\"T_424f65ae_7ab1_11eb_89ff_a8206653ba57level0_row1\" class=\"row_heading level0 row1\" >1</th>\n",
       "                        <td id=\"T_424f65ae_7ab1_11eb_89ff_a8206653ba57row1_col0\" class=\"data row1 col0\" >GradientBoostingClassifier</td>\n",
       "                        <td id=\"T_424f65ae_7ab1_11eb_89ff_a8206653ba57row1_col1\" class=\"data row1 col1\" >▽</td>\n",
       "            </tr>\n",
       "            <tr>\n",
       "                        <th id=\"T_424f65ae_7ab1_11eb_89ff_a8206653ba57level0_row2\" class=\"row_heading level0 row2\" >2</th>\n",
       "                        <td id=\"T_424f65ae_7ab1_11eb_89ff_a8206653ba57row2_col0\" class=\"data row2 col0\" >GradientBoostingClassifier</td>\n",
       "                        <td id=\"T_424f65ae_7ab1_11eb_89ff_a8206653ba57row2_col1\" class=\"data row2 col1\" >▽</td>\n",
       "            </tr>\n",
       "            <tr>\n",
       "                        <th id=\"T_424f65ae_7ab1_11eb_89ff_a8206653ba57level0_row3\" class=\"row_heading level0 row3\" >3</th>\n",
       "                        <td id=\"T_424f65ae_7ab1_11eb_89ff_a8206653ba57row3_col0\" class=\"data row3 col0\" >GradientBoostingClassifier</td>\n",
       "                        <td id=\"T_424f65ae_7ab1_11eb_89ff_a8206653ba57row3_col1\" class=\"data row3 col1\" >▽</td>\n",
       "            </tr>\n",
       "            <tr>\n",
       "                        <th id=\"T_424f65ae_7ab1_11eb_89ff_a8206653ba57level0_row4\" class=\"row_heading level0 row4\" >4</th>\n",
       "                        <td id=\"T_424f65ae_7ab1_11eb_89ff_a8206653ba57row4_col0\" class=\"data row4 col0\" >GradientBoostingClassifier</td>\n",
       "                        <td id=\"T_424f65ae_7ab1_11eb_89ff_a8206653ba57row4_col1\" class=\"data row4 col1\" >▽</td>\n",
       "            </tr>\n",
       "            <tr>\n",
       "                        <th id=\"T_424f65ae_7ab1_11eb_89ff_a8206653ba57level0_row5\" class=\"row_heading level0 row5\" >5</th>\n",
       "                        <td id=\"T_424f65ae_7ab1_11eb_89ff_a8206653ba57row5_col0\" class=\"data row5 col0\" >GradientBoostingClassifier</td>\n",
       "                        <td id=\"T_424f65ae_7ab1_11eb_89ff_a8206653ba57row5_col1\" class=\"data row5 col1\" >▽</td>\n",
       "            </tr>\n",
       "            <tr>\n",
       "                        <th id=\"T_424f65ae_7ab1_11eb_89ff_a8206653ba57level0_row6\" class=\"row_heading level0 row6\" >6</th>\n",
       "                        <td id=\"T_424f65ae_7ab1_11eb_89ff_a8206653ba57row6_col0\" class=\"data row6 col0\" >GradientBoostingClassifier</td>\n",
       "                        <td id=\"T_424f65ae_7ab1_11eb_89ff_a8206653ba57row6_col1\" class=\"data row6 col1\" >▽</td>\n",
       "            </tr>\n",
       "            <tr>\n",
       "                        <th id=\"T_424f65ae_7ab1_11eb_89ff_a8206653ba57level0_row7\" class=\"row_heading level0 row7\" >7</th>\n",
       "                        <td id=\"T_424f65ae_7ab1_11eb_89ff_a8206653ba57row7_col0\" class=\"data row7 col0\" >GradientBoostingClassifier</td>\n",
       "                        <td id=\"T_424f65ae_7ab1_11eb_89ff_a8206653ba57row7_col1\" class=\"data row7 col1\" >▽</td>\n",
       "            </tr>\n",
       "            <tr>\n",
       "                        <th id=\"T_424f65ae_7ab1_11eb_89ff_a8206653ba57level0_row8\" class=\"row_heading level0 row8\" >8</th>\n",
       "                        <td id=\"T_424f65ae_7ab1_11eb_89ff_a8206653ba57row8_col0\" class=\"data row8 col0\" >GradientBoostingClassifier</td>\n",
       "                        <td id=\"T_424f65ae_7ab1_11eb_89ff_a8206653ba57row8_col1\" class=\"data row8 col1\" >▽</td>\n",
       "            </tr>\n",
       "            <tr>\n",
       "                        <th id=\"T_424f65ae_7ab1_11eb_89ff_a8206653ba57level0_row9\" class=\"row_heading level0 row9\" >9</th>\n",
       "                        <td id=\"T_424f65ae_7ab1_11eb_89ff_a8206653ba57row9_col0\" class=\"data row9 col0\" >GradientBoostingClassifier</td>\n",
       "                        <td id=\"T_424f65ae_7ab1_11eb_89ff_a8206653ba57row9_col1\" class=\"data row9 col1\" >▽</td>\n",
       "            </tr>\n",
       "    </tbody></table>"
      ],
      "text/plain": [
       "MultichannelPipeline(n_channels=10)"
      ]
     },
     "execution_count": 4,
     "metadata": {},
     "output_type": "execute_result"
    }
   ],
   "source": [
    "import numpy as np\n",
    "from sklearn.ensemble import GradientBoostingClassifier\n",
    "from sklearn.svm import SVC \n",
    "import pipecaster as pc\n",
    "\n",
    "early_stopping_GBC = GradientBoostingClassifier(n_estimators=1000, \n",
    "                                     validation_fraction=0.1, \n",
    "                                     n_iter_no_change=3)\n",
    "\n",
    "clf = pc.MultichannelPipeline(n_channels=10)\n",
    "clf.add_layer(early_stopping_GBC)\n",
    "clf.add_layer(pc.MultichannelPredictor(SVC()))\n",
    "clf"
   ]
  },
  {
   "cell_type": "markdown",
   "metadata": {},
   "source": [
    "**Notes on dataframe visualization**:  \n",
    "* Inverted triangles indicate that the channels are spanned by the multichannel pipe shown directly above. \n",
    "* The _MC suffix indicates that the SVC classifier is being used for multichannel prediction (i.e. it's wrapped in the MultichannelPredictor class).\n",
    "* The integer channel and layer indices seen on the left and top can be used to reference specific object instances in the pipeline (see MultichannelPipeline interface annotations).  "
   ]
  },
  {
   "cell_type": "code",
   "execution_count": 4,
   "metadata": {},
   "outputs": [
    {
     "data": {
      "text/html": [
       "<style  type=\"text/css\" >\n",
       "    #T_803be488_61a6_11eb_b016_a8206653ba57 th {\n",
       "          text-align: center;\n",
       "    }    #T_803be488_61a6_11eb_b016_a8206653ba57row0_col0 {\n",
       "            text-align:  center;\n",
       "        }    #T_803be488_61a6_11eb_b016_a8206653ba57row0_col1 {\n",
       "            text-align:  center;\n",
       "        }    #T_803be488_61a6_11eb_b016_a8206653ba57row0_col2 {\n",
       "            text-align:  center;\n",
       "        }    #T_803be488_61a6_11eb_b016_a8206653ba57row0_col3 {\n",
       "            text-align:  center;\n",
       "        }    #T_803be488_61a6_11eb_b016_a8206653ba57row1_col0 {\n",
       "            text-align:  center;\n",
       "        }    #T_803be488_61a6_11eb_b016_a8206653ba57row1_col1 {\n",
       "            text-align:  center;\n",
       "        }    #T_803be488_61a6_11eb_b016_a8206653ba57row1_col2 {\n",
       "            text-align:  center;\n",
       "        }    #T_803be488_61a6_11eb_b016_a8206653ba57row1_col3 {\n",
       "            text-align:  center;\n",
       "        }    #T_803be488_61a6_11eb_b016_a8206653ba57row2_col0 {\n",
       "            text-align:  center;\n",
       "        }    #T_803be488_61a6_11eb_b016_a8206653ba57row2_col1 {\n",
       "            text-align:  center;\n",
       "        }    #T_803be488_61a6_11eb_b016_a8206653ba57row2_col2 {\n",
       "            text-align:  center;\n",
       "        }    #T_803be488_61a6_11eb_b016_a8206653ba57row2_col3 {\n",
       "            text-align:  center;\n",
       "        }    #T_803be488_61a6_11eb_b016_a8206653ba57row3_col0 {\n",
       "            text-align:  center;\n",
       "        }    #T_803be488_61a6_11eb_b016_a8206653ba57row3_col1 {\n",
       "            text-align:  center;\n",
       "        }    #T_803be488_61a6_11eb_b016_a8206653ba57row3_col2 {\n",
       "            text-align:  center;\n",
       "        }    #T_803be488_61a6_11eb_b016_a8206653ba57row3_col3 {\n",
       "            text-align:  center;\n",
       "        }    #T_803be488_61a6_11eb_b016_a8206653ba57row4_col0 {\n",
       "            text-align:  center;\n",
       "        }    #T_803be488_61a6_11eb_b016_a8206653ba57row4_col1 {\n",
       "            text-align:  center;\n",
       "        }    #T_803be488_61a6_11eb_b016_a8206653ba57row4_col2 {\n",
       "            text-align:  center;\n",
       "        }    #T_803be488_61a6_11eb_b016_a8206653ba57row4_col3 {\n",
       "            text-align:  center;\n",
       "        }    #T_803be488_61a6_11eb_b016_a8206653ba57row5_col0 {\n",
       "            text-align:  center;\n",
       "        }    #T_803be488_61a6_11eb_b016_a8206653ba57row5_col1 {\n",
       "            text-align:  center;\n",
       "        }    #T_803be488_61a6_11eb_b016_a8206653ba57row5_col2 {\n",
       "            text-align:  center;\n",
       "        }    #T_803be488_61a6_11eb_b016_a8206653ba57row5_col3 {\n",
       "            text-align:  center;\n",
       "        }    #T_803be488_61a6_11eb_b016_a8206653ba57row6_col0 {\n",
       "            text-align:  center;\n",
       "        }    #T_803be488_61a6_11eb_b016_a8206653ba57row6_col1 {\n",
       "            text-align:  center;\n",
       "        }    #T_803be488_61a6_11eb_b016_a8206653ba57row6_col2 {\n",
       "            text-align:  center;\n",
       "        }    #T_803be488_61a6_11eb_b016_a8206653ba57row6_col3 {\n",
       "            text-align:  center;\n",
       "        }    #T_803be488_61a6_11eb_b016_a8206653ba57row7_col0 {\n",
       "            text-align:  center;\n",
       "        }    #T_803be488_61a6_11eb_b016_a8206653ba57row7_col1 {\n",
       "            text-align:  center;\n",
       "        }    #T_803be488_61a6_11eb_b016_a8206653ba57row7_col2 {\n",
       "            text-align:  center;\n",
       "        }    #T_803be488_61a6_11eb_b016_a8206653ba57row7_col3 {\n",
       "            text-align:  center;\n",
       "        }    #T_803be488_61a6_11eb_b016_a8206653ba57row8_col0 {\n",
       "            text-align:  center;\n",
       "        }    #T_803be488_61a6_11eb_b016_a8206653ba57row8_col1 {\n",
       "            text-align:  center;\n",
       "        }    #T_803be488_61a6_11eb_b016_a8206653ba57row8_col2 {\n",
       "            text-align:  center;\n",
       "        }    #T_803be488_61a6_11eb_b016_a8206653ba57row8_col3 {\n",
       "            text-align:  center;\n",
       "        }    #T_803be488_61a6_11eb_b016_a8206653ba57row9_col0 {\n",
       "            text-align:  center;\n",
       "        }    #T_803be488_61a6_11eb_b016_a8206653ba57row9_col1 {\n",
       "            text-align:  center;\n",
       "        }    #T_803be488_61a6_11eb_b016_a8206653ba57row9_col2 {\n",
       "            text-align:  center;\n",
       "        }    #T_803be488_61a6_11eb_b016_a8206653ba57row9_col3 {\n",
       "            text-align:  center;\n",
       "        }</style><table id=\"T_803be488_61a6_11eb_b016_a8206653ba57\" ><thead>    <tr>        <th class=\"blank level0\" ></th>        <th class=\"col_heading level0 col0\" >layer_0</th>        <th class=\"col_heading level0 col1\" >out_0</th>        <th class=\"col_heading level0 col2\" >layer_1</th>        <th class=\"col_heading level0 col3\" >out_1</th>    </tr>    <tr>        <th class=\"index_name level0\" >channel</th>        <th class=\"blank\" ></th>        <th class=\"blank\" ></th>        <th class=\"blank\" ></th>        <th class=\"blank\" ></th>    </tr></thead><tbody>\n",
       "                <tr>\n",
       "                        <th id=\"T_803be488_61a6_11eb_b016_a8206653ba57level0_row0\" class=\"row_heading level0 row0\" >0</th>\n",
       "                        <td id=\"T_803be488_61a6_11eb_b016_a8206653ba57row0_col0\" class=\"data row0 col0\" >{GradientBoostingClassifier}cvtr</td>\n",
       "                        <td id=\"T_803be488_61a6_11eb_b016_a8206653ba57row0_col1\" class=\"data row0 col1\" >→</td>\n",
       "                        <td id=\"T_803be488_61a6_11eb_b016_a8206653ba57row0_col2\" class=\"data row0 col2\" >{SVC_MC}tr</td>\n",
       "                        <td id=\"T_803be488_61a6_11eb_b016_a8206653ba57row0_col3\" class=\"data row0 col3\" >→</td>\n",
       "            </tr>\n",
       "            <tr>\n",
       "                        <th id=\"T_803be488_61a6_11eb_b016_a8206653ba57level0_row1\" class=\"row_heading level0 row1\" >1</th>\n",
       "                        <td id=\"T_803be488_61a6_11eb_b016_a8206653ba57row1_col0\" class=\"data row1 col0\" >{GradientBoostingClassifier}cvtr</td>\n",
       "                        <td id=\"T_803be488_61a6_11eb_b016_a8206653ba57row1_col1\" class=\"data row1 col1\" >→</td>\n",
       "                        <td id=\"T_803be488_61a6_11eb_b016_a8206653ba57row1_col2\" class=\"data row1 col2\" >▽</td>\n",
       "                        <td id=\"T_803be488_61a6_11eb_b016_a8206653ba57row1_col3\" class=\"data row1 col3\" > </td>\n",
       "            </tr>\n",
       "            <tr>\n",
       "                        <th id=\"T_803be488_61a6_11eb_b016_a8206653ba57level0_row2\" class=\"row_heading level0 row2\" >2</th>\n",
       "                        <td id=\"T_803be488_61a6_11eb_b016_a8206653ba57row2_col0\" class=\"data row2 col0\" >{GradientBoostingClassifier}cvtr</td>\n",
       "                        <td id=\"T_803be488_61a6_11eb_b016_a8206653ba57row2_col1\" class=\"data row2 col1\" >→</td>\n",
       "                        <td id=\"T_803be488_61a6_11eb_b016_a8206653ba57row2_col2\" class=\"data row2 col2\" >▽</td>\n",
       "                        <td id=\"T_803be488_61a6_11eb_b016_a8206653ba57row2_col3\" class=\"data row2 col3\" > </td>\n",
       "            </tr>\n",
       "            <tr>\n",
       "                        <th id=\"T_803be488_61a6_11eb_b016_a8206653ba57level0_row3\" class=\"row_heading level0 row3\" >3</th>\n",
       "                        <td id=\"T_803be488_61a6_11eb_b016_a8206653ba57row3_col0\" class=\"data row3 col0\" >{GradientBoostingClassifier}cvtr</td>\n",
       "                        <td id=\"T_803be488_61a6_11eb_b016_a8206653ba57row3_col1\" class=\"data row3 col1\" >→</td>\n",
       "                        <td id=\"T_803be488_61a6_11eb_b016_a8206653ba57row3_col2\" class=\"data row3 col2\" >▽</td>\n",
       "                        <td id=\"T_803be488_61a6_11eb_b016_a8206653ba57row3_col3\" class=\"data row3 col3\" > </td>\n",
       "            </tr>\n",
       "            <tr>\n",
       "                        <th id=\"T_803be488_61a6_11eb_b016_a8206653ba57level0_row4\" class=\"row_heading level0 row4\" >4</th>\n",
       "                        <td id=\"T_803be488_61a6_11eb_b016_a8206653ba57row4_col0\" class=\"data row4 col0\" >{GradientBoostingClassifier}cvtr</td>\n",
       "                        <td id=\"T_803be488_61a6_11eb_b016_a8206653ba57row4_col1\" class=\"data row4 col1\" >→</td>\n",
       "                        <td id=\"T_803be488_61a6_11eb_b016_a8206653ba57row4_col2\" class=\"data row4 col2\" >▽</td>\n",
       "                        <td id=\"T_803be488_61a6_11eb_b016_a8206653ba57row4_col3\" class=\"data row4 col3\" > </td>\n",
       "            </tr>\n",
       "            <tr>\n",
       "                        <th id=\"T_803be488_61a6_11eb_b016_a8206653ba57level0_row5\" class=\"row_heading level0 row5\" >5</th>\n",
       "                        <td id=\"T_803be488_61a6_11eb_b016_a8206653ba57row5_col0\" class=\"data row5 col0\" >{GradientBoostingClassifier}cvtr</td>\n",
       "                        <td id=\"T_803be488_61a6_11eb_b016_a8206653ba57row5_col1\" class=\"data row5 col1\" >→</td>\n",
       "                        <td id=\"T_803be488_61a6_11eb_b016_a8206653ba57row5_col2\" class=\"data row5 col2\" >▽</td>\n",
       "                        <td id=\"T_803be488_61a6_11eb_b016_a8206653ba57row5_col3\" class=\"data row5 col3\" > </td>\n",
       "            </tr>\n",
       "            <tr>\n",
       "                        <th id=\"T_803be488_61a6_11eb_b016_a8206653ba57level0_row6\" class=\"row_heading level0 row6\" >6</th>\n",
       "                        <td id=\"T_803be488_61a6_11eb_b016_a8206653ba57row6_col0\" class=\"data row6 col0\" >{GradientBoostingClassifier}cvtr</td>\n",
       "                        <td id=\"T_803be488_61a6_11eb_b016_a8206653ba57row6_col1\" class=\"data row6 col1\" >→</td>\n",
       "                        <td id=\"T_803be488_61a6_11eb_b016_a8206653ba57row6_col2\" class=\"data row6 col2\" >▽</td>\n",
       "                        <td id=\"T_803be488_61a6_11eb_b016_a8206653ba57row6_col3\" class=\"data row6 col3\" > </td>\n",
       "            </tr>\n",
       "            <tr>\n",
       "                        <th id=\"T_803be488_61a6_11eb_b016_a8206653ba57level0_row7\" class=\"row_heading level0 row7\" >7</th>\n",
       "                        <td id=\"T_803be488_61a6_11eb_b016_a8206653ba57row7_col0\" class=\"data row7 col0\" >{GradientBoostingClassifier}cvtr</td>\n",
       "                        <td id=\"T_803be488_61a6_11eb_b016_a8206653ba57row7_col1\" class=\"data row7 col1\" >→</td>\n",
       "                        <td id=\"T_803be488_61a6_11eb_b016_a8206653ba57row7_col2\" class=\"data row7 col2\" >▽</td>\n",
       "                        <td id=\"T_803be488_61a6_11eb_b016_a8206653ba57row7_col3\" class=\"data row7 col3\" > </td>\n",
       "            </tr>\n",
       "            <tr>\n",
       "                        <th id=\"T_803be488_61a6_11eb_b016_a8206653ba57level0_row8\" class=\"row_heading level0 row8\" >8</th>\n",
       "                        <td id=\"T_803be488_61a6_11eb_b016_a8206653ba57row8_col0\" class=\"data row8 col0\" >{GradientBoostingClassifier}cvtr</td>\n",
       "                        <td id=\"T_803be488_61a6_11eb_b016_a8206653ba57row8_col1\" class=\"data row8 col1\" >→</td>\n",
       "                        <td id=\"T_803be488_61a6_11eb_b016_a8206653ba57row8_col2\" class=\"data row8 col2\" >▽</td>\n",
       "                        <td id=\"T_803be488_61a6_11eb_b016_a8206653ba57row8_col3\" class=\"data row8 col3\" > </td>\n",
       "            </tr>\n",
       "            <tr>\n",
       "                        <th id=\"T_803be488_61a6_11eb_b016_a8206653ba57level0_row9\" class=\"row_heading level0 row9\" >9</th>\n",
       "                        <td id=\"T_803be488_61a6_11eb_b016_a8206653ba57row9_col0\" class=\"data row9 col0\" >{GradientBoostingClassifier}cvtr</td>\n",
       "                        <td id=\"T_803be488_61a6_11eb_b016_a8206653ba57row9_col1\" class=\"data row9 col1\" >→</td>\n",
       "                        <td id=\"T_803be488_61a6_11eb_b016_a8206653ba57row9_col2\" class=\"data row9 col2\" >▽</td>\n",
       "                        <td id=\"T_803be488_61a6_11eb_b016_a8206653ba57row9_col3\" class=\"data row9 col3\" > </td>\n",
       "            </tr>\n",
       "    </tbody></table>"
      ],
      "text/plain": [
       "MultichannelPipeline(internal_cv=5, cv_processes=1, transform_method_name=None, n_channels=10)"
      ]
     },
     "execution_count": 4,
     "metadata": {},
     "output_type": "execute_result"
    }
   ],
   "source": [
    "mclf1.fit(Xs, y)"
   ]
  },
  {
   "cell_type": "markdown",
   "metadata": {},
   "source": [
    "**Notes on dataframe visualization**: \n",
    "* GradientBoostingClassifier appears in brackets followed by 'cvtr' to indicate that the classifier has been wrapped with a class that provides internal cross validation training to prevent overfitting of downstream metaclassifiers.\n",
    "* SVC_MC appears in brackets followed by 'tr' to indicate that it has been wrapped to provide a transform() method that predictors ordinarily lack (transform functionality is there in case the user wants to generate inputs for a function external to the pipeline). \n",
    "* Output layers are indicated showing which channels generate outputs."
   ]
  },
  {
   "cell_type": "markdown",
   "metadata": {},
   "source": [
    "### Performance analysis"
   ]
  },
  {
   "cell_type": "code",
   "execution_count": null,
   "metadata": {},
   "outputs": [],
   "source": [
    "%matplotlib inline\n",
    "import time\n",
    "from sklearn.metrics import balanced_accuracy_score\n",
    "from sklearn.model_selection import cross_val_score\n",
    "from sklearn.feature_selection import SelectPercentile\n",
    "from sklearn.pipeline import Pipeline\n",
    "\n",
    "import matplotlib.pyplot as plt\n",
    "from scipy.stats import sem\n",
    "\n",
    "n_cpus = pc.count_cpus()\n",
    "\n",
    "# Test a MultichannelPipeline in a cross validation experiment\n",
    "t = time.time()\n",
    "pc_accuracies = pc.cross_val_score(mclf1, Xs, y, scorer=balanced_accuracy_score, cv=8, n_processes=n_cpus)\n",
    "pc_time = time.time() - t\n",
    "\n",
    "# Test a single channel scikit-learn pipeline in a cross validation experiment\n",
    "X = np.concatenate(Xs, axis=1)\n",
    "clf = Pipeline([('GradientBoostingClassifier', early_stopping_GBC)])\n",
    "t = time.time()\n",
    "sk_accuracies = cross_val_score(clf, X, y, scoring='balanced_accuracy', cv=8, n_jobs=n_cpus)\n",
    "sk_time = time.time() - t\n",
    "\n",
    "# Plot the cross validation results\n",
    "fig, axes = plt.subplots(1, 2)\n",
    "xlabels = ['concatenated', 'multichannel']\n",
    "axes[0].bar(xlabels, [np.mean(sk_accuracies), np.mean(pc_accuracies)], \n",
    "        yerr=[sem(sk_accuracies), sem(pc_accuracies)], capsize=10)\n",
    "axes[0].set_ylim(.60)\n",
    "axes[0].set_ylabel('balanced accuracy', fontsize=12)\n",
    "axes[0].set_xticklabels(xlabels, rotation=45, ha='right', fontsize=12)\n",
    "axes[1].bar(xlabels, [np.mean(sk_time), np.mean(pc_time)])\n",
    "axes[1].set_ylabel('execution time [s]', fontsize=12)\n",
    "axes[1].set_xticklabels(xlabels, rotation=45, ha='right', fontsize=12)\n",
    "plt.tight_layout()\n",
    "# plt.savefig('performance_comparison.svg')"
   ]
  },
  {
   "cell_type": "markdown",
   "metadata": {},
   "source": [
    "**Results**  \n",
    "The multichannel pipecaster pipeline performs better on this task than the pipeline architecture that uses concatenated features.  This performance enhancement, which is sometimes seen with real data, may be due to the tendency of meta-predictors to correct errors found in the base predictors and perhaps to increased diversity of the features important to the base predictors.\n",
    "\n",
    "This example is a proxy for a more thorough demonstration of performance improvement, which would involve a full hyperparameter optimization for the two pipeline architectures.  The early stopping GradientBoostingClassifier method shown here is a decent proxy though, because performance of this classifier is not very sensitive to hyperparameter values, and model complexity is automatically set by increasing the number of boosting rounds until performance on a validation set stops increasing."
   ]
  },
  {
   "cell_type": "code",
   "execution_count": null,
   "metadata": {},
   "outputs": [],
   "source": []
  },
  {
   "cell_type": "code",
   "execution_count": null,
   "metadata": {},
   "outputs": [],
   "source": []
  },
  {
   "cell_type": "code",
   "execution_count": null,
   "metadata": {},
   "outputs": [],
   "source": []
  },
  {
   "cell_type": "code",
   "execution_count": null,
   "metadata": {},
   "outputs": [],
   "source": []
  }
 ],
 "metadata": {
  "kernelspec": {
   "display_name": "trading_venv_clark",
   "language": "python",
   "name": "trading_venv_clark"
  },
  "language_info": {
   "codemirror_mode": {
    "name": "ipython",
    "version": 3
   },
   "file_extension": ".py",
   "mimetype": "text/x-python",
   "name": "python",
   "nbconvert_exporter": "python",
   "pygments_lexer": "ipython3",
   "version": "3.7.5"
  },
  "toc": {
   "base_numbering": 1,
   "nav_menu": {},
   "number_sections": true,
   "sideBar": true,
   "skip_h1_title": false,
   "title_cell": "Table of Contents",
   "title_sidebar": "Contents",
   "toc_cell": false,
   "toc_position": {},
   "toc_section_display": true,
   "toc_window_display": true
  }
 },
 "nbformat": 4,
 "nbformat_minor": 2
}
