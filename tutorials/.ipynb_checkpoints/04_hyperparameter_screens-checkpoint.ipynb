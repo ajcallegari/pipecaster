{
 "cells": [
  {
   "cell_type": "markdown",
   "metadata": {},
   "source": [
    "# tutorial 4: in-pipeline hyperparameter screens\n",
    "\n",
    "This tutorial show you how to use the **GridSearchEnsemble** class to \n",
    "\n",
    "* screen ML model hyperparameters during model fitting\n",
    "* make ensemble predictions using the results of a hyperparameter screen"
   ]
  },
  {
   "cell_type": "markdown",
   "metadata": {},
   "source": [
    "## Stacked generalization with parameter selection\n",
    "\n",
    "In this example, internal cv is used to estimate the quality of a set of hyperameters as well as to generate features for meta-prediction with a support vector machine.  The top two parameter sets are chosen to create the final model."
   ]
  },
  {
   "cell_type": "code",
   "execution_count": 3,
   "metadata": {},
   "outputs": [
    {
     "data": {
      "text/html": [
       "<div>\n",
       "<style scoped>\n",
       "    .dataframe tbody tr th:only-of-type {\n",
       "        vertical-align: middle;\n",
       "    }\n",
       "\n",
       "    .dataframe tbody tr th {\n",
       "        vertical-align: top;\n",
       "    }\n",
       "\n",
       "    .dataframe thead th {\n",
       "        text-align: right;\n",
       "    }\n",
       "</style>\n",
       "<table border=\"1\" class=\"dataframe\">\n",
       "  <thead>\n",
       "    <tr style=\"text-align: right;\">\n",
       "      <th></th>\n",
       "      <th>selections</th>\n",
       "      <th>score</th>\n",
       "    </tr>\n",
       "    <tr>\n",
       "      <th>parameters</th>\n",
       "      <th></th>\n",
       "      <th></th>\n",
       "    </tr>\n",
       "  </thead>\n",
       "  <tbody>\n",
       "    <tr>\n",
       "      <th>{'learning_rate': 10, 'n_estimators': 10}</th>\n",
       "      <td>+</td>\n",
       "      <td>0.849740</td>\n",
       "    </tr>\n",
       "    <tr>\n",
       "      <th>{'learning_rate': 0.1, 'n_estimators': 2}</th>\n",
       "      <td>-</td>\n",
       "      <td>0.839536</td>\n",
       "    </tr>\n",
       "    <tr>\n",
       "      <th>{'learning_rate': 10, 'n_estimators': 2}</th>\n",
       "      <td>+</td>\n",
       "      <td>0.839536</td>\n",
       "    </tr>\n",
       "    <tr>\n",
       "      <th>{'learning_rate': 0.1, 'n_estimators': 10}</th>\n",
       "      <td>-</td>\n",
       "      <td>0.829332</td>\n",
       "    </tr>\n",
       "  </tbody>\n",
       "</table>\n",
       "</div>"
      ],
      "text/plain": [
       "                                           selections     score\n",
       "parameters                                                     \n",
       "{'learning_rate': 10, 'n_estimators': 10}           +  0.849740\n",
       "{'learning_rate': 0.1, 'n_estimators': 2}           -  0.839536\n",
       "{'learning_rate': 10, 'n_estimators': 2}            +  0.839536\n",
       "{'learning_rate': 0.1, 'n_estimators': 10}          -  0.829332"
      ]
     },
     "execution_count": 3,
     "metadata": {},
     "output_type": "execute_result"
    }
   ],
   "source": [
    "from sklearn.datasets import make_classification\n",
    "from sklearn.ensemble import GradientBoostingClassifier\n",
    "from sklearn.svm import SVC\n",
    "from sklearn.model_selection import cross_val_score\n",
    "import pipecaster as pc\n",
    "\n",
    "screen_specs = {\n",
    "     'learning_rate':[0.1, 10],\n",
    "     'n_estimators':[2, 10],\n",
    "}\n",
    "\n",
    "X, y = make_classification()\n",
    "clf = pc.GridSearchEnsemble(\n",
    "                 param_dict=screen_specs,\n",
    "                 base_predictor_cls=GradientBoostingClassifier,\n",
    "                 meta_predictor=SVC(),\n",
    "                 internal_cv=5, scorer='auto',\n",
    "                 score_selector=pc.RankScoreSelector(k=2),\n",
    "                 base_processes='max')\n",
    "clf.fit(X, y)\n",
    "clf.get_screen_results()"
   ]
  },
  {
   "cell_type": "code",
   "execution_count": 3,
   "metadata": {},
   "outputs": [
    {
     "data": {
      "text/plain": [
       "array([0.79861111, 0.85294118, 0.81801471])"
      ]
     },
     "execution_count": 3,
     "metadata": {},
     "output_type": "execute_result"
    }
   ],
   "source": [
    "cross_val_score(clf, X, y, scoring='balanced_accuracy', cv=3)"
   ]
  },
  {
   "cell_type": "markdown",
   "metadata": {},
   "source": [
    "## Parameter selection (without ensemble prediction)\n",
    "\n",
    "In this example, the meta-predictor is dropped and the best parameter set is used to make the final model."
   ]
  },
  {
   "cell_type": "code",
   "execution_count": 1,
   "metadata": {},
   "outputs": [
    {
     "name": "stderr",
     "output_type": "stream",
     "text": [
      "File descriptor limit 256 is too low for production servers and may result in connection errors. At least 8192 is recommended. --- Fix with 'ulimit -n 8192'\n",
      "2021-03-01 21:37:19,596\tINFO services.py:1173 -- View the Ray dashboard at \u001b[1m\u001b[32mhttp://127.0.0.1:8266\u001b[39m\u001b[22m\n"
     ]
    },
    {
     "data": {
      "text/html": [
       "<div>\n",
       "<style scoped>\n",
       "    .dataframe tbody tr th:only-of-type {\n",
       "        vertical-align: middle;\n",
       "    }\n",
       "\n",
       "    .dataframe tbody tr th {\n",
       "        vertical-align: top;\n",
       "    }\n",
       "\n",
       "    .dataframe thead th {\n",
       "        text-align: right;\n",
       "    }\n",
       "</style>\n",
       "<table border=\"1\" class=\"dataframe\">\n",
       "  <thead>\n",
       "    <tr style=\"text-align: right;\">\n",
       "      <th></th>\n",
       "      <th>selections</th>\n",
       "      <th>score</th>\n",
       "    </tr>\n",
       "    <tr>\n",
       "      <th>parameters</th>\n",
       "      <th></th>\n",
       "      <th></th>\n",
       "    </tr>\n",
       "  </thead>\n",
       "  <tbody>\n",
       "    <tr>\n",
       "      <th>{'learning_rate': 0.1, 'n_estimators': 2}</th>\n",
       "      <td>+</td>\n",
       "      <td>0.89</td>\n",
       "    </tr>\n",
       "    <tr>\n",
       "      <th>{'learning_rate': 10, 'n_estimators': 10}</th>\n",
       "      <td>-</td>\n",
       "      <td>0.88</td>\n",
       "    </tr>\n",
       "    <tr>\n",
       "      <th>{'learning_rate': 10, 'n_estimators': 2}</th>\n",
       "      <td>-</td>\n",
       "      <td>0.87</td>\n",
       "    </tr>\n",
       "    <tr>\n",
       "      <th>{'learning_rate': 0.1, 'n_estimators': 10}</th>\n",
       "      <td>-</td>\n",
       "      <td>0.86</td>\n",
       "    </tr>\n",
       "  </tbody>\n",
       "</table>\n",
       "</div>"
      ],
      "text/plain": [
       "                                           selections  score\n",
       "parameters                                                  \n",
       "{'learning_rate': 0.1, 'n_estimators': 2}           +   0.89\n",
       "{'learning_rate': 10, 'n_estimators': 10}           -   0.88\n",
       "{'learning_rate': 10, 'n_estimators': 2}            -   0.87\n",
       "{'learning_rate': 0.1, 'n_estimators': 10}          -   0.86"
      ]
     },
     "execution_count": 1,
     "metadata": {},
     "output_type": "execute_result"
    }
   ],
   "source": [
    "from sklearn.datasets import make_classification\n",
    "from sklearn.ensemble import GradientBoostingClassifier\n",
    "from sklearn.svm import SVC\n",
    "from sklearn.model_selection import cross_val_score\n",
    "import pipecaster as pc\n",
    "\n",
    "screen_specs = {\n",
    "     'learning_rate':[0.1, 10],\n",
    "     'n_estimators':[2, 10],\n",
    "}\n",
    "\n",
    "X, y = make_classification()\n",
    "clf = pc.GridSearchEnsemble(\n",
    "                 param_dict=screen_specs,\n",
    "                 base_predictor_cls=GradientBoostingClassifier,\n",
    "                 internal_cv=5, scorer='auto',\n",
    "                 score_selector=pc.RankScoreSelector(k=1),\n",
    "                 base_processes='max')\n",
    "clf.fit(X, y)\n",
    "clf.get_screen_results()"
   ]
  },
  {
   "cell_type": "code",
   "execution_count": 2,
   "metadata": {},
   "outputs": [
    {
     "data": {
      "text/plain": [
       "array([0.97058824, 0.97058824, 0.84375   ])"
      ]
     },
     "execution_count": 2,
     "metadata": {},
     "output_type": "execute_result"
    }
   ],
   "source": [
    "cross_val_score(clf, X, y, scoring='balanced_accuracy', cv=3)"
   ]
  },
  {
   "cell_type": "markdown",
   "metadata": {},
   "source": [
    "### Screening screens: the double stack"
   ]
  },
  {
   "cell_type": "code",
   "execution_count": 27,
   "metadata": {},
   "outputs": [],
   "source": [
    "### (0) FAILED\n",
    "screen_specs = {\n",
    "     'learning_rate':[.1, 1],\n",
    "     'n_estimators':[5, 10]\n",
    "}\n",
    "\n",
    "screen_clf = pc.GridSearchEnsemble(\n",
    "                 screen_specs, GradientBoostingClassifier, SVC(),\n",
    "                 internal_cv=5, scorer='auto',\n",
    "                 score_selector=pc.RankScoreSelector(k=2))\n",
    "\n",
    "### (1) PASSED\n",
    "predictors = [LogisticRegression(),\n",
    "              KNeighborsClassifier(),  GradientBoostingClassifier(),\n",
    "              RandomForestClassifier(), GaussianNB()]\n",
    "\n",
    "ensemble_clf = pc.Ensemble(\n",
    "                 base_predictors=predictors,\n",
    "                 meta_predictor=None,\n",
    "                 internal_cv=5,\n",
    "                 scorer='auto',\n",
    "                 base_processes='max')\n",
    "\n",
    "### (2) FAILED, wrong inputs selected, all channels cv scores excactly 0.5\n",
    "base_predictors = [LogisticRegression(),\n",
    "              KNeighborsClassifier(), GradientBoostingClassifier(),\n",
    "              RandomForestClassifier(), GaussianNB()]\n",
    "\n",
    "ensemble_clf = pc.Ensemble(\n",
    "                 base_predictors=base_predictors, meta_predictor=SVC(),\n",
    "                 internal_cv=5, scorer='auto',\n",
    "                 score_selector=pc.RankScoreSelector(k=3))\n",
    "\n",
    "### (3) MIXED: correct inputs selected, but all cv scores were \n",
    "#              identical for the different base predictors\n",
    "\n",
    "base_predictors = [LogisticRegression(),\n",
    "              KNeighborsClassifier(), GradientBoostingClassifier(),\n",
    "              RandomForestClassifier(), GaussianNB()]\n",
    "\n",
    "ensemble_clf = pc.Ensemble(\n",
    "                 base_predictors=predictors, meta_predictor=pc.SoftVotingClassifier(),\n",
    "                 internal_cv=5, scorer='auto',\n",
    "                 score_selector=pc.RankScoreSelector(k=3))"
   ]
  },
  {
   "cell_type": "code",
   "execution_count": 1,
   "metadata": {},
   "outputs": [],
   "source": [
    "from sklearn.datasets import make_classification\n",
    "from sklearn.preprocessing import StandardScaler\n",
    "from sklearn.neural_network import MLPClassifier\n",
    "from sklearn.linear_model import LogisticRegression\n",
    "from sklearn.neighbors import KNeighborsClassifier\n",
    "from sklearn.ensemble import GradientBoostingClassifier\n",
    "from sklearn.ensemble import RandomForestClassifier\n",
    "from sklearn.naive_bayes import GaussianNB\n",
    "from sklearn.pipeline import Pipeline\n",
    "import pipecaster as pc"
   ]
  },
  {
   "cell_type": "code",
   "execution_count": 14,
   "metadata": {},
   "outputs": [
    {
     "data": {
      "text/plain": [
       "[0.5, 0.39889705882352944, 0.6691176470588236]"
      ]
     },
     "execution_count": 14,
     "metadata": {},
     "output_type": "execute_result"
    }
   ],
   "source": [
    "from sklearn.ensemble import GradientBoostingClassifier\n",
    "from sklearn.svm import SVC\n",
    "import pipecaster as pc\n",
    "\n",
    "Xs, y, X_types = pc.make_multi_input_classification(n_informative_Xs=3,\n",
    "                                                    n_random_Xs=7, class_sep=10)\n",
    "\n",
    "predictors = [LogisticRegression(),\n",
    "              KNeighborsClassifier(),  GradientBoostingClassifier(),\n",
    "              RandomForestClassifier(), GaussianNB()]\n",
    "\n",
    "ensemble_clf = pc.Ensemble(\n",
    "                 base_predictors=predictors, meta_predictor=SVC(),\n",
    "                 internal_cv=5, scorer='auto',\n",
    "                 score_selector=pc.RankScoreSelector(k=3))\n",
    "\n",
    "clf = pc.MultichannelPipeline(n_channels=10)\n",
    "clf.add_layer(pc.ChannelEnsemble(ensemble_clf, SVC(), internal_cv=5, scorer='auto', \n",
    "                                 score_selector=pc.RankScoreSelector(k=3)),\n",
    "              pipe_processes='max')\n",
    "\n",
    "pc.cross_val_score(clf, Xs, y, cv=3)"
   ]
  },
  {
   "cell_type": "code",
   "execution_count": 15,
   "metadata": {},
   "outputs": [
    {
     "data": {
      "text/html": [
       "<style  type=\"text/css\" >\n",
       "    #T_debf67e2_7c3a_11eb_9acf_a8206653ba57 th {\n",
       "          text-align: center;\n",
       "    }    #T_debf67e2_7c3a_11eb_9acf_a8206653ba57row0_col0 {\n",
       "            text-align:  center;\n",
       "        }    #T_debf67e2_7c3a_11eb_9acf_a8206653ba57row0_col1 {\n",
       "            text-align:  center;\n",
       "        }    #T_debf67e2_7c3a_11eb_9acf_a8206653ba57row1_col0 {\n",
       "            text-align:  center;\n",
       "        }    #T_debf67e2_7c3a_11eb_9acf_a8206653ba57row1_col1 {\n",
       "            text-align:  center;\n",
       "        }    #T_debf67e2_7c3a_11eb_9acf_a8206653ba57row2_col0 {\n",
       "            text-align:  center;\n",
       "        }    #T_debf67e2_7c3a_11eb_9acf_a8206653ba57row2_col1 {\n",
       "            text-align:  center;\n",
       "        }    #T_debf67e2_7c3a_11eb_9acf_a8206653ba57row3_col0 {\n",
       "            text-align:  center;\n",
       "        }    #T_debf67e2_7c3a_11eb_9acf_a8206653ba57row3_col1 {\n",
       "            text-align:  center;\n",
       "        }    #T_debf67e2_7c3a_11eb_9acf_a8206653ba57row4_col0 {\n",
       "            text-align:  center;\n",
       "        }    #T_debf67e2_7c3a_11eb_9acf_a8206653ba57row4_col1 {\n",
       "            text-align:  center;\n",
       "        }    #T_debf67e2_7c3a_11eb_9acf_a8206653ba57row5_col0 {\n",
       "            text-align:  center;\n",
       "        }    #T_debf67e2_7c3a_11eb_9acf_a8206653ba57row5_col1 {\n",
       "            text-align:  center;\n",
       "        }    #T_debf67e2_7c3a_11eb_9acf_a8206653ba57row6_col0 {\n",
       "            text-align:  center;\n",
       "        }    #T_debf67e2_7c3a_11eb_9acf_a8206653ba57row6_col1 {\n",
       "            text-align:  center;\n",
       "        }    #T_debf67e2_7c3a_11eb_9acf_a8206653ba57row7_col0 {\n",
       "            text-align:  center;\n",
       "        }    #T_debf67e2_7c3a_11eb_9acf_a8206653ba57row7_col1 {\n",
       "            text-align:  center;\n",
       "        }    #T_debf67e2_7c3a_11eb_9acf_a8206653ba57row8_col0 {\n",
       "            text-align:  center;\n",
       "        }    #T_debf67e2_7c3a_11eb_9acf_a8206653ba57row8_col1 {\n",
       "            text-align:  center;\n",
       "        }    #T_debf67e2_7c3a_11eb_9acf_a8206653ba57row9_col0 {\n",
       "            text-align:  center;\n",
       "        }    #T_debf67e2_7c3a_11eb_9acf_a8206653ba57row9_col1 {\n",
       "            text-align:  center;\n",
       "        }</style><table id=\"T_debf67e2_7c3a_11eb_9acf_a8206653ba57\" ><thead>    <tr>        <th class=\"blank level0\" ></th>        <th class=\"col_heading level0 col0\" >layer_0</th>        <th class=\"col_heading level0 col1\" >out_0</th>    </tr>    <tr>        <th class=\"index_name level0\" >channel</th>        <th class=\"blank\" ></th>        <th class=\"blank\" ></th>    </tr></thead><tbody>\n",
       "                <tr>\n",
       "                        <th id=\"T_debf67e2_7c3a_11eb_9acf_a8206653ba57level0_row0\" class=\"row_heading level0 row0\" >0</th>\n",
       "                        <td id=\"T_debf67e2_7c3a_11eb_9acf_a8206653ba57row0_col0\" class=\"data row0 col0\" >ChannelEnsemble</td>\n",
       "                        <td id=\"T_debf67e2_7c3a_11eb_9acf_a8206653ba57row0_col1\" class=\"data row0 col1\" >→</td>\n",
       "            </tr>\n",
       "            <tr>\n",
       "                        <th id=\"T_debf67e2_7c3a_11eb_9acf_a8206653ba57level0_row1\" class=\"row_heading level0 row1\" >1</th>\n",
       "                        <td id=\"T_debf67e2_7c3a_11eb_9acf_a8206653ba57row1_col0\" class=\"data row1 col0\" >▽</td>\n",
       "                        <td id=\"T_debf67e2_7c3a_11eb_9acf_a8206653ba57row1_col1\" class=\"data row1 col1\" > </td>\n",
       "            </tr>\n",
       "            <tr>\n",
       "                        <th id=\"T_debf67e2_7c3a_11eb_9acf_a8206653ba57level0_row2\" class=\"row_heading level0 row2\" >2</th>\n",
       "                        <td id=\"T_debf67e2_7c3a_11eb_9acf_a8206653ba57row2_col0\" class=\"data row2 col0\" >▽</td>\n",
       "                        <td id=\"T_debf67e2_7c3a_11eb_9acf_a8206653ba57row2_col1\" class=\"data row2 col1\" > </td>\n",
       "            </tr>\n",
       "            <tr>\n",
       "                        <th id=\"T_debf67e2_7c3a_11eb_9acf_a8206653ba57level0_row3\" class=\"row_heading level0 row3\" >3</th>\n",
       "                        <td id=\"T_debf67e2_7c3a_11eb_9acf_a8206653ba57row3_col0\" class=\"data row3 col0\" >▽</td>\n",
       "                        <td id=\"T_debf67e2_7c3a_11eb_9acf_a8206653ba57row3_col1\" class=\"data row3 col1\" > </td>\n",
       "            </tr>\n",
       "            <tr>\n",
       "                        <th id=\"T_debf67e2_7c3a_11eb_9acf_a8206653ba57level0_row4\" class=\"row_heading level0 row4\" >4</th>\n",
       "                        <td id=\"T_debf67e2_7c3a_11eb_9acf_a8206653ba57row4_col0\" class=\"data row4 col0\" >▽</td>\n",
       "                        <td id=\"T_debf67e2_7c3a_11eb_9acf_a8206653ba57row4_col1\" class=\"data row4 col1\" > </td>\n",
       "            </tr>\n",
       "            <tr>\n",
       "                        <th id=\"T_debf67e2_7c3a_11eb_9acf_a8206653ba57level0_row5\" class=\"row_heading level0 row5\" >5</th>\n",
       "                        <td id=\"T_debf67e2_7c3a_11eb_9acf_a8206653ba57row5_col0\" class=\"data row5 col0\" >▽</td>\n",
       "                        <td id=\"T_debf67e2_7c3a_11eb_9acf_a8206653ba57row5_col1\" class=\"data row5 col1\" > </td>\n",
       "            </tr>\n",
       "            <tr>\n",
       "                        <th id=\"T_debf67e2_7c3a_11eb_9acf_a8206653ba57level0_row6\" class=\"row_heading level0 row6\" >6</th>\n",
       "                        <td id=\"T_debf67e2_7c3a_11eb_9acf_a8206653ba57row6_col0\" class=\"data row6 col0\" >▽</td>\n",
       "                        <td id=\"T_debf67e2_7c3a_11eb_9acf_a8206653ba57row6_col1\" class=\"data row6 col1\" > </td>\n",
       "            </tr>\n",
       "            <tr>\n",
       "                        <th id=\"T_debf67e2_7c3a_11eb_9acf_a8206653ba57level0_row7\" class=\"row_heading level0 row7\" >7</th>\n",
       "                        <td id=\"T_debf67e2_7c3a_11eb_9acf_a8206653ba57row7_col0\" class=\"data row7 col0\" >▽</td>\n",
       "                        <td id=\"T_debf67e2_7c3a_11eb_9acf_a8206653ba57row7_col1\" class=\"data row7 col1\" > </td>\n",
       "            </tr>\n",
       "            <tr>\n",
       "                        <th id=\"T_debf67e2_7c3a_11eb_9acf_a8206653ba57level0_row8\" class=\"row_heading level0 row8\" >8</th>\n",
       "                        <td id=\"T_debf67e2_7c3a_11eb_9acf_a8206653ba57row8_col0\" class=\"data row8 col0\" >▽</td>\n",
       "                        <td id=\"T_debf67e2_7c3a_11eb_9acf_a8206653ba57row8_col1\" class=\"data row8 col1\" > </td>\n",
       "            </tr>\n",
       "            <tr>\n",
       "                        <th id=\"T_debf67e2_7c3a_11eb_9acf_a8206653ba57level0_row9\" class=\"row_heading level0 row9\" >9</th>\n",
       "                        <td id=\"T_debf67e2_7c3a_11eb_9acf_a8206653ba57row9_col0\" class=\"data row9 col0\" >▽</td>\n",
       "                        <td id=\"T_debf67e2_7c3a_11eb_9acf_a8206653ba57row9_col1\" class=\"data row9 col1\" > </td>\n",
       "            </tr>\n",
       "    </tbody></table>"
      ],
      "text/plain": [
       "MultichannelPipeline(n_channels=10)"
      ]
     },
     "execution_count": 15,
     "metadata": {},
     "output_type": "execute_result"
    }
   ],
   "source": [
    "clf.fit(Xs, y)"
   ]
  },
  {
   "cell_type": "code",
   "execution_count": 16,
   "metadata": {},
   "outputs": [
    {
     "data": {
      "text/html": [
       "<div>\n",
       "<style scoped>\n",
       "    .dataframe tbody tr th:only-of-type {\n",
       "        vertical-align: middle;\n",
       "    }\n",
       "\n",
       "    .dataframe tbody tr th {\n",
       "        vertical-align: top;\n",
       "    }\n",
       "\n",
       "    .dataframe thead th {\n",
       "        text-align: right;\n",
       "    }\n",
       "</style>\n",
       "<table border=\"1\" class=\"dataframe\">\n",
       "  <thead>\n",
       "    <tr style=\"text-align: right;\">\n",
       "      <th></th>\n",
       "      <th>performance</th>\n",
       "      <th>selections</th>\n",
       "      <th>inputs</th>\n",
       "    </tr>\n",
       "    <tr>\n",
       "      <th>channel</th>\n",
       "      <th></th>\n",
       "      <th></th>\n",
       "      <th></th>\n",
       "    </tr>\n",
       "  </thead>\n",
       "  <tbody>\n",
       "    <tr>\n",
       "      <th>0</th>\n",
       "      <td>0.5</td>\n",
       "      <td>-</td>\n",
       "      <td>random</td>\n",
       "    </tr>\n",
       "    <tr>\n",
       "      <th>1</th>\n",
       "      <td>0.5</td>\n",
       "      <td>-</td>\n",
       "      <td>informative</td>\n",
       "    </tr>\n",
       "    <tr>\n",
       "      <th>2</th>\n",
       "      <td>0.5</td>\n",
       "      <td>-</td>\n",
       "      <td>random</td>\n",
       "    </tr>\n",
       "    <tr>\n",
       "      <th>3</th>\n",
       "      <td>0.5</td>\n",
       "      <td>-</td>\n",
       "      <td>informative</td>\n",
       "    </tr>\n",
       "    <tr>\n",
       "      <th>4</th>\n",
       "      <td>0.5</td>\n",
       "      <td>-</td>\n",
       "      <td>informative</td>\n",
       "    </tr>\n",
       "    <tr>\n",
       "      <th>5</th>\n",
       "      <td>0.5</td>\n",
       "      <td>-</td>\n",
       "      <td>random</td>\n",
       "    </tr>\n",
       "    <tr>\n",
       "      <th>6</th>\n",
       "      <td>0.5</td>\n",
       "      <td>-</td>\n",
       "      <td>random</td>\n",
       "    </tr>\n",
       "    <tr>\n",
       "      <th>7</th>\n",
       "      <td>0.5</td>\n",
       "      <td>+++</td>\n",
       "      <td>random</td>\n",
       "    </tr>\n",
       "    <tr>\n",
       "      <th>8</th>\n",
       "      <td>0.5</td>\n",
       "      <td>+++</td>\n",
       "      <td>random</td>\n",
       "    </tr>\n",
       "    <tr>\n",
       "      <th>9</th>\n",
       "      <td>0.5</td>\n",
       "      <td>+++</td>\n",
       "      <td>random</td>\n",
       "    </tr>\n",
       "  </tbody>\n",
       "</table>\n",
       "</div>"
      ],
      "text/plain": [
       "         performance selections       inputs\n",
       "channel                                     \n",
       "0                0.5          -       random\n",
       "1                0.5          -  informative\n",
       "2                0.5          -       random\n",
       "3                0.5          -  informative\n",
       "4                0.5          -  informative\n",
       "5                0.5          -       random\n",
       "6                0.5          -       random\n",
       "7                0.5        +++       random\n",
       "8                0.5        +++       random\n",
       "9                0.5        +++       random"
      ]
     },
     "execution_count": 16,
     "metadata": {},
     "output_type": "execute_result"
    }
   ],
   "source": [
    "channel_ensemble = clf.get_model(0, 0)\n",
    "df = channel_ensemble.get_screen_results()\n",
    "df['inputs'] = X_types\n",
    "df"
   ]
  },
  {
   "cell_type": "code",
   "execution_count": 17,
   "metadata": {},
   "outputs": [
    {
     "data": {
      "text/plain": [
       "(0.5, 0.5, 0.5, 0.5, 0.5, 0.5, 0.5, 0.5, 0.5, 0.5)"
      ]
     },
     "execution_count": 17,
     "metadata": {},
     "output_type": "execute_result"
    }
   ],
   "source": [
    "channel_ensemble.scores_"
   ]
  },
  {
   "cell_type": "code",
   "execution_count": 18,
   "metadata": {},
   "outputs": [
    {
     "name": "stdout",
     "output_type": "stream",
     "text": [
      "\n",
      "channel 0, input = random\n",
      "(not selected)\n",
      "\n",
      "channel 1, input = informative\n",
      "(not selected)\n",
      "\n",
      "channel 2, input = random\n",
      "(not selected)\n",
      "\n",
      "channel 3, input = informative\n",
      "(not selected)\n",
      "\n",
      "channel 4, input = informative\n",
      "(not selected)\n",
      "\n",
      "channel 5, input = random\n",
      "(not selected)\n",
      "\n",
      "channel 6, input = random\n",
      "(not selected)\n",
      "\n",
      "channel 7, input = random\n",
      "(0.56, 0.45, 0.44, 0.44, 0.46)\n",
      "                              performance selections\n",
      "model                                               \n",
      "LogisticRegression()                 0.56        +++\n",
      "KNeighborsClassifier()               0.45        +++\n",
      "GradientBoostingClassifier()         0.44          -\n",
      "RandomForestClassifier()             0.44          -\n",
      "GaussianNB()                         0.46        +++\n",
      "\n",
      "channel 8, input = random\n",
      "(0.54, 0.56, 0.51, 0.51, 0.56)\n",
      "                              performance selections\n",
      "model                                               \n",
      "LogisticRegression()                 0.54        +++\n",
      "KNeighborsClassifier()               0.56        +++\n",
      "GradientBoostingClassifier()         0.51          -\n",
      "RandomForestClassifier()             0.51          -\n",
      "GaussianNB()                         0.56        +++\n",
      "\n",
      "channel 9, input = random\n",
      "(0.42000000000000004, 0.47000000000000003, 0.53, 0.53, 0.47)\n",
      "                              performance selections\n",
      "model                                               \n",
      "LogisticRegression()                 0.42          -\n",
      "KNeighborsClassifier()               0.47        +++\n",
      "GradientBoostingClassifier()         0.53        +++\n",
      "RandomForestClassifier()             0.53        +++\n",
      "GaussianNB()                         0.47          -\n"
     ]
    }
   ],
   "source": [
    "ensemble_clfs = clf.get_model(0, 0).base_models\n",
    "ensemble_clfs = [pc.transform_wrappers.unwrap_model(m) for m in ensemble_clfs]\n",
    "\n",
    "for i, ensemble_clf in enumerate(ensemble_clfs):\n",
    "    print('\\nchannel {}, input = {}'.format(i, X_types[i]))\n",
    "    if ensemble_clf is None:\n",
    "        print('(not selected)')\n",
    "        continue\n",
    "    else:\n",
    "        print(ensemble_clf.scores_)\n",
    "        print(ensemble_clf.get_screen_results())"
   ]
  },
  {
   "cell_type": "code",
   "execution_count": 19,
   "metadata": {},
   "outputs": [
    {
     "data": {
      "text/html": [
       "\n",
       "                <audio controls=\"controls\" autoplay=\"autoplay\">\n",
       "                    <source src=\"https://sound.peal.io/ps/audios/000/000/537/original/woo_vu_luvub_dub_dub.wav\" type=\"audio/x-wav\" />\n",
       "                    Your browser does not support the audio element.\n",
       "                </audio>\n",
       "              "
      ],
      "text/plain": [
       "<IPython.lib.display.Audio object>"
      ]
     },
     "metadata": {},
     "output_type": "display_data"
    }
   ],
   "source": [
    "import toolbelt\n",
    "toolbelt.play_rick1()"
   ]
  },
  {
   "cell_type": "code",
   "execution_count": null,
   "metadata": {},
   "outputs": [],
   "source": []
  },
  {
   "cell_type": "code",
   "execution_count": null,
   "metadata": {},
   "outputs": [],
   "source": []
  }
 ],
 "metadata": {
  "kernelspec": {
   "display_name": "trading_venv_clark",
   "language": "python",
   "name": "trading_venv_clark"
  },
  "language_info": {
   "codemirror_mode": {
    "name": "ipython",
    "version": 3
   },
   "file_extension": ".py",
   "mimetype": "text/x-python",
   "name": "python",
   "nbconvert_exporter": "python",
   "pygments_lexer": "ipython3",
   "version": "3.7.5"
  },
  "toc": {
   "base_numbering": 1,
   "nav_menu": {},
   "number_sections": true,
   "sideBar": true,
   "skip_h1_title": false,
   "title_cell": "Table of Contents",
   "title_sidebar": "Contents",
   "toc_cell": false,
   "toc_position": {
    "height": "calc(100% - 180px)",
    "left": "10px",
    "top": "150px",
    "width": "280px"
   },
   "toc_section_display": true,
   "toc_window_display": true
  }
 },
 "nbformat": 4,
 "nbformat_minor": 2
}
