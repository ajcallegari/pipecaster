{
 "cells": [
  {
   "cell_type": "markdown",
   "metadata": {},
   "source": [
    "# tutorial 4: in-pipeline hyperparameter screens\n",
    "\n",
    "This tutorial show you how to use the **GridSearchEnsemble** class to \n",
    "\n",
    "* screen ML model hyperparameters during model fitting\n",
    "* make ensemble predictions using the results of a hyperparameter screen"
   ]
  },
  {
   "cell_type": "markdown",
   "metadata": {},
   "source": [
    "## Stacked generalization with parameter selection\n",
    "\n",
    "In this example, internal cv is used to estimate the quality of a set of hyperameters as well as to generate features for meta-prediction with a support vector machine.  The top two parameter sets are chosen to create the final model."
   ]
  },
  {
   "cell_type": "code",
   "execution_count": 3,
   "metadata": {},
   "outputs": [
    {
     "data": {
      "text/html": [
       "<div>\n",
       "<style scoped>\n",
       "    .dataframe tbody tr th:only-of-type {\n",
       "        vertical-align: middle;\n",
       "    }\n",
       "\n",
       "    .dataframe tbody tr th {\n",
       "        vertical-align: top;\n",
       "    }\n",
       "\n",
       "    .dataframe thead th {\n",
       "        text-align: right;\n",
       "    }\n",
       "</style>\n",
       "<table border=\"1\" class=\"dataframe\">\n",
       "  <thead>\n",
       "    <tr style=\"text-align: right;\">\n",
       "      <th></th>\n",
       "      <th>selections</th>\n",
       "      <th>score</th>\n",
       "    </tr>\n",
       "    <tr>\n",
       "      <th>parameters</th>\n",
       "      <th></th>\n",
       "      <th></th>\n",
       "    </tr>\n",
       "  </thead>\n",
       "  <tbody>\n",
       "    <tr>\n",
       "      <th>{'learning_rate': 10, 'n_estimators': 10}</th>\n",
       "      <td>+</td>\n",
       "      <td>0.849740</td>\n",
       "    </tr>\n",
       "    <tr>\n",
       "      <th>{'learning_rate': 0.1, 'n_estimators': 2}</th>\n",
       "      <td>-</td>\n",
       "      <td>0.839536</td>\n",
       "    </tr>\n",
       "    <tr>\n",
       "      <th>{'learning_rate': 10, 'n_estimators': 2}</th>\n",
       "      <td>+</td>\n",
       "      <td>0.839536</td>\n",
       "    </tr>\n",
       "    <tr>\n",
       "      <th>{'learning_rate': 0.1, 'n_estimators': 10}</th>\n",
       "      <td>-</td>\n",
       "      <td>0.829332</td>\n",
       "    </tr>\n",
       "  </tbody>\n",
       "</table>\n",
       "</div>"
      ],
      "text/plain": [
       "                                           selections     score\n",
       "parameters                                                     \n",
       "{'learning_rate': 10, 'n_estimators': 10}           +  0.849740\n",
       "{'learning_rate': 0.1, 'n_estimators': 2}           -  0.839536\n",
       "{'learning_rate': 10, 'n_estimators': 2}            +  0.839536\n",
       "{'learning_rate': 0.1, 'n_estimators': 10}          -  0.829332"
      ]
     },
     "execution_count": 3,
     "metadata": {},
     "output_type": "execute_result"
    }
   ],
   "source": [
    "from sklearn.datasets import make_classification\n",
    "from sklearn.ensemble import GradientBoostingClassifier\n",
    "from sklearn.svm import SVC\n",
    "from sklearn.model_selection import cross_val_score\n",
    "import pipecaster as pc\n",
    "\n",
    "screen_specs = {\n",
    "     'learning_rate':[0.1, 10],\n",
    "     'n_estimators':[2, 10],\n",
    "}\n",
    "\n",
    "X, y = make_classification()\n",
    "clf = pc.GridSearchEnsemble(\n",
    "                 param_dict=screen_specs,\n",
    "                 base_predictor_cls=GradientBoostingClassifier,\n",
    "                 meta_predictor=SVC(),\n",
    "                 internal_cv=5, scorer='auto',\n",
    "                 score_selector=pc.RankScoreSelector(k=2),\n",
    "                 base_processes='max')\n",
    "clf.fit(X, y)\n",
    "clf.get_screen_results()"
   ]
  },
  {
   "cell_type": "code",
   "execution_count": 3,
   "metadata": {},
   "outputs": [
    {
     "data": {
      "text/plain": [
       "array([0.79861111, 0.85294118, 0.81801471])"
      ]
     },
     "execution_count": 3,
     "metadata": {},
     "output_type": "execute_result"
    }
   ],
   "source": [
    "cross_val_score(clf, X, y, scoring='balanced_accuracy', cv=3)"
   ]
  },
  {
   "cell_type": "markdown",
   "metadata": {},
   "source": [
    "## Parameter selection (without ensemble prediction)\n",
    "\n",
    "In this example, the meta-predictor is dropped and the best parameter set is used to make the final model."
   ]
  },
  {
   "cell_type": "code",
   "execution_count": 1,
   "metadata": {},
   "outputs": [
    {
     "name": "stderr",
     "output_type": "stream",
     "text": [
      "File descriptor limit 256 is too low for production servers and may result in connection errors. At least 8192 is recommended. --- Fix with 'ulimit -n 8192'\n",
      "2021-03-01 21:37:19,596\tINFO services.py:1173 -- View the Ray dashboard at \u001b[1m\u001b[32mhttp://127.0.0.1:8266\u001b[39m\u001b[22m\n"
     ]
    },
    {
     "data": {
      "text/html": [
       "<div>\n",
       "<style scoped>\n",
       "    .dataframe tbody tr th:only-of-type {\n",
       "        vertical-align: middle;\n",
       "    }\n",
       "\n",
       "    .dataframe tbody tr th {\n",
       "        vertical-align: top;\n",
       "    }\n",
       "\n",
       "    .dataframe thead th {\n",
       "        text-align: right;\n",
       "    }\n",
       "</style>\n",
       "<table border=\"1\" class=\"dataframe\">\n",
       "  <thead>\n",
       "    <tr style=\"text-align: right;\">\n",
       "      <th></th>\n",
       "      <th>selections</th>\n",
       "      <th>score</th>\n",
       "    </tr>\n",
       "    <tr>\n",
       "      <th>parameters</th>\n",
       "      <th></th>\n",
       "      <th></th>\n",
       "    </tr>\n",
       "  </thead>\n",
       "  <tbody>\n",
       "    <tr>\n",
       "      <th>{'learning_rate': 0.1, 'n_estimators': 2}</th>\n",
       "      <td>+</td>\n",
       "      <td>0.89</td>\n",
       "    </tr>\n",
       "    <tr>\n",
       "      <th>{'learning_rate': 10, 'n_estimators': 10}</th>\n",
       "      <td>-</td>\n",
       "      <td>0.88</td>\n",
       "    </tr>\n",
       "    <tr>\n",
       "      <th>{'learning_rate': 10, 'n_estimators': 2}</th>\n",
       "      <td>-</td>\n",
       "      <td>0.87</td>\n",
       "    </tr>\n",
       "    <tr>\n",
       "      <th>{'learning_rate': 0.1, 'n_estimators': 10}</th>\n",
       "      <td>-</td>\n",
       "      <td>0.86</td>\n",
       "    </tr>\n",
       "  </tbody>\n",
       "</table>\n",
       "</div>"
      ],
      "text/plain": [
       "                                           selections  score\n",
       "parameters                                                  \n",
       "{'learning_rate': 0.1, 'n_estimators': 2}           +   0.89\n",
       "{'learning_rate': 10, 'n_estimators': 10}           -   0.88\n",
       "{'learning_rate': 10, 'n_estimators': 2}            -   0.87\n",
       "{'learning_rate': 0.1, 'n_estimators': 10}          -   0.86"
      ]
     },
     "execution_count": 1,
     "metadata": {},
     "output_type": "execute_result"
    }
   ],
   "source": [
    "from sklearn.datasets import make_classification\n",
    "from sklearn.ensemble import GradientBoostingClassifier\n",
    "from sklearn.svm import SVC\n",
    "from sklearn.model_selection import cross_val_score\n",
    "import pipecaster as pc\n",
    "\n",
    "screen_specs = {\n",
    "     'learning_rate':[0.1, 10],\n",
    "     'n_estimators':[2, 10],\n",
    "}\n",
    "\n",
    "X, y = make_classification()\n",
    "clf = pc.GridSearchEnsemble(\n",
    "                 param_dict=screen_specs,\n",
    "                 base_predictor_cls=GradientBoostingClassifier,\n",
    "                 internal_cv=5, scorer='auto',\n",
    "                 score_selector=pc.RankScoreSelector(k=1),\n",
    "                 base_processes='max')\n",
    "clf.fit(X, y)\n",
    "clf.get_screen_results()"
   ]
  },
  {
   "cell_type": "code",
   "execution_count": 2,
   "metadata": {},
   "outputs": [
    {
     "data": {
      "text/plain": [
       "array([0.97058824, 0.97058824, 0.84375   ])"
      ]
     },
     "execution_count": 2,
     "metadata": {},
     "output_type": "execute_result"
    }
   ],
   "source": [
    "cross_val_score(clf, X, y, scoring='balanced_accuracy', cv=3)"
   ]
  },
  {
   "cell_type": "markdown",
   "metadata": {},
   "source": [
    "### Screening screens: the double stack"
   ]
  },
  {
   "cell_type": "code",
   "execution_count": null,
   "metadata": {},
   "outputs": [],
   "source": [
    "# (0) FAILED: channel selection failed, channel ensemble scores all 0.5, \n",
    "# ensemble scores mixed and track well with channel information content.\n",
    "\n",
    "screen_specs = {\n",
    "     'learning_rate':[.1, 1],\n",
    "     'n_estimators':[5, 10]\n",
    "}\n",
    "\n",
    "channel_clf = pc.GridSearchEnsemble(\n",
    "                 screen_specs, GradientBoostingClassifier, SVC(),\n",
    "                 internal_cv=3, scorer='auto',\n",
    "                 score_selector=pc.RankScoreSelector(k=2))\n",
    "\n",
    "# (1) PASSED, correct channel selected, channel ensemble scores track with information, \n",
    "# ensemble scores track with information content and are heterogeneous\n",
    "base_predictors = [LogisticRegression(),\n",
    "              KNeighborsClassifier(),  GradientBoostingClassifier(),\n",
    "              RandomForestClassifier(), GaussianNB()]\n",
    "\n",
    "channel_clf = pc.Ensemble(\n",
    "                 base_predictors=base_predictors,\n",
    "                 meta_predictor=None,\n",
    "                 internal_cv=3,\n",
    "                 scorer='auto',\n",
    "                 base_processes=1)\n",
    "\n",
    "### (2) PASS\n",
    "base_predictors = [LogisticRegression(),\n",
    "              KNeighborsClassifier(), GradientBoostingClassifier(),\n",
    "              RandomForestClassifier(), GaussianNB()]\n",
    "\n",
    "channel_clf = pc.Ensemble(\n",
    "                 base_predictors=base_predictors, meta_predictor=pc.SoftVotingClassifier(),\n",
    "                 internal_cv=3, scorer='auto',\n",
    "                 score_selector=pc.RankScoreSelector(k=3))\n",
    "\n",
    "# (3) FAILED: wrong channels selected, channel ensemble scores all 0.5,\n",
    "# ensemble scores heterogeneous and track well with input type\n",
    "base_predictors = [LogisticRegression(),\n",
    "              KNeighborsClassifier(), GradientBoostingClassifier(),\n",
    "              RandomForestClassifier(), GaussianNB()]\n",
    "\n",
    "channel_clf = pc.Ensemble(\n",
    "                 base_predictors=base_predictors, meta_predictor=SVC(),\n",
    "                 internal_cv=3, scorer='auto',\n",
    "                 score_selector=pc.RankScoreSelector(k=3))\n",
    "\n",
    "# (4) PASS\n",
    "base_predictors = [LogisticRegression(),\n",
    "              KNeighborsClassifier(), GradientBoostingClassifier(),\n",
    "              RandomForestClassifier(), GaussianNB()]\n",
    "\n",
    "channel_clf = pc.Ensemble(\n",
    "                 base_predictors=base_predictors, meta_predictor=GradientBoostingClassifier(),\n",
    "                 internal_cv=3, scorer='auto',\n",
    "                 score_selector=pc.RankScoreSelector(k=3))\n",
    "\n",
    "# (5) PASS\n",
    "base_predictors = [LogisticRegression(),\n",
    "              KNeighborsClassifier(), GradientBoostingClassifier(),\n",
    "              RandomForestClassifier(), GaussianNB()]\n",
    "\n",
    "channel_clf = pc.Ensemble(\n",
    "                 base_predictors=base_predictors, meta_predictor=SVC(probability=True),\n",
    "                 internal_cv=3, scorer='auto',\n",
    "                 score_selector=pc.RankScoreSelector(k=5))"
   ]
  },
  {
   "cell_type": "code",
   "execution_count": 1,
   "metadata": {},
   "outputs": [],
   "source": [
    "from sklearn.datasets import make_classification\n",
    "from sklearn.preprocessing import StandardScaler\n",
    "from sklearn.neural_network import MLPClassifier\n",
    "from sklearn.linear_model import LogisticRegression\n",
    "from sklearn.neighbors import KNeighborsClassifier\n",
    "from sklearn.ensemble import GradientBoostingClassifier\n",
    "from sklearn.ensemble import RandomForestClassifier\n",
    "from sklearn.naive_bayes import GaussianNB\n",
    "from sklearn.svm import SVC\n",
    "from sklearn.pipeline import Pipeline\n",
    "import pipecaster as pc"
   ]
  },
  {
   "cell_type": "code",
   "execution_count": 2,
   "metadata": {},
   "outputs": [],
   "source": [
    "# (3) FAILED: wrong channels selected, channel ensemble scores all 0.5,\n",
    "# ensemble scores heterogeneous and track well with input type\n",
    "base_predictors = [LogisticRegression(),\n",
    "              KNeighborsClassifier(), GradientBoostingClassifier(),\n",
    "              RandomForestClassifier(), GaussianNB()]\n",
    "\n",
    "channel_clf = pc.Ensemble(\n",
    "                 base_predictors=base_predictors, meta_predictor=LogisticRegression(),\n",
    "                 internal_cv=3, scorer='auto',\n",
    "                 score_selector=pc.RankScoreSelector(k=3))"
   ]
  },
  {
   "cell_type": "code",
   "execution_count": null,
   "metadata": {},
   "outputs": [],
   "source": [
    "from sklearn.ensemble import GradientBoostingClassifier\n",
    "from sklearn.svm import SVC\n",
    "import pipecaster as pc\n",
    "\n",
    "Xs, y, X_types = pc.make_multi_input_classification(n_informative_Xs=3,\n",
    "                                                    n_random_Xs=7, class_sep=1)\n",
    "\n",
    "clf = pc.MultichannelPipeline(n_channels=10)\n",
    "clf.add_layer(pc.ChannelEnsemble(channel_clf, SVC(), internal_cv=5, scorer='auto', \n",
    "                                 score_selector=pc.RankScoreSelector(k=3)),\n",
    "              pipe_processes='max')\n",
    "\n",
    "pc.cross_val_score(clf, Xs, y, cv=3)"
   ]
  },
  {
   "cell_type": "code",
   "execution_count": null,
   "metadata": {},
   "outputs": [],
   "source": [
    "clf.fit(Xs, y)"
   ]
  },
  {
   "cell_type": "code",
   "execution_count": 5,
   "metadata": {},
   "outputs": [
    {
     "data": {
      "text/html": [
       "<div>\n",
       "<style scoped>\n",
       "    .dataframe tbody tr th:only-of-type {\n",
       "        vertical-align: middle;\n",
       "    }\n",
       "\n",
       "    .dataframe tbody tr th {\n",
       "        vertical-align: top;\n",
       "    }\n",
       "\n",
       "    .dataframe thead th {\n",
       "        text-align: right;\n",
       "    }\n",
       "</style>\n",
       "<table border=\"1\" class=\"dataframe\">\n",
       "  <thead>\n",
       "    <tr style=\"text-align: right;\">\n",
       "      <th></th>\n",
       "      <th>performance</th>\n",
       "      <th>selections</th>\n",
       "      <th>inputs</th>\n",
       "    </tr>\n",
       "    <tr>\n",
       "      <th>channel</th>\n",
       "      <th></th>\n",
       "      <th></th>\n",
       "      <th></th>\n",
       "    </tr>\n",
       "  </thead>\n",
       "  <tbody>\n",
       "    <tr>\n",
       "      <th>0</th>\n",
       "      <td>0.5</td>\n",
       "      <td>-</td>\n",
       "      <td>random</td>\n",
       "    </tr>\n",
       "    <tr>\n",
       "      <th>1</th>\n",
       "      <td>0.5</td>\n",
       "      <td>-</td>\n",
       "      <td>informative</td>\n",
       "    </tr>\n",
       "    <tr>\n",
       "      <th>2</th>\n",
       "      <td>0.5</td>\n",
       "      <td>-</td>\n",
       "      <td>informative</td>\n",
       "    </tr>\n",
       "    <tr>\n",
       "      <th>3</th>\n",
       "      <td>0.5</td>\n",
       "      <td>-</td>\n",
       "      <td>random</td>\n",
       "    </tr>\n",
       "    <tr>\n",
       "      <th>4</th>\n",
       "      <td>0.5</td>\n",
       "      <td>-</td>\n",
       "      <td>informative</td>\n",
       "    </tr>\n",
       "    <tr>\n",
       "      <th>5</th>\n",
       "      <td>0.5</td>\n",
       "      <td>-</td>\n",
       "      <td>random</td>\n",
       "    </tr>\n",
       "    <tr>\n",
       "      <th>6</th>\n",
       "      <td>0.5</td>\n",
       "      <td>-</td>\n",
       "      <td>random</td>\n",
       "    </tr>\n",
       "    <tr>\n",
       "      <th>7</th>\n",
       "      <td>0.5</td>\n",
       "      <td>+++</td>\n",
       "      <td>random</td>\n",
       "    </tr>\n",
       "    <tr>\n",
       "      <th>8</th>\n",
       "      <td>0.5</td>\n",
       "      <td>+++</td>\n",
       "      <td>random</td>\n",
       "    </tr>\n",
       "    <tr>\n",
       "      <th>9</th>\n",
       "      <td>0.5</td>\n",
       "      <td>+++</td>\n",
       "      <td>random</td>\n",
       "    </tr>\n",
       "  </tbody>\n",
       "</table>\n",
       "</div>"
      ],
      "text/plain": [
       "         performance selections       inputs\n",
       "channel                                     \n",
       "0                0.5          -       random\n",
       "1                0.5          -  informative\n",
       "2                0.5          -  informative\n",
       "3                0.5          -       random\n",
       "4                0.5          -  informative\n",
       "5                0.5          -       random\n",
       "6                0.5          -       random\n",
       "7                0.5        +++       random\n",
       "8                0.5        +++       random\n",
       "9                0.5        +++       random"
      ]
     },
     "execution_count": 5,
     "metadata": {},
     "output_type": "execute_result"
    }
   ],
   "source": [
    "channel_ensemble = clf.get_model(0, 0)\n",
    "df = channel_ensemble.get_screen_results()\n",
    "df['inputs'] = X_types\n",
    "df"
   ]
  },
  {
   "cell_type": "code",
   "execution_count": 6,
   "metadata": {},
   "outputs": [
    {
     "data": {
      "text/plain": [
       "[0.5, 0.5, 0.5, 0.5, 0.5, 0.5, 0.5, 0.5, 0.5, 0.5]"
      ]
     },
     "execution_count": 6,
     "metadata": {},
     "output_type": "execute_result"
    }
   ],
   "source": [
    "channel_ensemble.scores_"
   ]
  },
  {
   "cell_type": "code",
   "execution_count": 7,
   "metadata": {},
   "outputs": [
    {
     "name": "stdout",
     "output_type": "stream",
     "text": [
      "\n",
      "channel 0, input = random\n",
      "(not selected)\n",
      "\n",
      "channel 1, input = informative\n",
      "(not selected)\n",
      "\n",
      "channel 2, input = informative\n",
      "(not selected)\n",
      "\n",
      "channel 3, input = random\n",
      "(not selected)\n",
      "\n",
      "channel 4, input = informative\n",
      "(not selected)\n",
      "\n",
      "channel 5, input = random\n",
      "(not selected)\n",
      "\n",
      "channel 6, input = random\n",
      "(not selected)\n",
      "\n",
      "channel 7, input = random\n",
      "[0.5, 0.53, 0.5, 0.47, 0.43000000000000005]\n",
      "                              performance selections\n",
      "model                                               \n",
      "LogisticRegression()                 0.50        +++\n",
      "KNeighborsClassifier()               0.53        +++\n",
      "GradientBoostingClassifier()         0.50        +++\n",
      "RandomForestClassifier()             0.47          -\n",
      "GaussianNB()                         0.43          -\n",
      "\n",
      "channel 8, input = random\n",
      "[0.5, 0.52, 0.5, 0.5, 0.5]\n",
      "                              performance selections\n",
      "model                                               \n",
      "LogisticRegression()                 0.50          -\n",
      "KNeighborsClassifier()               0.52        +++\n",
      "GradientBoostingClassifier()         0.50          -\n",
      "RandomForestClassifier()             0.50        +++\n",
      "GaussianNB()                         0.50        +++\n",
      "\n",
      "channel 9, input = random\n",
      "[0.5, 0.46, 0.5, 0.5, 0.37]\n",
      "                              performance selections\n",
      "model                                               \n",
      "LogisticRegression()                 0.50        +++\n",
      "KNeighborsClassifier()               0.46          -\n",
      "GradientBoostingClassifier()         0.50        +++\n",
      "RandomForestClassifier()             0.50        +++\n",
      "GaussianNB()                         0.37          -\n"
     ]
    }
   ],
   "source": [
    "channel_clfs = clf.get_model(0, 0).base_models\n",
    "channel_clfs = [pc.transform_wrappers.unwrap_model(m) for m in channel_clfs]\n",
    "\n",
    "for i, channel_clf in enumerate(channel_clfs):\n",
    "    print('\\nchannel {}, input = {}'.format(i, X_types[i]))\n",
    "    if channel_clf is None:\n",
    "        print('(not selected)')\n",
    "        continue\n",
    "    else:\n",
    "        print(channel_clf.scores_)\n",
    "        print(channel_clf.get_screen_results())"
   ]
  },
  {
   "cell_type": "code",
   "execution_count": 8,
   "metadata": {},
   "outputs": [
    {
     "data": {
      "text/html": [
       "\n",
       "                <audio controls=\"controls\" autoplay=\"autoplay\">\n",
       "                    <source src=\"https://sound.peal.io/ps/audios/000/000/537/original/woo_vu_luvub_dub_dub.wav\" type=\"audio/x-wav\" />\n",
       "                    Your browser does not support the audio element.\n",
       "                </audio>\n",
       "              "
      ],
      "text/plain": [
       "<IPython.lib.display.Audio object>"
      ]
     },
     "metadata": {},
     "output_type": "display_data"
    }
   ],
   "source": [
    "import toolbelt\n",
    "toolbelt.play_rick1()"
   ]
  },
  {
   "cell_type": "code",
   "execution_count": 41,
   "metadata": {},
   "outputs": [],
   "source": [
    "from sklearn.svm import SVC\n",
    "from sklearn.ensemble import GradientBoostingClassifier, GradientBoostingRegressor\n",
    "from sklearn.linear_model import LogisticRegression, LinearRegression\n",
    "from sklearn.datasets import make_classification, make_regression\n",
    "from sklearn.model_selection import cross_val_score, cross_val_predict\n",
    "from sklearn.metrics import roc_auc_score, balanced_accuracy_score, explained_variance_score\n",
    "import pipecaster as pc\n",
    "import numpy as np\n",
    "\n",
    "X, y = make_regression(n_samples=500, n_features=20, n_informative=3)\n",
    "\n",
    "clf1 = LinearRegression()\n",
    "clf2 = GradientBoostingRegressor(n_estimators=10)"
   ]
  },
  {
   "cell_type": "code",
   "execution_count": 42,
   "metadata": {},
   "outputs": [
    {
     "data": {
      "text/plain": [
       "1.0"
      ]
     },
     "execution_count": 42,
     "metadata": {},
     "output_type": "execute_result"
    }
   ],
   "source": [
    "np.mean(cross_val_score(clf1, X, y, scoring='explained_variance'))"
   ]
  },
  {
   "cell_type": "code",
   "execution_count": 43,
   "metadata": {},
   "outputs": [
    {
     "data": {
      "text/plain": [
       "0.6934843476701928"
      ]
     },
     "execution_count": 43,
     "metadata": {},
     "output_type": "execute_result"
    }
   ],
   "source": [
    "np.mean(cross_val_score(clf2, X, y, scoring='explained_variance'))"
   ]
  },
  {
   "cell_type": "code",
   "execution_count": 44,
   "metadata": {},
   "outputs": [
    {
     "data": {
      "text/plain": [
       "1.0"
      ]
     },
     "execution_count": 44,
     "metadata": {},
     "output_type": "execute_result"
    }
   ],
   "source": [
    "np.mean(pc.cross_val_score(clf1, X, y, \n",
    "                           predict_methods='predict', scorers=explained_variance_score))"
   ]
  },
  {
   "cell_type": "code",
   "execution_count": 45,
   "metadata": {},
   "outputs": [
    {
     "data": {
      "text/plain": [
       "0.6971880677324713"
      ]
     },
     "execution_count": 45,
     "metadata": {},
     "output_type": "execute_result"
    }
   ],
   "source": [
    "np.mean(pc.cross_val_score(clf2, X, y, \n",
    "                           predict_methods='predict', scorers=explained_variance_score))"
   ]
  },
  {
   "cell_type": "code",
   "execution_count": 31,
   "metadata": {},
   "outputs": [
    {
     "ename": "AttributeError",
     "evalue": "module 'pipecaster' has no attribute 'Ensemble'",
     "output_type": "error",
     "traceback": [
      "\u001b[0;31m---------------------------------------------------------------------------\u001b[0m",
      "\u001b[0;31mAttributeError\u001b[0m                            Traceback (most recent call last)",
      "\u001b[0;32m<ipython-input-31-163a2a4faac2>\u001b[0m in \u001b[0;36m<module>\u001b[0;34m()\u001b[0m\n\u001b[1;32m     10\u001b[0m \u001b[0mbase_clfs\u001b[0m \u001b[0;34m=\u001b[0m \u001b[0;34m[\u001b[0m\u001b[0mbase_clf\u001b[0m\u001b[0;34m,\u001b[0m \u001b[0mbase_clf\u001b[0m\u001b[0;34m,\u001b[0m \u001b[0mbase_clf\u001b[0m\u001b[0;34m]\u001b[0m\u001b[0;34m\u001b[0m\u001b[0;34m\u001b[0m\u001b[0m\n\u001b[1;32m     11\u001b[0m \u001b[0;34m\u001b[0m\u001b[0m\n\u001b[0;32m---> 12\u001b[0;31m clf = pc.Ensemble(base_clfs, pc.SoftVotingClassifier(), internal_cv=3, \n\u001b[0m\u001b[1;32m     13\u001b[0m                   score_selector=pc.RankScoreSelector(k=2))\n\u001b[1;32m     14\u001b[0m \u001b[0;34m\u001b[0m\u001b[0m\n",
      "\u001b[0;31mAttributeError\u001b[0m: module 'pipecaster' has no attribute 'Ensemble'"
     ]
    }
   ],
   "source": [
    "from sklearn.svm import SVC\n",
    "from sklearn.ensemble import GradientBoostingClassifier\n",
    "from sklearn.datasets import make_classification\n",
    "from sklearn.model_selection import cross_val_score\n",
    "import pipecaster as pc\n",
    "X, y = make_classification(n_features=3, n_informative=3, n_redundant=0)\n",
    "\n",
    "\n",
    "base_clf = GradientBoostingClassifier()\n",
    "base_clfs = [base_clf, base_clf, base_clf]\n",
    "\n",
    "clf = pc.Ensemble(base_clfs, pc.SoftVotingClassifier(), internal_cv=3, \n",
    "                  score_selector=pc.RankScoreSelector(k=2))\n",
    "\n",
    "cross_val_score(base_clf, X, y, scoring='balanced_accuracy', cv=3)"
   ]
  },
  {
   "cell_type": "code",
   "execution_count": null,
   "metadata": {},
   "outputs": [],
   "source": [
    "pc.cross_val_score(clf, X, y)"
   ]
  },
  {
   "cell_type": "code",
   "execution_count": 8,
   "metadata": {},
   "outputs": [
    {
     "data": {
      "text/plain": [
       "array([[0.59453016, 0.23542929],\n",
       "       [0.2211852 , 0.43608604],\n",
       "       [0.71609175, 0.72278445],\n",
       "       [0.73470326, 0.20535604]])"
      ]
     },
     "execution_count": 8,
     "metadata": {},
     "output_type": "execute_result"
    }
   ],
   "source": [
    "np.random.rand(4,2)"
   ]
  },
  {
   "cell_type": "code",
   "execution_count": 10,
   "metadata": {},
   "outputs": [
    {
     "ename": "ValueError",
     "evalue": "multi_class must be in ('ovo', 'ovr')",
     "output_type": "error",
     "traceback": [
      "\u001b[0;31m---------------------------------------------------------------------------\u001b[0m",
      "\u001b[0;31mValueError\u001b[0m                                Traceback (most recent call last)",
      "\u001b[0;32m<ipython-input-10-8f057f65e701>\u001b[0m in \u001b[0;36m<module>\u001b[0;34m()\u001b[0m\n\u001b[0;32m----> 1\u001b[0;31m \u001b[0mroc_auc_score\u001b[0m\u001b[0;34m(\u001b[0m\u001b[0;34m[\u001b[0m\u001b[0;34m'a'\u001b[0m\u001b[0;34m,\u001b[0m\u001b[0;34m'b'\u001b[0m\u001b[0;34m,\u001b[0m\u001b[0;34m'a'\u001b[0m\u001b[0;34m,\u001b[0m\u001b[0;34m'c'\u001b[0m\u001b[0;34m]\u001b[0m\u001b[0;34m,\u001b[0m \u001b[0mnp\u001b[0m\u001b[0;34m.\u001b[0m\u001b[0mrandom\u001b[0m\u001b[0;34m.\u001b[0m\u001b[0mrand\u001b[0m\u001b[0;34m(\u001b[0m\u001b[0;36m4\u001b[0m\u001b[0;34m,\u001b[0m\u001b[0;36m2\u001b[0m\u001b[0;34m)\u001b[0m\u001b[0;34m)\u001b[0m\u001b[0;34m\u001b[0m\u001b[0;34m\u001b[0m\u001b[0m\n\u001b[0m",
      "\u001b[0;32m~/trading/src/venv/lib/python3.7/site-packages/sklearn/utils/validation.py\u001b[0m in \u001b[0;36minner_f\u001b[0;34m(*args, **kwargs)\u001b[0m\n\u001b[1;32m     70\u001b[0m                           FutureWarning)\n\u001b[1;32m     71\u001b[0m         \u001b[0mkwargs\u001b[0m\u001b[0;34m.\u001b[0m\u001b[0mupdate\u001b[0m\u001b[0;34m(\u001b[0m\u001b[0;34m{\u001b[0m\u001b[0mk\u001b[0m\u001b[0;34m:\u001b[0m \u001b[0marg\u001b[0m \u001b[0;32mfor\u001b[0m \u001b[0mk\u001b[0m\u001b[0;34m,\u001b[0m \u001b[0marg\u001b[0m \u001b[0;32min\u001b[0m \u001b[0mzip\u001b[0m\u001b[0;34m(\u001b[0m\u001b[0msig\u001b[0m\u001b[0;34m.\u001b[0m\u001b[0mparameters\u001b[0m\u001b[0;34m,\u001b[0m \u001b[0margs\u001b[0m\u001b[0;34m)\u001b[0m\u001b[0;34m}\u001b[0m\u001b[0;34m)\u001b[0m\u001b[0;34m\u001b[0m\u001b[0;34m\u001b[0m\u001b[0m\n\u001b[0;32m---> 72\u001b[0;31m         \u001b[0;32mreturn\u001b[0m \u001b[0mf\u001b[0m\u001b[0;34m(\u001b[0m\u001b[0;34m**\u001b[0m\u001b[0mkwargs\u001b[0m\u001b[0;34m)\u001b[0m\u001b[0;34m\u001b[0m\u001b[0;34m\u001b[0m\u001b[0m\n\u001b[0m\u001b[1;32m     73\u001b[0m     \u001b[0;32mreturn\u001b[0m \u001b[0minner_f\u001b[0m\u001b[0;34m\u001b[0m\u001b[0;34m\u001b[0m\u001b[0m\n\u001b[1;32m     74\u001b[0m \u001b[0;34m\u001b[0m\u001b[0m\n",
      "\u001b[0;32m~/trading/src/venv/lib/python3.7/site-packages/sklearn/metrics/_ranking.py\u001b[0m in \u001b[0;36mroc_auc_score\u001b[0;34m(y_true, y_score, average, sample_weight, max_fpr, multi_class, labels)\u001b[0m\n\u001b[1;32m    382\u001b[0m                              \"instead\".format(max_fpr))\n\u001b[1;32m    383\u001b[0m         \u001b[0;32mif\u001b[0m \u001b[0mmulti_class\u001b[0m \u001b[0;34m==\u001b[0m \u001b[0;34m'raise'\u001b[0m\u001b[0;34m:\u001b[0m\u001b[0;34m\u001b[0m\u001b[0;34m\u001b[0m\u001b[0m\n\u001b[0;32m--> 384\u001b[0;31m             \u001b[0;32mraise\u001b[0m \u001b[0mValueError\u001b[0m\u001b[0;34m(\u001b[0m\u001b[0;34m\"multi_class must be in ('ovo', 'ovr')\"\u001b[0m\u001b[0;34m)\u001b[0m\u001b[0;34m\u001b[0m\u001b[0;34m\u001b[0m\u001b[0m\n\u001b[0m\u001b[1;32m    385\u001b[0m         return _multiclass_roc_auc_score(y_true, y_score, labels,\n\u001b[1;32m    386\u001b[0m                                          multi_class, average, sample_weight)\n",
      "\u001b[0;31mValueError\u001b[0m: multi_class must be in ('ovo', 'ovr')"
     ]
    }
   ],
   "source": [
    "roc_auc_score(['a','b','a','c'], np.random.rand(4,2))"
   ]
  },
  {
   "cell_type": "code",
   "execution_count": 14,
   "metadata": {},
   "outputs": [],
   "source": [
    "c = SVC().fit(X,y)\n",
    "pred_1 = c.decision_function(X)"
   ]
  },
  {
   "cell_type": "code",
   "execution_count": 16,
   "metadata": {},
   "outputs": [],
   "source": [
    "c = SVC(probability=True).fit(X,y)\n",
    "pred_2 = c.predict_proba(X)"
   ]
  },
  {
   "cell_type": "code",
   "execution_count": 20,
   "metadata": {},
   "outputs": [
    {
     "data": {
      "text/plain": [
       "1"
      ]
     },
     "execution_count": 20,
     "metadata": {},
     "output_type": "execute_result"
    }
   ],
   "source": [
    "len(pred_1.shape)"
   ]
  },
  {
   "cell_type": "code",
   "execution_count": 17,
   "metadata": {},
   "outputs": [
    {
     "data": {
      "text/html": [
       "<div>\n",
       "<style scoped>\n",
       "    .dataframe tbody tr th:only-of-type {\n",
       "        vertical-align: middle;\n",
       "    }\n",
       "\n",
       "    .dataframe tbody tr th {\n",
       "        vertical-align: top;\n",
       "    }\n",
       "\n",
       "    .dataframe thead th {\n",
       "        text-align: right;\n",
       "    }\n",
       "</style>\n",
       "<table border=\"1\" class=\"dataframe\">\n",
       "  <thead>\n",
       "    <tr style=\"text-align: right;\">\n",
       "      <th></th>\n",
       "      <th>0</th>\n",
       "    </tr>\n",
       "  </thead>\n",
       "  <tbody>\n",
       "    <tr>\n",
       "      <th>0</th>\n",
       "      <td>1.342460</td>\n",
       "    </tr>\n",
       "    <tr>\n",
       "      <th>1</th>\n",
       "      <td>0.274603</td>\n",
       "    </tr>\n",
       "    <tr>\n",
       "      <th>2</th>\n",
       "      <td>-0.576541</td>\n",
       "    </tr>\n",
       "    <tr>\n",
       "      <th>3</th>\n",
       "      <td>-0.999637</td>\n",
       "    </tr>\n",
       "    <tr>\n",
       "      <th>4</th>\n",
       "      <td>-0.456869</td>\n",
       "    </tr>\n",
       "  </tbody>\n",
       "</table>\n",
       "</div>"
      ],
      "text/plain": [
       "          0\n",
       "0  1.342460\n",
       "1  0.274603\n",
       "2 -0.576541\n",
       "3 -0.999637\n",
       "4 -0.456869"
      ]
     },
     "execution_count": 17,
     "metadata": {},
     "output_type": "execute_result"
    }
   ],
   "source": [
    "import pandas as pd\n",
    "pd.DataFrame(pred_1).head()"
   ]
  },
  {
   "cell_type": "code",
   "execution_count": 18,
   "metadata": {},
   "outputs": [
    {
     "data": {
      "text/html": [
       "<div>\n",
       "<style scoped>\n",
       "    .dataframe tbody tr th:only-of-type {\n",
       "        vertical-align: middle;\n",
       "    }\n",
       "\n",
       "    .dataframe tbody tr th {\n",
       "        vertical-align: top;\n",
       "    }\n",
       "\n",
       "    .dataframe thead th {\n",
       "        text-align: right;\n",
       "    }\n",
       "</style>\n",
       "<table border=\"1\" class=\"dataframe\">\n",
       "  <thead>\n",
       "    <tr style=\"text-align: right;\">\n",
       "      <th></th>\n",
       "      <th>0</th>\n",
       "      <th>1</th>\n",
       "    </tr>\n",
       "  </thead>\n",
       "  <tbody>\n",
       "    <tr>\n",
       "      <th>0</th>\n",
       "      <td>0.070760</td>\n",
       "      <td>0.929240</td>\n",
       "    </tr>\n",
       "    <tr>\n",
       "      <th>1</th>\n",
       "      <td>0.362954</td>\n",
       "      <td>0.637046</td>\n",
       "    </tr>\n",
       "    <tr>\n",
       "      <th>2</th>\n",
       "      <td>0.743174</td>\n",
       "      <td>0.256826</td>\n",
       "    </tr>\n",
       "    <tr>\n",
       "      <th>3</th>\n",
       "      <td>0.865783</td>\n",
       "      <td>0.134217</td>\n",
       "    </tr>\n",
       "    <tr>\n",
       "      <th>4</th>\n",
       "      <td>0.697578</td>\n",
       "      <td>0.302422</td>\n",
       "    </tr>\n",
       "  </tbody>\n",
       "</table>\n",
       "</div>"
      ],
      "text/plain": [
       "          0         1\n",
       "0  0.070760  0.929240\n",
       "1  0.362954  0.637046\n",
       "2  0.743174  0.256826\n",
       "3  0.865783  0.134217\n",
       "4  0.697578  0.302422"
      ]
     },
     "execution_count": 18,
     "metadata": {},
     "output_type": "execute_result"
    }
   ],
   "source": [
    "pd.DataFrame(pred_2).head()"
   ]
  },
  {
   "cell_type": "code",
   "execution_count": null,
   "metadata": {},
   "outputs": [],
   "source": []
  }
 ],
 "metadata": {
  "kernelspec": {
   "display_name": "trading_venv_clark",
   "language": "python",
   "name": "trading_venv_clark"
  },
  "language_info": {
   "codemirror_mode": {
    "name": "ipython",
    "version": 3
   },
   "file_extension": ".py",
   "mimetype": "text/x-python",
   "name": "python",
   "nbconvert_exporter": "python",
   "pygments_lexer": "ipython3",
   "version": "3.7.5"
  },
  "toc": {
   "base_numbering": 1,
   "nav_menu": {},
   "number_sections": true,
   "sideBar": true,
   "skip_h1_title": false,
   "title_cell": "Table of Contents",
   "title_sidebar": "Contents",
   "toc_cell": false,
   "toc_position": {
    "height": "calc(100% - 180px)",
    "left": "10px",
    "top": "150px",
    "width": "280px"
   },
   "toc_section_display": true,
   "toc_window_display": true
  }
 },
 "nbformat": 4,
 "nbformat_minor": 2
}
