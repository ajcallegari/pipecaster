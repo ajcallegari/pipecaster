{
 "cells": [
  {
   "cell_type": "markdown",
   "metadata": {},
   "source": [
    "# tutorial 4: in-pipeline hyperparameter screens\n",
    "\n",
    "This tutorial show you how to use the **GridSearchEnsemble** class to \n",
    "\n",
    "* screen ML model hyperparameters during model fitting\n",
    "* make ensemble predictions using the results of a hyperparameter screen"
   ]
  },
  {
   "cell_type": "markdown",
   "metadata": {},
   "source": [
    "## "
   ]
  },
  {
   "cell_type": "code",
   "execution_count": 12,
   "metadata": {},
   "outputs": [
    {
     "data": {
      "text/html": [
       "<div>\n",
       "<style scoped>\n",
       "    .dataframe tbody tr th:only-of-type {\n",
       "        vertical-align: middle;\n",
       "    }\n",
       "\n",
       "    .dataframe tbody tr th {\n",
       "        vertical-align: top;\n",
       "    }\n",
       "\n",
       "    .dataframe thead th {\n",
       "        text-align: right;\n",
       "    }\n",
       "</style>\n",
       "<table border=\"1\" class=\"dataframe\">\n",
       "  <thead>\n",
       "    <tr style=\"text-align: right;\">\n",
       "      <th></th>\n",
       "      <th>selections</th>\n",
       "      <th>parameters</th>\n",
       "    </tr>\n",
       "    <tr>\n",
       "      <th>score</th>\n",
       "      <th></th>\n",
       "      <th></th>\n",
       "    </tr>\n",
       "  </thead>\n",
       "  <tbody>\n",
       "    <tr>\n",
       "      <th>0.730769</th>\n",
       "      <td>+</td>\n",
       "      <td>{'learning_rate': 0.1, 'n_estimators': 10}</td>\n",
       "    </tr>\n",
       "    <tr>\n",
       "      <th>0.667468</th>\n",
       "      <td>+</td>\n",
       "      <td>{'learning_rate': 0.1, 'n_estimators': 2}</td>\n",
       "    </tr>\n",
       "    <tr>\n",
       "      <th>0.513622</th>\n",
       "      <td>-</td>\n",
       "      <td>{'learning_rate': 10, 'n_estimators': 2}</td>\n",
       "    </tr>\n",
       "    <tr>\n",
       "      <th>0.499199</th>\n",
       "      <td>-</td>\n",
       "      <td>{'learning_rate': 10, 'n_estimators': 10}</td>\n",
       "    </tr>\n",
       "  </tbody>\n",
       "</table>\n",
       "</div>"
      ],
      "text/plain": [
       "         selections                                  parameters\n",
       "score                                                          \n",
       "0.730769          +  {'learning_rate': 0.1, 'n_estimators': 10}\n",
       "0.667468          +   {'learning_rate': 0.1, 'n_estimators': 2}\n",
       "0.513622          -    {'learning_rate': 10, 'n_estimators': 2}\n",
       "0.499199          -   {'learning_rate': 10, 'n_estimators': 10}"
      ]
     },
     "execution_count": 12,
     "metadata": {},
     "output_type": "execute_result"
    }
   ],
   "source": [
    "from sklearn.datasets import make_classification\n",
    "from sklearn.ensemble import GradientBoostingClassifier\n",
    "from sklearn.model_selection import cross_val_score\n",
    "import pipecaster as pc\n",
    "\n",
    "screen_specs = {\n",
    "     'learning_rate':[0.1, 10],\n",
    "     'n_estimators':[2, 10],\n",
    "}\n",
    "\n",
    "X, y = make_classification()\n",
    "clf = pc.GridSearchEnsemble(\n",
    "                 param_dict=screen_specs,\n",
    "                 base_predictor_cls=GradientBoostingClassifier,\n",
    "                 meta_predictor=pc.SoftVotingClassifier(),\n",
    "                 internal_cv=5, scorer='auto',\n",
    "                 score_selector=pc.RankScoreSelector(k=2),\n",
    "                 base_processes='max')\n",
    "clf.fit(X, y)\n",
    "clf.get_results_df()"
   ]
  },
  {
   "cell_type": "code",
   "execution_count": 13,
   "metadata": {},
   "outputs": [
    {
     "data": {
      "text/plain": [
       "array([0.45     , 0.55     , 0.65     , 0.8989899, 0.7979798])"
      ]
     },
     "execution_count": 13,
     "metadata": {},
     "output_type": "execute_result"
    }
   ],
   "source": [
    "cross_val_score(clf, X, y, scoring='balanced_accuracy', cv=5)\n",
    "# output: array([0.9 , 0.85, 0.85, 0.85, 0.65])"
   ]
  },
  {
   "cell_type": "code",
   "execution_count": null,
   "metadata": {},
   "outputs": [],
   "source": []
  },
  {
   "cell_type": "code",
   "execution_count": null,
   "metadata": {},
   "outputs": [],
   "source": []
  }
 ],
 "metadata": {
  "kernelspec": {
   "display_name": "trading_venv_clark",
   "language": "python",
   "name": "trading_venv_clark"
  },
  "language_info": {
   "codemirror_mode": {
    "name": "ipython",
    "version": 3
   },
   "file_extension": ".py",
   "mimetype": "text/x-python",
   "name": "python",
   "nbconvert_exporter": "python",
   "pygments_lexer": "ipython3",
   "version": "3.7.5"
  },
  "toc": {
   "base_numbering": 1,
   "nav_menu": {},
   "number_sections": true,
   "sideBar": true,
   "skip_h1_title": false,
   "title_cell": "Table of Contents",
   "title_sidebar": "Contents",
   "toc_cell": false,
   "toc_position": {},
   "toc_section_display": true,
   "toc_window_display": true
  }
 },
 "nbformat": 4,
 "nbformat_minor": 2
}
