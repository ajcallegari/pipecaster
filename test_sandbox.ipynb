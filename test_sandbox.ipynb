{
 "cells": [
  {
   "cell_type": "code",
   "execution_count": 6,
   "metadata": {},
   "outputs": [],
   "source": [
    "import ray \n",
    "import os\n",
    "\n",
    "def stop_clark_cluster():\n",
    "    ray.shutdown()\n",
    "    os.system('ssh ellen /home/john/venv/bin/ray stop')\n",
    "    os.system('ssh audrey /home/john/venv/bin/ray stop')\n",
    "    os.system('ssh edna /home/john/venv/bin/ray stop')\n",
    "    \n",
    "def start_clark_cluster(clark_cpus = 4, ellen_cpus = 32, audrey_cpus = 32, edna_cpus = 32, \n",
    "                        clark_gpus = 0, ellen_gpus = 2, audrey_gpus = 1, edna_gpus = 1):\n",
    "    stop_clark_cluster()\n",
    "    config = ray.init(redis_port=6379, redis_password=\"gn8GWVrMJ3cSX4\", num_cpus = clark_cpus, num_gpus = clark_gpus)\n",
    "    os.system(\"ssh ellen ray start --address={} --redis-password='gn8GWVrMJ3cSX4' --num-gpus={} --num-cpus={}\".format(config['redis_address'], ellen_gpus, ellen_cpus))\n",
    "    os.system(\"ssh edna ray start --address={} --redis-password='gn8GWVrMJ3cSX4' --num-gpus={} --num-cpus={}\".format(config['redis_address'], edna_gpus, edna_cpus))\n",
    "    os.system(\"ssh audrey ray start --address={} --redis-password='gn8GWVrMJ3cSX4' --num-gpus={} --num-cpus={}\".format(config['redis_address'], audrey_gpus, audrey_cpus))\n",
    "    return config"
   ]
  },
  {
   "cell_type": "code",
   "execution_count": 7,
   "metadata": {},
   "outputs": [],
   "source": [
    "stop_clark_cluster()"
   ]
  },
  {
   "cell_type": "code",
   "execution_count": null,
   "metadata": {},
   "outputs": [],
   "source": [
    "\n"
   ]
  },
  {
   "cell_type": "code",
   "execution_count": null,
   "metadata": {},
   "outputs": [],
   "source": [
    "ray.init(address='auto')\n",
    "ray.nodes()"
   ]
  },
  {
   "cell_type": "code",
   "execution_count": 34,
   "metadata": {},
   "outputs": [],
   "source": [
    "import ray\n",
    "ray.__version__\n",
    "ray.shutdown()"
   ]
  },
  {
   "cell_type": "code",
   "execution_count": 4,
   "metadata": {},
   "outputs": [
    {
     "name": "stderr",
     "output_type": "stream",
     "text": [
      "2020-12-05 09:46:25,961\tINFO resource_spec.py:212 -- Starting Ray with 4.35 GiB memory available for workers and up to 2.17 GiB for objects. You can adjust these settings with ray.init(memory=<bytes>, object_store_memory=<bytes>).\n",
      "2020-12-05 09:46:26,223\tINFO services.py:1148 -- View the Ray dashboard at \u001b[1m\u001b[32mlocalhost:8265\u001b[39m\u001b[22m\n"
     ]
    },
    {
     "data": {
      "text/plain": [
       "{'node_ip_address': '192.168.1.251',\n",
       " 'redis_address': '192.168.1.251:6379',\n",
       " 'object_store_address': '/tmp/ray/session_2020-12-05_09-46-25_949190_25050/sockets/plasma_store',\n",
       " 'raylet_socket_name': '/tmp/ray/session_2020-12-05_09-46-25_949190_25050/sockets/raylet',\n",
       " 'webui_url': 'localhost:8265',\n",
       " 'session_dir': '/tmp/ray/session_2020-12-05_09-46-25_949190_25050'}"
      ]
     },
     "execution_count": 4,
     "metadata": {},
     "output_type": "execute_result"
    }
   ],
   "source": [
    "password = 'C4$@#jNSqY9jJh'\n",
    "port = 6379\n",
    "n_cpus = None\n",
    "n_gpus = None\n",
    "\n",
    "ray.init(redis_port=port, redis_password=password, num_cpus=n_cpus, num_gpus=n_gpus)\n"
   ]
  },
  {
   "cell_type": "markdown",
   "metadata": {},
   "source": [
    "# distributed_computing module example"
   ]
  },
  {
   "cell_type": "code",
   "execution_count": 1,
   "metadata": {},
   "outputs": [
    {
     "name": "stderr",
     "output_type": "stream",
     "text": [
      "2020-12-07 08:51:57,517\tINFO services.py:1092 -- View the Ray dashboard at \u001b[1m\u001b[32mhttp://127.0.0.1:8265\u001b[39m\u001b[22m\n"
     ]
    }
   ],
   "source": [
    "import pipecaster as pc\n",
    "cluster = pc.HeadNode(n_cpus=4, n_gpus=0, object_store_memory='auto')\n",
    "cluster.connect_remote_node('ellen', ray_dir='/home/john/venv/bin/',\n",
    "                       n_cpus = 32, n_gpus = 2, object_store_memory='auto')\n",
    "cluster.connect_remote_node('audrey', ray_dir='/home/john/venv/bin/',\n",
    "                       n_cpus = 32, n_gpus = 1, object_store_memory='auto')\n",
    "cluster.connect_remote_node('edna', ray_dir='/home/john/venv/bin/',\n",
    "                       n_cpus = 32, n_gpus = 1, object_store_memory='auto')"
   ]
  },
  {
   "cell_type": "code",
   "execution_count": 2,
   "metadata": {},
   "outputs": [
    {
     "name": "stdout",
     "output_type": "stream",
     "text": [
      "resources: 100.0 CPUs and 4.0 GPUS\n"
     ]
    }
   ],
   "source": [
    "# wait ~1 second for resources to be update, then you can call\n",
    "print('resources: {} CPUs and {} GPUS'.format(cluster.count_cpus(), cluster.count_gpus()))"
   ]
  },
  {
   "cell_type": "code",
   "execution_count": 3,
   "metadata": {},
   "outputs": [
    {
     "name": "stderr",
     "output_type": "stream",
     "text": [
      "2020-12-07 08:52:11,617\tINFO services.py:1092 -- View the Ray dashboard at \u001b[1m\u001b[32mhttp://127.0.0.1:8265\u001b[39m\u001b[22m\n"
     ]
    }
   ],
   "source": [
    "cluster.restart()"
   ]
  },
  {
   "cell_type": "code",
   "execution_count": 5,
   "metadata": {},
   "outputs": [
    {
     "name": "stdout",
     "output_type": "stream",
     "text": [
      "resources: 100.0 CPUs and 4.0 GPUS\n"
     ]
    }
   ],
   "source": [
    "# wait ~1 second for resources to be update, then you can call\n",
    "print('resources: {} CPUs and {} GPUS'.format(cluster.count_cpus(), cluster.count_gpus()))"
   ]
  },
  {
   "cell_type": "code",
   "execution_count": null,
   "metadata": {},
   "outputs": [],
   "source": []
  },
  {
   "cell_type": "markdown",
   "metadata": {},
   "source": [
    "# from scratch"
   ]
  },
  {
   "cell_type": "code",
   "execution_count": 7,
   "metadata": {},
   "outputs": [
    {
     "name": "stderr",
     "output_type": "stream",
     "text": [
      "2020-12-12 09:02:07,252\tINFO services.py:1092 -- View the Ray dashboard at \u001b[1m\u001b[32mhttp://127.0.0.1:8265\u001b[39m\u001b[22m\n"
     ]
    }
   ],
   "source": [
    "import ray\n",
    "import os\n",
    "\n",
    "config = ray.init()"
   ]
  },
  {
   "cell_type": "code",
   "execution_count": 8,
   "metadata": {},
   "outputs": [
    {
     "data": {
      "text/plain": [
       "0"
      ]
     },
     "execution_count": 8,
     "metadata": {},
     "output_type": "execute_result"
    }
   ],
   "source": [
    "os.system(\"ssh ellen /home/john/venv/bin/ray start --address={} --num-gpus={} --num-cpus={}\".format(config['redis_address'], 2, 32))"
   ]
  },
  {
   "cell_type": "code",
   "execution_count": 9,
   "metadata": {},
   "outputs": [
    {
     "data": {
      "text/plain": [
       "0"
      ]
     },
     "execution_count": 9,
     "metadata": {},
     "output_type": "execute_result"
    }
   ],
   "source": [
    "os.system(\"ssh audrey /home/john/venv/bin/ray start --address={} --num-gpus={} --num-cpus={}\".format(config['redis_address'], 1, 32))"
   ]
  },
  {
   "cell_type": "code",
   "execution_count": 10,
   "metadata": {},
   "outputs": [
    {
     "data": {
      "text/plain": [
       "0"
      ]
     },
     "execution_count": 10,
     "metadata": {},
     "output_type": "execute_result"
    }
   ],
   "source": [
    "os.system(\"ssh edna /home/john/venv/bin/ray start --address={} --num-gpus={} --num-cpus={}\".format(config['redis_address'], 1, 32))"
   ]
  },
  {
   "cell_type": "code",
   "execution_count": 16,
   "metadata": {},
   "outputs": [],
   "source": [
    "import time\n",
    "import numpy as np\n",
    "\n",
    "def f(a, bigarg):\n",
    "    x = 0\n",
    "    for i in range(100000000):\n",
    "        x += 1  \n",
    "    return a\n",
    "\n",
    "ray_f = ray.remote(f)"
   ]
  },
  {
   "cell_type": "code",
   "execution_count": 18,
   "metadata": {},
   "outputs": [
    {
     "name": "stderr",
     "output_type": "stream",
     "text": [
      "\u001b[2m\u001b[36m(pid=gcs_server)\u001b[0m E1212 09:09:14.853342000 123145336164352 tcp_server_posix.cc:213]      Failed accept4: Too many open files\n"
     ]
    },
    {
     "name": "stdout",
     "output_type": "stream",
     "text": [
      "elapsed time = 12.9 s\n"
     ]
    }
   ],
   "source": [
    "import time\n",
    "\n",
    "t = time.time()\n",
    "\n",
    "bigarg = np.random.rand(1, 1)\n",
    "args_list = [(a, bigarg) for a in range(100)]\n",
    "jobs = [ray_f.remote(*args) for args in args_list]\n",
    "result = ray.get(jobs)\n",
    "\n",
    "print('elapsed time = {:0.3} s'.format(time.time() - t))"
   ]
  },
  {
   "cell_type": "code",
   "execution_count": 21,
   "metadata": {},
   "outputs": [
    {
     "name": "stdout",
     "output_type": "stream",
     "text": [
      "number of results = 100\n",
      "elapsed time = 33.7 s\n"
     ]
    }
   ],
   "source": [
    "import time\n",
    "\n",
    "n_jobs = 100\n",
    "chunk_size = 25\n",
    "\n",
    "t = time.time()\n",
    "\n",
    "bigarg = np.random.rand(1, 1)\n",
    "args_list = [(a, bigarg) for a in range(n_jobs)]\n",
    "args_chunks = [args_list[i : i + chunk_size] for i in range(0, n_jobs, chunk_size)]\n",
    "\n",
    "results = []\n",
    "\n",
    "for args_chunk in args_chunks:\n",
    "    job_chunk = [ray_f.remote(*args) for args in args_chunk]\n",
    "    results.extend(ray.get(job_chunk))\n",
    "    \n",
    "print('number of results = {}'.format(len(results)))\n",
    "\n",
    "print('elapsed time = {:0.3} s'.format(time.time() - t))"
   ]
  },
  {
   "cell_type": "code",
   "execution_count": 20,
   "metadata": {},
   "outputs": [
    {
     "name": "stdout",
     "output_type": "stream",
     "text": [
      "number of results = 100\n",
      "elapsed time = 11.1 s\n"
     ]
    }
   ],
   "source": [
    "import time\n",
    "\n",
    "n_jobs = 100\n",
    "chunk_size = 25\n",
    "\n",
    "t = time.time()\n",
    "\n",
    "bigarg = np.random.rand(1, 1)\n",
    "args_list = [(a, bigarg) for a in range(n_jobs)]\n",
    "jobs = [ray_f.remote(*args) for args in args_list]\n",
    "job_chunks = [jobs[i : i + chunk_size] for i in range(0, n_jobs, chunk_size)]\n",
    "\n",
    "results = []\n",
    "for job_chunk in job_chunks:\n",
    "    results.extend(ray.get(job_chunk))\n",
    "    \n",
    "print('number of results = {}'.format(len(results)))\n",
    "\n",
    "print('elapsed time = {:0.3} s'.format(time.time() - t))"
   ]
  },
  {
   "cell_type": "code",
   "execution_count": 10,
   "metadata": {},
   "outputs": [
    {
     "name": "stdout",
     "output_type": "stream",
     "text": [
      "elapsed time = 60.3 s\n"
     ]
    }
   ],
   "source": [
    "import time\n",
    "\n",
    "t = time.time()\n",
    "\n",
    "a = bigarg\n",
    "\n",
    "jobs = [ray_f.remote(a,b) for b in range(100)]\n",
    "result = ray.get(jobs)\n",
    "\n",
    "print('elapsed time = {:0.3} s'.format(time.time() - t))"
   ]
  },
  {
   "cell_type": "code",
   "execution_count": 12,
   "metadata": {},
   "outputs": [
    {
     "name": "stdout",
     "output_type": "stream",
     "text": [
      "elapsed time = 2.35 s\n"
     ]
    }
   ],
   "source": [
    "import time\n",
    "\n",
    "t = time.time()\n",
    "\n",
    "a = ray.put(bigarg)\n",
    "args_list = [(a, b) for b in range(100)]\n",
    "\n",
    "jobs = [ray_f.remote(*args) for args in args_list]\n",
    "result = ray.get(jobs)\n",
    "\n",
    "print('elapsed time = {:0.3} s'.format(time.time() - t))"
   ]
  },
  {
   "cell_type": "code",
   "execution_count": null,
   "metadata": {},
   "outputs": [],
   "source": []
  },
  {
   "cell_type": "code",
   "execution_count": null,
   "metadata": {},
   "outputs": [],
   "source": [
    "from ray.util.multiprocessing import Pool\n",
    "pool = Pool(processes=4, ray_address='auto')"
   ]
  },
  {
   "cell_type": "code",
   "execution_count": 9,
   "metadata": {},
   "outputs": [],
   "source": [
    "del pool"
   ]
  },
  {
   "cell_type": "code",
   "execution_count": 15,
   "metadata": {},
   "outputs": [],
   "source": [
    "del pool"
   ]
  },
  {
   "cell_type": "code",
   "execution_count": null,
   "metadata": {},
   "outputs": [],
   "source": [
    "jobs = [ray_f.remote(*a) for a in args]\n",
    "result = ray.get(jobs)\n",
    "result"
   ]
  },
  {
   "cell_type": "code",
   "execution_count": null,
   "metadata": {},
   "outputs": [],
   "source": []
  },
  {
   "cell_type": "code",
   "execution_count": 6,
   "metadata": {},
   "outputs": [],
   "source": [
    "import time\n",
    "import numpy as np\n",
    "\n",
    "@ray.remote\n",
    "def f(bigarg, index):\n",
    "    x = 0\n",
    "    for i in range(100000):\n",
    "        x += 1  \n",
    "    return index"
   ]
  },
  {
   "cell_type": "code",
   "execution_count": 112,
   "metadata": {},
   "outputs": [
    {
     "data": {
      "text/plain": [
       "array([ 0,  1,  2,  3,  4,  5,  6,  7,  8,  9, 10, 11, 12, 13, 14, 15, 16,\n",
       "       17, 18, 19, 20, 21, 22, 23, 24, 25, 26, 27, 28, 29, 30, 31, 32, 33,\n",
       "       34, 35, 36, 37, 38, 39, 40, 41, 42, 43, 44, 45, 46, 47, 48, 49, 50,\n",
       "       51, 52, 53, 54, 55, 56, 57, 58, 59, 60, 61, 62, 63, 64, 65, 66, 67,\n",
       "       68, 69, 70, 71, 72, 73, 74, 75, 76, 77, 78, 79, 80, 81, 82, 83, 84,\n",
       "       85, 86, 87, 88, 89, 90, 91, 92, 93, 94, 95, 96, 97, 98, 99])"
      ]
     },
     "execution_count": 112,
     "metadata": {},
     "output_type": "execute_result"
    }
   ],
   "source": [
    "bigarg = np.random.rand(300,100)\n",
    "bigarg = ray.put(bigarg)\n",
    "jobs = [f.remote(bigarg, i) for i in range(100)]\n",
    "result = ray.get(jobs)\n",
    "np.array(result)"
   ]
  },
  {
   "cell_type": "code",
   "execution_count": 2,
   "metadata": {},
   "outputs": [],
   "source": [
    "import numpy as np\n",
    "\n",
    "def is_in(obj, iterable):\n",
    "    for element in iterable:\n",
    "        if element is obj:\n",
    "            return True\n",
    "    return False\n",
    "\n",
    "def get_index(obj, iterable):\n",
    "    index = 0\n",
    "    for element in iterable:\n",
    "        if element is obj:\n",
    "            return index\n",
    "        index += 1\n",
    "    raise ValueError('object not found in the iterable')\n",
    "\n",
    "def map_distributed(shared_mem_objects, f, *arg_lists):\n",
    "    if shared_mem_objects is not None:\n",
    "        plasma_objects = [ray.put(obj) for obj in shared_mem_objects]\n",
    "        arg_lists = [[plasma_objects[get_index(obj, shared_mem_objects)] if is_in(obj, shared_mem_objects) \n",
    "                      else obj for obj in arg_list] for arg_list in arg_lists]\n",
    "    \n",
    "    args_list = list(zip(*arg_lists))\n",
    "    jobs = [f.remote(*args) for args in args_list]\n",
    "    return ray.get(jobs)\n",
    "\n",
    "@ray.remote\n",
    "def f(bigarg, index):\n",
    "    x = 0\n",
    "    for i in range(100000000):\n",
    "        x += 1  \n",
    "    return index"
   ]
  },
  {
   "cell_type": "code",
   "execution_count": 11,
   "metadata": {},
   "outputs": [
    {
     "data": {
      "text/plain": [
       "<module 'pipecaster.parallel' from '/Users/john/trading/src/pipecaster/pipecaster/parallel.py'>"
      ]
     },
     "execution_count": 11,
     "metadata": {},
     "output_type": "execute_result"
    }
   ],
   "source": [
    "import importlib\n",
    "importlib.reload(parallel)"
   ]
  },
  {
   "cell_type": "code",
   "execution_count": 13,
   "metadata": {},
   "outputs": [],
   "source": [
    "import numpy as np\n",
    "import ray\n",
    "\n",
    "def f(bigarg, index):\n",
    "    x = 0\n",
    "    for i in range(1000000000):\n",
    "        x += 1  \n",
    "    return index"
   ]
  },
  {
   "cell_type": "code",
   "execution_count": 15,
   "metadata": {},
   "outputs": [
    {
     "name": "stdout",
     "output_type": "stream",
     "text": [
      "using ray.spool.startmap()\n",
      "CPU times: user 1.93 s, sys: 740 ms, total: 2.67 s\n",
      "Wall time: 1min 37s\n"
     ]
    },
    {
     "data": {
      "text/plain": [
       "[0,\n",
       " 1,\n",
       " 2,\n",
       " 3,\n",
       " 4,\n",
       " 5,\n",
       " 6,\n",
       " 7,\n",
       " 8,\n",
       " 9,\n",
       " 10,\n",
       " 11,\n",
       " 12,\n",
       " 13,\n",
       " 14,\n",
       " 15,\n",
       " 16,\n",
       " 17,\n",
       " 18,\n",
       " 19,\n",
       " 20,\n",
       " 21,\n",
       " 22,\n",
       " 23,\n",
       " 24,\n",
       " 25,\n",
       " 26,\n",
       " 27,\n",
       " 28,\n",
       " 29,\n",
       " 30,\n",
       " 31,\n",
       " 32,\n",
       " 33,\n",
       " 34,\n",
       " 35,\n",
       " 36,\n",
       " 37,\n",
       " 38,\n",
       " 39,\n",
       " 40,\n",
       " 41,\n",
       " 42,\n",
       " 43,\n",
       " 44,\n",
       " 45,\n",
       " 46,\n",
       " 47,\n",
       " 48,\n",
       " 49]"
      ]
     },
     "execution_count": 15,
     "metadata": {},
     "output_type": "execute_result"
    }
   ],
   "source": [
    "import pipecaster.parallel as parallel\n",
    "bigarg = np.random.rand(300, 20000)\n",
    "n_jobs = 50\n",
    "%time parallel.map_jobs(50, [bigarg], f, [bigarg for i in range(n_jobs)], range(n_jobs))"
   ]
  },
  {
   "cell_type": "code",
   "execution_count": 2,
   "metadata": {},
   "outputs": [],
   "source": [
    "import numpy as np\n",
    "\n",
    "def is_in(obj, iterable):\n",
    "    for element in iterable:\n",
    "        if element is obj:\n",
    "            return True\n",
    "    return False\n",
    "\n",
    "def get_index(obj, iterable):\n",
    "    index = 0\n",
    "    for element in iterable:\n",
    "        if element is obj:\n",
    "            return index\n",
    "        index += 1\n",
    "    raise ValueError('object not found in the iterable')\n",
    "\n",
    "def map_distributed(shared_mem_objects, f, *arg_lists):\n",
    "    if shared_mem_objects is not None:\n",
    "        plasma_objects = [ray.put(obj) for obj in shared_mem_objects]\n",
    "        arg_lists = [[plasma_objects[get_index(obj, shared_mem_objects)] if is_in(obj, shared_mem_objects) \n",
    "                      else obj for obj in arg_list] for arg_list in arg_lists]\n",
    "    \n",
    "    args_list = list(zip(*arg_lists))\n",
    "    jobs = [f.remote(*args) for args in args_list]\n",
    "    return ray.get(jobs)\n",
    "\n",
    "@ray.remote\n",
    "def f(bigarg, index):\n",
    "    x = 0\n",
    "    for i in range(100000000):\n",
    "        x += 1  \n",
    "    return index"
   ]
  },
  {
   "cell_type": "code",
   "execution_count": null,
   "metadata": {},
   "outputs": [],
   "source": [
    "import pipecaster.parallel as parallel\n",
    "bigarg = np.random.rand(300, 5000)\n",
    "n_jobs = 99\n",
    "%timeit parallel.map_jobs(n_jobs, [bigarg], f, [bigarg for i in range(n_jobs)], range(n_jobs))"
   ]
  },
  {
   "cell_type": "code",
   "execution_count": 22,
   "metadata": {},
   "outputs": [
    {
     "name": "stdout",
     "output_type": "stream",
     "text": [
      "11.1 s ± 34.2 ms per loop (mean ± std. dev. of 7 runs, 1 loop each)\n"
     ]
    }
   ],
   "source": [
    "bigarg = np.random.rand(1, 1)\n",
    "n_jobs = 100\n",
    "%timeit map_distributed([bigarg], f, [bigarg for i in range(n_jobs)], range(n_jobs))"
   ]
  },
  {
   "cell_type": "code",
   "execution_count": 23,
   "metadata": {},
   "outputs": [
    {
     "name": "stdout",
     "output_type": "stream",
     "text": [
      "11.2 s ± 43.8 ms per loop (mean ± std. dev. of 7 runs, 1 loop each)\n"
     ]
    }
   ],
   "source": [
    "%timeit map_distributed(None, f, [bigarg for i in range(n_jobs)], range(n_jobs))"
   ]
  },
  {
   "cell_type": "code",
   "execution_count": 26,
   "metadata": {},
   "outputs": [
    {
     "name": "stdout",
     "output_type": "stream",
     "text": [
      "13.1 s ± 70.6 ms per loop (mean ± std. dev. of 7 runs, 1 loop each)\n"
     ]
    }
   ],
   "source": [
    "bigarg = np.random.rand(100, 10000)\n",
    "n_jobs = 100\n",
    "%timeit map_distributed([bigarg], f, [bigarg for i in range(n_jobs)], range(n_jobs))"
   ]
  },
  {
   "cell_type": "code",
   "execution_count": 27,
   "metadata": {},
   "outputs": [
    {
     "name": "stdout",
     "output_type": "stream",
     "text": [
      "1min 10s ± 287 ms per loop (mean ± std. dev. of 7 runs, 1 loop each)\n"
     ]
    }
   ],
   "source": [
    "%timeit map_distributed(None, f, [bigarg for i in range(n_jobs)], range(n_jobs))"
   ]
  },
  {
   "cell_type": "code",
   "execution_count": null,
   "metadata": {},
   "outputs": [],
   "source": []
  },
  {
   "cell_type": "code",
   "execution_count": 101,
   "metadata": {},
   "outputs": [],
   "source": [
    "mylist = [1, bigarg]"
   ]
  },
  {
   "cell_type": "code",
   "execution_count": 5,
   "metadata": {},
   "outputs": [
    {
     "data": {
      "text/plain": [
       "0"
      ]
     },
     "execution_count": 5,
     "metadata": {},
     "output_type": "execute_result"
    }
   ],
   "source": []
  },
  {
   "cell_type": "code",
   "execution_count": 11,
   "metadata": {},
   "outputs": [],
   "source": [
    "import ray\n",
    "import numpy as np\n",
    "\n",
    "def f(bigarg, index):\n",
    "    x = 0\n",
    "    for i in range(1000000):\n",
    "        x += 1  \n",
    "    return index\n",
    "\n",
    "ray_f = ray.remote(f)"
   ]
  },
  {
   "cell_type": "code",
   "execution_count": 13,
   "metadata": {},
   "outputs": [
    {
     "ename": "KeyboardInterrupt",
     "evalue": "",
     "output_type": "error",
     "traceback": [
      "\u001b[0;31m---------------------------------------------------------------------------\u001b[0m",
      "\u001b[0;31mKeyboardInterrupt\u001b[0m                         Traceback (most recent call last)",
      "\u001b[0;32m<ipython-input-13-11066ca506c5>\u001b[0m in \u001b[0;36m<module>\u001b[0;34m()\u001b[0m\n\u001b[1;32m      2\u001b[0m \u001b[0mplasma_bigarg\u001b[0m \u001b[0;34m=\u001b[0m \u001b[0mray\u001b[0m\u001b[0;34m.\u001b[0m\u001b[0mput\u001b[0m\u001b[0;34m(\u001b[0m\u001b[0mbigarg\u001b[0m\u001b[0;34m)\u001b[0m\u001b[0;34m\u001b[0m\u001b[0;34m\u001b[0m\u001b[0m\n\u001b[1;32m      3\u001b[0m \u001b[0mjobs\u001b[0m \u001b[0;34m=\u001b[0m \u001b[0;34m[\u001b[0m\u001b[0mray_f\u001b[0m\u001b[0;34m.\u001b[0m\u001b[0mremote\u001b[0m\u001b[0;34m(\u001b[0m\u001b[0mplasma_bigarg\u001b[0m\u001b[0;34m,\u001b[0m \u001b[0mi\u001b[0m\u001b[0;34m)\u001b[0m \u001b[0;32mfor\u001b[0m \u001b[0mi\u001b[0m \u001b[0;32min\u001b[0m \u001b[0mrange\u001b[0m\u001b[0;34m(\u001b[0m\u001b[0;36m100\u001b[0m\u001b[0;34m)\u001b[0m\u001b[0;34m]\u001b[0m\u001b[0;34m\u001b[0m\u001b[0;34m\u001b[0m\u001b[0m\n\u001b[0;32m----> 4\u001b[0;31m \u001b[0mray\u001b[0m\u001b[0;34m.\u001b[0m\u001b[0mget\u001b[0m\u001b[0;34m(\u001b[0m\u001b[0mjobs\u001b[0m\u001b[0;34m)\u001b[0m\u001b[0;34m\u001b[0m\u001b[0;34m\u001b[0m\u001b[0m\n\u001b[0m",
      "\u001b[0;32m~/trading/src/venv/lib/python3.7/site-packages/ray/worker.py\u001b[0m in \u001b[0;36mget\u001b[0;34m(object_refs, timeout)\u001b[0m\n\u001b[1;32m   1443\u001b[0m         \u001b[0;32mglobal\u001b[0m \u001b[0mlast_task_error_raise_time\u001b[0m\u001b[0;34m\u001b[0m\u001b[0;34m\u001b[0m\u001b[0m\n\u001b[1;32m   1444\u001b[0m         \u001b[0;31m# TODO(ujvl): Consider how to allow user to retrieve the ready objects.\u001b[0m\u001b[0;34m\u001b[0m\u001b[0;34m\u001b[0m\u001b[0;34m\u001b[0m\u001b[0m\n\u001b[0;32m-> 1445\u001b[0;31m         \u001b[0mvalues\u001b[0m \u001b[0;34m=\u001b[0m \u001b[0mworker\u001b[0m\u001b[0;34m.\u001b[0m\u001b[0mget_objects\u001b[0m\u001b[0;34m(\u001b[0m\u001b[0mobject_refs\u001b[0m\u001b[0;34m,\u001b[0m \u001b[0mtimeout\u001b[0m\u001b[0;34m=\u001b[0m\u001b[0mtimeout\u001b[0m\u001b[0;34m)\u001b[0m\u001b[0;34m\u001b[0m\u001b[0;34m\u001b[0m\u001b[0m\n\u001b[0m\u001b[1;32m   1446\u001b[0m         \u001b[0;32mfor\u001b[0m \u001b[0mi\u001b[0m\u001b[0;34m,\u001b[0m \u001b[0mvalue\u001b[0m \u001b[0;32min\u001b[0m \u001b[0menumerate\u001b[0m\u001b[0;34m(\u001b[0m\u001b[0mvalues\u001b[0m\u001b[0;34m)\u001b[0m\u001b[0;34m:\u001b[0m\u001b[0;34m\u001b[0m\u001b[0;34m\u001b[0m\u001b[0m\n\u001b[1;32m   1447\u001b[0m             \u001b[0;32mif\u001b[0m \u001b[0misinstance\u001b[0m\u001b[0;34m(\u001b[0m\u001b[0mvalue\u001b[0m\u001b[0;34m,\u001b[0m \u001b[0mRayError\u001b[0m\u001b[0;34m)\u001b[0m\u001b[0;34m:\u001b[0m\u001b[0;34m\u001b[0m\u001b[0;34m\u001b[0m\u001b[0m\n",
      "\u001b[0;32m~/trading/src/venv/lib/python3.7/site-packages/ray/worker.py\u001b[0m in \u001b[0;36mget_objects\u001b[0;34m(self, object_refs, timeout)\u001b[0m\n\u001b[1;32m    313\u001b[0m         \u001b[0mtimeout_ms\u001b[0m \u001b[0;34m=\u001b[0m \u001b[0mint\u001b[0m\u001b[0;34m(\u001b[0m\u001b[0mtimeout\u001b[0m \u001b[0;34m*\u001b[0m \u001b[0;36m1000\u001b[0m\u001b[0;34m)\u001b[0m \u001b[0;32mif\u001b[0m \u001b[0mtimeout\u001b[0m \u001b[0;32melse\u001b[0m \u001b[0;34m-\u001b[0m\u001b[0;36m1\u001b[0m\u001b[0;34m\u001b[0m\u001b[0;34m\u001b[0m\u001b[0m\n\u001b[1;32m    314\u001b[0m         data_metadata_pairs = self.core_worker.get_objects(\n\u001b[0;32m--> 315\u001b[0;31m             object_refs, self.current_task_id, timeout_ms)\n\u001b[0m\u001b[1;32m    316\u001b[0m         \u001b[0;32mreturn\u001b[0m \u001b[0mself\u001b[0m\u001b[0;34m.\u001b[0m\u001b[0mdeserialize_objects\u001b[0m\u001b[0;34m(\u001b[0m\u001b[0mdata_metadata_pairs\u001b[0m\u001b[0;34m,\u001b[0m \u001b[0mobject_refs\u001b[0m\u001b[0;34m)\u001b[0m\u001b[0;34m\u001b[0m\u001b[0;34m\u001b[0m\u001b[0m\n\u001b[1;32m    317\u001b[0m \u001b[0;34m\u001b[0m\u001b[0m\n",
      "\u001b[0;32mpython/ray/_raylet.pyx\u001b[0m in \u001b[0;36mray._raylet.CoreWorker.get_objects\u001b[0;34m()\u001b[0m\n",
      "\u001b[0;32mpython/ray/_raylet.pyx\u001b[0m in \u001b[0;36mray._raylet.check_status\u001b[0;34m()\u001b[0m\n",
      "\u001b[0;31mKeyboardInterrupt\u001b[0m: "
     ]
    }
   ],
   "source": [
    "bigarg = np.random.rand(100, 100)\n",
    "plasma_bigarg = ray.put(bigarg)\n",
    "jobs = [ray_f.remote(plasma_bigarg, i) for i in range(100)]\n",
    "ray.get(jobs)"
   ]
  },
  {
   "cell_type": "code",
   "execution_count": null,
   "metadata": {},
   "outputs": [],
   "source": []
  },
  {
   "cell_type": "code",
   "execution_count": 1,
   "metadata": {},
   "outputs": [],
   "source": [
    "from pipecaster.testing_utils import DummyClassifier\n",
    "import numpy as np\n",
    "\n",
    "\n",
    "clf = DummyClassifier()"
   ]
  },
  {
   "cell_type": "code",
   "execution_count": 2,
   "metadata": {},
   "outputs": [],
   "source": [
    "clf.fit(np.random.rand(100,200), np.random.choice(['a','b'], 100))"
   ]
  },
  {
   "cell_type": "code",
   "execution_count": 5,
   "metadata": {},
   "outputs": [
    {
     "name": "stdout",
     "output_type": "stream",
     "text": [
      "> \u001b[0;32m/Users/john/trading/src/pipecaster/mtrand.pyx\u001b[0m(4065)\u001b[0;36mnumpy.random.mtrand.RandomState.shuffle\u001b[0;34m()\u001b[0m\n",
      "\n",
      "ipdb> l\n",
      "\n",
      "ipdb> l\n",
      "\n",
      "ipdb> list\n",
      "\n",
      "ipdb> y_enc\n",
      "*** NameError: name 'y_enc' is not defined\n",
      "ipdb> locals().keys()\n",
      "dict_keys(['__name__', '__doc__', '__package__', '__loader__', '__spec__', '__file__', '__builtins__', 'RandomState', 'operator', 'warnings', 'np', '_integers_types', '_MT19937', '_rand', 'beta', 'binomial', 'bytes', 'chisquare', 'choice', 'dirichlet', 'exponential', 'f', 'gamma', 'get_state', 'geometric', 'gumbel', 'hypergeometric', 'laplace', 'logistic', 'lognormal', 'logseries', 'multinomial', 'multivariate_normal', 'negative_binomial', 'noncentral_chisquare', 'noncentral_f', 'normal', 'pareto', 'permutation', 'poisson', 'power', 'rand', 'randint', 'randn', 'random', 'random_integers', 'random_sample', 'rayleigh', 'seed', 'set_state', 'shuffle', 'standard_cauchy', 'standard_exponential', 'standard_gamma', 'standard_normal', 'standard_t', 'triangular', 'uniform', 'vonmises', 'wald', 'weibull', 'zipf', 'sample', 'ranf', '__all__', '__test__'])\n",
      "ipdb> y\n",
      "*** NameError: name 'y' is not defined\n",
      "ipdb> y\n",
      "*** NameError: name 'y' is not defined\n",
      "ipdb> exit\n"
     ]
    }
   ],
   "source": [
    "%debug"
   ]
  },
  {
   "cell_type": "code",
   "execution_count": 6,
   "metadata": {},
   "outputs": [
    {
     "name": "stdout",
     "output_type": "stream",
     "text": [
      "running max processes, 3 jobs using ray.get\n"
     ]
    }
   ],
   "source": [
    "import pipecaster.parallel as parallel\n",
    "\n",
    "def f(a, b):\n",
    "    return a + b\n",
    "    \n",
    "As = [1, 2, 3]\n",
    "Bs = [4, 5, 6]\n",
    "    \n",
    "results = parallel.map_jobs(f, As, Bs, n_jobs='max')"
   ]
  },
  {
   "cell_type": "code",
   "execution_count": 7,
   "metadata": {},
   "outputs": [
    {
     "data": {
      "text/plain": [
       "[5, 7, 9]"
      ]
     },
     "execution_count": 7,
     "metadata": {},
     "output_type": "execute_result"
    }
   ],
   "source": [
    "results"
   ]
  },
  {
   "cell_type": "code",
   "execution_count": 8,
   "metadata": {},
   "outputs": [
    {
     "name": "stdout",
     "output_type": "stream",
     "text": [
      "running max processes, 3 jobs using ray.get\n"
     ]
    }
   ],
   "source": [
    "args_list = zip(As, Bs)\n",
    "results = parallel.starmap_jobs(f, args_list, n_jobs='max')"
   ]
  },
  {
   "cell_type": "code",
   "execution_count": 10,
   "metadata": {},
   "outputs": [
    {
     "name": "stdout",
     "output_type": "stream",
     "text": [
      "[5, 7, 9]\n"
     ]
    }
   ],
   "source": [
    "print(results)"
   ]
  },
  {
   "cell_type": "code",
   "execution_count": 2,
   "metadata": {},
   "outputs": [
    {
     "data": {
      "text/plain": [
       "512"
      ]
     },
     "execution_count": 2,
     "metadata": {},
     "output_type": "execute_result"
    }
   ],
   "source": [
    "import os\n",
    "\n",
    "defaul_redis_port = 6379\n",
    "\n",
    "command= 'ray start --redis-password={} --redis-port={}'.format('gn8GWVrMJ5cSX4',6380)\n",
    "os.system(command)"
   ]
  },
  {
   "cell_type": "code",
   "execution_count": null,
   "metadata": {},
   "outputs": [
    {
     "name": "stderr",
     "output_type": "stream",
     "text": [
      "2020-12-12 06:26:21,881\tINFO worker.py:651 -- Connecting to existing Ray cluster at address: 192.168.1.251:6379\n"
     ]
    }
   ],
   "source": [
    "import ray\n",
    "\n",
    "ray.init(address='auto')"
   ]
  },
  {
   "cell_type": "code",
   "execution_count": 1,
   "metadata": {},
   "outputs": [
    {
     "data": {
      "text/plain": [
       "False"
      ]
     },
     "execution_count": 1,
     "metadata": {},
     "output_type": "execute_result"
    }
   ],
   "source": [
    "import ray\n",
    "ray.is_initialized()"
   ]
  },
  {
   "cell_type": "code",
   "execution_count": 2,
   "metadata": {},
   "outputs": [
    {
     "data": {
      "text/plain": [
       "0"
      ]
     },
     "execution_count": 2,
     "metadata": {},
     "output_type": "execute_result"
    }
   ],
   "source": [
    "import os\n",
    "command= 'ray stop'\n",
    "os.system(command)"
   ]
  },
  {
   "cell_type": "markdown",
   "metadata": {},
   "source": [
    "# shutdown cluster"
   ]
  },
  {
   "cell_type": "code",
   "execution_count": 6,
   "metadata": {},
   "outputs": [
    {
     "data": {
      "text/plain": [
       "0"
      ]
     },
     "execution_count": 6,
     "metadata": {},
     "output_type": "execute_result"
    }
   ],
   "source": [
    "import ray\n",
    "import os\n",
    "ray.shutdown()\n",
    "os.system(\"ssh edna /home/john/venv/bin/ray stop\")\n",
    "os.system(\"ssh ellen /home/john/venv/bin/ray stop\")\n",
    "os.system(\"ssh audrey /home/john/venv/bin/ray stop\")"
   ]
  },
  {
   "cell_type": "code",
   "execution_count": 1,
   "metadata": {},
   "outputs": [
    {
     "data": {
      "text/html": [
       "<style  type=\"text/css\" >\n",
       "    #T_606737f8_52b4_11eb_8a76_a8206653ba57 th {\n",
       "          text-align: center;\n",
       "    }    #T_606737f8_52b4_11eb_8a76_a8206653ba57row0_col0 {\n",
       "            text-align:  center;\n",
       "        }    #T_606737f8_52b4_11eb_8a76_a8206653ba57row0_col1 {\n",
       "            text-align:  center;\n",
       "        }    #T_606737f8_52b4_11eb_8a76_a8206653ba57row0_col2 {\n",
       "            text-align:  center;\n",
       "        }    #T_606737f8_52b4_11eb_8a76_a8206653ba57row0_col3 {\n",
       "            text-align:  center;\n",
       "        }    #T_606737f8_52b4_11eb_8a76_a8206653ba57row0_col4 {\n",
       "            text-align:  center;\n",
       "        }    #T_606737f8_52b4_11eb_8a76_a8206653ba57row0_col5 {\n",
       "            text-align:  center;\n",
       "        }    #T_606737f8_52b4_11eb_8a76_a8206653ba57row0_col6 {\n",
       "            text-align:  center;\n",
       "        }    #T_606737f8_52b4_11eb_8a76_a8206653ba57row0_col7 {\n",
       "            text-align:  center;\n",
       "        }    #T_606737f8_52b4_11eb_8a76_a8206653ba57row0_col8 {\n",
       "            text-align:  center;\n",
       "        }    #T_606737f8_52b4_11eb_8a76_a8206653ba57row0_col9 {\n",
       "            text-align:  center;\n",
       "        }    #T_606737f8_52b4_11eb_8a76_a8206653ba57row0_col10 {\n",
       "            text-align:  center;\n",
       "        }    #T_606737f8_52b4_11eb_8a76_a8206653ba57row0_col11 {\n",
       "            text-align:  center;\n",
       "        }    #T_606737f8_52b4_11eb_8a76_a8206653ba57row1_col0 {\n",
       "            text-align:  center;\n",
       "        }    #T_606737f8_52b4_11eb_8a76_a8206653ba57row1_col1 {\n",
       "            text-align:  center;\n",
       "        }    #T_606737f8_52b4_11eb_8a76_a8206653ba57row1_col2 {\n",
       "            text-align:  center;\n",
       "        }    #T_606737f8_52b4_11eb_8a76_a8206653ba57row1_col3 {\n",
       "            text-align:  center;\n",
       "        }    #T_606737f8_52b4_11eb_8a76_a8206653ba57row1_col4 {\n",
       "            text-align:  center;\n",
       "        }    #T_606737f8_52b4_11eb_8a76_a8206653ba57row1_col5 {\n",
       "            text-align:  center;\n",
       "        }    #T_606737f8_52b4_11eb_8a76_a8206653ba57row1_col6 {\n",
       "            text-align:  center;\n",
       "        }    #T_606737f8_52b4_11eb_8a76_a8206653ba57row1_col7 {\n",
       "            text-align:  center;\n",
       "        }    #T_606737f8_52b4_11eb_8a76_a8206653ba57row1_col8 {\n",
       "            text-align:  center;\n",
       "        }    #T_606737f8_52b4_11eb_8a76_a8206653ba57row1_col9 {\n",
       "            text-align:  center;\n",
       "        }    #T_606737f8_52b4_11eb_8a76_a8206653ba57row1_col10 {\n",
       "            text-align:  center;\n",
       "        }    #T_606737f8_52b4_11eb_8a76_a8206653ba57row1_col11 {\n",
       "            text-align:  center;\n",
       "        }    #T_606737f8_52b4_11eb_8a76_a8206653ba57row2_col0 {\n",
       "            text-align:  center;\n",
       "        }    #T_606737f8_52b4_11eb_8a76_a8206653ba57row2_col1 {\n",
       "            text-align:  center;\n",
       "        }    #T_606737f8_52b4_11eb_8a76_a8206653ba57row2_col2 {\n",
       "            text-align:  center;\n",
       "        }    #T_606737f8_52b4_11eb_8a76_a8206653ba57row2_col3 {\n",
       "            text-align:  center;\n",
       "        }    #T_606737f8_52b4_11eb_8a76_a8206653ba57row2_col4 {\n",
       "            text-align:  center;\n",
       "        }    #T_606737f8_52b4_11eb_8a76_a8206653ba57row2_col5 {\n",
       "            text-align:  center;\n",
       "        }    #T_606737f8_52b4_11eb_8a76_a8206653ba57row2_col6 {\n",
       "            text-align:  center;\n",
       "        }    #T_606737f8_52b4_11eb_8a76_a8206653ba57row2_col7 {\n",
       "            text-align:  center;\n",
       "        }    #T_606737f8_52b4_11eb_8a76_a8206653ba57row2_col8 {\n",
       "            text-align:  center;\n",
       "        }    #T_606737f8_52b4_11eb_8a76_a8206653ba57row2_col9 {\n",
       "            text-align:  center;\n",
       "        }    #T_606737f8_52b4_11eb_8a76_a8206653ba57row2_col10 {\n",
       "            text-align:  center;\n",
       "        }    #T_606737f8_52b4_11eb_8a76_a8206653ba57row2_col11 {\n",
       "            text-align:  center;\n",
       "        }    #T_606737f8_52b4_11eb_8a76_a8206653ba57row3_col0 {\n",
       "            text-align:  center;\n",
       "        }    #T_606737f8_52b4_11eb_8a76_a8206653ba57row3_col1 {\n",
       "            text-align:  center;\n",
       "        }    #T_606737f8_52b4_11eb_8a76_a8206653ba57row3_col2 {\n",
       "            text-align:  center;\n",
       "        }    #T_606737f8_52b4_11eb_8a76_a8206653ba57row3_col3 {\n",
       "            text-align:  center;\n",
       "        }    #T_606737f8_52b4_11eb_8a76_a8206653ba57row3_col4 {\n",
       "            text-align:  center;\n",
       "        }    #T_606737f8_52b4_11eb_8a76_a8206653ba57row3_col5 {\n",
       "            text-align:  center;\n",
       "        }    #T_606737f8_52b4_11eb_8a76_a8206653ba57row3_col6 {\n",
       "            text-align:  center;\n",
       "        }    #T_606737f8_52b4_11eb_8a76_a8206653ba57row3_col7 {\n",
       "            text-align:  center;\n",
       "        }    #T_606737f8_52b4_11eb_8a76_a8206653ba57row3_col8 {\n",
       "            text-align:  center;\n",
       "        }    #T_606737f8_52b4_11eb_8a76_a8206653ba57row3_col9 {\n",
       "            text-align:  center;\n",
       "        }    #T_606737f8_52b4_11eb_8a76_a8206653ba57row3_col10 {\n",
       "            text-align:  center;\n",
       "        }    #T_606737f8_52b4_11eb_8a76_a8206653ba57row3_col11 {\n",
       "            text-align:  center;\n",
       "        }    #T_606737f8_52b4_11eb_8a76_a8206653ba57row4_col0 {\n",
       "            text-align:  center;\n",
       "        }    #T_606737f8_52b4_11eb_8a76_a8206653ba57row4_col1 {\n",
       "            text-align:  center;\n",
       "        }    #T_606737f8_52b4_11eb_8a76_a8206653ba57row4_col2 {\n",
       "            text-align:  center;\n",
       "        }    #T_606737f8_52b4_11eb_8a76_a8206653ba57row4_col3 {\n",
       "            text-align:  center;\n",
       "        }    #T_606737f8_52b4_11eb_8a76_a8206653ba57row4_col4 {\n",
       "            text-align:  center;\n",
       "        }    #T_606737f8_52b4_11eb_8a76_a8206653ba57row4_col5 {\n",
       "            text-align:  center;\n",
       "        }    #T_606737f8_52b4_11eb_8a76_a8206653ba57row4_col6 {\n",
       "            text-align:  center;\n",
       "        }    #T_606737f8_52b4_11eb_8a76_a8206653ba57row4_col7 {\n",
       "            text-align:  center;\n",
       "        }    #T_606737f8_52b4_11eb_8a76_a8206653ba57row4_col8 {\n",
       "            text-align:  center;\n",
       "        }    #T_606737f8_52b4_11eb_8a76_a8206653ba57row4_col9 {\n",
       "            text-align:  center;\n",
       "        }    #T_606737f8_52b4_11eb_8a76_a8206653ba57row4_col10 {\n",
       "            text-align:  center;\n",
       "        }    #T_606737f8_52b4_11eb_8a76_a8206653ba57row4_col11 {\n",
       "            text-align:  center;\n",
       "        }    #T_606737f8_52b4_11eb_8a76_a8206653ba57row5_col0 {\n",
       "            text-align:  center;\n",
       "        }    #T_606737f8_52b4_11eb_8a76_a8206653ba57row5_col1 {\n",
       "            text-align:  center;\n",
       "        }    #T_606737f8_52b4_11eb_8a76_a8206653ba57row5_col2 {\n",
       "            text-align:  center;\n",
       "        }    #T_606737f8_52b4_11eb_8a76_a8206653ba57row5_col3 {\n",
       "            text-align:  center;\n",
       "        }    #T_606737f8_52b4_11eb_8a76_a8206653ba57row5_col4 {\n",
       "            text-align:  center;\n",
       "        }    #T_606737f8_52b4_11eb_8a76_a8206653ba57row5_col5 {\n",
       "            text-align:  center;\n",
       "        }    #T_606737f8_52b4_11eb_8a76_a8206653ba57row5_col6 {\n",
       "            text-align:  center;\n",
       "        }    #T_606737f8_52b4_11eb_8a76_a8206653ba57row5_col7 {\n",
       "            text-align:  center;\n",
       "        }    #T_606737f8_52b4_11eb_8a76_a8206653ba57row5_col8 {\n",
       "            text-align:  center;\n",
       "        }    #T_606737f8_52b4_11eb_8a76_a8206653ba57row5_col9 {\n",
       "            text-align:  center;\n",
       "        }    #T_606737f8_52b4_11eb_8a76_a8206653ba57row5_col10 {\n",
       "            text-align:  center;\n",
       "        }    #T_606737f8_52b4_11eb_8a76_a8206653ba57row5_col11 {\n",
       "            text-align:  center;\n",
       "        }</style><table id=\"T_606737f8_52b4_11eb_8a76_a8206653ba57\" ><thead>    <tr>        <th class=\"blank level0\" ></th>        <th class=\"col_heading level0 col0\" >layer_0</th>        <th class=\"col_heading level0 col1\" >out_0</th>        <th class=\"col_heading level0 col2\" >layer_1</th>        <th class=\"col_heading level0 col3\" >out_1</th>        <th class=\"col_heading level0 col4\" >layer_2</th>        <th class=\"col_heading level0 col5\" >out_2</th>        <th class=\"col_heading level0 col6\" >layer_3</th>        <th class=\"col_heading level0 col7\" >out_3</th>        <th class=\"col_heading level0 col8\" >layer_4</th>        <th class=\"col_heading level0 col9\" >out_4</th>        <th class=\"col_heading level0 col10\" >layer_5</th>        <th class=\"col_heading level0 col11\" >out_5</th>    </tr>    <tr>        <th class=\"index_name level0\" >channel</th>        <th class=\"blank\" ></th>        <th class=\"blank\" ></th>        <th class=\"blank\" ></th>        <th class=\"blank\" ></th>        <th class=\"blank\" ></th>        <th class=\"blank\" ></th>        <th class=\"blank\" ></th>        <th class=\"blank\" ></th>        <th class=\"blank\" ></th>        <th class=\"blank\" ></th>        <th class=\"blank\" ></th>        <th class=\"blank\" ></th>    </tr></thead><tbody>\n",
       "                <tr>\n",
       "                        <th id=\"T_606737f8_52b4_11eb_8a76_a8206653ba57level0_row0\" class=\"row_heading level0 row0\" >0</th>\n",
       "                        <td id=\"T_606737f8_52b4_11eb_8a76_a8206653ba57row0_col0\" class=\"data row0 col0\" >SimpleImputer()</td>\n",
       "                        <td id=\"T_606737f8_52b4_11eb_8a76_a8206653ba57row0_col1\" class=\"data row0 col1\" >→</td>\n",
       "                        <td id=\"T_606737f8_52b4_11eb_8a76_a8206653ba57row0_col2\" class=\"data row0 col2\" >StandardScaler()</td>\n",
       "                        <td id=\"T_606737f8_52b4_11eb_8a76_a8206653ba57row0_col3\" class=\"data row0 col3\" >→</td>\n",
       "                        <td id=\"T_606737f8_52b4_11eb_8a76_a8206653ba57row0_col4\" class=\"data row0 col4\" >SelectPercentile()</td>\n",
       "                        <td id=\"T_606737f8_52b4_11eb_8a76_a8206653ba57row0_col5\" class=\"data row0 col5\" >→</td>\n",
       "                        <td id=\"T_606737f8_52b4_11eb_8a76_a8206653ba57row0_col6\" class=\"data row0 col6\" >SelectKBestScores()</td>\n",
       "                        <td id=\"T_606737f8_52b4_11eb_8a76_a8206653ba57row0_col7\" class=\"data row0 col7\" >→</td>\n",
       "                        <td id=\"T_606737f8_52b4_11eb_8a76_a8206653ba57row0_col8\" class=\"data row0 col8\" >SelectKBestModels()</td>\n",
       "                        <td id=\"T_606737f8_52b4_11eb_8a76_a8206653ba57row0_col9\" class=\"data row0 col9\" >→</td>\n",
       "                        <td id=\"T_606737f8_52b4_11eb_8a76_a8206653ba57row0_col10\" class=\"data row0 col10\" >MultichannelPredictor()</td>\n",
       "                        <td id=\"T_606737f8_52b4_11eb_8a76_a8206653ba57row0_col11\" class=\"data row0 col11\" >→</td>\n",
       "            </tr>\n",
       "            <tr>\n",
       "                        <th id=\"T_606737f8_52b4_11eb_8a76_a8206653ba57level0_row1\" class=\"row_heading level0 row1\" >1</th>\n",
       "                        <td id=\"T_606737f8_52b4_11eb_8a76_a8206653ba57row1_col0\" class=\"data row1 col0\" >SimpleImputer()</td>\n",
       "                        <td id=\"T_606737f8_52b4_11eb_8a76_a8206653ba57row1_col1\" class=\"data row1 col1\" >→</td>\n",
       "                        <td id=\"T_606737f8_52b4_11eb_8a76_a8206653ba57row1_col2\" class=\"data row1 col2\" >StandardScaler()</td>\n",
       "                        <td id=\"T_606737f8_52b4_11eb_8a76_a8206653ba57row1_col3\" class=\"data row1 col3\" >→</td>\n",
       "                        <td id=\"T_606737f8_52b4_11eb_8a76_a8206653ba57row1_col4\" class=\"data row1 col4\" >SelectPercentile()</td>\n",
       "                        <td id=\"T_606737f8_52b4_11eb_8a76_a8206653ba57row1_col5\" class=\"data row1 col5\" >→</td>\n",
       "                        <td id=\"T_606737f8_52b4_11eb_8a76_a8206653ba57row1_col6\" class=\"data row1 col6\" >↓</td>\n",
       "                        <td id=\"T_606737f8_52b4_11eb_8a76_a8206653ba57row1_col7\" class=\"data row1 col7\" >→</td>\n",
       "                        <td id=\"T_606737f8_52b4_11eb_8a76_a8206653ba57row1_col8\" class=\"data row1 col8\" >↓</td>\n",
       "                        <td id=\"T_606737f8_52b4_11eb_8a76_a8206653ba57row1_col9\" class=\"data row1 col9\" >→</td>\n",
       "                        <td id=\"T_606737f8_52b4_11eb_8a76_a8206653ba57row1_col10\" class=\"data row1 col10\" >↓</td>\n",
       "                        <td id=\"T_606737f8_52b4_11eb_8a76_a8206653ba57row1_col11\" class=\"data row1 col11\" >→</td>\n",
       "            </tr>\n",
       "            <tr>\n",
       "                        <th id=\"T_606737f8_52b4_11eb_8a76_a8206653ba57level0_row2\" class=\"row_heading level0 row2\" >2</th>\n",
       "                        <td id=\"T_606737f8_52b4_11eb_8a76_a8206653ba57row2_col0\" class=\"data row2 col0\" >SimpleImputer()</td>\n",
       "                        <td id=\"T_606737f8_52b4_11eb_8a76_a8206653ba57row2_col1\" class=\"data row2 col1\" >→</td>\n",
       "                        <td id=\"T_606737f8_52b4_11eb_8a76_a8206653ba57row2_col2\" class=\"data row2 col2\" >StandardScaler()</td>\n",
       "                        <td id=\"T_606737f8_52b4_11eb_8a76_a8206653ba57row2_col3\" class=\"data row2 col3\" >→</td>\n",
       "                        <td id=\"T_606737f8_52b4_11eb_8a76_a8206653ba57row2_col4\" class=\"data row2 col4\" >SelectPercentile()</td>\n",
       "                        <td id=\"T_606737f8_52b4_11eb_8a76_a8206653ba57row2_col5\" class=\"data row2 col5\" >→</td>\n",
       "                        <td id=\"T_606737f8_52b4_11eb_8a76_a8206653ba57row2_col6\" class=\"data row2 col6\" >↓</td>\n",
       "                        <td id=\"T_606737f8_52b4_11eb_8a76_a8206653ba57row2_col7\" class=\"data row2 col7\" >→</td>\n",
       "                        <td id=\"T_606737f8_52b4_11eb_8a76_a8206653ba57row2_col8\" class=\"data row2 col8\" >↓</td>\n",
       "                        <td id=\"T_606737f8_52b4_11eb_8a76_a8206653ba57row2_col9\" class=\"data row2 col9\" >→</td>\n",
       "                        <td id=\"T_606737f8_52b4_11eb_8a76_a8206653ba57row2_col10\" class=\"data row2 col10\" >↓</td>\n",
       "                        <td id=\"T_606737f8_52b4_11eb_8a76_a8206653ba57row2_col11\" class=\"data row2 col11\" >→</td>\n",
       "            </tr>\n",
       "            <tr>\n",
       "                        <th id=\"T_606737f8_52b4_11eb_8a76_a8206653ba57level0_row3\" class=\"row_heading level0 row3\" >3</th>\n",
       "                        <td id=\"T_606737f8_52b4_11eb_8a76_a8206653ba57row3_col0\" class=\"data row3 col0\" >SimpleImputer()</td>\n",
       "                        <td id=\"T_606737f8_52b4_11eb_8a76_a8206653ba57row3_col1\" class=\"data row3 col1\" >→</td>\n",
       "                        <td id=\"T_606737f8_52b4_11eb_8a76_a8206653ba57row3_col2\" class=\"data row3 col2\" >StandardScaler()</td>\n",
       "                        <td id=\"T_606737f8_52b4_11eb_8a76_a8206653ba57row3_col3\" class=\"data row3 col3\" >→</td>\n",
       "                        <td id=\"T_606737f8_52b4_11eb_8a76_a8206653ba57row3_col4\" class=\"data row3 col4\" >SelectPercentile()</td>\n",
       "                        <td id=\"T_606737f8_52b4_11eb_8a76_a8206653ba57row3_col5\" class=\"data row3 col5\" >→</td>\n",
       "                        <td id=\"T_606737f8_52b4_11eb_8a76_a8206653ba57row3_col6\" class=\"data row3 col6\" >↓</td>\n",
       "                        <td id=\"T_606737f8_52b4_11eb_8a76_a8206653ba57row3_col7\" class=\"data row3 col7\" >→</td>\n",
       "                        <td id=\"T_606737f8_52b4_11eb_8a76_a8206653ba57row3_col8\" class=\"data row3 col8\" >↓</td>\n",
       "                        <td id=\"T_606737f8_52b4_11eb_8a76_a8206653ba57row3_col9\" class=\"data row3 col9\" >→</td>\n",
       "                        <td id=\"T_606737f8_52b4_11eb_8a76_a8206653ba57row3_col10\" class=\"data row3 col10\" >↓</td>\n",
       "                        <td id=\"T_606737f8_52b4_11eb_8a76_a8206653ba57row3_col11\" class=\"data row3 col11\" >→</td>\n",
       "            </tr>\n",
       "            <tr>\n",
       "                        <th id=\"T_606737f8_52b4_11eb_8a76_a8206653ba57level0_row4\" class=\"row_heading level0 row4\" >4</th>\n",
       "                        <td id=\"T_606737f8_52b4_11eb_8a76_a8206653ba57row4_col0\" class=\"data row4 col0\" >SimpleImputer()</td>\n",
       "                        <td id=\"T_606737f8_52b4_11eb_8a76_a8206653ba57row4_col1\" class=\"data row4 col1\" >→</td>\n",
       "                        <td id=\"T_606737f8_52b4_11eb_8a76_a8206653ba57row4_col2\" class=\"data row4 col2\" >StandardScaler()</td>\n",
       "                        <td id=\"T_606737f8_52b4_11eb_8a76_a8206653ba57row4_col3\" class=\"data row4 col3\" >→</td>\n",
       "                        <td id=\"T_606737f8_52b4_11eb_8a76_a8206653ba57row4_col4\" class=\"data row4 col4\" >SelectPercentile()</td>\n",
       "                        <td id=\"T_606737f8_52b4_11eb_8a76_a8206653ba57row4_col5\" class=\"data row4 col5\" >→</td>\n",
       "                        <td id=\"T_606737f8_52b4_11eb_8a76_a8206653ba57row4_col6\" class=\"data row4 col6\" >↓</td>\n",
       "                        <td id=\"T_606737f8_52b4_11eb_8a76_a8206653ba57row4_col7\" class=\"data row4 col7\" >→</td>\n",
       "                        <td id=\"T_606737f8_52b4_11eb_8a76_a8206653ba57row4_col8\" class=\"data row4 col8\" >↓</td>\n",
       "                        <td id=\"T_606737f8_52b4_11eb_8a76_a8206653ba57row4_col9\" class=\"data row4 col9\" >→</td>\n",
       "                        <td id=\"T_606737f8_52b4_11eb_8a76_a8206653ba57row4_col10\" class=\"data row4 col10\" >↓</td>\n",
       "                        <td id=\"T_606737f8_52b4_11eb_8a76_a8206653ba57row4_col11\" class=\"data row4 col11\" >→</td>\n",
       "            </tr>\n",
       "            <tr>\n",
       "                        <th id=\"T_606737f8_52b4_11eb_8a76_a8206653ba57level0_row5\" class=\"row_heading level0 row5\" >5</th>\n",
       "                        <td id=\"T_606737f8_52b4_11eb_8a76_a8206653ba57row5_col0\" class=\"data row5 col0\" >SimpleImputer()</td>\n",
       "                        <td id=\"T_606737f8_52b4_11eb_8a76_a8206653ba57row5_col1\" class=\"data row5 col1\" >→</td>\n",
       "                        <td id=\"T_606737f8_52b4_11eb_8a76_a8206653ba57row5_col2\" class=\"data row5 col2\" >StandardScaler()</td>\n",
       "                        <td id=\"T_606737f8_52b4_11eb_8a76_a8206653ba57row5_col3\" class=\"data row5 col3\" >→</td>\n",
       "                        <td id=\"T_606737f8_52b4_11eb_8a76_a8206653ba57row5_col4\" class=\"data row5 col4\" >SelectPercentile()</td>\n",
       "                        <td id=\"T_606737f8_52b4_11eb_8a76_a8206653ba57row5_col5\" class=\"data row5 col5\" >→</td>\n",
       "                        <td id=\"T_606737f8_52b4_11eb_8a76_a8206653ba57row5_col6\" class=\"data row5 col6\" >→</td>\n",
       "                        <td id=\"T_606737f8_52b4_11eb_8a76_a8206653ba57row5_col7\" class=\"data row5 col7\" >→</td>\n",
       "                        <td id=\"T_606737f8_52b4_11eb_8a76_a8206653ba57row5_col8\" class=\"data row5 col8\" >LogisticRegression()</td>\n",
       "                        <td id=\"T_606737f8_52b4_11eb_8a76_a8206653ba57row5_col9\" class=\"data row5 col9\" >→</td>\n",
       "                        <td id=\"T_606737f8_52b4_11eb_8a76_a8206653ba57row5_col10\" class=\"data row5 col10\" >↓</td>\n",
       "                        <td id=\"T_606737f8_52b4_11eb_8a76_a8206653ba57row5_col11\" class=\"data row5 col11\" >→</td>\n",
       "            </tr>\n",
       "    </tbody></table>"
      ],
      "text/plain": [
       "MultichannelPipeline(internal_cv=5, transform_method_name=None, cv_processes=1, n_channels=6)"
      ]
     },
     "execution_count": 1,
     "metadata": {},
     "output_type": "execute_result"
    }
   ],
   "source": [
    "import numpy as np\n",
    "\n",
    "from sklearn.impute import SimpleImputer\n",
    "from sklearn.preprocessing import StandardScaler\n",
    "from sklearn.feature_selection import SelectPercentile\n",
    "from sklearn.feature_selection import f_classif\n",
    "from sklearn.neighbors import KNeighborsClassifier\n",
    "from sklearn.linear_model import LogisticRegression\n",
    "from sklearn.svm import SVC\n",
    "from sklearn.datasets import make_classification\n",
    "\n",
    "import pipecaster as pc\n",
    "\n",
    "X_rand = np.random.rand(500, 30)\n",
    "X_inf, y = make_classification(n_samples=500, n_features=30, \n",
    "                               n_informative=15, class_sep=3, random_state=None)\n",
    "\n",
    "Xs = [X_rand, X_rand, X_inf, X_rand, X_inf, X_inf]\n",
    "\n",
    "clf = pc.MultichannelPipeline(n_channels=6)\n",
    "\n",
    "clf.add_layer(SimpleImputer())\n",
    "clf.add_layer(StandardScaler())\n",
    "clf.add_layer(SelectPercentile(percentile=25))\n",
    "clf.add_layer(5, pc.SelectKBestScores(feature_scorer=f_classif, aggregator=np.mean, k=2)) \n",
    "clf.add_layer(5, pc.SelectKBestModels(predictors=KNeighborsClassifier(), k=1), \n",
    "              1, LogisticRegression()) \n",
    "clf.add_layer(pc.MultichannelPredictor(SVC()))\n",
    "clf"
   ]
  },
  {
   "cell_type": "code",
   "execution_count": 2,
   "metadata": {},
   "outputs": [
    {
     "data": {
      "text/html": [
       "<style  type=\"text/css\" >\n",
       "    #T_62090ee2_52b4_11eb_8a76_a8206653ba57 th {\n",
       "          text-align: center;\n",
       "    }    #T_62090ee2_52b4_11eb_8a76_a8206653ba57row0_col0 {\n",
       "            text-align:  center;\n",
       "        }    #T_62090ee2_52b4_11eb_8a76_a8206653ba57row0_col1 {\n",
       "            text-align:  center;\n",
       "        }    #T_62090ee2_52b4_11eb_8a76_a8206653ba57row0_col2 {\n",
       "            text-align:  center;\n",
       "        }    #T_62090ee2_52b4_11eb_8a76_a8206653ba57row0_col3 {\n",
       "            text-align:  center;\n",
       "        }    #T_62090ee2_52b4_11eb_8a76_a8206653ba57row0_col4 {\n",
       "            text-align:  center;\n",
       "        }    #T_62090ee2_52b4_11eb_8a76_a8206653ba57row0_col5 {\n",
       "            text-align:  center;\n",
       "        }    #T_62090ee2_52b4_11eb_8a76_a8206653ba57row0_col6 {\n",
       "            text-align:  center;\n",
       "        }    #T_62090ee2_52b4_11eb_8a76_a8206653ba57row0_col7 {\n",
       "            text-align:  center;\n",
       "        }    #T_62090ee2_52b4_11eb_8a76_a8206653ba57row0_col8 {\n",
       "            text-align:  center;\n",
       "        }    #T_62090ee2_52b4_11eb_8a76_a8206653ba57row0_col9 {\n",
       "            text-align:  center;\n",
       "        }    #T_62090ee2_52b4_11eb_8a76_a8206653ba57row0_col10 {\n",
       "            text-align:  center;\n",
       "        }    #T_62090ee2_52b4_11eb_8a76_a8206653ba57row0_col11 {\n",
       "            text-align:  center;\n",
       "        }    #T_62090ee2_52b4_11eb_8a76_a8206653ba57row1_col0 {\n",
       "            text-align:  center;\n",
       "        }    #T_62090ee2_52b4_11eb_8a76_a8206653ba57row1_col1 {\n",
       "            text-align:  center;\n",
       "        }    #T_62090ee2_52b4_11eb_8a76_a8206653ba57row1_col2 {\n",
       "            text-align:  center;\n",
       "        }    #T_62090ee2_52b4_11eb_8a76_a8206653ba57row1_col3 {\n",
       "            text-align:  center;\n",
       "        }    #T_62090ee2_52b4_11eb_8a76_a8206653ba57row1_col4 {\n",
       "            text-align:  center;\n",
       "        }    #T_62090ee2_52b4_11eb_8a76_a8206653ba57row1_col5 {\n",
       "            text-align:  center;\n",
       "        }    #T_62090ee2_52b4_11eb_8a76_a8206653ba57row1_col6 {\n",
       "            text-align:  center;\n",
       "        }    #T_62090ee2_52b4_11eb_8a76_a8206653ba57row1_col7 {\n",
       "            text-align:  center;\n",
       "        }    #T_62090ee2_52b4_11eb_8a76_a8206653ba57row1_col8 {\n",
       "            text-align:  center;\n",
       "        }    #T_62090ee2_52b4_11eb_8a76_a8206653ba57row1_col9 {\n",
       "            text-align:  center;\n",
       "        }    #T_62090ee2_52b4_11eb_8a76_a8206653ba57row1_col10 {\n",
       "            text-align:  center;\n",
       "        }    #T_62090ee2_52b4_11eb_8a76_a8206653ba57row1_col11 {\n",
       "            text-align:  center;\n",
       "        }    #T_62090ee2_52b4_11eb_8a76_a8206653ba57row2_col0 {\n",
       "            text-align:  center;\n",
       "        }    #T_62090ee2_52b4_11eb_8a76_a8206653ba57row2_col1 {\n",
       "            text-align:  center;\n",
       "        }    #T_62090ee2_52b4_11eb_8a76_a8206653ba57row2_col2 {\n",
       "            text-align:  center;\n",
       "        }    #T_62090ee2_52b4_11eb_8a76_a8206653ba57row2_col3 {\n",
       "            text-align:  center;\n",
       "        }    #T_62090ee2_52b4_11eb_8a76_a8206653ba57row2_col4 {\n",
       "            text-align:  center;\n",
       "        }    #T_62090ee2_52b4_11eb_8a76_a8206653ba57row2_col5 {\n",
       "            text-align:  center;\n",
       "        }    #T_62090ee2_52b4_11eb_8a76_a8206653ba57row2_col6 {\n",
       "            text-align:  center;\n",
       "        }    #T_62090ee2_52b4_11eb_8a76_a8206653ba57row2_col7 {\n",
       "            text-align:  center;\n",
       "        }    #T_62090ee2_52b4_11eb_8a76_a8206653ba57row2_col8 {\n",
       "            text-align:  center;\n",
       "        }    #T_62090ee2_52b4_11eb_8a76_a8206653ba57row2_col9 {\n",
       "            text-align:  center;\n",
       "        }    #T_62090ee2_52b4_11eb_8a76_a8206653ba57row2_col10 {\n",
       "            text-align:  center;\n",
       "        }    #T_62090ee2_52b4_11eb_8a76_a8206653ba57row2_col11 {\n",
       "            text-align:  center;\n",
       "        }    #T_62090ee2_52b4_11eb_8a76_a8206653ba57row3_col0 {\n",
       "            text-align:  center;\n",
       "        }    #T_62090ee2_52b4_11eb_8a76_a8206653ba57row3_col1 {\n",
       "            text-align:  center;\n",
       "        }    #T_62090ee2_52b4_11eb_8a76_a8206653ba57row3_col2 {\n",
       "            text-align:  center;\n",
       "        }    #T_62090ee2_52b4_11eb_8a76_a8206653ba57row3_col3 {\n",
       "            text-align:  center;\n",
       "        }    #T_62090ee2_52b4_11eb_8a76_a8206653ba57row3_col4 {\n",
       "            text-align:  center;\n",
       "        }    #T_62090ee2_52b4_11eb_8a76_a8206653ba57row3_col5 {\n",
       "            text-align:  center;\n",
       "        }    #T_62090ee2_52b4_11eb_8a76_a8206653ba57row3_col6 {\n",
       "            text-align:  center;\n",
       "        }    #T_62090ee2_52b4_11eb_8a76_a8206653ba57row3_col7 {\n",
       "            text-align:  center;\n",
       "        }    #T_62090ee2_52b4_11eb_8a76_a8206653ba57row3_col8 {\n",
       "            text-align:  center;\n",
       "        }    #T_62090ee2_52b4_11eb_8a76_a8206653ba57row3_col9 {\n",
       "            text-align:  center;\n",
       "        }    #T_62090ee2_52b4_11eb_8a76_a8206653ba57row3_col10 {\n",
       "            text-align:  center;\n",
       "        }    #T_62090ee2_52b4_11eb_8a76_a8206653ba57row3_col11 {\n",
       "            text-align:  center;\n",
       "        }    #T_62090ee2_52b4_11eb_8a76_a8206653ba57row4_col0 {\n",
       "            text-align:  center;\n",
       "        }    #T_62090ee2_52b4_11eb_8a76_a8206653ba57row4_col1 {\n",
       "            text-align:  center;\n",
       "        }    #T_62090ee2_52b4_11eb_8a76_a8206653ba57row4_col2 {\n",
       "            text-align:  center;\n",
       "        }    #T_62090ee2_52b4_11eb_8a76_a8206653ba57row4_col3 {\n",
       "            text-align:  center;\n",
       "        }    #T_62090ee2_52b4_11eb_8a76_a8206653ba57row4_col4 {\n",
       "            text-align:  center;\n",
       "        }    #T_62090ee2_52b4_11eb_8a76_a8206653ba57row4_col5 {\n",
       "            text-align:  center;\n",
       "        }    #T_62090ee2_52b4_11eb_8a76_a8206653ba57row4_col6 {\n",
       "            text-align:  center;\n",
       "        }    #T_62090ee2_52b4_11eb_8a76_a8206653ba57row4_col7 {\n",
       "            text-align:  center;\n",
       "        }    #T_62090ee2_52b4_11eb_8a76_a8206653ba57row4_col8 {\n",
       "            text-align:  center;\n",
       "        }    #T_62090ee2_52b4_11eb_8a76_a8206653ba57row4_col9 {\n",
       "            text-align:  center;\n",
       "        }    #T_62090ee2_52b4_11eb_8a76_a8206653ba57row4_col10 {\n",
       "            text-align:  center;\n",
       "        }    #T_62090ee2_52b4_11eb_8a76_a8206653ba57row4_col11 {\n",
       "            text-align:  center;\n",
       "        }    #T_62090ee2_52b4_11eb_8a76_a8206653ba57row5_col0 {\n",
       "            text-align:  center;\n",
       "        }    #T_62090ee2_52b4_11eb_8a76_a8206653ba57row5_col1 {\n",
       "            text-align:  center;\n",
       "        }    #T_62090ee2_52b4_11eb_8a76_a8206653ba57row5_col2 {\n",
       "            text-align:  center;\n",
       "        }    #T_62090ee2_52b4_11eb_8a76_a8206653ba57row5_col3 {\n",
       "            text-align:  center;\n",
       "        }    #T_62090ee2_52b4_11eb_8a76_a8206653ba57row5_col4 {\n",
       "            text-align:  center;\n",
       "        }    #T_62090ee2_52b4_11eb_8a76_a8206653ba57row5_col5 {\n",
       "            text-align:  center;\n",
       "        }    #T_62090ee2_52b4_11eb_8a76_a8206653ba57row5_col6 {\n",
       "            text-align:  center;\n",
       "        }    #T_62090ee2_52b4_11eb_8a76_a8206653ba57row5_col7 {\n",
       "            text-align:  center;\n",
       "        }    #T_62090ee2_52b4_11eb_8a76_a8206653ba57row5_col8 {\n",
       "            text-align:  center;\n",
       "        }    #T_62090ee2_52b4_11eb_8a76_a8206653ba57row5_col9 {\n",
       "            text-align:  center;\n",
       "        }    #T_62090ee2_52b4_11eb_8a76_a8206653ba57row5_col10 {\n",
       "            text-align:  center;\n",
       "        }    #T_62090ee2_52b4_11eb_8a76_a8206653ba57row5_col11 {\n",
       "            text-align:  center;\n",
       "        }</style><table id=\"T_62090ee2_52b4_11eb_8a76_a8206653ba57\" ><thead>    <tr>        <th class=\"blank level0\" ></th>        <th class=\"col_heading level0 col0\" >layer_0</th>        <th class=\"col_heading level0 col1\" >out_0</th>        <th class=\"col_heading level0 col2\" >layer_1</th>        <th class=\"col_heading level0 col3\" >out_1</th>        <th class=\"col_heading level0 col4\" >layer_2</th>        <th class=\"col_heading level0 col5\" >out_2</th>        <th class=\"col_heading level0 col6\" >layer_3</th>        <th class=\"col_heading level0 col7\" >out_3</th>        <th class=\"col_heading level0 col8\" >layer_4</th>        <th class=\"col_heading level0 col9\" >out_4</th>        <th class=\"col_heading level0 col10\" >layer_5</th>        <th class=\"col_heading level0 col11\" >out_5</th>    </tr>    <tr>        <th class=\"index_name level0\" >channel</th>        <th class=\"blank\" ></th>        <th class=\"blank\" ></th>        <th class=\"blank\" ></th>        <th class=\"blank\" ></th>        <th class=\"blank\" ></th>        <th class=\"blank\" ></th>        <th class=\"blank\" ></th>        <th class=\"blank\" ></th>        <th class=\"blank\" ></th>        <th class=\"blank\" ></th>        <th class=\"blank\" ></th>        <th class=\"blank\" ></th>    </tr></thead><tbody>\n",
       "                <tr>\n",
       "                        <th id=\"T_62090ee2_52b4_11eb_8a76_a8206653ba57level0_row0\" class=\"row_heading level0 row0\" >0</th>\n",
       "                        <td id=\"T_62090ee2_52b4_11eb_8a76_a8206653ba57row0_col0\" class=\"data row0 col0\" >SimpleImputer()</td>\n",
       "                        <td id=\"T_62090ee2_52b4_11eb_8a76_a8206653ba57row0_col1\" class=\"data row0 col1\" >→</td>\n",
       "                        <td id=\"T_62090ee2_52b4_11eb_8a76_a8206653ba57row0_col2\" class=\"data row0 col2\" >StandardScaler()</td>\n",
       "                        <td id=\"T_62090ee2_52b4_11eb_8a76_a8206653ba57row0_col3\" class=\"data row0 col3\" >→</td>\n",
       "                        <td id=\"T_62090ee2_52b4_11eb_8a76_a8206653ba57row0_col4\" class=\"data row0 col4\" >SelectPercentile()</td>\n",
       "                        <td id=\"T_62090ee2_52b4_11eb_8a76_a8206653ba57row0_col5\" class=\"data row0 col5\" >→</td>\n",
       "                        <td id=\"T_62090ee2_52b4_11eb_8a76_a8206653ba57row0_col6\" class=\"data row0 col6\" >SelectKBestScores()</td>\n",
       "                        <td id=\"T_62090ee2_52b4_11eb_8a76_a8206653ba57row0_col7\" class=\"data row0 col7\" > </td>\n",
       "                        <td id=\"T_62090ee2_52b4_11eb_8a76_a8206653ba57row0_col8\" class=\"data row0 col8\" >SelectKBestModels()</td>\n",
       "                        <td id=\"T_62090ee2_52b4_11eb_8a76_a8206653ba57row0_col9\" class=\"data row0 col9\" > </td>\n",
       "                        <td id=\"T_62090ee2_52b4_11eb_8a76_a8206653ba57row0_col10\" class=\"data row0 col10\" >Multichannel()</td>\n",
       "                        <td id=\"T_62090ee2_52b4_11eb_8a76_a8206653ba57row0_col11\" class=\"data row0 col11\" >→</td>\n",
       "            </tr>\n",
       "            <tr>\n",
       "                        <th id=\"T_62090ee2_52b4_11eb_8a76_a8206653ba57level0_row1\" class=\"row_heading level0 row1\" >1</th>\n",
       "                        <td id=\"T_62090ee2_52b4_11eb_8a76_a8206653ba57row1_col0\" class=\"data row1 col0\" >SimpleImputer()</td>\n",
       "                        <td id=\"T_62090ee2_52b4_11eb_8a76_a8206653ba57row1_col1\" class=\"data row1 col1\" >→</td>\n",
       "                        <td id=\"T_62090ee2_52b4_11eb_8a76_a8206653ba57row1_col2\" class=\"data row1 col2\" >StandardScaler()</td>\n",
       "                        <td id=\"T_62090ee2_52b4_11eb_8a76_a8206653ba57row1_col3\" class=\"data row1 col3\" >→</td>\n",
       "                        <td id=\"T_62090ee2_52b4_11eb_8a76_a8206653ba57row1_col4\" class=\"data row1 col4\" >SelectPercentile()</td>\n",
       "                        <td id=\"T_62090ee2_52b4_11eb_8a76_a8206653ba57row1_col5\" class=\"data row1 col5\" >→</td>\n",
       "                        <td id=\"T_62090ee2_52b4_11eb_8a76_a8206653ba57row1_col6\" class=\"data row1 col6\" >↓</td>\n",
       "                        <td id=\"T_62090ee2_52b4_11eb_8a76_a8206653ba57row1_col7\" class=\"data row1 col7\" > </td>\n",
       "                        <td id=\"T_62090ee2_52b4_11eb_8a76_a8206653ba57row1_col8\" class=\"data row1 col8\" >↓</td>\n",
       "                        <td id=\"T_62090ee2_52b4_11eb_8a76_a8206653ba57row1_col9\" class=\"data row1 col9\" > </td>\n",
       "                        <td id=\"T_62090ee2_52b4_11eb_8a76_a8206653ba57row1_col10\" class=\"data row1 col10\" >↓</td>\n",
       "                        <td id=\"T_62090ee2_52b4_11eb_8a76_a8206653ba57row1_col11\" class=\"data row1 col11\" > </td>\n",
       "            </tr>\n",
       "            <tr>\n",
       "                        <th id=\"T_62090ee2_52b4_11eb_8a76_a8206653ba57level0_row2\" class=\"row_heading level0 row2\" >2</th>\n",
       "                        <td id=\"T_62090ee2_52b4_11eb_8a76_a8206653ba57row2_col0\" class=\"data row2 col0\" >SimpleImputer()</td>\n",
       "                        <td id=\"T_62090ee2_52b4_11eb_8a76_a8206653ba57row2_col1\" class=\"data row2 col1\" >→</td>\n",
       "                        <td id=\"T_62090ee2_52b4_11eb_8a76_a8206653ba57row2_col2\" class=\"data row2 col2\" >StandardScaler()</td>\n",
       "                        <td id=\"T_62090ee2_52b4_11eb_8a76_a8206653ba57row2_col3\" class=\"data row2 col3\" >→</td>\n",
       "                        <td id=\"T_62090ee2_52b4_11eb_8a76_a8206653ba57row2_col4\" class=\"data row2 col4\" >SelectPercentile()</td>\n",
       "                        <td id=\"T_62090ee2_52b4_11eb_8a76_a8206653ba57row2_col5\" class=\"data row2 col5\" >→</td>\n",
       "                        <td id=\"T_62090ee2_52b4_11eb_8a76_a8206653ba57row2_col6\" class=\"data row2 col6\" >↓</td>\n",
       "                        <td id=\"T_62090ee2_52b4_11eb_8a76_a8206653ba57row2_col7\" class=\"data row2 col7\" >→</td>\n",
       "                        <td id=\"T_62090ee2_52b4_11eb_8a76_a8206653ba57row2_col8\" class=\"data row2 col8\" >↓</td>\n",
       "                        <td id=\"T_62090ee2_52b4_11eb_8a76_a8206653ba57row2_col9\" class=\"data row2 col9\" > </td>\n",
       "                        <td id=\"T_62090ee2_52b4_11eb_8a76_a8206653ba57row2_col10\" class=\"data row2 col10\" >↓</td>\n",
       "                        <td id=\"T_62090ee2_52b4_11eb_8a76_a8206653ba57row2_col11\" class=\"data row2 col11\" > </td>\n",
       "            </tr>\n",
       "            <tr>\n",
       "                        <th id=\"T_62090ee2_52b4_11eb_8a76_a8206653ba57level0_row3\" class=\"row_heading level0 row3\" >3</th>\n",
       "                        <td id=\"T_62090ee2_52b4_11eb_8a76_a8206653ba57row3_col0\" class=\"data row3 col0\" >SimpleImputer()</td>\n",
       "                        <td id=\"T_62090ee2_52b4_11eb_8a76_a8206653ba57row3_col1\" class=\"data row3 col1\" >→</td>\n",
       "                        <td id=\"T_62090ee2_52b4_11eb_8a76_a8206653ba57row3_col2\" class=\"data row3 col2\" >StandardScaler()</td>\n",
       "                        <td id=\"T_62090ee2_52b4_11eb_8a76_a8206653ba57row3_col3\" class=\"data row3 col3\" >→</td>\n",
       "                        <td id=\"T_62090ee2_52b4_11eb_8a76_a8206653ba57row3_col4\" class=\"data row3 col4\" >SelectPercentile()</td>\n",
       "                        <td id=\"T_62090ee2_52b4_11eb_8a76_a8206653ba57row3_col5\" class=\"data row3 col5\" >→</td>\n",
       "                        <td id=\"T_62090ee2_52b4_11eb_8a76_a8206653ba57row3_col6\" class=\"data row3 col6\" >↓</td>\n",
       "                        <td id=\"T_62090ee2_52b4_11eb_8a76_a8206653ba57row3_col7\" class=\"data row3 col7\" > </td>\n",
       "                        <td id=\"T_62090ee2_52b4_11eb_8a76_a8206653ba57row3_col8\" class=\"data row3 col8\" >↓</td>\n",
       "                        <td id=\"T_62090ee2_52b4_11eb_8a76_a8206653ba57row3_col9\" class=\"data row3 col9\" > </td>\n",
       "                        <td id=\"T_62090ee2_52b4_11eb_8a76_a8206653ba57row3_col10\" class=\"data row3 col10\" >↓</td>\n",
       "                        <td id=\"T_62090ee2_52b4_11eb_8a76_a8206653ba57row3_col11\" class=\"data row3 col11\" > </td>\n",
       "            </tr>\n",
       "            <tr>\n",
       "                        <th id=\"T_62090ee2_52b4_11eb_8a76_a8206653ba57level0_row4\" class=\"row_heading level0 row4\" >4</th>\n",
       "                        <td id=\"T_62090ee2_52b4_11eb_8a76_a8206653ba57row4_col0\" class=\"data row4 col0\" >SimpleImputer()</td>\n",
       "                        <td id=\"T_62090ee2_52b4_11eb_8a76_a8206653ba57row4_col1\" class=\"data row4 col1\" >→</td>\n",
       "                        <td id=\"T_62090ee2_52b4_11eb_8a76_a8206653ba57row4_col2\" class=\"data row4 col2\" >StandardScaler()</td>\n",
       "                        <td id=\"T_62090ee2_52b4_11eb_8a76_a8206653ba57row4_col3\" class=\"data row4 col3\" >→</td>\n",
       "                        <td id=\"T_62090ee2_52b4_11eb_8a76_a8206653ba57row4_col4\" class=\"data row4 col4\" >SelectPercentile()</td>\n",
       "                        <td id=\"T_62090ee2_52b4_11eb_8a76_a8206653ba57row4_col5\" class=\"data row4 col5\" >→</td>\n",
       "                        <td id=\"T_62090ee2_52b4_11eb_8a76_a8206653ba57row4_col6\" class=\"data row4 col6\" >↓</td>\n",
       "                        <td id=\"T_62090ee2_52b4_11eb_8a76_a8206653ba57row4_col7\" class=\"data row4 col7\" >→</td>\n",
       "                        <td id=\"T_62090ee2_52b4_11eb_8a76_a8206653ba57row4_col8\" class=\"data row4 col8\" >↓</td>\n",
       "                        <td id=\"T_62090ee2_52b4_11eb_8a76_a8206653ba57row4_col9\" class=\"data row4 col9\" >→</td>\n",
       "                        <td id=\"T_62090ee2_52b4_11eb_8a76_a8206653ba57row4_col10\" class=\"data row4 col10\" >↓</td>\n",
       "                        <td id=\"T_62090ee2_52b4_11eb_8a76_a8206653ba57row4_col11\" class=\"data row4 col11\" > </td>\n",
       "            </tr>\n",
       "            <tr>\n",
       "                        <th id=\"T_62090ee2_52b4_11eb_8a76_a8206653ba57level0_row5\" class=\"row_heading level0 row5\" >5</th>\n",
       "                        <td id=\"T_62090ee2_52b4_11eb_8a76_a8206653ba57row5_col0\" class=\"data row5 col0\" >SimpleImputer()</td>\n",
       "                        <td id=\"T_62090ee2_52b4_11eb_8a76_a8206653ba57row5_col1\" class=\"data row5 col1\" >→</td>\n",
       "                        <td id=\"T_62090ee2_52b4_11eb_8a76_a8206653ba57row5_col2\" class=\"data row5 col2\" >StandardScaler()</td>\n",
       "                        <td id=\"T_62090ee2_52b4_11eb_8a76_a8206653ba57row5_col3\" class=\"data row5 col3\" >→</td>\n",
       "                        <td id=\"T_62090ee2_52b4_11eb_8a76_a8206653ba57row5_col4\" class=\"data row5 col4\" >SelectPercentile()</td>\n",
       "                        <td id=\"T_62090ee2_52b4_11eb_8a76_a8206653ba57row5_col5\" class=\"data row5 col5\" >→</td>\n",
       "                        <td id=\"T_62090ee2_52b4_11eb_8a76_a8206653ba57row5_col6\" class=\"data row5 col6\" >→</td>\n",
       "                        <td id=\"T_62090ee2_52b4_11eb_8a76_a8206653ba57row5_col7\" class=\"data row5 col7\" >→</td>\n",
       "                        <td id=\"T_62090ee2_52b4_11eb_8a76_a8206653ba57row5_col8\" class=\"data row5 col8\" >SingleChannelCV()</td>\n",
       "                        <td id=\"T_62090ee2_52b4_11eb_8a76_a8206653ba57row5_col9\" class=\"data row5 col9\" >→</td>\n",
       "                        <td id=\"T_62090ee2_52b4_11eb_8a76_a8206653ba57row5_col10\" class=\"data row5 col10\" >↓</td>\n",
       "                        <td id=\"T_62090ee2_52b4_11eb_8a76_a8206653ba57row5_col11\" class=\"data row5 col11\" > </td>\n",
       "            </tr>\n",
       "    </tbody></table>"
      ],
      "text/plain": [
       "MultichannelPipeline(internal_cv=5, transform_method_name=None, cv_processes=1, n_channels=6)"
      ]
     },
     "execution_count": 2,
     "metadata": {},
     "output_type": "execute_result"
    }
   ],
   "source": [
    "clf.fit(Xs, y)\n",
    "clf"
   ]
  },
  {
   "cell_type": "code",
   "execution_count": null,
   "metadata": {},
   "outputs": [],
   "source": []
  },
  {
   "cell_type": "code",
   "execution_count": 3,
   "metadata": {},
   "outputs": [
    {
     "ename": "NameError",
     "evalue": "free variable 'outputs' referenced before assignment in enclosing scope",
     "output_type": "error",
     "traceback": [
      "\u001b[0;31m---------------------------------------------------------------------------\u001b[0m",
      "\u001b[0;31mNameError\u001b[0m                                 Traceback (most recent call last)",
      "\u001b[0;32m/usr/local/Cellar/jupyter/1.0.0_5/libexec/vendor/lib/python3.7/site-packages/IPython/core/formatters.py\u001b[0m in \u001b[0;36m__call__\u001b[0;34m(self, obj)\u001b[0m\n\u001b[1;32m    343\u001b[0m             \u001b[0mmethod\u001b[0m \u001b[0;34m=\u001b[0m \u001b[0mget_real_method\u001b[0m\u001b[0;34m(\u001b[0m\u001b[0mobj\u001b[0m\u001b[0;34m,\u001b[0m \u001b[0mself\u001b[0m\u001b[0;34m.\u001b[0m\u001b[0mprint_method\u001b[0m\u001b[0;34m)\u001b[0m\u001b[0;34m\u001b[0m\u001b[0;34m\u001b[0m\u001b[0m\n\u001b[1;32m    344\u001b[0m             \u001b[0;32mif\u001b[0m \u001b[0mmethod\u001b[0m \u001b[0;32mis\u001b[0m \u001b[0;32mnot\u001b[0m \u001b[0;32mNone\u001b[0m\u001b[0;34m:\u001b[0m\u001b[0;34m\u001b[0m\u001b[0;34m\u001b[0m\u001b[0m\n\u001b[0;32m--> 345\u001b[0;31m                 \u001b[0;32mreturn\u001b[0m \u001b[0mmethod\u001b[0m\u001b[0;34m(\u001b[0m\u001b[0;34m)\u001b[0m\u001b[0;34m\u001b[0m\u001b[0;34m\u001b[0m\u001b[0m\n\u001b[0m\u001b[1;32m    346\u001b[0m             \u001b[0;32mreturn\u001b[0m \u001b[0;32mNone\u001b[0m\u001b[0;34m\u001b[0m\u001b[0;34m\u001b[0m\u001b[0m\n\u001b[1;32m    347\u001b[0m         \u001b[0;32melse\u001b[0m\u001b[0;34m:\u001b[0m\u001b[0;34m\u001b[0m\u001b[0;34m\u001b[0m\u001b[0m\n",
      "\u001b[0;32m~/trading/src/pipecaster/pipecaster/multichannel_pipeline.py\u001b[0m in \u001b[0;36m_repr_html_\u001b[0;34m(self)\u001b[0m\n\u001b[1;32m    690\u001b[0m \u001b[0;34m\u001b[0m\u001b[0m\n\u001b[1;32m    691\u001b[0m     \u001b[0;32mdef\u001b[0m \u001b[0m_repr_html_\u001b[0m\u001b[0;34m(\u001b[0m\u001b[0mself\u001b[0m\u001b[0;34m)\u001b[0m\u001b[0;34m:\u001b[0m\u001b[0;34m\u001b[0m\u001b[0;34m\u001b[0m\u001b[0m\n\u001b[0;32m--> 692\u001b[0;31m         \u001b[0mdf\u001b[0m \u001b[0;34m=\u001b[0m \u001b[0mself\u001b[0m\u001b[0;34m.\u001b[0m\u001b[0mget_dataframe\u001b[0m\u001b[0;34m(\u001b[0m\u001b[0mverbose\u001b[0m\u001b[0;34m=\u001b[0m\u001b[0;32mFalse\u001b[0m\u001b[0;34m,\u001b[0m \u001b[0mshow_fit\u001b[0m\u001b[0;34m=\u001b[0m\u001b[0;32mTrue\u001b[0m\u001b[0;34m)\u001b[0m\u001b[0;34m\u001b[0m\u001b[0;34m\u001b[0m\u001b[0m\n\u001b[0m\u001b[1;32m    693\u001b[0m         styler = df.style.set_properties(**{'text-align': 'center'}).set_table_styles(\n\u001b[1;32m    694\u001b[0m                                         [ dict(selector='th', props=[('text-align', 'center')] ) ])\n",
      "\u001b[0;32m~/trading/src/pipecaster/pipecaster/multichannel_pipeline.py\u001b[0m in \u001b[0;36mget_dataframe\u001b[0;34m(self, verbose, show_fit)\u001b[0m\n\u001b[1;32m    681\u001b[0m         \u001b[0;32mfor\u001b[0m \u001b[0mi\u001b[0m\u001b[0;34m,\u001b[0m \u001b[0mlayer\u001b[0m \u001b[0;32min\u001b[0m \u001b[0menumerate\u001b[0m\u001b[0;34m(\u001b[0m\u001b[0mself\u001b[0m\u001b[0;34m.\u001b[0m\u001b[0mlayers\u001b[0m\u001b[0;34m)\u001b[0m\u001b[0;34m:\u001b[0m\u001b[0;34m\u001b[0m\u001b[0;34m\u001b[0m\u001b[0m\n\u001b[1;32m    682\u001b[0m             \u001b[0;32mif\u001b[0m \u001b[0mhasattr\u001b[0m\u001b[0;34m(\u001b[0m\u001b[0mlayer\u001b[0m\u001b[0;34m,\u001b[0m \u001b[0;34m'model_list'\u001b[0m\u001b[0;34m)\u001b[0m \u001b[0;32mand\u001b[0m \u001b[0mshow_fit\u001b[0m\u001b[0;34m:\u001b[0m\u001b[0;34m\u001b[0m\u001b[0;34m\u001b[0m\u001b[0m\n\u001b[0;32m--> 683\u001b[0;31m                 \u001b[0mdescriptors\u001b[0m\u001b[0;34m,\u001b[0m \u001b[0moutputs\u001b[0m \u001b[0;34m=\u001b[0m \u001b[0mget_post_fit_descriptors\u001b[0m\u001b[0;34m(\u001b[0m\u001b[0mlayer\u001b[0m\u001b[0;34m,\u001b[0m \u001b[0mverbose\u001b[0m\u001b[0;34m=\u001b[0m\u001b[0;32mFalse\u001b[0m\u001b[0;34m)\u001b[0m\u001b[0;34m\u001b[0m\u001b[0;34m\u001b[0m\u001b[0m\n\u001b[0m\u001b[1;32m    684\u001b[0m             \u001b[0;32melse\u001b[0m\u001b[0;34m:\u001b[0m\u001b[0;34m\u001b[0m\u001b[0;34m\u001b[0m\u001b[0m\n\u001b[1;32m    685\u001b[0m                 \u001b[0mdescriptors\u001b[0m\u001b[0;34m,\u001b[0m \u001b[0moutputs\u001b[0m \u001b[0;34m=\u001b[0m \u001b[0mget_pre_fit_descriptors\u001b[0m\u001b[0;34m(\u001b[0m\u001b[0mlayer\u001b[0m\u001b[0;34m,\u001b[0m \u001b[0mverbose\u001b[0m\u001b[0;34m=\u001b[0m\u001b[0;32mFalse\u001b[0m\u001b[0;34m)\u001b[0m\u001b[0;34m\u001b[0m\u001b[0;34m\u001b[0m\u001b[0m\n",
      "\u001b[0;32m~/trading/src/pipecaster/pipecaster/multichannel_pipeline.py\u001b[0m in \u001b[0;36mget_post_fit_descriptors\u001b[0;34m(layer, verbose)\u001b[0m\n\u001b[1;32m    674\u001b[0m                                                       verbose)\n\u001b[1;32m    675\u001b[0m                 \u001b[0mdescriptors\u001b[0m\u001b[0;34m[\u001b[0m\u001b[0mindices\u001b[0m\u001b[0;34m[\u001b[0m\u001b[0;36m0\u001b[0m\u001b[0;34m]\u001b[0m\u001b[0;34m]\u001b[0m \u001b[0;34m=\u001b[0m \u001b[0mdescriptor\u001b[0m\u001b[0;34m\u001b[0m\u001b[0;34m\u001b[0m\u001b[0m\n\u001b[0;32m--> 676\u001b[0;31m             \u001b[0;32mreturn\u001b[0m \u001b[0mdescriptors\u001b[0m\u001b[0;34m,\u001b[0m \u001b[0moutputs\u001b[0m\u001b[0;34m\u001b[0m\u001b[0;34m\u001b[0m\u001b[0m\n\u001b[0m\u001b[1;32m    677\u001b[0m \u001b[0;34m\u001b[0m\u001b[0m\n\u001b[1;32m    678\u001b[0m         \u001b[0mdataframe\u001b[0m \u001b[0;34m=\u001b[0m \u001b[0mpd\u001b[0m\u001b[0;34m.\u001b[0m\u001b[0mDataFrame\u001b[0m\u001b[0;34m(\u001b[0m\u001b[0;34m{\u001b[0m\u001b[0;34m'channel'\u001b[0m\u001b[0;34m:\u001b[0m\u001b[0mrange\u001b[0m\u001b[0;34m(\u001b[0m\u001b[0mself\u001b[0m\u001b[0;34m.\u001b[0m\u001b[0mn_channels\u001b[0m\u001b[0;34m)\u001b[0m\u001b[0;34m}\u001b[0m\u001b[0;34m)\u001b[0m\u001b[0;34m\u001b[0m\u001b[0;34m\u001b[0m\u001b[0m\n",
      "\u001b[0;31mNameError\u001b[0m: free variable 'outputs' referenced before assignment in enclosing scope"
     ]
    },
    {
     "data": {
      "text/plain": [
       "MultichannelPipeline(internal_cv=5, transform_method_name=None, cv_processes=1, n_channels=6)"
      ]
     },
     "execution_count": 3,
     "metadata": {},
     "output_type": "execute_result"
    }
   ],
   "source": []
  },
  {
   "cell_type": "code",
   "execution_count": 34,
   "metadata": {},
   "outputs": [],
   "source": [
    "clf.fit(Xs, y)\n",
    "score_selector = clf.get_model(3,0)\n",
    "score_selector.get_support()\n",
    "\n",
    "assert np.array_equal(score_selector.get_support(), [2, 4])\n",
    "\n",
    "model_selector = clf.get_model(4, 0)\n",
    "assert model_selector.get_support()[0] in [2, 4]"
   ]
  },
  {
   "cell_type": "code",
   "execution_count": 30,
   "metadata": {},
   "outputs": [],
   "source": []
  },
  {
   "cell_type": "code",
   "execution_count": 22,
   "metadata": {},
   "outputs": [
    {
     "data": {
      "text/plain": [
       "SelectKBestModels(scorer=balanced_accuracy_score, channel_processes=1, k=1, predictors=KNeighborsClassifier(), cv=5, cv_processes=1)"
      ]
     },
     "execution_count": 22,
     "metadata": {},
     "output_type": "execute_result"
    }
   ],
   "source": [
    "model_selector"
   ]
  },
  {
   "cell_type": "code",
   "execution_count": 8,
   "metadata": {},
   "outputs": [],
   "source": [
    "import pipecaster as pc\n",
    "\n",
    "models = [None, 2, 2, None, None]\n",
    "scores = [None, 2, 2, None, None]\n",
    "selected_indices_ = pc.RankScoreSelector(k=1)(scores)\n",
    "models = [m if i in set(selected_indices_) else None for i, m in enumerate(models)]"
   ]
  },
  {
   "cell_type": "code",
   "execution_count": 12,
   "metadata": {},
   "outputs": [
    {
     "data": {
      "text/plain": [
       "array([4])"
      ]
     },
     "execution_count": 12,
     "metadata": {},
     "output_type": "execute_result"
    }
   ],
   "source": [
    "selected_indices_"
   ]
  },
  {
   "cell_type": "code",
   "execution_count": 14,
   "metadata": {},
   "outputs": [
    {
     "data": {
      "text/plain": [
       "array([0, 3, 4, 1, 2])"
      ]
     },
     "execution_count": 14,
     "metadata": {},
     "output_type": "execute_result"
    }
   ],
   "source": [
    "scores = [None, 2, 2, None, None]\n",
    "scores = np.array(scores, dtype=object)\n",
    "scores[scores == None] = np.NINF\n",
    "np.argsort(scores)"
   ]
  },
  {
   "cell_type": "code",
   "execution_count": 3,
   "metadata": {},
   "outputs": [
    {
     "data": {
      "text/plain": [
       "array([[0, 1, 2],\n",
       "       [3, 4, 5],\n",
       "       [6, 7, 8]])"
      ]
     },
     "execution_count": 3,
     "metadata": {},
     "output_type": "execute_result"
    }
   ],
   "source": [
    "import numpy as np\n",
    "\n",
    "x = np.arange(9).reshape(3,3)\n",
    "x"
   ]
  },
  {
   "cell_type": "code",
   "execution_count": null,
   "metadata": {},
   "outputs": [],
   "source": [
    "       if is_multichannel == True:\n",
    "            channel_predictions = []\n",
    "            for i in range(len(Xs)):\n",
    "                if split_predictions[0][i] is None:\n",
    "                    channel_predictions.append(None)\n",
    "                else:\n",
    "                    channel_predictions.append(np.concatenate([p[i] for p in split_predictions])[test_indices])\n",
    "            if is_classifier and predict_method == 'predict':\n",
    "                channel_predictions = [classes_[p] if p is not None else None \n",
    "                                       for p in channel_predictions]\n",
    "            return channel_predictions"
   ]
  },
  {
   "cell_type": "code",
   "execution_count": 9,
   "metadata": {},
   "outputs": [],
   "source": [
    "import pipecaster as pc\n",
    "from pipecaster.testing_utils import DummyClassifier\n",
    "import pipecaster.utils as utils\n",
    "\n",
    "mclf = pc.MultichannelPipeline(n_channels=1)\n",
    "mclf.get_next_layer()[:] = DummyClassifier(futile_cycles_fit=2000000, futile_cycles_pred=10)"
   ]
  },
  {
   "cell_type": "code",
   "execution_count": 1,
   "metadata": {},
   "outputs": [
    {
     "data": {
      "text/plain": [
       "MultichannelPipeline(n_channels=1, transform_method_name=None, internal_cv=5, cv_processes=1)"
      ]
     },
     "execution_count": 1,
     "metadata": {},
     "output_type": "execute_result"
    }
   ],
   "source": [
    "import pipecaster as pc\n",
    "from pipecaster.testing_utils import DummyClassifier\n",
    "import pipecaster.utils as utils\n",
    "\n",
    "mclf = pc.MultichannelPipeline(n_channels=1)\n",
    "mclf.add_layer(DummyClassifier(futile_cycles_fit=2000000, futile_cycles_pred=10))"
   ]
  },
  {
   "cell_type": "code",
   "execution_count": 2,
   "metadata": {},
   "outputs": [
    {
     "data": {
      "text/plain": [
       "True"
      ]
     },
     "execution_count": 2,
     "metadata": {},
     "output_type": "execute_result"
    }
   ],
   "source": [
    "utils.is_classifier(mclf)"
   ]
  },
  {
   "cell_type": "code",
   "execution_count": 3,
   "metadata": {},
   "outputs": [
    {
     "data": {
      "text/plain": [
       "True"
      ]
     },
     "execution_count": 3,
     "metadata": {},
     "output_type": "execute_result"
    }
   ],
   "source": [
    "utils.is_classifier(DummyClassifier())"
   ]
  },
  {
   "cell_type": "code",
   "execution_count": 4,
   "metadata": {},
   "outputs": [
    {
     "data": {
      "text/plain": [
       "True"
      ]
     },
     "execution_count": 4,
     "metadata": {},
     "output_type": "execute_result"
    }
   ],
   "source": [
    "utils.is_classifier(mclf.layers[0])"
   ]
  },
  {
   "cell_type": "code",
   "execution_count": 5,
   "metadata": {},
   "outputs": [
    {
     "ename": "AttributeError",
     "evalue": "'MultichannelPipeline' object has no attribute '_estimator_type'",
     "output_type": "error",
     "traceback": [
      "\u001b[0;31m---------------------------------------------------------------------------\u001b[0m",
      "\u001b[0;31mAttributeError\u001b[0m                            Traceback (most recent call last)",
      "\u001b[0;32m<ipython-input-5-fb3026a6cd80>\u001b[0m in \u001b[0;36m<module>\u001b[0;34m()\u001b[0m\n\u001b[0;32m----> 1\u001b[0;31m \u001b[0mmclf\u001b[0m\u001b[0;34m.\u001b[0m\u001b[0m_estimator_type\u001b[0m\u001b[0;34m\u001b[0m\u001b[0;34m\u001b[0m\u001b[0m\n\u001b[0m",
      "\u001b[0;31mAttributeError\u001b[0m: 'MultichannelPipeline' object has no attribute '_estimator_type'"
     ]
    }
   ],
   "source": [
    "mclf._estimator_type"
   ]
  },
  {
   "cell_type": "code",
   "execution_count": 6,
   "metadata": {},
   "outputs": [
    {
     "data": {
      "text/plain": [
       "0.33"
      ]
     },
     "execution_count": 6,
     "metadata": {},
     "output_type": "execute_result"
    }
   ],
   "source": [
    "import numpy as np\n",
    "np.round(0.333333, 2)"
   ]
  },
  {
   "cell_type": "code",
   "execution_count": null,
   "metadata": {},
   "outputs": [],
   "source": [
    "np.round(pc_score_all, 2) == np.round(pc_score_informative, 2)"
   ]
  },
  {
   "cell_type": "code",
   "execution_count": 35,
   "metadata": {},
   "outputs": [],
   "source": [
    "def f(x):\n",
    "    def g(x):\n",
    "        print('hello {}'.format(x))\n",
    "    g(x)"
   ]
  },
  {
   "cell_type": "code",
   "execution_count": 36,
   "metadata": {},
   "outputs": [
    {
     "name": "stdout",
     "output_type": "stream",
     "text": [
      "hello 222\n"
     ]
    }
   ],
   "source": [
    "f(222)"
   ]
  },
  {
   "cell_type": "code",
   "execution_count": 29,
   "metadata": {},
   "outputs": [],
   "source": [
    "class Foobar():\n",
    "    \n",
    "    def __init__(self, df):\n",
    "        self.df = df\n",
    "\n",
    "    def _repr_html_(self):\n",
    "        df = self.df.style.set_properties(**{'text-align': 'center'}).set_table_styles(\n",
    "                                [ dict(selector='th', props=[('text-align', 'center')] ) ])\n",
    "        return df._repr_html_()\n",
    "    "
   ]
  },
  {
   "cell_type": "code",
   "execution_count": 30,
   "metadata": {},
   "outputs": [
    {
     "data": {
      "text/html": [
       "<div>\n",
       "<style scoped>\n",
       "    .dataframe tbody tr th:only-of-type {\n",
       "        vertical-align: middle;\n",
       "    }\n",
       "\n",
       "    .dataframe tbody tr th {\n",
       "        vertical-align: top;\n",
       "    }\n",
       "\n",
       "    .dataframe thead th {\n",
       "        text-align: right;\n",
       "    }\n",
       "</style>\n",
       "<table border=\"1\" class=\"dataframe\">\n",
       "  <thead>\n",
       "    <tr style=\"text-align: right;\">\n",
       "      <th></th>\n",
       "      <th>0</th>\n",
       "    </tr>\n",
       "  </thead>\n",
       "  <tbody>\n",
       "    <tr>\n",
       "      <th>0</th>\n",
       "      <td>tttttt</td>\n",
       "    </tr>\n",
       "    <tr>\n",
       "      <th>1</th>\n",
       "      <td>tttttt</td>\n",
       "    </tr>\n",
       "    <tr>\n",
       "      <th>2</th>\n",
       "      <td>tttttt</td>\n",
       "    </tr>\n",
       "  </tbody>\n",
       "</table>\n",
       "</div>"
      ],
      "text/plain": [
       "        0\n",
       "0  tttttt\n",
       "1  tttttt\n",
       "2  tttttt"
      ]
     },
     "execution_count": 30,
     "metadata": {},
     "output_type": "execute_result"
    }
   ],
   "source": [
    "import pandas as pd\n",
    "\n",
    "df = pd.DataFrame(['tttttt', 'tttttt', 'tttttt'])\n",
    "df"
   ]
  },
  {
   "cell_type": "code",
   "execution_count": 31,
   "metadata": {},
   "outputs": [
    {
     "data": {
      "text/html": [
       "<style  type=\"text/css\" >\n",
       "    #T_c94515ee_52b2_11eb_b116_a8206653ba57 th {\n",
       "          text-align: center;\n",
       "    }    #T_c94515ee_52b2_11eb_b116_a8206653ba57row0_col0 {\n",
       "            text-align:  center;\n",
       "        }    #T_c94515ee_52b2_11eb_b116_a8206653ba57row1_col0 {\n",
       "            text-align:  center;\n",
       "        }    #T_c94515ee_52b2_11eb_b116_a8206653ba57row2_col0 {\n",
       "            text-align:  center;\n",
       "        }</style><table id=\"T_c94515ee_52b2_11eb_b116_a8206653ba57\" ><thead>    <tr>        <th class=\"blank level0\" ></th>        <th class=\"col_heading level0 col0\" >0</th>    </tr></thead><tbody>\n",
       "                <tr>\n",
       "                        <th id=\"T_c94515ee_52b2_11eb_b116_a8206653ba57level0_row0\" class=\"row_heading level0 row0\" >0</th>\n",
       "                        <td id=\"T_c94515ee_52b2_11eb_b116_a8206653ba57row0_col0\" class=\"data row0 col0\" >tttttt</td>\n",
       "            </tr>\n",
       "            <tr>\n",
       "                        <th id=\"T_c94515ee_52b2_11eb_b116_a8206653ba57level0_row1\" class=\"row_heading level0 row1\" >1</th>\n",
       "                        <td id=\"T_c94515ee_52b2_11eb_b116_a8206653ba57row1_col0\" class=\"data row1 col0\" >tttttt</td>\n",
       "            </tr>\n",
       "            <tr>\n",
       "                        <th id=\"T_c94515ee_52b2_11eb_b116_a8206653ba57level0_row2\" class=\"row_heading level0 row2\" >2</th>\n",
       "                        <td id=\"T_c94515ee_52b2_11eb_b116_a8206653ba57row2_col0\" class=\"data row2 col0\" >tttttt</td>\n",
       "            </tr>\n",
       "    </tbody></table>"
      ],
      "text/plain": [
       "<__main__.Foobar at 0x12dabf5d0>"
      ]
     },
     "execution_count": 31,
     "metadata": {},
     "output_type": "execute_result"
    }
   ],
   "source": [
    "Foobar(df)"
   ]
  },
  {
   "cell_type": "code",
   "execution_count": null,
   "metadata": {},
   "outputs": [],
   "source": []
  },
  {
   "cell_type": "code",
   "execution_count": 5,
   "metadata": {},
   "outputs": [],
   "source": [
    "df = df.style.set_properties(**{'text-align': 'center'}).set_table_styles(\n",
    "                                [ dict(selector='th', props=[('text-align', 'center')] ) ])"
   ]
  },
  {
   "cell_type": "code",
   "execution_count": 10,
   "metadata": {},
   "outputs": [
    {
     "data": {
      "text/plain": [
       "['__class__',\n",
       " '__copy__',\n",
       " '__deepcopy__',\n",
       " '__delattr__',\n",
       " '__dict__',\n",
       " '__dir__',\n",
       " '__doc__',\n",
       " '__eq__',\n",
       " '__format__',\n",
       " '__ge__',\n",
       " '__getattribute__',\n",
       " '__gt__',\n",
       " '__hash__',\n",
       " '__init__',\n",
       " '__init_subclass__',\n",
       " '__le__',\n",
       " '__lt__',\n",
       " '__module__',\n",
       " '__ne__',\n",
       " '__new__',\n",
       " '__reduce__',\n",
       " '__reduce_ex__',\n",
       " '__repr__',\n",
       " '__setattr__',\n",
       " '__sizeof__',\n",
       " '__str__',\n",
       " '__subclasshook__',\n",
       " '__weakref__',\n",
       " '_apply',\n",
       " '_applymap',\n",
       " '_background_gradient',\n",
       " '_bar',\n",
       " '_compute',\n",
       " '_copy',\n",
       " '_display_funcs',\n",
       " '_highlight_extrema',\n",
       " '_highlight_handler',\n",
       " '_highlight_null',\n",
       " '_repr_html_',\n",
       " '_todo',\n",
       " '_translate',\n",
       " '_update_ctx',\n",
       " 'apply',\n",
       " 'applymap',\n",
       " 'background_gradient',\n",
       " 'bar',\n",
       " 'caption',\n",
       " 'cell_ids',\n",
       " 'clear',\n",
       " 'columns',\n",
       " 'ctx',\n",
       " 'data',\n",
       " 'env',\n",
       " 'export',\n",
       " 'format',\n",
       " 'from_custom_template',\n",
       " 'hidden_columns',\n",
       " 'hidden_index',\n",
       " 'hide_columns',\n",
       " 'hide_index',\n",
       " 'highlight_max',\n",
       " 'highlight_min',\n",
       " 'highlight_null',\n",
       " 'index',\n",
       " 'loader',\n",
       " 'pipe',\n",
       " 'precision',\n",
       " 'render',\n",
       " 'set_caption',\n",
       " 'set_precision',\n",
       " 'set_properties',\n",
       " 'set_table_attributes',\n",
       " 'set_table_styles',\n",
       " 'set_uuid',\n",
       " 'table_attributes',\n",
       " 'table_styles',\n",
       " 'template',\n",
       " 'to_excel',\n",
       " 'use',\n",
       " 'uuid',\n",
       " 'where']"
      ]
     },
     "execution_count": 10,
     "metadata": {},
     "output_type": "execute_result"
    }
   ],
   "source": [
    "dir(df)"
   ]
  },
  {
   "cell_type": "code",
   "execution_count": 6,
   "metadata": {},
   "outputs": [
    {
     "data": {
      "text/plain": [
       "['T',\n",
       " '_AXIS_ALIASES',\n",
       " '_AXIS_IALIASES',\n",
       " '_AXIS_LEN',\n",
       " '_AXIS_NAMES',\n",
       " '_AXIS_NUMBERS',\n",
       " '_AXIS_ORDERS',\n",
       " '_AXIS_REVERSED',\n",
       " '_AXIS_SLICEMAP',\n",
       " '__abs__',\n",
       " '__add__',\n",
       " '__and__',\n",
       " '__array__',\n",
       " '__array_priority__',\n",
       " '__array_wrap__',\n",
       " '__bool__',\n",
       " '__bytes__',\n",
       " '__class__',\n",
       " '__contains__',\n",
       " '__copy__',\n",
       " '__deepcopy__',\n",
       " '__delattr__',\n",
       " '__delitem__',\n",
       " '__dict__',\n",
       " '__dir__',\n",
       " '__div__',\n",
       " '__doc__',\n",
       " '__eq__',\n",
       " '__finalize__',\n",
       " '__floordiv__',\n",
       " '__format__',\n",
       " '__ge__',\n",
       " '__getattr__',\n",
       " '__getattribute__',\n",
       " '__getitem__',\n",
       " '__getstate__',\n",
       " '__gt__',\n",
       " '__hash__',\n",
       " '__iadd__',\n",
       " '__iand__',\n",
       " '__ifloordiv__',\n",
       " '__imod__',\n",
       " '__imul__',\n",
       " '__init__',\n",
       " '__init_subclass__',\n",
       " '__invert__',\n",
       " '__ior__',\n",
       " '__ipow__',\n",
       " '__isub__',\n",
       " '__iter__',\n",
       " '__itruediv__',\n",
       " '__ixor__',\n",
       " '__le__',\n",
       " '__len__',\n",
       " '__lt__',\n",
       " '__matmul__',\n",
       " '__mod__',\n",
       " '__module__',\n",
       " '__mul__',\n",
       " '__ne__',\n",
       " '__neg__',\n",
       " '__new__',\n",
       " '__nonzero__',\n",
       " '__or__',\n",
       " '__pos__',\n",
       " '__pow__',\n",
       " '__radd__',\n",
       " '__rand__',\n",
       " '__rdiv__',\n",
       " '__reduce__',\n",
       " '__reduce_ex__',\n",
       " '__repr__',\n",
       " '__rfloordiv__',\n",
       " '__rmatmul__',\n",
       " '__rmod__',\n",
       " '__rmul__',\n",
       " '__ror__',\n",
       " '__round__',\n",
       " '__rpow__',\n",
       " '__rsub__',\n",
       " '__rtruediv__',\n",
       " '__rxor__',\n",
       " '__setattr__',\n",
       " '__setitem__',\n",
       " '__setstate__',\n",
       " '__sizeof__',\n",
       " '__str__',\n",
       " '__sub__',\n",
       " '__subclasshook__',\n",
       " '__truediv__',\n",
       " '__unicode__',\n",
       " '__weakref__',\n",
       " '__xor__',\n",
       " '_accessors',\n",
       " '_add_numeric_operations',\n",
       " '_add_series_only_operations',\n",
       " '_add_series_or_dataframe_operations',\n",
       " '_agg_by_level',\n",
       " '_agg_examples_doc',\n",
       " '_agg_summary_and_see_also_doc',\n",
       " '_aggregate',\n",
       " '_aggregate_multiple_funcs',\n",
       " '_align_frame',\n",
       " '_align_series',\n",
       " '_box_col_values',\n",
       " '_box_item_values',\n",
       " '_builtin_table',\n",
       " '_check_inplace_setting',\n",
       " '_check_is_chained_assignment_possible',\n",
       " '_check_label_or_level_ambiguity',\n",
       " '_check_percentile',\n",
       " '_check_setitem_copy',\n",
       " '_clear_item_cache',\n",
       " '_clip_with_one_bound',\n",
       " '_clip_with_scalar',\n",
       " '_combine_const',\n",
       " '_combine_frame',\n",
       " '_combine_match_columns',\n",
       " '_combine_match_index',\n",
       " '_consolidate',\n",
       " '_consolidate_inplace',\n",
       " '_construct_axes_dict',\n",
       " '_construct_axes_dict_for_slice',\n",
       " '_construct_axes_dict_from',\n",
       " '_construct_axes_from_arguments',\n",
       " '_constructor',\n",
       " '_constructor_expanddim',\n",
       " '_constructor_sliced',\n",
       " '_convert',\n",
       " '_count_level',\n",
       " '_create_indexer',\n",
       " '_cython_table',\n",
       " '_deprecations',\n",
       " '_dir_additions',\n",
       " '_dir_deletions',\n",
       " '_drop_axis',\n",
       " '_drop_labels_or_levels',\n",
       " '_ensure_valid_index',\n",
       " '_expand_axes',\n",
       " '_find_valid_index',\n",
       " '_from_arrays',\n",
       " '_from_axes',\n",
       " '_get_agg_axis',\n",
       " '_get_axis',\n",
       " '_get_axis_name',\n",
       " '_get_axis_number',\n",
       " '_get_axis_resolvers',\n",
       " '_get_block_manager_axis',\n",
       " '_get_bool_data',\n",
       " '_get_cacher',\n",
       " '_get_index_resolvers',\n",
       " '_get_item_cache',\n",
       " '_get_label_or_level_values',\n",
       " '_get_numeric_data',\n",
       " '_get_value',\n",
       " '_get_values',\n",
       " '_getitem_bool_array',\n",
       " '_getitem_frame',\n",
       " '_getitem_multilevel',\n",
       " '_gotitem',\n",
       " '_iget_item_cache',\n",
       " '_indexed_same',\n",
       " '_info_axis',\n",
       " '_info_axis_name',\n",
       " '_info_axis_number',\n",
       " '_info_repr',\n",
       " '_init_mgr',\n",
       " '_internal_names',\n",
       " '_internal_names_set',\n",
       " '_is_builtin_func',\n",
       " '_is_cached',\n",
       " '_is_copy',\n",
       " '_is_cython_func',\n",
       " '_is_datelike_mixed_type',\n",
       " '_is_homogeneous_type',\n",
       " '_is_label_or_level_reference',\n",
       " '_is_label_reference',\n",
       " '_is_level_reference',\n",
       " '_is_mixed_type',\n",
       " '_is_numeric_mixed_type',\n",
       " '_is_view',\n",
       " '_ix',\n",
       " '_ixs',\n",
       " '_join_compat',\n",
       " '_maybe_cache_changed',\n",
       " '_maybe_update_cacher',\n",
       " '_metadata',\n",
       " '_needs_reindex_multi',\n",
       " '_obj_with_exclusions',\n",
       " '_protect_consolidate',\n",
       " '_reduce',\n",
       " '_reindex_axes',\n",
       " '_reindex_columns',\n",
       " '_reindex_index',\n",
       " '_reindex_multi',\n",
       " '_reindex_with_indexers',\n",
       " '_repr_data_resource_',\n",
       " '_repr_fits_horizontal_',\n",
       " '_repr_fits_vertical_',\n",
       " '_repr_html_',\n",
       " '_repr_latex_',\n",
       " '_reset_cache',\n",
       " '_reset_cacher',\n",
       " '_sanitize_column',\n",
       " '_selected_obj',\n",
       " '_selection',\n",
       " '_selection_list',\n",
       " '_selection_name',\n",
       " '_series',\n",
       " '_set_as_cached',\n",
       " '_set_axis',\n",
       " '_set_axis_name',\n",
       " '_set_is_copy',\n",
       " '_set_item',\n",
       " '_set_value',\n",
       " '_setitem_array',\n",
       " '_setitem_frame',\n",
       " '_setitem_slice',\n",
       " '_setup_axes',\n",
       " '_shallow_copy',\n",
       " '_slice',\n",
       " '_stat_axis',\n",
       " '_stat_axis_name',\n",
       " '_stat_axis_number',\n",
       " '_take',\n",
       " '_to_dict_of_blocks',\n",
       " '_try_aggregate_string_function',\n",
       " '_typ',\n",
       " '_unpickle_frame_compat',\n",
       " '_unpickle_matrix_compat',\n",
       " '_update_inplace',\n",
       " '_validate_dtype',\n",
       " '_values',\n",
       " '_where',\n",
       " '_xs',\n",
       " 'abs',\n",
       " 'add',\n",
       " 'add_prefix',\n",
       " 'add_suffix',\n",
       " 'agg',\n",
       " 'aggregate',\n",
       " 'align',\n",
       " 'all',\n",
       " 'any',\n",
       " 'append',\n",
       " 'apply',\n",
       " 'applymap',\n",
       " 'as_matrix',\n",
       " 'asfreq',\n",
       " 'asof',\n",
       " 'assign',\n",
       " 'astype',\n",
       " 'at',\n",
       " 'at_time',\n",
       " 'axes',\n",
       " 'between_time',\n",
       " 'bfill',\n",
       " 'bool',\n",
       " 'boxplot',\n",
       " 'clip',\n",
       " 'clip_lower',\n",
       " 'clip_upper',\n",
       " 'columns',\n",
       " 'combine',\n",
       " 'combine_first',\n",
       " 'compound',\n",
       " 'copy',\n",
       " 'corr',\n",
       " 'corrwith',\n",
       " 'count',\n",
       " 'cov',\n",
       " 'cummax',\n",
       " 'cummin',\n",
       " 'cumprod',\n",
       " 'cumsum',\n",
       " 'describe',\n",
       " 'diff',\n",
       " 'div',\n",
       " 'divide',\n",
       " 'dot',\n",
       " 'drop',\n",
       " 'drop_duplicates',\n",
       " 'droplevel',\n",
       " 'dropna',\n",
       " 'dtypes',\n",
       " 'duplicated',\n",
       " 'empty',\n",
       " 'eq',\n",
       " 'equals',\n",
       " 'eval',\n",
       " 'ewm',\n",
       " 'expanding',\n",
       " 'ffill',\n",
       " 'fillna',\n",
       " 'filter',\n",
       " 'first',\n",
       " 'first_valid_index',\n",
       " 'floordiv',\n",
       " 'from_dict',\n",
       " 'from_records',\n",
       " 'ftypes',\n",
       " 'ge',\n",
       " 'get',\n",
       " 'get_dtype_counts',\n",
       " 'get_ftype_counts',\n",
       " 'get_values',\n",
       " 'groupby',\n",
       " 'gt',\n",
       " 'head',\n",
       " 'hist',\n",
       " 'iat',\n",
       " 'idxmax',\n",
       " 'idxmin',\n",
       " 'iloc',\n",
       " 'index',\n",
       " 'infer_objects',\n",
       " 'info',\n",
       " 'insert',\n",
       " 'interpolate',\n",
       " 'isin',\n",
       " 'isna',\n",
       " 'isnull',\n",
       " 'items',\n",
       " 'iteritems',\n",
       " 'iterrows',\n",
       " 'itertuples',\n",
       " 'ix',\n",
       " 'join',\n",
       " 'keys',\n",
       " 'kurt',\n",
       " 'kurtosis',\n",
       " 'last',\n",
       " 'last_valid_index',\n",
       " 'le',\n",
       " 'loc',\n",
       " 'lookup',\n",
       " 'lt',\n",
       " 'mad',\n",
       " 'mask',\n",
       " 'max',\n",
       " 'mean',\n",
       " 'median',\n",
       " 'melt',\n",
       " 'memory_usage',\n",
       " 'merge',\n",
       " 'min',\n",
       " 'mod',\n",
       " 'mode',\n",
       " 'mul',\n",
       " 'multiply',\n",
       " 'ndim',\n",
       " 'ne',\n",
       " 'nlargest',\n",
       " 'notna',\n",
       " 'notnull',\n",
       " 'nsmallest',\n",
       " 'nunique',\n",
       " 'pct_change',\n",
       " 'pipe',\n",
       " 'pivot',\n",
       " 'pivot_table',\n",
       " 'plot',\n",
       " 'pop',\n",
       " 'pow',\n",
       " 'prod',\n",
       " 'product',\n",
       " 'quantile',\n",
       " 'query',\n",
       " 'radd',\n",
       " 'rank',\n",
       " 'rdiv',\n",
       " 'reindex',\n",
       " 'reindex_axis',\n",
       " 'reindex_like',\n",
       " 'rename',\n",
       " 'rename_axis',\n",
       " 'reorder_levels',\n",
       " 'replace',\n",
       " 'resample',\n",
       " 'reset_index',\n",
       " 'rfloordiv',\n",
       " 'rmod',\n",
       " 'rmul',\n",
       " 'rolling',\n",
       " 'round',\n",
       " 'rpow',\n",
       " 'rsub',\n",
       " 'rtruediv',\n",
       " 'sample',\n",
       " 'select',\n",
       " 'select_dtypes',\n",
       " 'sem',\n",
       " 'set_axis',\n",
       " 'set_index',\n",
       " 'shape',\n",
       " 'shift',\n",
       " 'size',\n",
       " 'skew',\n",
       " 'slice_shift',\n",
       " 'sort_index',\n",
       " 'sort_values',\n",
       " 'squeeze',\n",
       " 'stack',\n",
       " 'std',\n",
       " 'style',\n",
       " 'sub',\n",
       " 'subtract',\n",
       " 'sum',\n",
       " 'swapaxes',\n",
       " 'swaplevel',\n",
       " 'tail',\n",
       " 'take',\n",
       " 'timetuple',\n",
       " 'to_clipboard',\n",
       " 'to_csv',\n",
       " 'to_dense',\n",
       " 'to_dict',\n",
       " 'to_excel',\n",
       " 'to_feather',\n",
       " 'to_gbq',\n",
       " 'to_hdf',\n",
       " 'to_html',\n",
       " 'to_json',\n",
       " 'to_latex',\n",
       " 'to_msgpack',\n",
       " 'to_numpy',\n",
       " 'to_panel',\n",
       " 'to_parquet',\n",
       " 'to_period',\n",
       " 'to_pickle',\n",
       " 'to_records',\n",
       " 'to_sparse',\n",
       " 'to_sql',\n",
       " 'to_stata',\n",
       " 'to_string',\n",
       " 'to_timestamp',\n",
       " 'to_xarray',\n",
       " 'transform',\n",
       " 'transpose',\n",
       " 'truediv',\n",
       " 'truncate',\n",
       " 'tshift',\n",
       " 'tz_convert',\n",
       " 'tz_localize',\n",
       " 'unstack',\n",
       " 'update',\n",
       " 'values',\n",
       " 'var',\n",
       " 'where',\n",
       " 'xs']"
      ]
     },
     "execution_count": 6,
     "metadata": {},
     "output_type": "execute_result"
    }
   ],
   "source": [
    "dir(df)"
   ]
  },
  {
   "cell_type": "code",
   "execution_count": null,
   "metadata": {},
   "outputs": [],
   "source": []
  }
 ],
 "metadata": {
  "kernelspec": {
   "display_name": "trading_venv_clark",
   "language": "python",
   "name": "trading_venv_clark"
  },
  "language_info": {
   "codemirror_mode": {
    "name": "ipython",
    "version": 3
   },
   "file_extension": ".py",
   "mimetype": "text/x-python",
   "name": "python",
   "nbconvert_exporter": "python",
   "pygments_lexer": "ipython3",
   "version": "3.7.5"
  },
  "toc": {
   "base_numbering": 1,
   "nav_menu": {},
   "number_sections": true,
   "sideBar": true,
   "skip_h1_title": false,
   "title_cell": "Table of Contents",
   "title_sidebar": "Contents",
   "toc_cell": false,
   "toc_position": {},
   "toc_section_display": true,
   "toc_window_display": true
  }
 },
 "nbformat": 4,
 "nbformat_minor": 2
}
